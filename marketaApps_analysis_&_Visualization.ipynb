{
  "nbformat": 4,
  "nbformat_minor": 0,
  "metadata": {
    "colab": {
      "provenance": [],
      "authorship_tag": "ABX9TyNofmTxpqnpbQU9dYslyEWG",
      "include_colab_link": true
    },
    "kernelspec": {
      "name": "python3",
      "display_name": "Python 3"
    },
    "language_info": {
      "name": "python"
    }
  },
  "cells": [
    {
      "cell_type": "markdown",
      "metadata": {
        "id": "view-in-github",
        "colab_type": "text"
      },
      "source": [
        "<a href=\"https://colab.research.google.com/github/ssddatascience/mycodesfordatascience/blob/main/marketaApps_analysis_%26_Visualization.ipynb\" target=\"_parent\"><img src=\"https://colab.research.google.com/assets/colab-badge.svg\" alt=\"Open In Colab\"/></a>"
      ]
    },
    {
      "cell_type": "code",
      "execution_count": null,
      "metadata": {
        "id": "HxDd4G5VkzYu"
      },
      "outputs": [],
      "source": []
    },
    {
      "cell_type": "markdown",
      "source": [
        "Apps analysis & Visualization"
      ],
      "metadata": {
        "id": "JSdLuo5Ck1_D"
      }
    },
    {
      "cell_type": "code",
      "source": [
        "import pandas as pd\n",
        "import numpy as np\n",
        "from numpy import nan"
      ],
      "metadata": {
        "id": "PwlO27lAk3hn"
      },
      "execution_count": 1,
      "outputs": []
    },
    {
      "cell_type": "code",
      "source": [
        "#reading file for analysis\n",
        "df1 = pd.read_csv(\"DataSet.csv\", encoding='latin1')\n",
        "\n",
        "df1\n",
        "\n",
        "df1.info()"
      ],
      "metadata": {
        "colab": {
          "base_uri": "https://localhost:8080/"
        },
        "id": "hGp9k80hlUMe",
        "outputId": "f9f51111-aeee-42c8-d94a-86a96bf59388"
      },
      "execution_count": 4,
      "outputs": [
        {
          "output_type": "stream",
          "name": "stdout",
          "text": [
            "<class 'pandas.core.frame.DataFrame'>\n",
            "RangeIndex: 83356 entries, 0 to 83355\n",
            "Data columns (total 17 columns):\n",
            " #   Column                 Non-Null Count  Dtype  \n",
            "---  ------                 --------------  -----  \n",
            " 0   day                    83356 non-null  object \n",
            " 1   customer_id            83356 non-null  float64\n",
            " 2   product_type           50320 non-null  object \n",
            " 3   product_title          52658 non-null  object \n",
            " 4   shipping_city          83163 non-null  object \n",
            " 5   shipping_region        82948 non-null  object \n",
            " 6   orders                 83356 non-null  int64  \n",
            " 7   gross_sales            83356 non-null  float64\n",
            " 8   discounts              83356 non-null  float64\n",
            " 9   returns                83356 non-null  float64\n",
            " 10  net_sales              83356 non-null  float64\n",
            " 11  shipping               83356 non-null  int64  \n",
            " 12  duties                 83356 non-null  int64  \n",
            " 13  additional_fees        83356 non-null  int64  \n",
            " 14  taxes                  83356 non-null  float64\n",
            " 15  total_sales            83356 non-null  float64\n",
            " 16  ordered_item_quantity  83356 non-null  int64  \n",
            "dtypes: float64(7), int64(5), object(5)\n",
            "memory usage: 10.8+ MB\n"
          ]
        }
      ]
    },
    {
      "cell_type": "code",
      "source": [
        "df1.tail()"
      ],
      "metadata": {
        "colab": {
          "base_uri": "https://localhost:8080/",
          "height": 444
        },
        "id": "R-_NrIAcTmC-",
        "outputId": "bf078536-73f2-40d1-c045-bb1ef3f9871c"
      },
      "execution_count": 5,
      "outputs": [
        {
          "output_type": "execute_result",
          "data": {
            "text/plain": [
              "            day   customer_id         product_type  \\\n",
              "83351  01/01/23  6.280000e+12           Infant Set   \n",
              "83352  01/01/23  6.280000e+12       Newborn Onesie   \n",
              "83353  01/01/23  6.280000e+12          Baby Bather   \n",
              "83354  01/01/23  6.280000e+12                  NaN   \n",
              "83355  01/01/23  6.280000e+12  Muslin Swaddle Wrap   \n",
              "\n",
              "                                           product_title shipping_city  \\\n",
              "83351  Newborn and Infant Pajama Set Combo of 3: Berr...        Mumbai   \n",
              "83352                 Combo of 5 Baby Onesies - Option E        Mumbai   \n",
              "83353                  Mastela Deluxe Baby Bather - Teal        Mumbai   \n",
              "83354                                                NaN        Mumbai   \n",
              "83355  Baby Swaddle Wrap Combo - Baby Dino & Moon and...        Mumbai   \n",
              "\n",
              "      shipping_region  orders  gross_sales  discounts  returns  net_sales  \\\n",
              "83351     Maharashtra       1      2710.17        0.0      0.0    2710.17   \n",
              "83352     Maharashtra       1      3388.13        0.0      0.0    3388.13   \n",
              "83353     Maharashtra       1      1499.15        0.0      0.0    1499.15   \n",
              "83354     Maharashtra       0         0.00        0.0      0.0       0.00   \n",
              "83355     Maharashtra       1      3047.46        0.0      0.0    3047.46   \n",
              "\n",
              "       shipping  duties  additional_fees   taxes  total_sales  \\\n",
              "83351         0       0                0  487.83       3198.0   \n",
              "83352         0       0                0  609.87       3998.0   \n",
              "83353         0       0                0  269.85       1769.0   \n",
              "83354         0       0                0    0.00          0.0   \n",
              "83355         0       0                0  548.54       3596.0   \n",
              "\n",
              "       ordered_item_quantity  \n",
              "83351                      2  \n",
              "83352                      2  \n",
              "83353                      1  \n",
              "83354                      0  \n",
              "83355                      4  "
            ],
            "text/html": [
              "\n",
              "  <div id=\"df-d089f29d-0a05-4a9d-a380-8ad4dcc71412\">\n",
              "    <div class=\"colab-df-container\">\n",
              "      <div>\n",
              "<style scoped>\n",
              "    .dataframe tbody tr th:only-of-type {\n",
              "        vertical-align: middle;\n",
              "    }\n",
              "\n",
              "    .dataframe tbody tr th {\n",
              "        vertical-align: top;\n",
              "    }\n",
              "\n",
              "    .dataframe thead th {\n",
              "        text-align: right;\n",
              "    }\n",
              "</style>\n",
              "<table border=\"1\" class=\"dataframe\">\n",
              "  <thead>\n",
              "    <tr style=\"text-align: right;\">\n",
              "      <th></th>\n",
              "      <th>day</th>\n",
              "      <th>customer_id</th>\n",
              "      <th>product_type</th>\n",
              "      <th>product_title</th>\n",
              "      <th>shipping_city</th>\n",
              "      <th>shipping_region</th>\n",
              "      <th>orders</th>\n",
              "      <th>gross_sales</th>\n",
              "      <th>discounts</th>\n",
              "      <th>returns</th>\n",
              "      <th>net_sales</th>\n",
              "      <th>shipping</th>\n",
              "      <th>duties</th>\n",
              "      <th>additional_fees</th>\n",
              "      <th>taxes</th>\n",
              "      <th>total_sales</th>\n",
              "      <th>ordered_item_quantity</th>\n",
              "    </tr>\n",
              "  </thead>\n",
              "  <tbody>\n",
              "    <tr>\n",
              "      <th>83351</th>\n",
              "      <td>01/01/23</td>\n",
              "      <td>6.280000e+12</td>\n",
              "      <td>Infant Set</td>\n",
              "      <td>Newborn and Infant Pajama Set Combo of 3: Berr...</td>\n",
              "      <td>Mumbai</td>\n",
              "      <td>Maharashtra</td>\n",
              "      <td>1</td>\n",
              "      <td>2710.17</td>\n",
              "      <td>0.0</td>\n",
              "      <td>0.0</td>\n",
              "      <td>2710.17</td>\n",
              "      <td>0</td>\n",
              "      <td>0</td>\n",
              "      <td>0</td>\n",
              "      <td>487.83</td>\n",
              "      <td>3198.0</td>\n",
              "      <td>2</td>\n",
              "    </tr>\n",
              "    <tr>\n",
              "      <th>83352</th>\n",
              "      <td>01/01/23</td>\n",
              "      <td>6.280000e+12</td>\n",
              "      <td>Newborn Onesie</td>\n",
              "      <td>Combo of 5 Baby Onesies - Option E</td>\n",
              "      <td>Mumbai</td>\n",
              "      <td>Maharashtra</td>\n",
              "      <td>1</td>\n",
              "      <td>3388.13</td>\n",
              "      <td>0.0</td>\n",
              "      <td>0.0</td>\n",
              "      <td>3388.13</td>\n",
              "      <td>0</td>\n",
              "      <td>0</td>\n",
              "      <td>0</td>\n",
              "      <td>609.87</td>\n",
              "      <td>3998.0</td>\n",
              "      <td>2</td>\n",
              "    </tr>\n",
              "    <tr>\n",
              "      <th>83353</th>\n",
              "      <td>01/01/23</td>\n",
              "      <td>6.280000e+12</td>\n",
              "      <td>Baby Bather</td>\n",
              "      <td>Mastela Deluxe Baby Bather - Teal</td>\n",
              "      <td>Mumbai</td>\n",
              "      <td>Maharashtra</td>\n",
              "      <td>1</td>\n",
              "      <td>1499.15</td>\n",
              "      <td>0.0</td>\n",
              "      <td>0.0</td>\n",
              "      <td>1499.15</td>\n",
              "      <td>0</td>\n",
              "      <td>0</td>\n",
              "      <td>0</td>\n",
              "      <td>269.85</td>\n",
              "      <td>1769.0</td>\n",
              "      <td>1</td>\n",
              "    </tr>\n",
              "    <tr>\n",
              "      <th>83354</th>\n",
              "      <td>01/01/23</td>\n",
              "      <td>6.280000e+12</td>\n",
              "      <td>NaN</td>\n",
              "      <td>NaN</td>\n",
              "      <td>Mumbai</td>\n",
              "      <td>Maharashtra</td>\n",
              "      <td>0</td>\n",
              "      <td>0.00</td>\n",
              "      <td>0.0</td>\n",
              "      <td>0.0</td>\n",
              "      <td>0.00</td>\n",
              "      <td>0</td>\n",
              "      <td>0</td>\n",
              "      <td>0</td>\n",
              "      <td>0.00</td>\n",
              "      <td>0.0</td>\n",
              "      <td>0</td>\n",
              "    </tr>\n",
              "    <tr>\n",
              "      <th>83355</th>\n",
              "      <td>01/01/23</td>\n",
              "      <td>6.280000e+12</td>\n",
              "      <td>Muslin Swaddle Wrap</td>\n",
              "      <td>Baby Swaddle Wrap Combo - Baby Dino &amp; Moon and...</td>\n",
              "      <td>Mumbai</td>\n",
              "      <td>Maharashtra</td>\n",
              "      <td>1</td>\n",
              "      <td>3047.46</td>\n",
              "      <td>0.0</td>\n",
              "      <td>0.0</td>\n",
              "      <td>3047.46</td>\n",
              "      <td>0</td>\n",
              "      <td>0</td>\n",
              "      <td>0</td>\n",
              "      <td>548.54</td>\n",
              "      <td>3596.0</td>\n",
              "      <td>4</td>\n",
              "    </tr>\n",
              "  </tbody>\n",
              "</table>\n",
              "</div>\n",
              "      <button class=\"colab-df-convert\" onclick=\"convertToInteractive('df-d089f29d-0a05-4a9d-a380-8ad4dcc71412')\"\n",
              "              title=\"Convert this dataframe to an interactive table.\"\n",
              "              style=\"display:none;\">\n",
              "        \n",
              "  <svg xmlns=\"http://www.w3.org/2000/svg\" height=\"24px\"viewBox=\"0 0 24 24\"\n",
              "       width=\"24px\">\n",
              "    <path d=\"M0 0h24v24H0V0z\" fill=\"none\"/>\n",
              "    <path d=\"M18.56 5.44l.94 2.06.94-2.06 2.06-.94-2.06-.94-.94-2.06-.94 2.06-2.06.94zm-11 1L8.5 8.5l.94-2.06 2.06-.94-2.06-.94L8.5 2.5l-.94 2.06-2.06.94zm10 10l.94 2.06.94-2.06 2.06-.94-2.06-.94-.94-2.06-.94 2.06-2.06.94z\"/><path d=\"M17.41 7.96l-1.37-1.37c-.4-.4-.92-.59-1.43-.59-.52 0-1.04.2-1.43.59L10.3 9.45l-7.72 7.72c-.78.78-.78 2.05 0 2.83L4 21.41c.39.39.9.59 1.41.59.51 0 1.02-.2 1.41-.59l7.78-7.78 2.81-2.81c.8-.78.8-2.07 0-2.86zM5.41 20L4 18.59l7.72-7.72 1.47 1.35L5.41 20z\"/>\n",
              "  </svg>\n",
              "      </button>\n",
              "      \n",
              "  <style>\n",
              "    .colab-df-container {\n",
              "      display:flex;\n",
              "      flex-wrap:wrap;\n",
              "      gap: 12px;\n",
              "    }\n",
              "\n",
              "    .colab-df-convert {\n",
              "      background-color: #E8F0FE;\n",
              "      border: none;\n",
              "      border-radius: 50%;\n",
              "      cursor: pointer;\n",
              "      display: none;\n",
              "      fill: #1967D2;\n",
              "      height: 32px;\n",
              "      padding: 0 0 0 0;\n",
              "      width: 32px;\n",
              "    }\n",
              "\n",
              "    .colab-df-convert:hover {\n",
              "      background-color: #E2EBFA;\n",
              "      box-shadow: 0px 1px 2px rgba(60, 64, 67, 0.3), 0px 1px 3px 1px rgba(60, 64, 67, 0.15);\n",
              "      fill: #174EA6;\n",
              "    }\n",
              "\n",
              "    [theme=dark] .colab-df-convert {\n",
              "      background-color: #3B4455;\n",
              "      fill: #D2E3FC;\n",
              "    }\n",
              "\n",
              "    [theme=dark] .colab-df-convert:hover {\n",
              "      background-color: #434B5C;\n",
              "      box-shadow: 0px 1px 3px 1px rgba(0, 0, 0, 0.15);\n",
              "      filter: drop-shadow(0px 1px 2px rgba(0, 0, 0, 0.3));\n",
              "      fill: #FFFFFF;\n",
              "    }\n",
              "  </style>\n",
              "\n",
              "      <script>\n",
              "        const buttonEl =\n",
              "          document.querySelector('#df-d089f29d-0a05-4a9d-a380-8ad4dcc71412 button.colab-df-convert');\n",
              "        buttonEl.style.display =\n",
              "          google.colab.kernel.accessAllowed ? 'block' : 'none';\n",
              "\n",
              "        async function convertToInteractive(key) {\n",
              "          const element = document.querySelector('#df-d089f29d-0a05-4a9d-a380-8ad4dcc71412');\n",
              "          const dataTable =\n",
              "            await google.colab.kernel.invokeFunction('convertToInteractive',\n",
              "                                                     [key], {});\n",
              "          if (!dataTable) return;\n",
              "\n",
              "          const docLinkHtml = 'Like what you see? Visit the ' +\n",
              "            '<a target=\"_blank\" href=https://colab.research.google.com/notebooks/data_table.ipynb>data table notebook</a>'\n",
              "            + ' to learn more about interactive tables.';\n",
              "          element.innerHTML = '';\n",
              "          dataTable['output_type'] = 'display_data';\n",
              "          await google.colab.output.renderOutput(dataTable, element);\n",
              "          const docLink = document.createElement('div');\n",
              "          docLink.innerHTML = docLinkHtml;\n",
              "          element.appendChild(docLink);\n",
              "        }\n",
              "      </script>\n",
              "    </div>\n",
              "  </div>\n",
              "  "
            ]
          },
          "metadata": {},
          "execution_count": 5
        }
      ]
    },
    {
      "cell_type": "code",
      "source": [
        "df1.isnull()"
      ],
      "metadata": {
        "colab": {
          "base_uri": "https://localhost:8080/",
          "height": 488
        },
        "id": "3DpxUxHET1gM",
        "outputId": "b0e2f2d4-b466-4551-bbbc-999778d2868f"
      },
      "execution_count": 6,
      "outputs": [
        {
          "output_type": "execute_result",
          "data": {
            "text/plain": [
              "         day  customer_id  product_type  product_title  shipping_city  \\\n",
              "0      False        False         False          False          False   \n",
              "1      False        False         False          False          False   \n",
              "2      False        False          True           True          False   \n",
              "3      False        False         False          False          False   \n",
              "4      False        False          True           True          False   \n",
              "...      ...          ...           ...            ...            ...   \n",
              "83351  False        False         False          False          False   \n",
              "83352  False        False         False          False          False   \n",
              "83353  False        False         False          False          False   \n",
              "83354  False        False          True           True          False   \n",
              "83355  False        False         False          False          False   \n",
              "\n",
              "       shipping_region  orders  gross_sales  discounts  returns  net_sales  \\\n",
              "0                False   False        False      False    False      False   \n",
              "1                False   False        False      False    False      False   \n",
              "2                False   False        False      False    False      False   \n",
              "3                False   False        False      False    False      False   \n",
              "4                False   False        False      False    False      False   \n",
              "...                ...     ...          ...        ...      ...        ...   \n",
              "83351            False   False        False      False    False      False   \n",
              "83352            False   False        False      False    False      False   \n",
              "83353            False   False        False      False    False      False   \n",
              "83354            False   False        False      False    False      False   \n",
              "83355            False   False        False      False    False      False   \n",
              "\n",
              "       shipping  duties  additional_fees  taxes  total_sales  \\\n",
              "0         False   False            False  False        False   \n",
              "1         False   False            False  False        False   \n",
              "2         False   False            False  False        False   \n",
              "3         False   False            False  False        False   \n",
              "4         False   False            False  False        False   \n",
              "...         ...     ...              ...    ...          ...   \n",
              "83351     False   False            False  False        False   \n",
              "83352     False   False            False  False        False   \n",
              "83353     False   False            False  False        False   \n",
              "83354     False   False            False  False        False   \n",
              "83355     False   False            False  False        False   \n",
              "\n",
              "       ordered_item_quantity  \n",
              "0                      False  \n",
              "1                      False  \n",
              "2                      False  \n",
              "3                      False  \n",
              "4                      False  \n",
              "...                      ...  \n",
              "83351                  False  \n",
              "83352                  False  \n",
              "83353                  False  \n",
              "83354                  False  \n",
              "83355                  False  \n",
              "\n",
              "[83356 rows x 17 columns]"
            ],
            "text/html": [
              "\n",
              "  <div id=\"df-654cc01f-7fd2-469e-aa4c-74fba07303ce\">\n",
              "    <div class=\"colab-df-container\">\n",
              "      <div>\n",
              "<style scoped>\n",
              "    .dataframe tbody tr th:only-of-type {\n",
              "        vertical-align: middle;\n",
              "    }\n",
              "\n",
              "    .dataframe tbody tr th {\n",
              "        vertical-align: top;\n",
              "    }\n",
              "\n",
              "    .dataframe thead th {\n",
              "        text-align: right;\n",
              "    }\n",
              "</style>\n",
              "<table border=\"1\" class=\"dataframe\">\n",
              "  <thead>\n",
              "    <tr style=\"text-align: right;\">\n",
              "      <th></th>\n",
              "      <th>day</th>\n",
              "      <th>customer_id</th>\n",
              "      <th>product_type</th>\n",
              "      <th>product_title</th>\n",
              "      <th>shipping_city</th>\n",
              "      <th>shipping_region</th>\n",
              "      <th>orders</th>\n",
              "      <th>gross_sales</th>\n",
              "      <th>discounts</th>\n",
              "      <th>returns</th>\n",
              "      <th>net_sales</th>\n",
              "      <th>shipping</th>\n",
              "      <th>duties</th>\n",
              "      <th>additional_fees</th>\n",
              "      <th>taxes</th>\n",
              "      <th>total_sales</th>\n",
              "      <th>ordered_item_quantity</th>\n",
              "    </tr>\n",
              "  </thead>\n",
              "  <tbody>\n",
              "    <tr>\n",
              "      <th>0</th>\n",
              "      <td>False</td>\n",
              "      <td>False</td>\n",
              "      <td>False</td>\n",
              "      <td>False</td>\n",
              "      <td>False</td>\n",
              "      <td>False</td>\n",
              "      <td>False</td>\n",
              "      <td>False</td>\n",
              "      <td>False</td>\n",
              "      <td>False</td>\n",
              "      <td>False</td>\n",
              "      <td>False</td>\n",
              "      <td>False</td>\n",
              "      <td>False</td>\n",
              "      <td>False</td>\n",
              "      <td>False</td>\n",
              "      <td>False</td>\n",
              "    </tr>\n",
              "    <tr>\n",
              "      <th>1</th>\n",
              "      <td>False</td>\n",
              "      <td>False</td>\n",
              "      <td>False</td>\n",
              "      <td>False</td>\n",
              "      <td>False</td>\n",
              "      <td>False</td>\n",
              "      <td>False</td>\n",
              "      <td>False</td>\n",
              "      <td>False</td>\n",
              "      <td>False</td>\n",
              "      <td>False</td>\n",
              "      <td>False</td>\n",
              "      <td>False</td>\n",
              "      <td>False</td>\n",
              "      <td>False</td>\n",
              "      <td>False</td>\n",
              "      <td>False</td>\n",
              "    </tr>\n",
              "    <tr>\n",
              "      <th>2</th>\n",
              "      <td>False</td>\n",
              "      <td>False</td>\n",
              "      <td>True</td>\n",
              "      <td>True</td>\n",
              "      <td>False</td>\n",
              "      <td>False</td>\n",
              "      <td>False</td>\n",
              "      <td>False</td>\n",
              "      <td>False</td>\n",
              "      <td>False</td>\n",
              "      <td>False</td>\n",
              "      <td>False</td>\n",
              "      <td>False</td>\n",
              "      <td>False</td>\n",
              "      <td>False</td>\n",
              "      <td>False</td>\n",
              "      <td>False</td>\n",
              "    </tr>\n",
              "    <tr>\n",
              "      <th>3</th>\n",
              "      <td>False</td>\n",
              "      <td>False</td>\n",
              "      <td>False</td>\n",
              "      <td>False</td>\n",
              "      <td>False</td>\n",
              "      <td>False</td>\n",
              "      <td>False</td>\n",
              "      <td>False</td>\n",
              "      <td>False</td>\n",
              "      <td>False</td>\n",
              "      <td>False</td>\n",
              "      <td>False</td>\n",
              "      <td>False</td>\n",
              "      <td>False</td>\n",
              "      <td>False</td>\n",
              "      <td>False</td>\n",
              "      <td>False</td>\n",
              "    </tr>\n",
              "    <tr>\n",
              "      <th>4</th>\n",
              "      <td>False</td>\n",
              "      <td>False</td>\n",
              "      <td>True</td>\n",
              "      <td>True</td>\n",
              "      <td>False</td>\n",
              "      <td>False</td>\n",
              "      <td>False</td>\n",
              "      <td>False</td>\n",
              "      <td>False</td>\n",
              "      <td>False</td>\n",
              "      <td>False</td>\n",
              "      <td>False</td>\n",
              "      <td>False</td>\n",
              "      <td>False</td>\n",
              "      <td>False</td>\n",
              "      <td>False</td>\n",
              "      <td>False</td>\n",
              "    </tr>\n",
              "    <tr>\n",
              "      <th>...</th>\n",
              "      <td>...</td>\n",
              "      <td>...</td>\n",
              "      <td>...</td>\n",
              "      <td>...</td>\n",
              "      <td>...</td>\n",
              "      <td>...</td>\n",
              "      <td>...</td>\n",
              "      <td>...</td>\n",
              "      <td>...</td>\n",
              "      <td>...</td>\n",
              "      <td>...</td>\n",
              "      <td>...</td>\n",
              "      <td>...</td>\n",
              "      <td>...</td>\n",
              "      <td>...</td>\n",
              "      <td>...</td>\n",
              "      <td>...</td>\n",
              "    </tr>\n",
              "    <tr>\n",
              "      <th>83351</th>\n",
              "      <td>False</td>\n",
              "      <td>False</td>\n",
              "      <td>False</td>\n",
              "      <td>False</td>\n",
              "      <td>False</td>\n",
              "      <td>False</td>\n",
              "      <td>False</td>\n",
              "      <td>False</td>\n",
              "      <td>False</td>\n",
              "      <td>False</td>\n",
              "      <td>False</td>\n",
              "      <td>False</td>\n",
              "      <td>False</td>\n",
              "      <td>False</td>\n",
              "      <td>False</td>\n",
              "      <td>False</td>\n",
              "      <td>False</td>\n",
              "    </tr>\n",
              "    <tr>\n",
              "      <th>83352</th>\n",
              "      <td>False</td>\n",
              "      <td>False</td>\n",
              "      <td>False</td>\n",
              "      <td>False</td>\n",
              "      <td>False</td>\n",
              "      <td>False</td>\n",
              "      <td>False</td>\n",
              "      <td>False</td>\n",
              "      <td>False</td>\n",
              "      <td>False</td>\n",
              "      <td>False</td>\n",
              "      <td>False</td>\n",
              "      <td>False</td>\n",
              "      <td>False</td>\n",
              "      <td>False</td>\n",
              "      <td>False</td>\n",
              "      <td>False</td>\n",
              "    </tr>\n",
              "    <tr>\n",
              "      <th>83353</th>\n",
              "      <td>False</td>\n",
              "      <td>False</td>\n",
              "      <td>False</td>\n",
              "      <td>False</td>\n",
              "      <td>False</td>\n",
              "      <td>False</td>\n",
              "      <td>False</td>\n",
              "      <td>False</td>\n",
              "      <td>False</td>\n",
              "      <td>False</td>\n",
              "      <td>False</td>\n",
              "      <td>False</td>\n",
              "      <td>False</td>\n",
              "      <td>False</td>\n",
              "      <td>False</td>\n",
              "      <td>False</td>\n",
              "      <td>False</td>\n",
              "    </tr>\n",
              "    <tr>\n",
              "      <th>83354</th>\n",
              "      <td>False</td>\n",
              "      <td>False</td>\n",
              "      <td>True</td>\n",
              "      <td>True</td>\n",
              "      <td>False</td>\n",
              "      <td>False</td>\n",
              "      <td>False</td>\n",
              "      <td>False</td>\n",
              "      <td>False</td>\n",
              "      <td>False</td>\n",
              "      <td>False</td>\n",
              "      <td>False</td>\n",
              "      <td>False</td>\n",
              "      <td>False</td>\n",
              "      <td>False</td>\n",
              "      <td>False</td>\n",
              "      <td>False</td>\n",
              "    </tr>\n",
              "    <tr>\n",
              "      <th>83355</th>\n",
              "      <td>False</td>\n",
              "      <td>False</td>\n",
              "      <td>False</td>\n",
              "      <td>False</td>\n",
              "      <td>False</td>\n",
              "      <td>False</td>\n",
              "      <td>False</td>\n",
              "      <td>False</td>\n",
              "      <td>False</td>\n",
              "      <td>False</td>\n",
              "      <td>False</td>\n",
              "      <td>False</td>\n",
              "      <td>False</td>\n",
              "      <td>False</td>\n",
              "      <td>False</td>\n",
              "      <td>False</td>\n",
              "      <td>False</td>\n",
              "    </tr>\n",
              "  </tbody>\n",
              "</table>\n",
              "<p>83356 rows × 17 columns</p>\n",
              "</div>\n",
              "      <button class=\"colab-df-convert\" onclick=\"convertToInteractive('df-654cc01f-7fd2-469e-aa4c-74fba07303ce')\"\n",
              "              title=\"Convert this dataframe to an interactive table.\"\n",
              "              style=\"display:none;\">\n",
              "        \n",
              "  <svg xmlns=\"http://www.w3.org/2000/svg\" height=\"24px\"viewBox=\"0 0 24 24\"\n",
              "       width=\"24px\">\n",
              "    <path d=\"M0 0h24v24H0V0z\" fill=\"none\"/>\n",
              "    <path d=\"M18.56 5.44l.94 2.06.94-2.06 2.06-.94-2.06-.94-.94-2.06-.94 2.06-2.06.94zm-11 1L8.5 8.5l.94-2.06 2.06-.94-2.06-.94L8.5 2.5l-.94 2.06-2.06.94zm10 10l.94 2.06.94-2.06 2.06-.94-2.06-.94-.94-2.06-.94 2.06-2.06.94z\"/><path d=\"M17.41 7.96l-1.37-1.37c-.4-.4-.92-.59-1.43-.59-.52 0-1.04.2-1.43.59L10.3 9.45l-7.72 7.72c-.78.78-.78 2.05 0 2.83L4 21.41c.39.39.9.59 1.41.59.51 0 1.02-.2 1.41-.59l7.78-7.78 2.81-2.81c.8-.78.8-2.07 0-2.86zM5.41 20L4 18.59l7.72-7.72 1.47 1.35L5.41 20z\"/>\n",
              "  </svg>\n",
              "      </button>\n",
              "      \n",
              "  <style>\n",
              "    .colab-df-container {\n",
              "      display:flex;\n",
              "      flex-wrap:wrap;\n",
              "      gap: 12px;\n",
              "    }\n",
              "\n",
              "    .colab-df-convert {\n",
              "      background-color: #E8F0FE;\n",
              "      border: none;\n",
              "      border-radius: 50%;\n",
              "      cursor: pointer;\n",
              "      display: none;\n",
              "      fill: #1967D2;\n",
              "      height: 32px;\n",
              "      padding: 0 0 0 0;\n",
              "      width: 32px;\n",
              "    }\n",
              "\n",
              "    .colab-df-convert:hover {\n",
              "      background-color: #E2EBFA;\n",
              "      box-shadow: 0px 1px 2px rgba(60, 64, 67, 0.3), 0px 1px 3px 1px rgba(60, 64, 67, 0.15);\n",
              "      fill: #174EA6;\n",
              "    }\n",
              "\n",
              "    [theme=dark] .colab-df-convert {\n",
              "      background-color: #3B4455;\n",
              "      fill: #D2E3FC;\n",
              "    }\n",
              "\n",
              "    [theme=dark] .colab-df-convert:hover {\n",
              "      background-color: #434B5C;\n",
              "      box-shadow: 0px 1px 3px 1px rgba(0, 0, 0, 0.15);\n",
              "      filter: drop-shadow(0px 1px 2px rgba(0, 0, 0, 0.3));\n",
              "      fill: #FFFFFF;\n",
              "    }\n",
              "  </style>\n",
              "\n",
              "      <script>\n",
              "        const buttonEl =\n",
              "          document.querySelector('#df-654cc01f-7fd2-469e-aa4c-74fba07303ce button.colab-df-convert');\n",
              "        buttonEl.style.display =\n",
              "          google.colab.kernel.accessAllowed ? 'block' : 'none';\n",
              "\n",
              "        async function convertToInteractive(key) {\n",
              "          const element = document.querySelector('#df-654cc01f-7fd2-469e-aa4c-74fba07303ce');\n",
              "          const dataTable =\n",
              "            await google.colab.kernel.invokeFunction('convertToInteractive',\n",
              "                                                     [key], {});\n",
              "          if (!dataTable) return;\n",
              "\n",
              "          const docLinkHtml = 'Like what you see? Visit the ' +\n",
              "            '<a target=\"_blank\" href=https://colab.research.google.com/notebooks/data_table.ipynb>data table notebook</a>'\n",
              "            + ' to learn more about interactive tables.';\n",
              "          element.innerHTML = '';\n",
              "          dataTable['output_type'] = 'display_data';\n",
              "          await google.colab.output.renderOutput(dataTable, element);\n",
              "          const docLink = document.createElement('div');\n",
              "          docLink.innerHTML = docLinkHtml;\n",
              "          element.appendChild(docLink);\n",
              "        }\n",
              "      </script>\n",
              "    </div>\n",
              "  </div>\n",
              "  "
            ]
          },
          "metadata": {},
          "execution_count": 6
        }
      ]
    },
    {
      "cell_type": "code",
      "source": [
        "df1.isna().sum()"
      ],
      "metadata": {
        "colab": {
          "base_uri": "https://localhost:8080/"
        },
        "id": "1SyXJ7T3UQXW",
        "outputId": "0b7330a2-2b7d-4ffb-a623-54e68d474735"
      },
      "execution_count": 7,
      "outputs": [
        {
          "output_type": "execute_result",
          "data": {
            "text/plain": [
              "day                          0\n",
              "customer_id                  0\n",
              "product_type             33036\n",
              "product_title            30698\n",
              "shipping_city              193\n",
              "shipping_region            408\n",
              "orders                       0\n",
              "gross_sales                  0\n",
              "discounts                    0\n",
              "returns                      0\n",
              "net_sales                    0\n",
              "shipping                     0\n",
              "duties                       0\n",
              "additional_fees              0\n",
              "taxes                        0\n",
              "total_sales                  0\n",
              "ordered_item_quantity        0\n",
              "dtype: int64"
            ]
          },
          "metadata": {},
          "execution_count": 7
        }
      ]
    },
    {
      "cell_type": "code",
      "source": [
        "df1.duplicated()"
      ],
      "metadata": {
        "colab": {
          "base_uri": "https://localhost:8080/"
        },
        "id": "Ej5i6wqlVJT4",
        "outputId": "06ca35d0-c02e-4a26-b413-2761fb5cf768"
      },
      "execution_count": 9,
      "outputs": [
        {
          "output_type": "execute_result",
          "data": {
            "text/plain": [
              "0        False\n",
              "1        False\n",
              "2        False\n",
              "3        False\n",
              "4        False\n",
              "         ...  \n",
              "83351    False\n",
              "83352    False\n",
              "83353    False\n",
              "83354    False\n",
              "83355    False\n",
              "Length: 83356, dtype: bool"
            ]
          },
          "metadata": {},
          "execution_count": 9
        }
      ]
    },
    {
      "cell_type": "code",
      "source": [
        "df1.drop_duplicates(keep = False, inplace=True)"
      ],
      "metadata": {
        "id": "Es4knEvko5CB"
      },
      "execution_count": 10,
      "outputs": []
    },
    {
      "cell_type": "code",
      "source": [
        "df1.info()"
      ],
      "metadata": {
        "colab": {
          "base_uri": "https://localhost:8080/"
        },
        "id": "gVY8zyoLo63e",
        "outputId": "647c97dc-e7d8-48b1-aaf4-ececca81bb25"
      },
      "execution_count": 11,
      "outputs": [
        {
          "output_type": "stream",
          "name": "stdout",
          "text": [
            "<class 'pandas.core.frame.DataFrame'>\n",
            "Int64Index: 76750 entries, 0 to 83355\n",
            "Data columns (total 17 columns):\n",
            " #   Column                 Non-Null Count  Dtype  \n",
            "---  ------                 --------------  -----  \n",
            " 0   day                    76750 non-null  object \n",
            " 1   customer_id            76750 non-null  float64\n",
            " 2   product_type           50127 non-null  object \n",
            " 3   product_title          52455 non-null  object \n",
            " 4   shipping_city          76573 non-null  object \n",
            " 5   shipping_region        76358 non-null  object \n",
            " 6   orders                 76750 non-null  int64  \n",
            " 7   gross_sales            76750 non-null  float64\n",
            " 8   discounts              76750 non-null  float64\n",
            " 9   returns                76750 non-null  float64\n",
            " 10  net_sales              76750 non-null  float64\n",
            " 11  shipping               76750 non-null  int64  \n",
            " 12  duties                 76750 non-null  int64  \n",
            " 13  additional_fees        76750 non-null  int64  \n",
            " 14  taxes                  76750 non-null  float64\n",
            " 15  total_sales            76750 non-null  float64\n",
            " 16  ordered_item_quantity  76750 non-null  int64  \n",
            "dtypes: float64(7), int64(5), object(5)\n",
            "memory usage: 10.5+ MB\n"
          ]
        }
      ]
    },
    {
      "cell_type": "code",
      "source": [
        "df1[\"product_type\"].fillna(value= False, inplace=True)\n",
        "df1"
      ],
      "metadata": {
        "colab": {
          "base_uri": "https://localhost:8080/",
          "height": 818
        },
        "id": "e6-qfkEFV38E",
        "outputId": "718260ed-b350-4bab-cd68-9ddb38ebfbbd"
      },
      "execution_count": 13,
      "outputs": [
        {
          "output_type": "execute_result",
          "data": {
            "text/plain": [
              "            day   customer_id               product_type  \\\n",
              "0      01/01/22  5.440000e+12  Maternity and Nursing Top   \n",
              "1      01/01/22  5.730000e+12                   Baby Oil   \n",
              "2      01/01/22  5.730000e+12                      False   \n",
              "3      01/01/22  5.730000e+12       Baby Anti-Slip Socks   \n",
              "4      01/01/22  5.770000e+12                      False   \n",
              "...         ...           ...                        ...   \n",
              "83351  01/01/23  6.280000e+12                 Infant Set   \n",
              "83352  01/01/23  6.280000e+12             Newborn Onesie   \n",
              "83353  01/01/23  6.280000e+12                Baby Bather   \n",
              "83354  01/01/23  6.280000e+12                      False   \n",
              "83355  01/01/23  6.280000e+12        Muslin Swaddle Wrap   \n",
              "\n",
              "                                           product_title shipping_city  \\\n",
              "0      Rose Melange Maternity and Feeding Sweatshirt ...       Panipat   \n",
              "1      100% Natural Cold Pressed Virgin Coconut Oil f...       Gurgaon   \n",
              "2                                                    NaN       Gurgaon   \n",
              "3      Socks with a Soul Combo - Baby Polar Bear & Sw...       Gurgaon   \n",
              "4                                                    NaN     Ghaziabad   \n",
              "...                                                  ...           ...   \n",
              "83351  Newborn and Infant Pajama Set Combo of 3: Berr...        Mumbai   \n",
              "83352                 Combo of 5 Baby Onesies - Option E        Mumbai   \n",
              "83353                  Mastela Deluxe Baby Bather - Teal        Mumbai   \n",
              "83354                                                NaN        Mumbai   \n",
              "83355  Baby Swaddle Wrap Combo - Baby Dino & Moon and...        Mumbai   \n",
              "\n",
              "      shipping_region  orders  gross_sales  discounts  returns  net_sales  \\\n",
              "0             Haryana       1      1439.83    -316.76      0.0    1123.07   \n",
              "1             Haryana       1       422.03     -42.20      0.0     379.83   \n",
              "2             Haryana       0         0.00       0.00      0.0       0.00   \n",
              "3             Haryana       1       677.12     -67.71      0.0     609.41   \n",
              "4       Uttar Pradesh       0         0.00       0.00      0.0       0.00   \n",
              "...               ...     ...          ...        ...      ...        ...   \n",
              "83351     Maharashtra       1      2710.17       0.00      0.0    2710.17   \n",
              "83352     Maharashtra       1      3388.13       0.00      0.0    3388.13   \n",
              "83353     Maharashtra       1      1499.15       0.00      0.0    1499.15   \n",
              "83354     Maharashtra       0         0.00       0.00      0.0       0.00   \n",
              "83355     Maharashtra       1      3047.46       0.00      0.0    3047.46   \n",
              "\n",
              "       shipping  duties  additional_fees   taxes  total_sales  \\\n",
              "0             0       0                0  202.15      1325.22   \n",
              "1             0       0                0   68.37       448.20   \n",
              "2             0       0                0    0.00         0.00   \n",
              "3             0       0                0  109.69       719.10   \n",
              "4             0       0                0    0.00         0.00   \n",
              "...         ...     ...              ...     ...          ...   \n",
              "83351         0       0                0  487.83      3198.00   \n",
              "83352         0       0                0  609.87      3998.00   \n",
              "83353         0       0                0  269.85      1769.00   \n",
              "83354         0       0                0    0.00         0.00   \n",
              "83355         0       0                0  548.54      3596.00   \n",
              "\n",
              "       ordered_item_quantity  \n",
              "0                          1  \n",
              "1                          1  \n",
              "2                          0  \n",
              "3                          1  \n",
              "4                          0  \n",
              "...                      ...  \n",
              "83351                      2  \n",
              "83352                      2  \n",
              "83353                      1  \n",
              "83354                      0  \n",
              "83355                      4  \n",
              "\n",
              "[76750 rows x 17 columns]"
            ],
            "text/html": [
              "\n",
              "  <div id=\"df-dbf1d31b-57f7-40af-b8d3-4e03cc58e3dd\">\n",
              "    <div class=\"colab-df-container\">\n",
              "      <div>\n",
              "<style scoped>\n",
              "    .dataframe tbody tr th:only-of-type {\n",
              "        vertical-align: middle;\n",
              "    }\n",
              "\n",
              "    .dataframe tbody tr th {\n",
              "        vertical-align: top;\n",
              "    }\n",
              "\n",
              "    .dataframe thead th {\n",
              "        text-align: right;\n",
              "    }\n",
              "</style>\n",
              "<table border=\"1\" class=\"dataframe\">\n",
              "  <thead>\n",
              "    <tr style=\"text-align: right;\">\n",
              "      <th></th>\n",
              "      <th>day</th>\n",
              "      <th>customer_id</th>\n",
              "      <th>product_type</th>\n",
              "      <th>product_title</th>\n",
              "      <th>shipping_city</th>\n",
              "      <th>shipping_region</th>\n",
              "      <th>orders</th>\n",
              "      <th>gross_sales</th>\n",
              "      <th>discounts</th>\n",
              "      <th>returns</th>\n",
              "      <th>net_sales</th>\n",
              "      <th>shipping</th>\n",
              "      <th>duties</th>\n",
              "      <th>additional_fees</th>\n",
              "      <th>taxes</th>\n",
              "      <th>total_sales</th>\n",
              "      <th>ordered_item_quantity</th>\n",
              "    </tr>\n",
              "  </thead>\n",
              "  <tbody>\n",
              "    <tr>\n",
              "      <th>0</th>\n",
              "      <td>01/01/22</td>\n",
              "      <td>5.440000e+12</td>\n",
              "      <td>Maternity and Nursing Top</td>\n",
              "      <td>Rose Melange Maternity and Feeding Sweatshirt ...</td>\n",
              "      <td>Panipat</td>\n",
              "      <td>Haryana</td>\n",
              "      <td>1</td>\n",
              "      <td>1439.83</td>\n",
              "      <td>-316.76</td>\n",
              "      <td>0.0</td>\n",
              "      <td>1123.07</td>\n",
              "      <td>0</td>\n",
              "      <td>0</td>\n",
              "      <td>0</td>\n",
              "      <td>202.15</td>\n",
              "      <td>1325.22</td>\n",
              "      <td>1</td>\n",
              "    </tr>\n",
              "    <tr>\n",
              "      <th>1</th>\n",
              "      <td>01/01/22</td>\n",
              "      <td>5.730000e+12</td>\n",
              "      <td>Baby Oil</td>\n",
              "      <td>100% Natural Cold Pressed Virgin Coconut Oil f...</td>\n",
              "      <td>Gurgaon</td>\n",
              "      <td>Haryana</td>\n",
              "      <td>1</td>\n",
              "      <td>422.03</td>\n",
              "      <td>-42.20</td>\n",
              "      <td>0.0</td>\n",
              "      <td>379.83</td>\n",
              "      <td>0</td>\n",
              "      <td>0</td>\n",
              "      <td>0</td>\n",
              "      <td>68.37</td>\n",
              "      <td>448.20</td>\n",
              "      <td>1</td>\n",
              "    </tr>\n",
              "    <tr>\n",
              "      <th>2</th>\n",
              "      <td>01/01/22</td>\n",
              "      <td>5.730000e+12</td>\n",
              "      <td>False</td>\n",
              "      <td>NaN</td>\n",
              "      <td>Gurgaon</td>\n",
              "      <td>Haryana</td>\n",
              "      <td>0</td>\n",
              "      <td>0.00</td>\n",
              "      <td>0.00</td>\n",
              "      <td>0.0</td>\n",
              "      <td>0.00</td>\n",
              "      <td>0</td>\n",
              "      <td>0</td>\n",
              "      <td>0</td>\n",
              "      <td>0.00</td>\n",
              "      <td>0.00</td>\n",
              "      <td>0</td>\n",
              "    </tr>\n",
              "    <tr>\n",
              "      <th>3</th>\n",
              "      <td>01/01/22</td>\n",
              "      <td>5.730000e+12</td>\n",
              "      <td>Baby Anti-Slip Socks</td>\n",
              "      <td>Socks with a Soul Combo - Baby Polar Bear &amp; Sw...</td>\n",
              "      <td>Gurgaon</td>\n",
              "      <td>Haryana</td>\n",
              "      <td>1</td>\n",
              "      <td>677.12</td>\n",
              "      <td>-67.71</td>\n",
              "      <td>0.0</td>\n",
              "      <td>609.41</td>\n",
              "      <td>0</td>\n",
              "      <td>0</td>\n",
              "      <td>0</td>\n",
              "      <td>109.69</td>\n",
              "      <td>719.10</td>\n",
              "      <td>1</td>\n",
              "    </tr>\n",
              "    <tr>\n",
              "      <th>4</th>\n",
              "      <td>01/01/22</td>\n",
              "      <td>5.770000e+12</td>\n",
              "      <td>False</td>\n",
              "      <td>NaN</td>\n",
              "      <td>Ghaziabad</td>\n",
              "      <td>Uttar Pradesh</td>\n",
              "      <td>0</td>\n",
              "      <td>0.00</td>\n",
              "      <td>0.00</td>\n",
              "      <td>0.0</td>\n",
              "      <td>0.00</td>\n",
              "      <td>0</td>\n",
              "      <td>0</td>\n",
              "      <td>0</td>\n",
              "      <td>0.00</td>\n",
              "      <td>0.00</td>\n",
              "      <td>0</td>\n",
              "    </tr>\n",
              "    <tr>\n",
              "      <th>...</th>\n",
              "      <td>...</td>\n",
              "      <td>...</td>\n",
              "      <td>...</td>\n",
              "      <td>...</td>\n",
              "      <td>...</td>\n",
              "      <td>...</td>\n",
              "      <td>...</td>\n",
              "      <td>...</td>\n",
              "      <td>...</td>\n",
              "      <td>...</td>\n",
              "      <td>...</td>\n",
              "      <td>...</td>\n",
              "      <td>...</td>\n",
              "      <td>...</td>\n",
              "      <td>...</td>\n",
              "      <td>...</td>\n",
              "      <td>...</td>\n",
              "    </tr>\n",
              "    <tr>\n",
              "      <th>83351</th>\n",
              "      <td>01/01/23</td>\n",
              "      <td>6.280000e+12</td>\n",
              "      <td>Infant Set</td>\n",
              "      <td>Newborn and Infant Pajama Set Combo of 3: Berr...</td>\n",
              "      <td>Mumbai</td>\n",
              "      <td>Maharashtra</td>\n",
              "      <td>1</td>\n",
              "      <td>2710.17</td>\n",
              "      <td>0.00</td>\n",
              "      <td>0.0</td>\n",
              "      <td>2710.17</td>\n",
              "      <td>0</td>\n",
              "      <td>0</td>\n",
              "      <td>0</td>\n",
              "      <td>487.83</td>\n",
              "      <td>3198.00</td>\n",
              "      <td>2</td>\n",
              "    </tr>\n",
              "    <tr>\n",
              "      <th>83352</th>\n",
              "      <td>01/01/23</td>\n",
              "      <td>6.280000e+12</td>\n",
              "      <td>Newborn Onesie</td>\n",
              "      <td>Combo of 5 Baby Onesies - Option E</td>\n",
              "      <td>Mumbai</td>\n",
              "      <td>Maharashtra</td>\n",
              "      <td>1</td>\n",
              "      <td>3388.13</td>\n",
              "      <td>0.00</td>\n",
              "      <td>0.0</td>\n",
              "      <td>3388.13</td>\n",
              "      <td>0</td>\n",
              "      <td>0</td>\n",
              "      <td>0</td>\n",
              "      <td>609.87</td>\n",
              "      <td>3998.00</td>\n",
              "      <td>2</td>\n",
              "    </tr>\n",
              "    <tr>\n",
              "      <th>83353</th>\n",
              "      <td>01/01/23</td>\n",
              "      <td>6.280000e+12</td>\n",
              "      <td>Baby Bather</td>\n",
              "      <td>Mastela Deluxe Baby Bather - Teal</td>\n",
              "      <td>Mumbai</td>\n",
              "      <td>Maharashtra</td>\n",
              "      <td>1</td>\n",
              "      <td>1499.15</td>\n",
              "      <td>0.00</td>\n",
              "      <td>0.0</td>\n",
              "      <td>1499.15</td>\n",
              "      <td>0</td>\n",
              "      <td>0</td>\n",
              "      <td>0</td>\n",
              "      <td>269.85</td>\n",
              "      <td>1769.00</td>\n",
              "      <td>1</td>\n",
              "    </tr>\n",
              "    <tr>\n",
              "      <th>83354</th>\n",
              "      <td>01/01/23</td>\n",
              "      <td>6.280000e+12</td>\n",
              "      <td>False</td>\n",
              "      <td>NaN</td>\n",
              "      <td>Mumbai</td>\n",
              "      <td>Maharashtra</td>\n",
              "      <td>0</td>\n",
              "      <td>0.00</td>\n",
              "      <td>0.00</td>\n",
              "      <td>0.0</td>\n",
              "      <td>0.00</td>\n",
              "      <td>0</td>\n",
              "      <td>0</td>\n",
              "      <td>0</td>\n",
              "      <td>0.00</td>\n",
              "      <td>0.00</td>\n",
              "      <td>0</td>\n",
              "    </tr>\n",
              "    <tr>\n",
              "      <th>83355</th>\n",
              "      <td>01/01/23</td>\n",
              "      <td>6.280000e+12</td>\n",
              "      <td>Muslin Swaddle Wrap</td>\n",
              "      <td>Baby Swaddle Wrap Combo - Baby Dino &amp; Moon and...</td>\n",
              "      <td>Mumbai</td>\n",
              "      <td>Maharashtra</td>\n",
              "      <td>1</td>\n",
              "      <td>3047.46</td>\n",
              "      <td>0.00</td>\n",
              "      <td>0.0</td>\n",
              "      <td>3047.46</td>\n",
              "      <td>0</td>\n",
              "      <td>0</td>\n",
              "      <td>0</td>\n",
              "      <td>548.54</td>\n",
              "      <td>3596.00</td>\n",
              "      <td>4</td>\n",
              "    </tr>\n",
              "  </tbody>\n",
              "</table>\n",
              "<p>76750 rows × 17 columns</p>\n",
              "</div>\n",
              "      <button class=\"colab-df-convert\" onclick=\"convertToInteractive('df-dbf1d31b-57f7-40af-b8d3-4e03cc58e3dd')\"\n",
              "              title=\"Convert this dataframe to an interactive table.\"\n",
              "              style=\"display:none;\">\n",
              "        \n",
              "  <svg xmlns=\"http://www.w3.org/2000/svg\" height=\"24px\"viewBox=\"0 0 24 24\"\n",
              "       width=\"24px\">\n",
              "    <path d=\"M0 0h24v24H0V0z\" fill=\"none\"/>\n",
              "    <path d=\"M18.56 5.44l.94 2.06.94-2.06 2.06-.94-2.06-.94-.94-2.06-.94 2.06-2.06.94zm-11 1L8.5 8.5l.94-2.06 2.06-.94-2.06-.94L8.5 2.5l-.94 2.06-2.06.94zm10 10l.94 2.06.94-2.06 2.06-.94-2.06-.94-.94-2.06-.94 2.06-2.06.94z\"/><path d=\"M17.41 7.96l-1.37-1.37c-.4-.4-.92-.59-1.43-.59-.52 0-1.04.2-1.43.59L10.3 9.45l-7.72 7.72c-.78.78-.78 2.05 0 2.83L4 21.41c.39.39.9.59 1.41.59.51 0 1.02-.2 1.41-.59l7.78-7.78 2.81-2.81c.8-.78.8-2.07 0-2.86zM5.41 20L4 18.59l7.72-7.72 1.47 1.35L5.41 20z\"/>\n",
              "  </svg>\n",
              "      </button>\n",
              "      \n",
              "  <style>\n",
              "    .colab-df-container {\n",
              "      display:flex;\n",
              "      flex-wrap:wrap;\n",
              "      gap: 12px;\n",
              "    }\n",
              "\n",
              "    .colab-df-convert {\n",
              "      background-color: #E8F0FE;\n",
              "      border: none;\n",
              "      border-radius: 50%;\n",
              "      cursor: pointer;\n",
              "      display: none;\n",
              "      fill: #1967D2;\n",
              "      height: 32px;\n",
              "      padding: 0 0 0 0;\n",
              "      width: 32px;\n",
              "    }\n",
              "\n",
              "    .colab-df-convert:hover {\n",
              "      background-color: #E2EBFA;\n",
              "      box-shadow: 0px 1px 2px rgba(60, 64, 67, 0.3), 0px 1px 3px 1px rgba(60, 64, 67, 0.15);\n",
              "      fill: #174EA6;\n",
              "    }\n",
              "\n",
              "    [theme=dark] .colab-df-convert {\n",
              "      background-color: #3B4455;\n",
              "      fill: #D2E3FC;\n",
              "    }\n",
              "\n",
              "    [theme=dark] .colab-df-convert:hover {\n",
              "      background-color: #434B5C;\n",
              "      box-shadow: 0px 1px 3px 1px rgba(0, 0, 0, 0.15);\n",
              "      filter: drop-shadow(0px 1px 2px rgba(0, 0, 0, 0.3));\n",
              "      fill: #FFFFFF;\n",
              "    }\n",
              "  </style>\n",
              "\n",
              "      <script>\n",
              "        const buttonEl =\n",
              "          document.querySelector('#df-dbf1d31b-57f7-40af-b8d3-4e03cc58e3dd button.colab-df-convert');\n",
              "        buttonEl.style.display =\n",
              "          google.colab.kernel.accessAllowed ? 'block' : 'none';\n",
              "\n",
              "        async function convertToInteractive(key) {\n",
              "          const element = document.querySelector('#df-dbf1d31b-57f7-40af-b8d3-4e03cc58e3dd');\n",
              "          const dataTable =\n",
              "            await google.colab.kernel.invokeFunction('convertToInteractive',\n",
              "                                                     [key], {});\n",
              "          if (!dataTable) return;\n",
              "\n",
              "          const docLinkHtml = 'Like what you see? Visit the ' +\n",
              "            '<a target=\"_blank\" href=https://colab.research.google.com/notebooks/data_table.ipynb>data table notebook</a>'\n",
              "            + ' to learn more about interactive tables.';\n",
              "          element.innerHTML = '';\n",
              "          dataTable['output_type'] = 'display_data';\n",
              "          await google.colab.output.renderOutput(dataTable, element);\n",
              "          const docLink = document.createElement('div');\n",
              "          docLink.innerHTML = docLinkHtml;\n",
              "          element.appendChild(docLink);\n",
              "        }\n",
              "      </script>\n",
              "    </div>\n",
              "  </div>\n",
              "  "
            ]
          },
          "metadata": {},
          "execution_count": 13
        }
      ]
    },
    {
      "cell_type": "code",
      "source": [
        "df1[\"product_type\"].fillna( method ='ffill', inplace = True)\n",
        "\n",
        "df1.info()\n",
        " "
      ],
      "metadata": {
        "colab": {
          "base_uri": "https://localhost:8080/"
        },
        "id": "hTZlHQojrxjr",
        "outputId": "c6977a93-8dff-4bb7-8d51-727ef5c306f7"
      },
      "execution_count": 14,
      "outputs": [
        {
          "output_type": "stream",
          "name": "stdout",
          "text": [
            "<class 'pandas.core.frame.DataFrame'>\n",
            "Int64Index: 76750 entries, 0 to 83355\n",
            "Data columns (total 17 columns):\n",
            " #   Column                 Non-Null Count  Dtype  \n",
            "---  ------                 --------------  -----  \n",
            " 0   day                    76750 non-null  object \n",
            " 1   customer_id            76750 non-null  float64\n",
            " 2   product_type           76750 non-null  object \n",
            " 3   product_title          52455 non-null  object \n",
            " 4   shipping_city          76573 non-null  object \n",
            " 5   shipping_region        76358 non-null  object \n",
            " 6   orders                 76750 non-null  int64  \n",
            " 7   gross_sales            76750 non-null  float64\n",
            " 8   discounts              76750 non-null  float64\n",
            " 9   returns                76750 non-null  float64\n",
            " 10  net_sales              76750 non-null  float64\n",
            " 11  shipping               76750 non-null  int64  \n",
            " 12  duties                 76750 non-null  int64  \n",
            " 13  additional_fees        76750 non-null  int64  \n",
            " 14  taxes                  76750 non-null  float64\n",
            " 15  total_sales            76750 non-null  float64\n",
            " 16  ordered_item_quantity  76750 non-null  int64  \n",
            "dtypes: float64(7), int64(5), object(5)\n",
            "memory usage: 10.5+ MB\n"
          ]
        }
      ]
    },
    {
      "cell_type": "code",
      "source": [
        "df1[\"product_title\"].fillna( method ='ffill', inplace = True)\n",
        "\n",
        "df1.info()"
      ],
      "metadata": {
        "colab": {
          "base_uri": "https://localhost:8080/"
        },
        "id": "nVjF0eFisTKg",
        "outputId": "df406c01-f513-4885-e526-6b79e4b5e8b5"
      },
      "execution_count": 15,
      "outputs": [
        {
          "output_type": "stream",
          "name": "stdout",
          "text": [
            "<class 'pandas.core.frame.DataFrame'>\n",
            "Int64Index: 76750 entries, 0 to 83355\n",
            "Data columns (total 17 columns):\n",
            " #   Column                 Non-Null Count  Dtype  \n",
            "---  ------                 --------------  -----  \n",
            " 0   day                    76750 non-null  object \n",
            " 1   customer_id            76750 non-null  float64\n",
            " 2   product_type           76750 non-null  object \n",
            " 3   product_title          76750 non-null  object \n",
            " 4   shipping_city          76573 non-null  object \n",
            " 5   shipping_region        76358 non-null  object \n",
            " 6   orders                 76750 non-null  int64  \n",
            " 7   gross_sales            76750 non-null  float64\n",
            " 8   discounts              76750 non-null  float64\n",
            " 9   returns                76750 non-null  float64\n",
            " 10  net_sales              76750 non-null  float64\n",
            " 11  shipping               76750 non-null  int64  \n",
            " 12  duties                 76750 non-null  int64  \n",
            " 13  additional_fees        76750 non-null  int64  \n",
            " 14  taxes                  76750 non-null  float64\n",
            " 15  total_sales            76750 non-null  float64\n",
            " 16  ordered_item_quantity  76750 non-null  int64  \n",
            "dtypes: float64(7), int64(5), object(5)\n",
            "memory usage: 10.5+ MB\n"
          ]
        }
      ]
    },
    {
      "cell_type": "code",
      "source": [
        "print(df1['day'].unique()) product_type"
      ],
      "metadata": {
        "colab": {
          "base_uri": "https://localhost:8080/"
        },
        "id": "SvWFgOhWpygO",
        "outputId": "36bb38fe-0c84-4970-c4ae-d6fb85928408"
      },
      "execution_count": 14,
      "outputs": [
        {
          "output_type": "stream",
          "name": "stdout",
          "text": [
            "['01/01/22' '02/01/22' '03/01/22' '04/01/22' '05/01/22' '06/01/22'\n",
            " '07/01/22' '08/01/22' '09/01/22' '10/01/22' '11/01/22' '12/01/22'\n",
            " '13/01/22' '14/01/22' '15/01/22' '16/01/22' '17/01/22' '18/01/22'\n",
            " '19/01/22' '20/01/22' '21/01/22' '22/01/22' '23/01/22' '24/01/22'\n",
            " '25/01/22' '26/01/22' '27/01/22' '28/01/22' '29/01/22' '30/01/22'\n",
            " '31/01/22' '01/02/22' '02/02/22' '03/02/22' '04/02/22' '05/02/22'\n",
            " '06/02/22' '07/02/22' '08/02/22' '09/02/22' '10/02/22' '11/02/22'\n",
            " '12/02/22' '13/02/22' '14/02/22' '15/02/22' '16/02/22' '17/02/22'\n",
            " '18/02/22' '19/02/22' '20/02/22' '21/02/22' '22/02/22' '23/02/22'\n",
            " '24/02/22' '25/02/22' '26/02/22' '27/02/22' '28/02/22' '01/03/22'\n",
            " '02/03/22' '03/03/22' '04/03/22' '05/03/22' '06/03/22' '07/03/22'\n",
            " '08/03/22' '09/03/22' '10/03/22' '11/03/22' '12/03/22' '13/03/22'\n",
            " '14/03/22' '15/03/22' '16/03/22' '17/03/22' '18/03/22' '19/03/22'\n",
            " '20/03/22' '21/03/22' '22/03/22' '23/03/22' '24/03/22' '25/03/22'\n",
            " '26/03/22' '27/03/22' '28/03/22' '29/03/22' '30/03/22' '31/03/22'\n",
            " '01/04/22' '02/04/22' '03/04/22' '04/04/22' '05/04/22' '06/04/22'\n",
            " '07/04/22' '08/04/22' '09/04/22' '10/04/22' '11/04/22' '12/04/22'\n",
            " '13/04/22' '14/04/22' '15/04/22' '16/04/22' '17/04/22' '18/04/22'\n",
            " '19/04/22' '20/04/22' '21/04/22' '22/04/22' '23/04/22' '24/04/22'\n",
            " '25/04/22' '26/04/22' '27/04/22' '28/04/22' '29/04/22' '30/04/22'\n",
            " '01/05/22' '02/05/22' '03/05/22' '04/05/22' '05/05/22' '06/05/22'\n",
            " '07/05/22' '08/05/22' '09/05/22' '10/05/22' '11/05/22' '12/05/22'\n",
            " '13/05/22' '14/05/22' '15/05/22' '16/05/22' '17/05/22' '18/05/22'\n",
            " '19/05/22' '20/05/22' '21/05/22' '22/05/22' '23/05/22' '24/05/22'\n",
            " '25/05/22' '26/05/22' '27/05/22' '28/05/22' '29/05/22' '30/05/22'\n",
            " '31/05/22' '01/06/22' '02/06/22' '03/06/22' '04/06/22' '05/06/22'\n",
            " '06/06/22' '07/06/22' '08/06/22' '09/06/22' '10/06/22' '11/06/22'\n",
            " '12/06/22' '13/06/22' '14/06/22' '15/06/22' '16/06/22' '17/06/22'\n",
            " '18/06/22' '19/06/22' '20/06/22' '21/06/22' '22/06/22' '23/06/22'\n",
            " '24/06/22' '25/06/22' '26/06/22' '27/06/22' '28/06/22' '29/06/22'\n",
            " '30/06/22' '01/07/22' '02/07/22' '03/07/22' '04/07/22' '05/07/22'\n",
            " '06/07/22' '07/07/22' '08/07/22' '09/07/22' '10/07/22' '11/07/22'\n",
            " '12/07/22' '13/07/22' '14/07/22' '15/07/22' '16/07/22' '17/07/22'\n",
            " '18/07/22' '19/07/22' '20/07/22' '21/07/22' '22/07/22' '23/07/22'\n",
            " '24/07/22' '25/07/22' '26/07/22' '27/07/22' '28/07/22' '29/07/22'\n",
            " '30/07/22' '31/07/22' '01/08/22' '02/08/22' '03/08/22' '04/08/22'\n",
            " '05/08/22' '06/08/22' '07/08/22' '08/08/22' '09/08/22' '10/08/22'\n",
            " '11/08/22' '12/08/22' '13/08/22' '14/08/22' '15/08/22' '16/08/22'\n",
            " '17/08/22' '18/08/22' '19/08/22' '20/08/22' '21/08/22' '22/08/22'\n",
            " '23/08/22' '24/08/22' '25/08/22' '26/08/22' '27/08/22' '28/08/22'\n",
            " '29/08/22' '30/08/22' '31/08/22' '01/09/22' '02/09/22' '03/09/22'\n",
            " '04/09/22' '05/09/22' '06/09/22' '07/09/22' '08/09/22' '09/09/22'\n",
            " '10/09/22' '11/09/22' '12/09/22' '13/09/22' '14/09/22' '15/09/22'\n",
            " '16/09/22' '17/09/22' '18/09/22' '19/09/22' '20/09/22' '21/09/22'\n",
            " '22/09/22' '23/09/22' '24/09/22' '25/09/22' '26/09/22' '27/09/22'\n",
            " '28/09/22' '29/09/22' '30/09/22' '01/10/22' '02/10/22' '03/10/22'\n",
            " '04/10/22' '05/10/22' '06/10/22' '07/10/22' '08/10/22' '09/10/22'\n",
            " '10/10/22' '11/10/22' '12/10/22' '13/10/22' '14/10/22' '15/10/22'\n",
            " '16/10/22' '17/10/22' '18/10/22' '19/10/22' '20/10/22' '21/10/22'\n",
            " '22/10/22' '23/10/22' '24/10/22' '25/10/22' '26/10/22' '27/10/22'\n",
            " '28/10/22' '29/10/22' '30/10/22' '31/10/22' '01/11/22' '02/11/22'\n",
            " '03/11/22' '04/11/22' '05/11/22' '06/11/22' '07/11/22' '08/11/22'\n",
            " '09/11/22' '10/11/22' '11/11/22' '12/11/22' '13/11/22' '14/11/22'\n",
            " '15/11/22' '16/11/22' '17/11/22' '18/11/22' '19/11/22' '20/11/22'\n",
            " '21/11/22' '22/11/22' '23/11/22' '24/11/22' '25/11/22' '26/11/22'\n",
            " '27/11/22' '28/11/22' '29/11/22' '30/11/22' '01/12/22' '02/12/22'\n",
            " '03/12/22' '04/12/22' '05/12/22' '06/12/22' '07/12/22' '08/12/22'\n",
            " '09/12/22' '10/12/22' '11/12/22' '12/12/22' '13/12/22' '14/12/22'\n",
            " '15/12/22' '16/12/22' '17/12/22' '18/12/22' '19/12/22' '20/12/22'\n",
            " '21/12/22' '22/12/22' '23/12/22' '24/12/22' '25/12/22' '26/12/22'\n",
            " '27/12/22' '28/12/22' '29/12/22' '30/12/22' '31/12/22' '01/01/23']\n"
          ]
        }
      ]
    },
    {
      "cell_type": "code",
      "source": [
        "print(df1['product_type'].unique()) "
      ],
      "metadata": {
        "colab": {
          "base_uri": "https://localhost:8080/"
        },
        "id": "dKl1AgH1qaaS",
        "outputId": "fda71d30-4049-46b9-c544-52a926f97a70"
      },
      "execution_count": 16,
      "outputs": [
        {
          "output_type": "stream",
          "name": "stdout",
          "text": [
            "['Maternity and Nursing Top' 'Baby Oil' nan 'Baby Anti-Slip Socks'\n",
            " 'Twinning Combo' 'Baby Pyjamas Set' 'Baby Romper' 'Baby Blanket'\n",
            " 'Winter Caps for Babies' 'Muslin Swaddle Wrap' 'Baby Swaddle Blankets'\n",
            " 'Baby Booties' 'Maternity Ethnic Wear' 'Maternity Ethnic Set'\n",
            " 'Maternity Trackpants' 'Maternity Leggings' 'Baby Bags' 'Maternity Gown'\n",
            " 'Sling' 'Maternity Casual Dress' 'Girls Winter Dresses' 'Maternity Pants'\n",
            " 'Reusable Cloth Diaper' 'Baby brushes' 'Teether' 'Baby Comforter'\n",
            " 'Baby Nest' 'Mittens, Booties and Cap set' 'Baby Bumper Set' 'Baby Caps'\n",
            " 'Kids Sweatshirts' 'Baby shoes' 'Gift Box' 'Baby Nest Combo'\n",
            " 'Newborn Onesie' 'Infant Rompers' 'Baby Bedding Set' 'Sleep Bra'\n",
            " 'Diaper Bags' 'Maternity Nightwear' 'Maternity Nightwear Set'\n",
            " 'Diaper Insert' 'Teepee Tents' 'Maternity Denims' 'Boys Dhoti Kurta'\n",
            " 'Maternity Joggers' 'Baby Rocker' 'Baby Grooming Kit' 'Pumping Bra'\n",
            " 'Bath Powder' 'Maternity Lingerie' 'Feeding Pillow'\n",
            " 'Maternity T-Shirt Dresses' 'Massage Oil' 'Training Cup' 'Winter Trouser'\n",
            " 'Hygiene Essentials' 'Baby Journal' 'Baby Milestone Blankets' 'Tricycle'\n",
            " 'Boys Pajama Kurta' 'Boyshorts' 'Baby Swing' 'Bath Rinser' 'Soft Toys'\n",
            " 'Baby Crib Sheet' 'Kids Sweatshirt Set' 'Mittens and Booties Set' 'Desk'\n",
            " 'Ride on Toy' 'Nursing Bra' 'Baby Mobiles' 'Flashcards'\n",
            " 'Maternity Dungaree' 'Highwaist panty' 'Baby Head Pillow' 'Kids Footwear'\n",
            " 'Baby Bather' 'Mini Diaper Bags' 'Toys' 'Maternity Belt'\n",
            " 'Baby Stroller & Prams' 'Swings' 'Kids Mask' 'Nursing Cover' 'Play Gym'\n",
            " 'Hair Tonic' 'Post Maternity Care' 'Girls Kurta Sharara' 'Dental Wipes'\n",
            " 'Stretch Marks Balm' 'Baby Carrier' 'Maternity Midi Gown' 'Wooden Toys'\n",
            " 'Cotton Pouch' 'Sippy Cup' 'Baby Mosquito Net Portable Bed'\n",
            " 'Potty Training' 'Kids Sweater' 'Kids Dungaree set' 'Baby Bath Tub'\n",
            " 'Boys Casual set' 'Teething wipes' 'Baby Bolster Pillow'\n",
            " 'Baby Head Pillow and Bolsters Combo' 'Place Mat' 'Baby Mittens'\n",
            " 'Journal' 'Rattle' 'Feeding Plate' 'Baby Hammock' 'Table and Chair'\n",
            " 'Crochet Toy' 'Girls Lehenga Choli' 'Manual Breast Pump'\n",
            " 'Replacement Straw' 'Feeding Bib' 'Activity Seat' 'Baby Milestone Cards'\n",
            " 'Snack Box' 'Girls Casual Dresses' 'Skin Care' 'Reusable Straw' 'Spoon'\n",
            " 'Feeding Set' 'Bookend' 'Baby Hooded Towel Wraps' 'Replacement Pads'\n",
            " 'Cloth Bunting' 'Learning Toy' 'Nappy Stacker' 'Girls Ethnic Wear'\n",
            " 'Baby Bath Rinser' 'Baby Travel Accessories' 'Baby Christmas Socks'\n",
            " 'Nail Trimmer' 'Adult Mask' 'Spoon Set' 'Feeding Pillow Cover'\n",
            " 'Super Seat' 'Girls Anarkali Sharara' 'Building Blocks' 'Baby Soap'\n",
            " 'Baby Jewellery' 'Step Stools' 'Front Open Nursing Bra' 'Learning'\n",
            " 'Tennis Set' 'Food Feeder' 'Rocker' 'Baby Sleep Gear' 'Spout Cup'\n",
            " 'Gift Cards' 'Travel and Gear' 'SuperSeat' 'Canopy Tents'\n",
            " 'Intimate Hygiene' 'Bath Toy' 'Maternity Bra' 'Feeding Bowl'\n",
            " 'Maternity Briefs' 'Feeding Bibs' 'Toy Garage/Parking Lot' 'Bike'\n",
            " 'Plate and Bowl Set' 'Lingerie Combos' 'Personal care'\n",
            " 'Moisturizing Butter' 'Girls Anarkali Set' 'Kitchen Tower' 'Chair'\n",
            " 'Gum Massager' 'Teething Ring' 'Hair Care' 'Wooden Horse'\n",
            " 'Maternity Accessories' 'Maternity Culottes' 'Bath Tub' 'Playmat' 'Table'\n",
            " 'Book Shelf' 'Baby Socks' 'Baby Shorts Set' 'Thermometer' 'Fork Set'\n",
            " 'Baby Swings' 'Toy Organizer & Book Shelf' 'Baby Bath Cradle'\n",
            " 'Block Toys' 'Baby Bag' 'Kids Leggings' 'Baby Feeding Gear' 'Night Serum'\n",
            " 'Under-Eye Care' 'Lunch Bag' 'Food Jar' 'Water Bottle' 'Turbo Bike'\n",
            " 'Snack Cup' 'Organizer' 'Drawstring Bag' 'Fork & Spoon' 'Blackboard'\n",
            " 'Pretend & Play Toys' 'Strollers' 'Feeding Pillow Cover and Baby Pillow'\n",
            " 'Food & Snack' 'Baby Pillow' 'Toddler Cutlery Set' 'Gift Set' 'Sippers'\n",
            " 'Desk Set' 'Baby Car Safety Seat' 'Straw Cup' 'Pretend Play'\n",
            " 'Play Mats & Gyms' 'Baby Dinner Set' 'Twinning Pajamas' 'Bed Rails'\n",
            " 'After Sun Cream' 'See Saw' 'School Bag' 'Baby Activity Toys'\n",
            " 'Bib & spoon set' 'Lunch Box' 'Infant Set' 'Play Mat' 'Silicon Lids'\n",
            " 'Rose Water' 'Twinning Tees' 'Women Pajama Set' 'Feeding and Weaning'\n",
            " 'Slide Ladder' 'Baby Skin Care' 'Baby Moisturizer' 'Wooden Horsey'\n",
            " 'Bamboo Dinnerware' 'Kids Casual Shorts Set' 'Casual Girls Dresses'\n",
            " 'Diary' 'Quilts' 'Cleaning Brush Set' 'Girls Casual T-shirt'\n",
            " 'Baby Skin Care Set' 'Baby Health & Grooming Kits' 'Baby Shampoo'\n",
            " 'Ride on Toys' 'Cotton Vests' 'Library Package' 'Baby Carriers'\n",
            " 'Stroller Organizer' 'Food Storage Containers' 'Wipe Case' 'Baby Mirror'\n",
            " 'Bath Sponges' 'Kids Casual Set' 'Stainless Steel Water Bottle'\n",
            " 'Casting Mold' 'Wind Chimes' 'Bath Visor' 'Gift Wrapping'\n",
            " 'Stainless Steel Cup' 'Linking Toys' 'Push Rider' 'Slide' 'Table & Chair'\n",
            " 'Baby Crib' 'Twin Strollers' 'Storage Bag' 'Toy Chest'\n",
            " 'Sleep Training Toy' 'Raakhi' 'Furniture' 'Toy Organiser' 'Coconut Oil'\n",
            " 'Girls Casual Blouse' 'Skincare' 'Girls Collar Dresses'\n",
            " 'Immunity Booster' 'Maternity Skirt' 'Girls Ruffle Dresses'\n",
            " 'Feeding Bottles' 'Play Dough' 'Bath Mats' 'Mini Organizer'\n",
            " 'Educational Toys' 'Ride On Toys' 'Silver Bowl' 'Play Gyms' 'Baby Wash'\n",
            " 'Toothpaste' 'Jewelry' 'Wellness' 'Bathing Essentials' 'Girls Party Wear'\n",
            " 'Maternity & Nursing Top' 'Books' 'Breast Pad' 'Body Oil' 'Baby lotion'\n",
            " 'Skirts' 'Baby Food' 'Baby Wipes' 'Baby Urinal' 'Glass']\n"
          ]
        }
      ]
    },
    {
      "cell_type": "code",
      "source": [
        "print(df1['customer_id'].unique())"
      ],
      "metadata": {
        "colab": {
          "base_uri": "https://localhost:8080/"
        },
        "id": "ttxJ4zmwqAMO",
        "outputId": "09ef5b34-ed05-4821-a7ca-f99366ea3210"
      },
      "execution_count": 15,
      "outputs": [
        {
          "output_type": "stream",
          "name": "stdout",
          "text": [
            "[5.44e+12 5.73e+12 5.77e+12 5.70e+12 5.47e+12 5.46e+12 4.56e+12 5.33e+12\n",
            " 5.37e+12 5.43e+12 5.12e+12 5.63e+12 1.35e+12 5.54e+12 5.20e+12 4.64e+12\n",
            " 3.33e+12 5.57e+12 2.14e+12 5.69e+12 4.57e+12 5.38e+12 5.78e+12 2.10e+12\n",
            " 5.71e+12 4.67e+12 4.50e+12 5.53e+12 5.10e+12 3.38e+12 4.35e+12 5.67e+12\n",
            " 5.72e+12 4.40e+12 5.76e+12 2.75e+12 2.83e+12 4.61e+12 5.51e+12 5.55e+12\n",
            " 5.34e+12 4.62e+12 5.75e+12 5.22e+12 5.66e+12 5.36e+12 2.93e+12 5.13e+12\n",
            " 3.29e+12 5.39e+12 5.40e+12 2.18e+12 5.32e+12 3.21e+12 5.11e+12 3.22e+12\n",
            " 5.65e+12 3.41e+12 4.63e+12 5.68e+12 3.36e+12 2.74e+12 5.31e+12 2.89e+12\n",
            " 2.78e+12 5.16e+12 5.52e+12 2.65e+12 2.07e+12 5.14e+12 2.70e+12 3.05e+12\n",
            " 4.49e+12 5.25e+12 4.66e+12 5.56e+12 5.64e+12 5.59e+12 5.49e+12 5.74e+12\n",
            " 5.07e+12 2.97e+12 3.03e+12 5.28e+12 5.26e+12 5.35e+12 5.29e+12 3.30e+12\n",
            " 3.19e+12 3.17e+12 4.53e+12 2.99e+12 5.08e+12 5.79e+12 5.05e+12 1.58e+12\n",
            " 3.13e+12 5.42e+12 2.72e+12 5.45e+12 5.41e+12 3.45e+12 2.79e+12 3.20e+12\n",
            " 3.10e+12 5.30e+12 1.49e+12 5.60e+12 3.02e+12 3.37e+12 4.65e+12 5.09e+12\n",
            " 3.08e+12 1.55e+12 3.35e+12 2.90e+12 7.73e+11 3.23e+12 3.32e+12 5.04e+12\n",
            " 5.50e+12 5.03e+12 4.44e+12 5.21e+12 5.06e+12 2.98e+12 2.30e+12 5.80e+12\n",
            " 3.34e+12 2.71e+12 2.92e+12 3.28e+12 3.43e+12 4.60e+12 3.06e+12 2.69e+12\n",
            " 5.17e+12 3.46e+12 4.51e+12 5.18e+12 3.24e+12 5.48e+12 5.81e+12 2.80e+12\n",
            " 7.18e+11 2.84e+12 5.62e+12 4.43e+12 1.09e+12 1.19e+12 5.23e+12 2.68e+12\n",
            " 2.91e+12 2.11e+12 2.21e+12 2.15e+12 2.81e+12 3.31e+12 5.61e+12 5.24e+12\n",
            " 3.01e+12 3.25e+12 2.13e+12 2.82e+12 5.82e+12 4.54e+12 3.26e+12 1.01e+12\n",
            " 4.39e+12 2.76e+12 1.14e+12 1.28e+12 3.44e+12 2.45e+12 5.83e+12 5.27e+12\n",
            " 1.36e+12 4.58e+12 1.46e+12 1.22e+12 2.77e+12 1.41e+12 4.52e+12 5.02e+12\n",
            " 5.58e+12 4.46e+12 2.12e+12 5.84e+12 2.86e+12 3.09e+12 2.58e+12 3.15e+12\n",
            " 0.00e+00 2.94e+12 3.14e+12 3.27e+12 5.85e+12 2.85e+12 4.45e+12 4.48e+12\n",
            " 1.37e+12 2.44e+12 3.47e+12 2.87e+12 2.17e+12 3.16e+12 4.47e+12 2.02e+12\n",
            " 5.86e+12 3.18e+12 4.55e+12 5.87e+12 1.05e+12 5.15e+12 3.07e+12 1.56e+12\n",
            " 1.31e+12 3.42e+12 3.04e+12 5.88e+12 2.63e+12 1.21e+12 1.43e+12 5.89e+12\n",
            " 4.59e+12 2.20e+12 3.39e+12 5.90e+12 1.52e+12 2.73e+12 1.59e+12 1.51e+12\n",
            " 5.91e+12 2.59e+12 2.19e+12 2.60e+12 3.11e+12 2.31e+12 1.29e+12 5.92e+12\n",
            " 3.40e+12 2.57e+12 1.02e+12 5.93e+12 3.00e+12 5.94e+12 2.09e+12 2.32e+12\n",
            " 2.61e+12 5.95e+12 4.41e+12 1.18e+12 1.42e+12 1.10e+12 1.47e+12 1.34e+12\n",
            " 1.45e+12 5.96e+12 5.97e+12 5.98e+12 5.99e+12 4.42e+12 2.56e+12 3.12e+12\n",
            " 6.00e+12 1.12e+12 6.01e+12 5.19e+12 6.02e+12 2.52e+12 6.03e+12 2.96e+12\n",
            " 2.05e+12 1.00e+12 2.55e+12 6.04e+12 2.53e+12 2.54e+12 4.36e+12 1.26e+12\n",
            " 6.05e+12 6.06e+12 1.17e+12 2.43e+12 6.07e+12 2.29e+12 9.36e+11 6.08e+12\n",
            " 1.44e+12 1.20e+12 9.52e+11 1.25e+12 6.09e+12 6.10e+12 2.06e+12 6.11e+12\n",
            " 6.12e+12 7.05e+11 6.13e+12 1.07e+12 1.32e+12 6.14e+12 1.03e+12 1.27e+12\n",
            " 2.16e+12 1.39e+12 6.15e+12 2.64e+12 6.16e+12 1.50e+12 6.17e+12 7.17e+11\n",
            " 6.18e+12 1.11e+12 6.19e+12 6.20e+12 6.21e+12 1.24e+12 6.22e+12 6.23e+12\n",
            " 6.24e+12 2.88e+12 6.25e+12 6.26e+12 1.38e+12 6.27e+12 6.28e+12 6.29e+12\n",
            " 6.30e+12 6.31e+12]\n"
          ]
        }
      ]
    },
    {
      "cell_type": "code",
      "source": [
        "from mpl_toolkits.mplot3d import Axes3D\n",
        "from sklearn.preprocessing import StandardScaler\n",
        "import matplotlib.pyplot as plt # plotting"
      ],
      "metadata": {
        "id": "kfiflCXpX58Y"
      },
      "execution_count": 16,
      "outputs": []
    },
    {
      "cell_type": "code",
      "source": [
        "df1.info()"
      ],
      "metadata": {
        "colab": {
          "base_uri": "https://localhost:8080/"
        },
        "id": "LJhX4LkrYhDH",
        "outputId": "d13849f6-77ad-42ff-f546-7ca5b18d77dd"
      },
      "execution_count": 18,
      "outputs": [
        {
          "output_type": "stream",
          "name": "stdout",
          "text": [
            "<class 'pandas.core.frame.DataFrame'>\n",
            "Int64Index: 76750 entries, 0 to 83355\n",
            "Data columns (total 17 columns):\n",
            " #   Column                 Non-Null Count  Dtype  \n",
            "---  ------                 --------------  -----  \n",
            " 0   day                    76750 non-null  object \n",
            " 1   customer_id            76750 non-null  float64\n",
            " 2   product_type           76750 non-null  object \n",
            " 3   product_title          76750 non-null  object \n",
            " 4   shipping_city          76573 non-null  object \n",
            " 5   shipping_region        76358 non-null  object \n",
            " 6   orders                 76750 non-null  int64  \n",
            " 7   gross_sales            76750 non-null  float64\n",
            " 8   discounts              76750 non-null  float64\n",
            " 9   returns                76750 non-null  float64\n",
            " 10  net_sales              76750 non-null  float64\n",
            " 11  shipping               76750 non-null  int64  \n",
            " 12  duties                 76750 non-null  int64  \n",
            " 13  additional_fees        76750 non-null  int64  \n",
            " 14  taxes                  76750 non-null  float64\n",
            " 15  total_sales            76750 non-null  float64\n",
            " 16  ordered_item_quantity  76750 non-null  int64  \n",
            "dtypes: float64(7), int64(5), object(5)\n",
            "memory usage: 10.5+ MB\n"
          ]
        }
      ]
    },
    {
      "cell_type": "code",
      "source": [
        "plt.figure(figsize=(10,5))\n",
        "plt.scatter(df1['orders'],df1['gross_sales'])\n",
        "plt.xlabel('orders')\n",
        "plt.ylabel('gross_sales')"
      ],
      "metadata": {
        "colab": {
          "base_uri": "https://localhost:8080/",
          "height": 351
        },
        "id": "P3x_pKXSYbcB",
        "outputId": "8ce7e6f3-253f-4b35-b12e-e809116494e9"
      },
      "execution_count": 23,
      "outputs": [
        {
          "output_type": "execute_result",
          "data": {
            "text/plain": [
              "Text(0, 0.5, 'gross_sales')"
            ]
          },
          "metadata": {},
          "execution_count": 23
        },
        {
          "output_type": "display_data",
          "data": {
            "text/plain": [
              "<Figure size 720x360 with 1 Axes>"
            ],
            "image/png": "[encoded data removed]"
          },
          "metadata": {
            "needs_background": "light"
          }
        }
      ]
    },
    {
      "cell_type": "code",
      "source": [
        "plt.figure(figsize=(10,5))\n",
        "plt.scatter(df1['orders'],df1['discounts'])\n",
        "plt.xlabel('orders')\n",
        "plt.ylabel('discounts')"
      ],
      "metadata": {
        "colab": {
          "base_uri": "https://localhost:8080/",
          "height": 351
        },
        "id": "55nl8Mupa6xA",
        "outputId": "15683d59-c94e-4fdb-eacf-618750af04e5"
      },
      "execution_count": 24,
      "outputs": [
        {
          "output_type": "execute_result",
          "data": {
            "text/plain": [
              "Text(0, 0.5, 'discounts')"
            ]
          },
          "metadata": {},
          "execution_count": 24
        },
        {
          "output_type": "display_data",
          "data": {
            "text/plain": [
              "<Figure size 720x360 with 1 Axes>"
            ],
            "image/png": "[encoded data removed]"
          },
          "metadata": {
            "needs_background": "light"
          }
        }
      ]
    },
    {
      "cell_type": "code",
      "source": [
        "plt.figure(figsize=(10,5))\n",
        "plt.scatter(df1['orders'],df1['total_sales'])\n",
        "plt.xlabel('orders')\n",
        "plt.ylabel('total_sales')"
      ],
      "metadata": {
        "colab": {
          "base_uri": "https://localhost:8080/",
          "height": 351
        },
        "id": "HDLOnFMNbRsd",
        "outputId": "6e20e32a-3507-456f-97da-6a9e8ba32849"
      },
      "execution_count": 25,
      "outputs": [
        {
          "output_type": "execute_result",
          "data": {
            "text/plain": [
              "Text(0, 0.5, 'total_sales')"
            ]
          },
          "metadata": {},
          "execution_count": 25
        },
        {
          "output_type": "display_data",
          "data": {
            "text/plain": [
              "<Figure size 720x360 with 1 Axes>"
            ],
            "image/png": "[encoded data removed]"
          },
          "metadata": {
            "needs_background": "light"
          }
        }
      ]
    },
    {
      "cell_type": "code",
      "source": [
        "import seaborn as sns # use for plotting visualiaze"
      ],
      "metadata": {
        "id": "v68fuiQVcPsY"
      },
      "execution_count": 27,
      "outputs": []
    },
    {
      "cell_type": "code",
      "source": [
        "sns.scatterplot(df1['orders'],df1['total_sales'],hue=df1['product_type'])"
      ],
      "metadata": {
        "id": "28DGA2FtcsRv"
      },
      "execution_count": null,
      "outputs": []
    },
    {
      "cell_type": "code",
      "source": [
        "#Analyzing sales by day of the week to determine which days tend to have the highest gross sales, net sales, and total sales.\n",
        "#Identifying the most popular product types and product titles by analyzing the number of orders and gross sales for each category.\n",
        "#Analyzing shipping and return patterns by customer_id to identify repeat customers and customer loyalty patterns.\n",
        "#Identifying which regions or cities tend to have the most sales and the highest net sales and total sales by analyzing the shipping_region and shipping_city columns.\n",
        "#Analyzing the discounts, returns, and additional fees columns to determine how these factors impact gross sales, net sales, and total sales.\n",
        "#Analyzing the taxes column to identify how taxes impact total sales.\n",
        "#Analyzing the ordered_item_quantity column to understand how many items of each product were ordered."
      ],
      "metadata": {
        "id": "8sLeSelcgDWn"
      },
      "execution_count": null,
      "outputs": []
    },
    {
      "cell_type": "code",
      "source": [],
      "metadata": {
        "id": "6hDNY8dhrHta"
      },
      "execution_count": null,
      "outputs": []
    },
    {
      "cell_type": "code",
      "source": [
        "#Analyzing sales by day of the week to determine which days tend to have the highest gross sales, net sales, and total sales.\n",
        "# Convert the day column to a datetime type\n",
        "df1['day'] = pd.to_datetime(df1['day'])"
      ],
      "metadata": {
        "id": "8Aa9dFTwgiTe"
      },
      "execution_count": 32,
      "outputs": []
    },
    {
      "cell_type": "code",
      "source": [
        "# Extract the day of the week from the day column\n",
        "df1['day_of_week'] = df1['day'].dt.weekday \n",
        "\n"
      ],
      "metadata": {
        "id": "rOebO0vugvBm"
      },
      "execution_count": 47,
      "outputs": []
    },
    {
      "cell_type": "code",
      "source": [
        "#df1['day_of_week'] = df1['day'].apply(lambda x:calendar.day_name[x.weekday()])"
      ],
      "metadata": {
        "colab": {
          "base_uri": "https://localhost:8080/",
          "height": 241
        },
        "id": "YBeywtnTisMH",
        "outputId": "5bfab250-a0df-4fdd-ada3-85afa208ffeb"
      },
      "execution_count": 51,
      "outputs": [
        {
          "output_type": "error",
          "ename": "NameError",
          "evalue": "ignored",
          "traceback": [
            "\u001b[0;31m---------------------------------------------------------------------------\u001b[0m",
            "\u001b[0;31mNameError\u001b[0m                                 Traceback (most recent call last)",
            "\u001b[0;32m<ipython-input-51-bc3774b75552>\u001b[0m in \u001b[0;36m<module>\u001b[0;34m\u001b[0m\n\u001b[0;32m----> 1\u001b[0;31m \u001b[0mdf1\u001b[0m\u001b[0;34m[\u001b[0m\u001b[0;34m'day_of_week'\u001b[0m\u001b[0;34m]\u001b[0m \u001b[0;34m=\u001b[0m \u001b[0mdf1\u001b[0m\u001b[0;34m[\u001b[0m\u001b[0;34m'day'\u001b[0m\u001b[0;34m]\u001b[0m\u001b[0;34m.\u001b[0m\u001b[0mapply\u001b[0m\u001b[0;34m(\u001b[0m\u001b[0;32mlambda\u001b[0m \u001b[0mx\u001b[0m\u001b[0;34m:\u001b[0m\u001b[0mcalendar\u001b[0m\u001b[0;34m.\u001b[0m\u001b[0mday_name\u001b[0m\u001b[0;34m[\u001b[0m\u001b[0mx\u001b[0m\u001b[0;34m.\u001b[0m\u001b[0mweekday\u001b[0m\u001b[0;34m(\u001b[0m\u001b[0;34m)\u001b[0m\u001b[0;34m]\u001b[0m\u001b[0;34m)\u001b[0m\u001b[0;34m\u001b[0m\u001b[0;34m\u001b[0m\u001b[0m\n\u001b[0m",
            "\u001b[0;32m/usr/local/lib/python3.8/dist-packages/pandas/core/series.py\u001b[0m in \u001b[0;36mapply\u001b[0;34m(self, func, convert_dtype, args, **kwargs)\u001b[0m\n\u001b[1;32m   4355\u001b[0m         \u001b[0mdtype\u001b[0m\u001b[0;34m:\u001b[0m \u001b[0mfloat64\u001b[0m\u001b[0;34m\u001b[0m\u001b[0;34m\u001b[0m\u001b[0m\n\u001b[1;32m   4356\u001b[0m         \"\"\"\n\u001b[0;32m-> 4357\u001b[0;31m         \u001b[0;32mreturn\u001b[0m \u001b[0mSeriesApply\u001b[0m\u001b[0;34m(\u001b[0m\u001b[0mself\u001b[0m\u001b[0;34m,\u001b[0m \u001b[0mfunc\u001b[0m\u001b[0;34m,\u001b[0m \u001b[0mconvert_dtype\u001b[0m\u001b[0;34m,\u001b[0m \u001b[0margs\u001b[0m\u001b[0;34m,\u001b[0m \u001b[0mkwargs\u001b[0m\u001b[0;34m)\u001b[0m\u001b[0;34m.\u001b[0m\u001b[0mapply\u001b[0m\u001b[0;34m(\u001b[0m\u001b[0;34m)\u001b[0m\u001b[0;34m\u001b[0m\u001b[0;34m\u001b[0m\u001b[0m\n\u001b[0m\u001b[1;32m   4358\u001b[0m \u001b[0;34m\u001b[0m\u001b[0m\n\u001b[1;32m   4359\u001b[0m     def _reduce(\n",
            "\u001b[0;32m/usr/local/lib/python3.8/dist-packages/pandas/core/apply.py\u001b[0m in \u001b[0;36mapply\u001b[0;34m(self)\u001b[0m\n\u001b[1;32m   1041\u001b[0m             \u001b[0;32mreturn\u001b[0m \u001b[0mself\u001b[0m\u001b[0;34m.\u001b[0m\u001b[0mapply_str\u001b[0m\u001b[0;34m(\u001b[0m\u001b[0;34m)\u001b[0m\u001b[0;34m\u001b[0m\u001b[0;34m\u001b[0m\u001b[0m\n\u001b[1;32m   1042\u001b[0m \u001b[0;34m\u001b[0m\u001b[0m\n\u001b[0;32m-> 1043\u001b[0;31m         \u001b[0;32mreturn\u001b[0m \u001b[0mself\u001b[0m\u001b[0;34m.\u001b[0m\u001b[0mapply_standard\u001b[0m\u001b[0;34m(\u001b[0m\u001b[0;34m)\u001b[0m\u001b[0;34m\u001b[0m\u001b[0;34m\u001b[0m\u001b[0m\n\u001b[0m\u001b[1;32m   1044\u001b[0m \u001b[0;34m\u001b[0m\u001b[0m\n\u001b[1;32m   1045\u001b[0m     \u001b[0;32mdef\u001b[0m \u001b[0magg\u001b[0m\u001b[0;34m(\u001b[0m\u001b[0mself\u001b[0m\u001b[0;34m)\u001b[0m\u001b[0;34m:\u001b[0m\u001b[0;34m\u001b[0m\u001b[0;34m\u001b[0m\u001b[0m\n",
            "\u001b[0;32m/usr/local/lib/python3.8/dist-packages/pandas/core/apply.py\u001b[0m in \u001b[0;36mapply_standard\u001b[0;34m(self)\u001b[0m\n\u001b[1;32m   1096\u001b[0m                 \u001b[0;31m# List[Union[Callable[..., Any], str]]]]]\"; expected\u001b[0m\u001b[0;34m\u001b[0m\u001b[0;34m\u001b[0m\u001b[0;34m\u001b[0m\u001b[0m\n\u001b[1;32m   1097\u001b[0m                 \u001b[0;31m# \"Callable[[Any], Any]\"\u001b[0m\u001b[0;34m\u001b[0m\u001b[0;34m\u001b[0m\u001b[0;34m\u001b[0m\u001b[0m\n\u001b[0;32m-> 1098\u001b[0;31m                 mapped = lib.map_infer(\n\u001b[0m\u001b[1;32m   1099\u001b[0m                     \u001b[0mvalues\u001b[0m\u001b[0;34m,\u001b[0m\u001b[0;34m\u001b[0m\u001b[0;34m\u001b[0m\u001b[0m\n\u001b[1;32m   1100\u001b[0m                     \u001b[0mf\u001b[0m\u001b[0;34m,\u001b[0m  \u001b[0;31m# type: ignore[arg-type]\u001b[0m\u001b[0;34m\u001b[0m\u001b[0;34m\u001b[0m\u001b[0m\n",
            "\u001b[0;32m/usr/local/lib/python3.8/dist-packages/pandas/_libs/lib.pyx\u001b[0m in \u001b[0;36mpandas._libs.lib.map_infer\u001b[0;34m()\u001b[0m\n",
            "\u001b[0;32m<ipython-input-51-bc3774b75552>\u001b[0m in \u001b[0;36m<lambda>\u001b[0;34m(x)\u001b[0m\n\u001b[0;32m----> 1\u001b[0;31m \u001b[0mdf1\u001b[0m\u001b[0;34m[\u001b[0m\u001b[0;34m'day_of_week'\u001b[0m\u001b[0;34m]\u001b[0m \u001b[0;34m=\u001b[0m \u001b[0mdf1\u001b[0m\u001b[0;34m[\u001b[0m\u001b[0;34m'day'\u001b[0m\u001b[0;34m]\u001b[0m\u001b[0;34m.\u001b[0m\u001b[0mapply\u001b[0m\u001b[0;34m(\u001b[0m\u001b[0;32mlambda\u001b[0m \u001b[0mx\u001b[0m\u001b[0;34m:\u001b[0m\u001b[0mcalendar\u001b[0m\u001b[0;34m.\u001b[0m\u001b[0mday_name\u001b[0m\u001b[0;34m[\u001b[0m\u001b[0mx\u001b[0m\u001b[0;34m.\u001b[0m\u001b[0mweekday\u001b[0m\u001b[0;34m(\u001b[0m\u001b[0;34m)\u001b[0m\u001b[0;34m]\u001b[0m\u001b[0;34m)\u001b[0m\u001b[0;34m\u001b[0m\u001b[0;34m\u001b[0m\u001b[0m\n\u001b[0m",
            "\u001b[0;31mNameError\u001b[0m: name 'calendar' is not defined"
          ]
        }
      ]
    },
    {
      "cell_type": "code",
      "source": [],
      "metadata": {
        "id": "N1_NX0RZj3Ti"
      },
      "execution_count": null,
      "outputs": []
    },
    {
      "cell_type": "code",
      "source": [
        "# Group the data by day of the week and calculate the sum of gross sales, net sales, and total sales\n",
        "sales_by_day = df1.groupby('day_of_week').agg({'gross_sales': 'sum', 'net_sales': 'sum', 'total_sales': 'sum'}).reset_index()"
      ],
      "metadata": {
        "id": "w4zgF2kZh0ag"
      },
      "execution_count": 44,
      "outputs": []
    },
    {
      "cell_type": "code",
      "source": [
        "print(sales_by_day)"
      ],
      "metadata": {
        "colab": {
          "base_uri": "https://localhost:8080/"
        },
        "id": "wMDRsF5siXdu",
        "outputId": "0c0946c7-22c8-4389-9947-2c354e82c8fa"
      },
      "execution_count": 45,
      "outputs": [
        {
          "output_type": "stream",
          "name": "stdout",
          "text": [
            "   day_of_week  gross_sales   net_sales  total_sales\n",
            "0            0   8941011.67  7551942.20   9037871.63\n",
            "1            1   8607141.32  7371839.68   8821620.79\n",
            "2            2   8615182.21  7274619.64   8706155.21\n",
            "3            3   8745955.40  7481514.73   8959870.63\n",
            "4            4   8645213.17  7353070.58   8804193.87\n",
            "5            5   8281717.64  7149383.94   8559785.63\n",
            "6            6   8538548.84  7466749.74   8950428.14\n"
          ]
        }
      ]
    },
    {
      "cell_type": "code",
      "source": [
        "import matplotlib.pyplot as plt\n",
        "\n",
        "sales_by_day.plot(x='day_of_week', y=['gross_sales', 'net_sales', 'total_sales'], kind='bar')\n",
        "plt.show()"
      ],
      "metadata": {
        "colab": {
          "base_uri": "https://localhost:8080/",
          "height": 288
        },
        "id": "oTQYGbm4is6-",
        "outputId": "c8c4693b-df5b-4cb1-d78b-10001210e60b"
      },
      "execution_count": 48,
      "outputs": [
        {
          "output_type": "display_data",
          "data": {
            "text/plain": [
              "<Figure size 432x288 with 1 Axes>"
            ],
            "image/png": "[encoded data removed]"
          },
          "metadata": {
            "needs_background": "light"
          }
        }
      ]
    },
    {
      "cell_type": "code",
      "source": [
        "# Group the data by product type and calculate the sum of orders and gross sales\n",
        "pop_prod_type = df1.groupby('product_type').agg({'orders': 'sum', 'gross_sales': 'sum'}).reset_index()"
      ],
      "metadata": {
        "id": "QB_KULkkj4Ah"
      },
      "execution_count": 52,
      "outputs": []
    },
    {
      "cell_type": "code",
      "source": [
        "# Sort the resulting DataFrame by gross sales in descending order\n",
        "pop_prod_type = pop_prod_type.sort_values(by='gross_sales', ascending=False)"
      ],
      "metadata": {
        "id": "wKjspQZqj_44"
      },
      "execution_count": 53,
      "outputs": []
    },
    {
      "cell_type": "code",
      "source": [
        "# Print the top 5 most popular product types\n",
        "print(pop_prod_type.head(5))"
      ],
      "metadata": {
        "colab": {
          "base_uri": "https://localhost:8080/"
        },
        "id": "KjUk6tmBkF7f",
        "outputId": "6c924f0d-2779-4cfe-d958-036a7d5d24ea"
      },
      "execution_count": 54,
      "outputs": [
        {
          "output_type": "stream",
          "name": "stdout",
          "text": [
            "               product_type  orders  gross_sales\n",
            "181  Maternity Casual Dress    2675   3739621.71\n",
            "187          Maternity Gown    1457   2811097.16\n",
            "293           Twinning Tees    5832   2688845.61\n",
            "185    Maternity Ethnic Set    1166   2435914.29\n",
            "47         Baby Pyjamas Set    2336   2380975.06\n"
          ]
        }
      ]
    },
    {
      "cell_type": "code",
      "source": [
        "# Group the data by product title and calculate the sum of orders and gross sales\n",
        "pop_prod_title = df1.groupby('product_title').agg({'orders': 'sum', 'gross_sales': 'sum'}).reset_index()"
      ],
      "metadata": {
        "id": "rggfrjUakLfP"
      },
      "execution_count": 56,
      "outputs": []
    },
    {
      "cell_type": "code",
      "source": [
        "# Sort the resulting DataFrame by gross sales in descending order\n",
        "pop_prod_title = pop_prod_title.sort_values(by='gross_sales', ascending=False)"
      ],
      "metadata": {
        "id": "owaidbaMkR6n"
      },
      "execution_count": 57,
      "outputs": []
    },
    {
      "cell_type": "code",
      "source": [
        "# Print the top 5 most popular product titles\n",
        "print(pop_prod_title.head(5))"
      ],
      "metadata": {
        "colab": {
          "base_uri": "https://localhost:8080/"
        },
        "id": "zbcyjrgCkVxv",
        "outputId": "3fe745ee-7276-4f5a-ad1a-6bcf0b644b2f"
      },
      "execution_count": 58,
      "outputs": [
        {
          "output_type": "stream",
          "name": "stdout",
          "text": [
            "                              product_title  orders  gross_sales\n",
            "825          Comfy Maternity Leggings Black     999   1054894.18\n",
            "828   Comfy Maternity Regular Pants - Black     589    659167.34\n",
            "2148     Nursing Pumping Bra Grey-Hand Free     528    560602.52\n",
            "2147    Nursing Pumping Bra Black-Hand Free     499    527538.76\n",
            "2707              Rule Changer Mens T shirt    1133    522231.31\n"
          ]
        }
      ]
    },
    {
      "cell_type": "code",
      "source": [
        "pop_prod_type.head(5).plot(x='product_type', y=['orders', 'gross_sales'], kind='bar')\n",
        "plt.show()"
      ],
      "metadata": {
        "colab": {
          "base_uri": "https://localhost:8080/",
          "height": 397
        },
        "id": "geL3WXnNkeFg",
        "outputId": "91c35726-1142-480b-b0d5-54d700ca9f92"
      },
      "execution_count": 59,
      "outputs": [
        {
          "output_type": "display_data",
          "data": {
            "text/plain": [
              "<Figure size 432x288 with 1 Axes>"
            ],
            "image/png": "[encoded data removed]"
          },
          "metadata": {
            "needs_background": "light"
          }
        }
      ]
    },
    {
      "cell_type": "code",
      "source": [
        "pop_prod_title.head(5).plot(x='product_title', y=['orders', 'gross_sales'], kind='bar')\n",
        "plt.show()"
      ],
      "metadata": {
        "colab": {
          "base_uri": "https://localhost:8080/",
          "height": 473
        },
        "id": "RYNM3ED_koiB",
        "outputId": "edecc6be-982d-4067-8e9b-0ac72bf1407e"
      },
      "execution_count": 60,
      "outputs": [
        {
          "output_type": "display_data",
          "data": {
            "text/plain": [
              "<Figure size 432x288 with 1 Axes>"
            ],
            "image/png": "[encoded data removed]"
          },
          "metadata": {
            "needs_background": "light"
          }
        }
      ]
    },
    {
      "cell_type": "markdown",
      "source": [
        "Here's an example of how you might analyze shipping and return patterns by customer_id to identify repeat customers and customer loyalty patterns using Python and the pandas library:\n",
        "\n"
      ],
      "metadata": {
        "id": "CqCTRR67lot3"
      }
    },
    {
      "cell_type": "code",
      "source": [
        "# Group the data by customer_id and calculate the sum of orders, net_sales, shipping, and returns\n",
        "cust_shipping_returns = df1.groupby('customer_id').agg({'orders': 'sum', 'net_sales': 'sum', 'shipping': 'sum', 'returns': 'sum'}).reset_index()"
      ],
      "metadata": {
        "id": "Sj4veOMGljw5"
      },
      "execution_count": 61,
      "outputs": []
    },
    {
      "cell_type": "code",
      "source": [
        "# Identify repeat customers by filtering for customers with more than 1 order\n",
        "repeat_cust = cust_shipping_returns[cust_shipping_returns['orders'] > 1]"
      ],
      "metadata": {
        "id": "Vqi8O-Jblygu"
      },
      "execution_count": 62,
      "outputs": []
    },
    {
      "cell_type": "code",
      "source": [
        "# Print the percentage of repeat customers\n",
        "print(\"Percentage of repeat customers:\", len(repeat_cust) / len(cust_shipping_returns) * 100)"
      ],
      "metadata": {
        "colab": {
          "base_uri": "https://localhost:8080/"
        },
        "id": "RIYHsMMjl2vA",
        "outputId": "8036ea13-e228-4f32-ae1a-477d217e93c2"
      },
      "execution_count": 63,
      "outputs": [
        {
          "output_type": "stream",
          "name": "stdout",
          "text": [
            "Percentage of repeat customers: 93.93939393939394\n"
          ]
        }
      ]
    },
    {
      "cell_type": "code",
      "source": [
        "# Identify customer loyalty patterns by calculating the ratio of net_sales to shipping and returns\n",
        "cust_shipping_returns['net_sales_ratio'] = cust_shipping_returns['net_sales'] / (cust_shipping_returns['shipping'] + cust_shipping_returns['returns'])"
      ],
      "metadata": {
        "id": "Fdbe785xl-0o"
      },
      "execution_count": 64,
      "outputs": []
    },
    {
      "cell_type": "code",
      "source": [
        "# Print the top 5 customers with the highest net_sales_ratio\n",
        "print(cust_shipping_returns.sort_values(by='net_sales_ratio', ascending=False).head(5))"
      ],
      "metadata": {
        "colab": {
          "base_uri": "https://localhost:8080/"
        },
        "id": "Dg1kI4JemDyJ",
        "outputId": "126a7337-d7c3-4b7b-e510-e497ac3229b2"
      },
      "execution_count": 65,
      "outputs": [
        {
          "output_type": "stream",
          "name": "stdout",
          "text": [
            "      customer_id  orders  net_sales  shipping  returns  net_sales_ratio\n",
            "173  4.410000e+12       1    1389.14         0      0.0              inf\n",
            "70   2.290000e+12       7    6459.88         0      0.0              inf\n",
            "218  5.200000e+12       7    8002.64         0      0.0              inf\n",
            "59   2.110000e+12      11    8491.57         0      0.0              inf\n",
            "170  4.360000e+12       6    5241.21         0      0.0              inf\n"
          ]
        }
      ]
    },
    {
      "cell_type": "code",
      "source": [
        "\n",
        "plt.figure(figsize=(20,10))\n",
        "cust_shipping_returns.plot(x='customer_id', y=['net_sales','shipping','returns'], kind='bar')\n",
        "plt.show()"
      ],
      "metadata": {
        "colab": {
          "base_uri": "https://localhost:8080/",
          "height": 389
        },
        "id": "FrxununxmO83",
        "outputId": "c5614a03-d73c-4745-b746-35ee9d9562b6"
      },
      "execution_count": 71,
      "outputs": [
        {
          "output_type": "display_data",
          "data": {
            "text/plain": [
              "<Figure size 1440x720 with 0 Axes>"
            ]
          },
          "metadata": {}
        },
        {
          "output_type": "display_data",
          "data": {
            "text/plain": [
              "<Figure size 432x288 with 1 Axes>"
            ],
            "image/png": "[encoded data removed]"
          },
          "metadata": {
            "needs_background": "light"
          }
        }
      ]
    },
    {
      "cell_type": "markdown",
      "source": [
        "Here's an example of how you might analyze which regions or cities tend to have the most sales and the highest net sales and total sales by analyzing the shipping_region and shipping_city columns using Python and the pandas library:"
      ],
      "metadata": {
        "id": "ZS4p-bo9oDr3"
      }
    },
    {
      "cell_type": "code",
      "source": [
        "# Group the data by shipping_region and calculate the sum of orders, gross_sales, net_sales, and total_sales\n",
        "region_sales = df1.groupby('shipping_region').agg({'orders': 'sum', 'gross_sales': 'sum', 'net_sales': 'sum', 'total_sales': 'sum'}).reset_index()"
      ],
      "metadata": {
        "id": "SCJx09WaoHwX"
      },
      "execution_count": 73,
      "outputs": []
    },
    {
      "cell_type": "code",
      "source": [
        "# Print the top 5 regions with the most sales\n",
        "print(region_sales.sort_values(by='orders', ascending=False).head(5))"
      ],
      "metadata": {
        "colab": {
          "base_uri": "https://localhost:8080/"
        },
        "id": "914OkAR7oR5O",
        "outputId": "b6c59925-ca52-47bc-dab3-c2d2fc39b85c"
      },
      "execution_count": 74,
      "outputs": [
        {
          "output_type": "stream",
          "name": "stdout",
          "text": [
            "   shipping_region  orders  gross_sales   net_sales  total_sales\n",
            "32     Maharashtra    8483   9734410.94  8428987.71  10050609.18\n",
            "28       Karnataka    8011   8997654.59  7607123.65   9145644.92\n",
            "15           Delhi    4608   5540842.80  4779784.17   5694058.97\n",
            "48      Tamil Nadu    4393   5058385.71  4367381.05   5232021.00\n",
            "53   Uttar Pradesh    3560   4121467.78  3447350.73   4121509.39\n"
          ]
        }
      ]
    },
    {
      "cell_type": "code",
      "source": [
        "# Print the top 5 regions with the highest net sales\n",
        "print(region_sales.sort_values(by='net_sales', ascending=False).head(5))"
      ],
      "metadata": {
        "colab": {
          "base_uri": "https://localhost:8080/"
        },
        "id": "wSCgleX1oUBe",
        "outputId": "72c3ad5b-f6b8-4e8c-ecec-f7e0aa8d6eb7"
      },
      "execution_count": 75,
      "outputs": [
        {
          "output_type": "stream",
          "name": "stdout",
          "text": [
            "   shipping_region  orders  gross_sales   net_sales  total_sales\n",
            "32     Maharashtra    8483   9734410.94  8428987.71  10050609.18\n",
            "28       Karnataka    8011   8997654.59  7607123.65   9145644.92\n",
            "15           Delhi    4608   5540842.80  4779784.17   5694058.97\n",
            "48      Tamil Nadu    4393   5058385.71  4367381.05   5232021.00\n",
            "53   Uttar Pradesh    3560   4121467.78  3447350.73   4121509.39\n"
          ]
        }
      ]
    },
    {
      "cell_type": "code",
      "source": [
        "# Print the top 5 regions with the highest total sales\n",
        "print(region_sales.sort_values(by='total_sales', ascending=False).head(5))"
      ],
      "metadata": {
        "colab": {
          "base_uri": "https://localhost:8080/"
        },
        "id": "tiyZAVSKoZtP",
        "outputId": "f5a05372-b217-4aa4-ffca-51066b25fcf6"
      },
      "execution_count": 76,
      "outputs": [
        {
          "output_type": "stream",
          "name": "stdout",
          "text": [
            "   shipping_region  orders  gross_sales   net_sales  total_sales\n",
            "32     Maharashtra    8483   9734410.94  8428987.71  10050609.18\n",
            "28       Karnataka    8011   8997654.59  7607123.65   9145644.92\n",
            "15           Delhi    4608   5540842.80  4779784.17   5694058.97\n",
            "48      Tamil Nadu    4393   5058385.71  4367381.05   5232021.00\n",
            "53   Uttar Pradesh    3560   4121467.78  3447350.73   4121509.39\n"
          ]
        }
      ]
    },
    {
      "cell_type": "code",
      "source": [
        "# Group the data by shipping_city and calculate the sum of orders, gross_sales, net_sales, and total_sales\n",
        "city_sales = df1.groupby('shipping_city').agg({'orders': 'sum', 'gross_sales': 'sum', 'net_sales': 'sum', 'total_sales': 'sum'}).reset_index()"
      ],
      "metadata": {
        "id": "oGxAnqqFpZIQ"
      },
      "execution_count": 79,
      "outputs": []
    },
    {
      "cell_type": "code",
      "source": [
        "# Print the top 5 cities with the most sales\n",
        "print(city_sales.sort_values(by='orders', ascending=False).head(5))"
      ],
      "metadata": {
        "colab": {
          "base_uri": "https://localhost:8080/"
        },
        "id": "7S6idhicpd34",
        "outputId": "344c79b4-0613-4bc9-f042-edc9df906007"
      },
      "execution_count": 80,
      "outputs": [
        {
          "output_type": "stream",
          "name": "stdout",
          "text": [
            "     shipping_city  orders  gross_sales   net_sales  total_sales\n",
            "2379        Mumbai    3709   4468462.40  3875919.85   4612924.72\n",
            "466      Bengaluru    3593   4056583.52  3337893.63   4002944.89\n",
            "2593     New Delhi    2508   3109778.37  2710330.19   3228115.19\n",
            "335      Bangalore    2486   2831303.65  2439447.12   2933400.94\n",
            "1374     Hyderabad    2220   2480759.76  2126370.84   2539911.85\n"
          ]
        }
      ]
    },
    {
      "cell_type": "code",
      "source": [
        "# Print the top 5 cities with the highest net sales\n",
        "print(city_sales.sort_values(by='net_sales', ascending=False).head(5))\n",
        "\n"
      ],
      "metadata": {
        "colab": {
          "base_uri": "https://localhost:8080/"
        },
        "id": "sHp1DUTopm3I",
        "outputId": "4bec8294-085e-4bcd-da97-7575d5744c95"
      },
      "execution_count": 81,
      "outputs": [
        {
          "output_type": "stream",
          "name": "stdout",
          "text": [
            "     shipping_city  orders  gross_sales   net_sales  total_sales\n",
            "2379        Mumbai    3709   4468462.40  3875919.85   4612924.72\n",
            "466      Bengaluru    3593   4056583.52  3337893.63   4002944.89\n",
            "2593     New Delhi    2508   3109778.37  2710330.19   3228115.19\n",
            "335      Bangalore    2486   2831303.65  2439447.12   2933400.94\n",
            "1374     Hyderabad    2220   2480759.76  2126370.84   2539911.85\n"
          ]
        }
      ]
    },
    {
      "cell_type": "code",
      "source": [
        "# Print the top 5 cities with the highest total sales\n",
        "print(city_sales.sort_values(by='total_sales', ascending=False).head(5))"
      ],
      "metadata": {
        "colab": {
          "base_uri": "https://localhost:8080/"
        },
        "id": "ukWbBr_fpqVh",
        "outputId": "24924093-582f-476d-9cab-7e3c8d25d143"
      },
      "execution_count": 82,
      "outputs": [
        {
          "output_type": "stream",
          "name": "stdout",
          "text": [
            "     shipping_city  orders  gross_sales   net_sales  total_sales\n",
            "2379        Mumbai    3709   4468462.40  3875919.85   4612924.72\n",
            "466      Bengaluru    3593   4056583.52  3337893.63   4002944.89\n",
            "2593     New Delhi    2508   3109778.37  2710330.19   3228115.19\n",
            "335      Bangalore    2486   2831303.65  2439447.12   2933400.94\n",
            "1374     Hyderabad    2220   2480759.76  2126370.84   2539911.85\n"
          ]
        }
      ]
    },
    {
      "cell_type": "code",
      "source": [
        "region_sales.plot(x='shipping_region', y=['orders','net_sales','total_sales'], kind='bar')\n",
        "plt.show()"
      ],
      "metadata": {
        "colab": {
          "base_uri": "https://localhost:8080/",
          "height": 432
        },
        "id": "rVeLjUWzoqUw",
        "outputId": "66105161-4fda-4aa1-d17f-006ae50007af"
      },
      "execution_count": 83,
      "outputs": [
        {
          "output_type": "display_data",
          "data": {
            "text/plain": [
              "<Figure size 432x288 with 1 Axes>"
            ],
            "image/png": "[encoded data removed]"
          },
          "metadata": {
            "needs_background": "light"
          }
        }
      ]
    },
    {
      "cell_type": "markdown",
      "source": [
        "#Analyzing the discounts, returns, and additional fees columns to determine how these factors impact gross sales, net sales, and total sales."
      ],
      "metadata": {
        "id": "HCLJisz_p7KY"
      }
    },
    {
      "cell_type": "code",
      "source": [
        "# Group data by discounts and calculate mean values for gross sales, net sales, and total sales\n",
        "discounts_impact = df1.groupby('discounts').mean()[['gross_sales', 'net_sales', 'total_sales']]\n",
        "print(discounts_impact)"
      ],
      "metadata": {
        "colab": {
          "base_uri": "https://localhost:8080/"
        },
        "id": "XyI1wQmAp8Fx",
        "outputId": "e869b3ce-bce2-4305-dbbe-a0440a27a5df"
      },
      "execution_count": 84,
      "outputs": [
        {
          "output_type": "stream",
          "name": "stdout",
          "text": [
            "            gross_sales     net_sales   total_sales\n",
            "discounts                                          \n",
            "-13552.54  42351.695000  28799.155000  33983.000000\n",
            "-10799.10  10799.100000      0.000000      0.000000\n",
            "-7032.96    7032.960000      0.000000      0.000000\n",
            "-6771.60    6771.600000      0.000000      0.000000\n",
            "-5078.24    5960.160000    881.920000   1040.660000\n",
            "...                 ...           ...           ...\n",
            "-2.96         29.654524     25.741071     30.375000\n",
            "-2.94         29.660000     26.720000     31.530000\n",
            "-2.54         25.420000     22.880000     27.000000\n",
            "-1.59         29.660000     28.070000     33.120000\n",
            " 0.00        562.541075    532.884824    647.020565\n",
            "\n",
            "[3016 rows x 3 columns]\n"
          ]
        }
      ]
    },
    {
      "cell_type": "code",
      "source": [
        "# Group data by returns and calculate mean values for gross sales, net sales, and total sales\n",
        "returns_impact = df1.groupby('returns').mean()[['gross_sales', 'net_sales', 'total_sales']]\n",
        "print(returns_impact)"
      ],
      "metadata": {
        "colab": {
          "base_uri": "https://localhost:8080/"
        },
        "id": "VkOb8drTqsTI",
        "outputId": "2e9dacbc-b343-4919-d79f-2a4a7ba7754b"
      },
      "execution_count": 86,
      "outputs": [
        {
          "output_type": "stream",
          "name": "stdout",
          "text": [
            "           gross_sales  net_sales  total_sales\n",
            "returns                                       \n",
            "-35163.69     35163.69       0.00         0.00\n",
            "-16779.66         0.00  -16779.66    -19800.00\n",
            "-16423.06     19321.23       0.00         0.00\n",
            "-12703.39     12703.39       0.00         0.00\n",
            "-11955.52     16779.67    4194.92      4950.00\n",
            "...                ...        ...          ...\n",
            " 11932.59         0.00   11932.59     11932.59\n",
            " 12749.25         0.00   12749.25     12749.25\n",
            " 12770.00         0.00   12770.00     12770.00\n",
            " 17990.10         0.00   17990.10     17990.10\n",
            " 19579.20         0.00   19579.20     19579.20\n",
            "\n",
            "[904 rows x 3 columns]\n"
          ]
        }
      ]
    },
    {
      "cell_type": "code",
      "source": [
        "# Group data by additional fees and calculate mean values for gross sales, net sales, and total sales\n",
        "additional_fees_impact = df1.groupby('additional_fees').mean()[['gross_sales', 'net_sales', 'total_sales']]\n",
        "print(additional_fees_impact)\n",
        "\n",
        "\n",
        "\n",
        "\n",
        "\n"
      ],
      "metadata": {
        "colab": {
          "base_uri": "https://localhost:8080/"
        },
        "id": "1kY0OlI0qya6",
        "outputId": "8abc8169-4d6b-42ed-c2db-d0b192916677"
      },
      "execution_count": 88,
      "outputs": [
        {
          "output_type": "stream",
          "name": "stdout",
          "text": [
            "                 gross_sales  net_sales  total_sales\n",
            "additional_fees                                     \n",
            "0                 786.641958  672.95271   805.731934\n"
          ]
        }
      ]
    },
    {
      "cell_type": "code",
      "source": [],
      "metadata": {
        "id": "GptgVHY9rJPr"
      },
      "execution_count": null,
      "outputs": []
    },
    {
      "cell_type": "markdown",
      "source": [
        "#Analyzing the taxes column to identify how taxes impact total sales."
      ],
      "metadata": {
        "id": "pO1io41JrJyi"
      }
    },
    {
      "cell_type": "code",
      "source": [
        "# Group data by taxes and calculate mean values for total sales\n",
        "taxes_impact = df1.groupby('taxes').mean()[['total_sales']]\n",
        "print(taxes_impact)"
      ],
      "metadata": {
        "colab": {
          "base_uri": "https://localhost:8080/"
        },
        "id": "FThjImeerLTS",
        "outputId": "4842b070-5ef2-420c-e1fc-5336b13a9012"
      },
      "execution_count": 89,
      "outputs": [
        {
          "output_type": "stream",
          "name": "stdout",
          "text": [
            "          total_sales\n",
            "taxes                \n",
            "-3020.34    -19800.00\n",
            "-1970.85    -12920.00\n",
            "-1906.63    -12499.00\n",
            "-1754.08    -11499.00\n",
            "-1666.38    -10924.05\n",
            "...               ...\n",
            " 3501.75     22955.90\n",
            " 3813.25     24998.00\n",
            " 4347.31     28499.05\n",
            " 5183.84     33983.00\n",
            " 5183.85     33983.00\n",
            "\n",
            "[4013 rows x 1 columns]\n"
          ]
        }
      ]
    },
    {
      "cell_type": "markdown",
      "source": [
        "#Analyzing the ordered_item_quantity column to understand how many items of each product were ordered."
      ],
      "metadata": {
        "id": "amsVlYAgraDn"
      }
    },
    {
      "cell_type": "code",
      "source": [
        "# Group data by ordered_item_quantity and count the number of occurrences for each product type\n",
        "product_quantity = df1.groupby(['product_type','product_title','ordered_item_quantity']).size().reset_index(name='counts')\n"
      ],
      "metadata": {
        "id": "ixobvU7yrbe0"
      },
      "execution_count": 90,
      "outputs": []
    },
    {
      "cell_type": "code",
      "source": [
        "print(product_quantity)"
      ],
      "metadata": {
        "colab": {
          "base_uri": "https://localhost:8080/"
        },
        "id": "L6jjhaPzrpMH",
        "outputId": "a5aefed5-b0c3-4a38-d877-30e95300060e"
      },
      "execution_count": 91,
      "outputs": [
        {
          "output_type": "stream",
          "name": "stdout",
          "text": [
            "     product_type                                      product_title  \\\n",
            "0           False  100% Certified Natural Ubtan Sunni Pindi, Bath...   \n",
            "1           False  100% Natural Cold Pressed Virgin Coconut Oil f...   \n",
            "2           False  100% Natural Cold Pressed Virgin Coconut Oil f...   \n",
            "3           False  100% Natural Cold Pressed Virgin Sesame (Til) ...   \n",
            "4           False  100% Natural Origin Cold Pressed Castor Oil fo...   \n",
            "...           ...                                                ...   \n",
            "7678  Wooden Toys               Wooden Pebble Stacking Toy - Rainbow   \n",
            "7679  Wooden Toys          Wooden Pop-Up Toaster Set - Pastel Purple   \n",
            "7680  Wooden Toys                  Wooden Pop-Up Toaster Set - White   \n",
            "7681  Wooden Toys                          Wooden Sensory Play Tools   \n",
            "7682  Wooden Toys                                  Wooden lagori set   \n",
            "\n",
            "      ordered_item_quantity  counts  \n",
            "0                         0       5  \n",
            "1                         0       3  \n",
            "2                         0       8  \n",
            "3                         0       1  \n",
            "4                         0       2  \n",
            "...                     ...     ...  \n",
            "7678                      1       1  \n",
            "7679                      1       2  \n",
            "7680                      1       1  \n",
            "7681                      1       2  \n",
            "7682                      1       1  \n",
            "\n",
            "[7683 rows x 4 columns]\n"
          ]
        }
      ]
    },
    {
      "cell_type": "code",
      "source": [],
      "metadata": {
        "id": "g3VQ4K4FuWDc"
      },
      "execution_count": null,
      "outputs": []
    },
    {
      "cell_type": "markdown",
      "source": [
        "prediction of model for product"
      ],
      "metadata": {
        "id": "gzob-pzyuCfA"
      }
    },
    {
      "cell_type": "code",
      "source": [
        "df1.info()"
      ],
      "metadata": {
        "colab": {
          "base_uri": "https://localhost:8080/"
        },
        "id": "zW6rS_SOuTiv",
        "outputId": "4f8686ba-aee5-4a36-a359-66c3882d66cb"
      },
      "execution_count": 96,
      "outputs": [
        {
          "output_type": "stream",
          "name": "stdout",
          "text": [
            "<class 'pandas.core.frame.DataFrame'>\n",
            "Int64Index: 76750 entries, 0 to 83355\n",
            "Data columns (total 18 columns):\n",
            " #   Column                 Non-Null Count  Dtype         \n",
            "---  ------                 --------------  -----         \n",
            " 0   day                    76750 non-null  datetime64[ns]\n",
            " 1   customer_id            76750 non-null  float64       \n",
            " 2   product_type           76750 non-null  object        \n",
            " 3   product_title          76750 non-null  object        \n",
            " 4   shipping_city          76573 non-null  object        \n",
            " 5   shipping_region        76358 non-null  object        \n",
            " 6   orders                 76750 non-null  int64         \n",
            " 7   gross_sales            76750 non-null  float64       \n",
            " 8   discounts              76750 non-null  float64       \n",
            " 9   returns                76750 non-null  float64       \n",
            " 10  net_sales              76750 non-null  float64       \n",
            " 11  shipping               76750 non-null  int64         \n",
            " 12  duties                 76750 non-null  int64         \n",
            " 13  additional_fees        76750 non-null  int64         \n",
            " 14  taxes                  76750 non-null  float64       \n",
            " 15  total_sales            76750 non-null  float64       \n",
            " 16  ordered_item_quantity  76750 non-null  int64         \n",
            " 17  day_of_week            76750 non-null  int64         \n",
            "dtypes: datetime64[ns](1), float64(7), int64(6), object(4)\n",
            "memory usage: 11.1+ MB\n"
          ]
        }
      ]
    },
    {
      "cell_type": "code",
      "source": [
        "df1['day_of_week'].unique()"
      ],
      "metadata": {
        "colab": {
          "base_uri": "https://localhost:8080/"
        },
        "id": "2rNUP-WdwRK3",
        "outputId": "9ccf9fb9-00a7-4795-9743-bad4a6c5b04b"
      },
      "execution_count": 102,
      "outputs": [
        {
          "output_type": "execute_result",
          "data": {
            "text/plain": [
              "array([5, 1, 4, 6, 2, 0, 3])"
            ]
          },
          "metadata": {},
          "execution_count": 102
        }
      ]
    },
    {
      "cell_type": "code",
      "source": [
        "X = df1[['gross_sales' , 'net_sales' , 'total_sales']]\n",
        "y = df1['day_of_week']"
      ],
      "metadata": {
        "id": "BBI-jyhgwnVp"
      },
      "execution_count": 103,
      "outputs": []
    },
    {
      "cell_type": "code",
      "source": [],
      "metadata": {
        "id": "rtBKYu-jyF1T"
      },
      "execution_count": null,
      "outputs": []
    },
    {
      "cell_type": "code",
      "source": [
        "#split the bdata into train and test\n",
        "from sklearn.model_selection import train_test_split\n",
        "\n",
        "X_train,X_test,y_train,y_test = train_test_split(X,y, test_size=0.3,)\n",
        "\n",
        "print(\"X_train := \", X_train.shape)\n",
        "print(\"X_test := \", X_test.shape)\n",
        "print(\"y_train := \", y_train.shape)\n",
        "print(\"y_test := \", y_test.shape)"
      ],
      "metadata": {
        "colab": {
          "base_uri": "https://localhost:8080/"
        },
        "id": "0FLQ4pCuw_H4",
        "outputId": "cb211a4a-b248-4f3f-c27c-8897e2c17e7e"
      },
      "execution_count": 105,
      "outputs": [
        {
          "output_type": "stream",
          "name": "stdout",
          "text": [
            "X_train :=  (53725, 3)\n",
            "X_test :=  (23025, 3)\n",
            "y_train :=  (53725,)\n",
            "y_test :=  (23025,)\n"
          ]
        }
      ]
    },
    {
      "cell_type": "code",
      "source": [
        "from sklearn.neighbors import KNeighborsClassifier\n",
        "\n",
        "#model creation\n",
        "model = KNeighborsClassifier(n_neighbors=5)\n",
        "print(\"model created... !!!\")\n",
        "\n",
        "#Model Training\n",
        "model.fit(X_train,y_train)\n",
        "print(\"Model trained ...!!!\")\n",
        "\n",
        "#finding pred on test data\n",
        "y_pred = model.predict(X_test)\n",
        "print(\"Y_prediction done\")\n",
        "\n",
        "from sklearn.metrics import accuracy_score\n",
        "acc = accuracy_score(y_pred,y_test)\n",
        "print(\"Accuracy :- \", acc*100)\n"
      ],
      "metadata": {
        "colab": {
          "base_uri": "https://localhost:8080/"
        },
        "id": "L3XRnpW1xL5v",
        "outputId": "006d245f-46f5-4003-da47-2d0d3fa93a2d"
      },
      "execution_count": 106,
      "outputs": [
        {
          "output_type": "stream",
          "name": "stdout",
          "text": [
            "model created... !!!\n",
            "Model trained ...!!!\n",
            "Y_prediction done\n",
            "Accuracy :-  15.105320304017372\n"
          ]
        }
      ]
    },
    {
      "cell_type": "markdown",
      "source": [
        "second prediction "
      ],
      "metadata": {
        "id": "4xlAz0CuxzQP"
      }
    },
    {
      "cell_type": "code",
      "source": [
        " "
      ],
      "metadata": {
        "id": "1mzgVJlwx3Ey"
      },
      "execution_count": null,
      "outputs": []
    },
    {
      "cell_type": "code",
      "source": [
        "X = df1[['orders' , 'gross_sales' ]]\n",
        "y = df1['product_title']"
      ],
      "metadata": {
        "id": "Ijg0lbdRyG7h"
      },
      "execution_count": 107,
      "outputs": []
    },
    {
      "cell_type": "code",
      "source": [
        "#split the bdata into train and test\n",
        "from sklearn.model_selection import train_test_split\n",
        "\n",
        "X_train,X_test,y_train,y_test = train_test_split(X,y, test_size=0.3,)\n",
        "\n",
        "print(\"X_train := \", X_train.shape)\n",
        "print(\"X_test := \", X_test.shape)\n",
        "print(\"y_train := \", y_train.shape)\n",
        "print(\"y_test := \", y_test.shape)"
      ],
      "metadata": {
        "colab": {
          "base_uri": "https://localhost:8080/"
        },
        "id": "bKoD8uALySDZ",
        "outputId": "2e4ed6b9-4721-418c-fc15-fe82d3bbe6dd"
      },
      "execution_count": 108,
      "outputs": [
        {
          "output_type": "stream",
          "name": "stdout",
          "text": [
            "X_train :=  (53725, 2)\n",
            "X_test :=  (23025, 2)\n",
            "y_train :=  (53725,)\n",
            "y_test :=  (23025,)\n"
          ]
        }
      ]
    },
    {
      "cell_type": "code",
      "source": [
        "from sklearn.neighbors import KNeighborsClassifier\n",
        "\n",
        "#model creation\n",
        "model = KNeighborsClassifier(n_neighbors=5)\n",
        "print(\"model created... !!!\")\n",
        "\n",
        "#Model Training\n",
        "model.fit(X_train,y_train)\n",
        "print(\"Model trained ...!!!\")\n",
        "\n",
        "#finding pred on test data\n",
        "y_pred = model.predict(X_test)\n",
        "print(\"Y_prediction done\")\n",
        "\n",
        "from sklearn.metrics import accuracy_score\n",
        "acc = accuracy_score(y_pred,y_test)\n",
        "print(\"Accuracy :- \", acc*100)"
      ],
      "metadata": {
        "colab": {
          "base_uri": "https://localhost:8080/"
        },
        "id": "us9iQqQIyWDz",
        "outputId": "ffb71796-cedc-4f7a-9dec-59cacd2e3759"
      },
      "execution_count": 109,
      "outputs": [
        {
          "output_type": "stream",
          "name": "stdout",
          "text": [
            "model created... !!!\n",
            "Model trained ...!!!\n",
            "Y_prediction done\n",
            "Accuracy :-  6.631921824104235\n"
          ]
        }
      ]
    },
    {
      "cell_type": "code",
      "source": [
        "import pandas as pd\n",
        "from sklearn.linear_model import LinearRegression\n",
        "from sklearn.model_selection import train_test_split\n",
        "from sklearn.metrics import mean_squared_error, r2_score\n",
        "\n",
        "# Select the relevant columns for the model\n",
        "X = df1[['product_type', 'discounts', 'returns', 'additional_fees', 'taxes', 'shipping_region', 'shipping_city']]\n",
        "y = df1['gross_sales']\n",
        "\n"
      ],
      "metadata": {
        "id": "DjH1UQxZ0Mwq"
      },
      "execution_count": 114,
      "outputs": []
    },
    {
      "cell_type": "code",
      "source": [
        "# Split the data into training and testing sets\n",
        "X_train, X_test, y_train, y_test = train_test_split(X, y, test_size=0.2)\n",
        "\n"
      ],
      "metadata": {
        "id": "5XAoOy_a1lY5"
      },
      "execution_count": 115,
      "outputs": []
    },
    {
      "cell_type": "code",
      "source": [
        "# Create a linear regression object\n",
        "reg = LinearRegression()\n",
        "\n"
      ],
      "metadata": {
        "id": "APII4wVe1nyJ"
      },
      "execution_count": 116,
      "outputs": []
    },
    {
      "cell_type": "code",
      "source": [
        "# Train the model on the training data\n",
        "reg.fit(X_train, y_train)\n",
        "\n",
        "# Make predictions on the testing data\n",
        "y_pred = reg.predict(X_test)\n",
        "\n",
        "# Evaluate the model\n",
        "mse = mean_squared_error(y_test, y_pred)\n",
        "r2 = r2_score(y_test, y_pred)\n",
        "print(\"Mean Squared Error:\", mse)\n",
        "print(\"R-squared:\", r2)\n",
        "\n",
        "\n"
      ],
      "metadata": {
        "colab": {
          "base_uri": "https://localhost:8080/",
          "height": 363
        },
        "id": "St9G9Ud_1qZQ",
        "outputId": "d0cd5db8-251f-4bee-d2d1-fe8d040e2c45"
      },
      "execution_count": 117,
      "outputs": [
        {
          "output_type": "error",
          "ename": "ValueError",
          "evalue": "ignored",
          "traceback": [
            "\u001b[0;31m---------------------------------------------------------------------------\u001b[0m",
            "\u001b[0;31mValueError\u001b[0m                                Traceback (most recent call last)",
            "\u001b[0;32m<ipython-input-117-6a260055be1c>\u001b[0m in \u001b[0;36m<module>\u001b[0;34m\u001b[0m\n\u001b[1;32m      1\u001b[0m \u001b[0;31m# Train the model on the training data\u001b[0m\u001b[0;34m\u001b[0m\u001b[0;34m\u001b[0m\u001b[0;34m\u001b[0m\u001b[0m\n\u001b[0;32m----> 2\u001b[0;31m \u001b[0mreg\u001b[0m\u001b[0;34m.\u001b[0m\u001b[0mfit\u001b[0m\u001b[0;34m(\u001b[0m\u001b[0mX_train\u001b[0m\u001b[0;34m,\u001b[0m \u001b[0my_train\u001b[0m\u001b[0;34m)\u001b[0m\u001b[0;34m\u001b[0m\u001b[0;34m\u001b[0m\u001b[0m\n\u001b[0m\u001b[1;32m      3\u001b[0m \u001b[0;34m\u001b[0m\u001b[0m\n\u001b[1;32m      4\u001b[0m \u001b[0;34m\u001b[0m\u001b[0m\n",
            "\u001b[0;32m/usr/local/lib/python3.8/dist-packages/sklearn/linear_model/_base.py\u001b[0m in \u001b[0;36mfit\u001b[0;34m(self, X, y, sample_weight)\u001b[0m\n\u001b[1;32m    660\u001b[0m         \u001b[0maccept_sparse\u001b[0m \u001b[0;34m=\u001b[0m \u001b[0;32mFalse\u001b[0m \u001b[0;32mif\u001b[0m \u001b[0mself\u001b[0m\u001b[0;34m.\u001b[0m\u001b[0mpositive\u001b[0m \u001b[0;32melse\u001b[0m \u001b[0;34m[\u001b[0m\u001b[0;34m\"csr\"\u001b[0m\u001b[0;34m,\u001b[0m \u001b[0;34m\"csc\"\u001b[0m\u001b[0;34m,\u001b[0m \u001b[0;34m\"coo\"\u001b[0m\u001b[0;34m]\u001b[0m\u001b[0;34m\u001b[0m\u001b[0;34m\u001b[0m\u001b[0m\n\u001b[1;32m    661\u001b[0m \u001b[0;34m\u001b[0m\u001b[0m\n\u001b[0;32m--> 662\u001b[0;31m         X, y = self._validate_data(\n\u001b[0m\u001b[1;32m    663\u001b[0m             \u001b[0mX\u001b[0m\u001b[0;34m,\u001b[0m \u001b[0my\u001b[0m\u001b[0;34m,\u001b[0m \u001b[0maccept_sparse\u001b[0m\u001b[0;34m=\u001b[0m\u001b[0maccept_sparse\u001b[0m\u001b[0;34m,\u001b[0m \u001b[0my_numeric\u001b[0m\u001b[0;34m=\u001b[0m\u001b[0;32mTrue\u001b[0m\u001b[0;34m,\u001b[0m \u001b[0mmulti_output\u001b[0m\u001b[0;34m=\u001b[0m\u001b[0;32mTrue\u001b[0m\u001b[0;34m\u001b[0m\u001b[0;34m\u001b[0m\u001b[0m\n\u001b[1;32m    664\u001b[0m         )\n",
            "\u001b[0;32m/usr/local/lib/python3.8/dist-packages/sklearn/base.py\u001b[0m in \u001b[0;36m_validate_data\u001b[0;34m(self, X, y, reset, validate_separately, **check_params)\u001b[0m\n\u001b[1;32m    579\u001b[0m                 \u001b[0my\u001b[0m \u001b[0;34m=\u001b[0m \u001b[0mcheck_array\u001b[0m\u001b[0;34m(\u001b[0m\u001b[0my\u001b[0m\u001b[0;34m,\u001b[0m \u001b[0;34m**\u001b[0m\u001b[0mcheck_y_params\u001b[0m\u001b[0;34m)\u001b[0m\u001b[0;34m\u001b[0m\u001b[0;34m\u001b[0m\u001b[0m\n\u001b[1;32m    580\u001b[0m             \u001b[0;32melse\u001b[0m\u001b[0;34m:\u001b[0m\u001b[0;34m\u001b[0m\u001b[0;34m\u001b[0m\u001b[0m\n\u001b[0;32m--> 581\u001b[0;31m                 \u001b[0mX\u001b[0m\u001b[0;34m,\u001b[0m \u001b[0my\u001b[0m \u001b[0;34m=\u001b[0m \u001b[0mcheck_X_y\u001b[0m\u001b[0;34m(\u001b[0m\u001b[0mX\u001b[0m\u001b[0;34m,\u001b[0m \u001b[0my\u001b[0m\u001b[0;34m,\u001b[0m \u001b[0;34m**\u001b[0m\u001b[0mcheck_params\u001b[0m\u001b[0;34m)\u001b[0m\u001b[0;34m\u001b[0m\u001b[0;34m\u001b[0m\u001b[0m\n\u001b[0m\u001b[1;32m    582\u001b[0m             \u001b[0mout\u001b[0m \u001b[0;34m=\u001b[0m \u001b[0mX\u001b[0m\u001b[0;34m,\u001b[0m \u001b[0my\u001b[0m\u001b[0;34m\u001b[0m\u001b[0;34m\u001b[0m\u001b[0m\n\u001b[1;32m    583\u001b[0m \u001b[0;34m\u001b[0m\u001b[0m\n",
            "\u001b[0;32m/usr/local/lib/python3.8/dist-packages/sklearn/utils/validation.py\u001b[0m in \u001b[0;36mcheck_X_y\u001b[0;34m(X, y, accept_sparse, accept_large_sparse, dtype, order, copy, force_all_finite, ensure_2d, allow_nd, multi_output, ensure_min_samples, ensure_min_features, y_numeric, estimator)\u001b[0m\n\u001b[1;32m    962\u001b[0m         \u001b[0;32mraise\u001b[0m \u001b[0mValueError\u001b[0m\u001b[0;34m(\u001b[0m\u001b[0;34m\"y cannot be None\"\u001b[0m\u001b[0;34m)\u001b[0m\u001b[0;34m\u001b[0m\u001b[0;34m\u001b[0m\u001b[0m\n\u001b[1;32m    963\u001b[0m \u001b[0;34m\u001b[0m\u001b[0m\n\u001b[0;32m--> 964\u001b[0;31m     X = check_array(\n\u001b[0m\u001b[1;32m    965\u001b[0m         \u001b[0mX\u001b[0m\u001b[0;34m,\u001b[0m\u001b[0;34m\u001b[0m\u001b[0;34m\u001b[0m\u001b[0m\n\u001b[1;32m    966\u001b[0m         \u001b[0maccept_sparse\u001b[0m\u001b[0;34m=\u001b[0m\u001b[0maccept_sparse\u001b[0m\u001b[0;34m,\u001b[0m\u001b[0;34m\u001b[0m\u001b[0;34m\u001b[0m\u001b[0m\n",
            "\u001b[0;32m/usr/local/lib/python3.8/dist-packages/sklearn/utils/validation.py\u001b[0m in \u001b[0;36mcheck_array\u001b[0;34m(array, accept_sparse, accept_large_sparse, dtype, order, copy, force_all_finite, ensure_2d, allow_nd, ensure_min_samples, ensure_min_features, estimator)\u001b[0m\n\u001b[1;32m    744\u001b[0m                     \u001b[0marray\u001b[0m \u001b[0;34m=\u001b[0m \u001b[0marray\u001b[0m\u001b[0;34m.\u001b[0m\u001b[0mastype\u001b[0m\u001b[0;34m(\u001b[0m\u001b[0mdtype\u001b[0m\u001b[0;34m,\u001b[0m \u001b[0mcasting\u001b[0m\u001b[0;34m=\u001b[0m\u001b[0;34m\"unsafe\"\u001b[0m\u001b[0;34m,\u001b[0m \u001b[0mcopy\u001b[0m\u001b[0;34m=\u001b[0m\u001b[0;32mFalse\u001b[0m\u001b[0;34m)\u001b[0m\u001b[0;34m\u001b[0m\u001b[0;34m\u001b[0m\u001b[0m\n\u001b[1;32m    745\u001b[0m                 \u001b[0;32melse\u001b[0m\u001b[0;34m:\u001b[0m\u001b[0;34m\u001b[0m\u001b[0;34m\u001b[0m\u001b[0m\n\u001b[0;32m--> 746\u001b[0;31m                     \u001b[0marray\u001b[0m \u001b[0;34m=\u001b[0m \u001b[0mnp\u001b[0m\u001b[0;34m.\u001b[0m\u001b[0masarray\u001b[0m\u001b[0;34m(\u001b[0m\u001b[0marray\u001b[0m\u001b[0;34m,\u001b[0m \u001b[0morder\u001b[0m\u001b[0;34m=\u001b[0m\u001b[0morder\u001b[0m\u001b[0;34m,\u001b[0m \u001b[0mdtype\u001b[0m\u001b[0;34m=\u001b[0m\u001b[0mdtype\u001b[0m\u001b[0;34m)\u001b[0m\u001b[0;34m\u001b[0m\u001b[0;34m\u001b[0m\u001b[0m\n\u001b[0m\u001b[1;32m    747\u001b[0m             \u001b[0;32mexcept\u001b[0m \u001b[0mComplexWarning\u001b[0m \u001b[0;32mas\u001b[0m \u001b[0mcomplex_warning\u001b[0m\u001b[0;34m:\u001b[0m\u001b[0;34m\u001b[0m\u001b[0;34m\u001b[0m\u001b[0m\n\u001b[1;32m    748\u001b[0m                 raise ValueError(\n",
            "\u001b[0;32m/usr/local/lib/python3.8/dist-packages/pandas/core/generic.py\u001b[0m in \u001b[0;36m__array__\u001b[0;34m(self, dtype)\u001b[0m\n\u001b[1;32m   1991\u001b[0m \u001b[0;34m\u001b[0m\u001b[0m\n\u001b[1;32m   1992\u001b[0m     \u001b[0;32mdef\u001b[0m \u001b[0m__array__\u001b[0m\u001b[0;34m(\u001b[0m\u001b[0mself\u001b[0m\u001b[0;34m,\u001b[0m \u001b[0mdtype\u001b[0m\u001b[0;34m:\u001b[0m \u001b[0mNpDtype\u001b[0m \u001b[0;34m|\u001b[0m \u001b[0;32mNone\u001b[0m \u001b[0;34m=\u001b[0m \u001b[0;32mNone\u001b[0m\u001b[0;34m)\u001b[0m \u001b[0;34m->\u001b[0m \u001b[0mnp\u001b[0m\u001b[0;34m.\u001b[0m\u001b[0mndarray\u001b[0m\u001b[0;34m:\u001b[0m\u001b[0;34m\u001b[0m\u001b[0;34m\u001b[0m\u001b[0m\n\u001b[0;32m-> 1993\u001b[0;31m         \u001b[0;32mreturn\u001b[0m \u001b[0mnp\u001b[0m\u001b[0;34m.\u001b[0m\u001b[0masarray\u001b[0m\u001b[0;34m(\u001b[0m\u001b[0mself\u001b[0m\u001b[0;34m.\u001b[0m\u001b[0m_values\u001b[0m\u001b[0;34m,\u001b[0m \u001b[0mdtype\u001b[0m\u001b[0;34m=\u001b[0m\u001b[0mdtype\u001b[0m\u001b[0;34m)\u001b[0m\u001b[0;34m\u001b[0m\u001b[0;34m\u001b[0m\u001b[0m\n\u001b[0m\u001b[1;32m   1994\u001b[0m \u001b[0;34m\u001b[0m\u001b[0m\n\u001b[1;32m   1995\u001b[0m     def __array_wrap__(\n",
            "\u001b[0;31mValueError\u001b[0m: could not convert string to float: 'Maternity Nightwear Set'"
          ]
        }
      ]
    },
    {
      "cell_type": "code",
      "source": [
        "df1[['product_type', 'discounts', 'returns', 'additional_fees', 'taxes', 'shipping_region', 'shipping_city']]"
      ],
      "metadata": {
        "colab": {
          "base_uri": "https://localhost:8080/",
          "height": 424
        },
        "id": "TYlfgTRB19wJ",
        "outputId": "e305a5e9-37a2-493e-8cc1-de2d14ac26d4"
      },
      "execution_count": 118,
      "outputs": [
        {
          "output_type": "execute_result",
          "data": {
            "text/plain": [
              "                    product_type  discounts  returns  additional_fees   taxes  \\\n",
              "0      Maternity and Nursing Top    -316.76      0.0                0  202.15   \n",
              "1                       Baby Oil     -42.20      0.0                0   68.37   \n",
              "2                          False       0.00      0.0                0    0.00   \n",
              "3           Baby Anti-Slip Socks     -67.71      0.0                0  109.69   \n",
              "4                          False       0.00      0.0                0    0.00   \n",
              "...                          ...        ...      ...              ...     ...   \n",
              "83351                 Infant Set       0.00      0.0                0  487.83   \n",
              "83352             Newborn Onesie       0.00      0.0                0  609.87   \n",
              "83353                Baby Bather       0.00      0.0                0  269.85   \n",
              "83354                      False       0.00      0.0                0    0.00   \n",
              "83355        Muslin Swaddle Wrap       0.00      0.0                0  548.54   \n",
              "\n",
              "      shipping_region shipping_city  \n",
              "0             Haryana       Panipat  \n",
              "1             Haryana       Gurgaon  \n",
              "2             Haryana       Gurgaon  \n",
              "3             Haryana       Gurgaon  \n",
              "4       Uttar Pradesh     Ghaziabad  \n",
              "...               ...           ...  \n",
              "83351     Maharashtra        Mumbai  \n",
              "83352     Maharashtra        Mumbai  \n",
              "83353     Maharashtra        Mumbai  \n",
              "83354     Maharashtra        Mumbai  \n",
              "83355     Maharashtra        Mumbai  \n",
              "\n",
              "[76750 rows x 7 columns]"
            ],
            "text/html": [
              "\n",
              "  <div id=\"df-03e3a926-0e32-4575-9093-d422768ec11a\">\n",
              "    <div class=\"colab-df-container\">\n",
              "      <div>\n",
              "<style scoped>\n",
              "    .dataframe tbody tr th:only-of-type {\n",
              "        vertical-align: middle;\n",
              "    }\n",
              "\n",
              "    .dataframe tbody tr th {\n",
              "        vertical-align: top;\n",
              "    }\n",
              "\n",
              "    .dataframe thead th {\n",
              "        text-align: right;\n",
              "    }\n",
              "</style>\n",
              "<table border=\"1\" class=\"dataframe\">\n",
              "  <thead>\n",
              "    <tr style=\"text-align: right;\">\n",
              "      <th></th>\n",
              "      <th>product_type</th>\n",
              "      <th>discounts</th>\n",
              "      <th>returns</th>\n",
              "      <th>additional_fees</th>\n",
              "      <th>taxes</th>\n",
              "      <th>shipping_region</th>\n",
              "      <th>shipping_city</th>\n",
              "    </tr>\n",
              "  </thead>\n",
              "  <tbody>\n",
              "    <tr>\n",
              "      <th>0</th>\n",
              "      <td>Maternity and Nursing Top</td>\n",
              "      <td>-316.76</td>\n",
              "      <td>0.0</td>\n",
              "      <td>0</td>\n",
              "      <td>202.15</td>\n",
              "      <td>Haryana</td>\n",
              "      <td>Panipat</td>\n",
              "    </tr>\n",
              "    <tr>\n",
              "      <th>1</th>\n",
              "      <td>Baby Oil</td>\n",
              "      <td>-42.20</td>\n",
              "      <td>0.0</td>\n",
              "      <td>0</td>\n",
              "      <td>68.37</td>\n",
              "      <td>Haryana</td>\n",
              "      <td>Gurgaon</td>\n",
              "    </tr>\n",
              "    <tr>\n",
              "      <th>2</th>\n",
              "      <td>False</td>\n",
              "      <td>0.00</td>\n",
              "      <td>0.0</td>\n",
              "      <td>0</td>\n",
              "      <td>0.00</td>\n",
              "      <td>Haryana</td>\n",
              "      <td>Gurgaon</td>\n",
              "    </tr>\n",
              "    <tr>\n",
              "      <th>3</th>\n",
              "      <td>Baby Anti-Slip Socks</td>\n",
              "      <td>-67.71</td>\n",
              "      <td>0.0</td>\n",
              "      <td>0</td>\n",
              "      <td>109.69</td>\n",
              "      <td>Haryana</td>\n",
              "      <td>Gurgaon</td>\n",
              "    </tr>\n",
              "    <tr>\n",
              "      <th>4</th>\n",
              "      <td>False</td>\n",
              "      <td>0.00</td>\n",
              "      <td>0.0</td>\n",
              "      <td>0</td>\n",
              "      <td>0.00</td>\n",
              "      <td>Uttar Pradesh</td>\n",
              "      <td>Ghaziabad</td>\n",
              "    </tr>\n",
              "    <tr>\n",
              "      <th>...</th>\n",
              "      <td>...</td>\n",
              "      <td>...</td>\n",
              "      <td>...</td>\n",
              "      <td>...</td>\n",
              "      <td>...</td>\n",
              "      <td>...</td>\n",
              "      <td>...</td>\n",
              "    </tr>\n",
              "    <tr>\n",
              "      <th>83351</th>\n",
              "      <td>Infant Set</td>\n",
              "      <td>0.00</td>\n",
              "      <td>0.0</td>\n",
              "      <td>0</td>\n",
              "      <td>487.83</td>\n",
              "      <td>Maharashtra</td>\n",
              "      <td>Mumbai</td>\n",
              "    </tr>\n",
              "    <tr>\n",
              "      <th>83352</th>\n",
              "      <td>Newborn Onesie</td>\n",
              "      <td>0.00</td>\n",
              "      <td>0.0</td>\n",
              "      <td>0</td>\n",
              "      <td>609.87</td>\n",
              "      <td>Maharashtra</td>\n",
              "      <td>Mumbai</td>\n",
              "    </tr>\n",
              "    <tr>\n",
              "      <th>83353</th>\n",
              "      <td>Baby Bather</td>\n",
              "      <td>0.00</td>\n",
              "      <td>0.0</td>\n",
              "      <td>0</td>\n",
              "      <td>269.85</td>\n",
              "      <td>Maharashtra</td>\n",
              "      <td>Mumbai</td>\n",
              "    </tr>\n",
              "    <tr>\n",
              "      <th>83354</th>\n",
              "      <td>False</td>\n",
              "      <td>0.00</td>\n",
              "      <td>0.0</td>\n",
              "      <td>0</td>\n",
              "      <td>0.00</td>\n",
              "      <td>Maharashtra</td>\n",
              "      <td>Mumbai</td>\n",
              "    </tr>\n",
              "    <tr>\n",
              "      <th>83355</th>\n",
              "      <td>Muslin Swaddle Wrap</td>\n",
              "      <td>0.00</td>\n",
              "      <td>0.0</td>\n",
              "      <td>0</td>\n",
              "      <td>548.54</td>\n",
              "      <td>Maharashtra</td>\n",
              "      <td>Mumbai</td>\n",
              "    </tr>\n",
              "  </tbody>\n",
              "</table>\n",
              "<p>76750 rows × 7 columns</p>\n",
              "</div>\n",
              "      <button class=\"colab-df-convert\" onclick=\"convertToInteractive('df-03e3a926-0e32-4575-9093-d422768ec11a')\"\n",
              "              title=\"Convert this dataframe to an interactive table.\"\n",
              "              style=\"display:none;\">\n",
              "        \n",
              "  <svg xmlns=\"http://www.w3.org/2000/svg\" height=\"24px\"viewBox=\"0 0 24 24\"\n",
              "       width=\"24px\">\n",
              "    <path d=\"M0 0h24v24H0V0z\" fill=\"none\"/>\n",
              "    <path d=\"M18.56 5.44l.94 2.06.94-2.06 2.06-.94-2.06-.94-.94-2.06-.94 2.06-2.06.94zm-11 1L8.5 8.5l.94-2.06 2.06-.94-2.06-.94L8.5 2.5l-.94 2.06-2.06.94zm10 10l.94 2.06.94-2.06 2.06-.94-2.06-.94-.94-2.06-.94 2.06-2.06.94z\"/><path d=\"M17.41 7.96l-1.37-1.37c-.4-.4-.92-.59-1.43-.59-.52 0-1.04.2-1.43.59L10.3 9.45l-7.72 7.72c-.78.78-.78 2.05 0 2.83L4 21.41c.39.39.9.59 1.41.59.51 0 1.02-.2 1.41-.59l7.78-7.78 2.81-2.81c.8-.78.8-2.07 0-2.86zM5.41 20L4 18.59l7.72-7.72 1.47 1.35L5.41 20z\"/>\n",
              "  </svg>\n",
              "      </button>\n",
              "      \n",
              "  <style>\n",
              "    .colab-df-container {\n",
              "      display:flex;\n",
              "      flex-wrap:wrap;\n",
              "      gap: 12px;\n",
              "    }\n",
              "\n",
              "    .colab-df-convert {\n",
              "      background-color: #E8F0FE;\n",
              "      border: none;\n",
              "      border-radius: 50%;\n",
              "      cursor: pointer;\n",
              "      display: none;\n",
              "      fill: #1967D2;\n",
              "      height: 32px;\n",
              "      padding: 0 0 0 0;\n",
              "      width: 32px;\n",
              "    }\n",
              "\n",
              "    .colab-df-convert:hover {\n",
              "      background-color: #E2EBFA;\n",
              "      box-shadow: 0px 1px 2px rgba(60, 64, 67, 0.3), 0px 1px 3px 1px rgba(60, 64, 67, 0.15);\n",
              "      fill: #174EA6;\n",
              "    }\n",
              "\n",
              "    [theme=dark] .colab-df-convert {\n",
              "      background-color: #3B4455;\n",
              "      fill: #D2E3FC;\n",
              "    }\n",
              "\n",
              "    [theme=dark] .colab-df-convert:hover {\n",
              "      background-color: #434B5C;\n",
              "      box-shadow: 0px 1px 3px 1px rgba(0, 0, 0, 0.15);\n",
              "      filter: drop-shadow(0px 1px 2px rgba(0, 0, 0, 0.3));\n",
              "      fill: #FFFFFF;\n",
              "    }\n",
              "  </style>\n",
              "\n",
              "      <script>\n",
              "        const buttonEl =\n",
              "          document.querySelector('#df-03e3a926-0e32-4575-9093-d422768ec11a button.colab-df-convert');\n",
              "        buttonEl.style.display =\n",
              "          google.colab.kernel.accessAllowed ? 'block' : 'none';\n",
              "\n",
              "        async function convertToInteractive(key) {\n",
              "          const element = document.querySelector('#df-03e3a926-0e32-4575-9093-d422768ec11a');\n",
              "          const dataTable =\n",
              "            await google.colab.kernel.invokeFunction('convertToInteractive',\n",
              "                                                     [key], {});\n",
              "          if (!dataTable) return;\n",
              "\n",
              "          const docLinkHtml = 'Like what you see? Visit the ' +\n",
              "            '<a target=\"_blank\" href=https://colab.research.google.com/notebooks/data_table.ipynb>data table notebook</a>'\n",
              "            + ' to learn more about interactive tables.';\n",
              "          element.innerHTML = '';\n",
              "          dataTable['output_type'] = 'display_data';\n",
              "          await google.colab.output.renderOutput(dataTable, element);\n",
              "          const docLink = document.createElement('div');\n",
              "          docLink.innerHTML = docLinkHtml;\n",
              "          element.appendChild(docLink);\n",
              "        }\n",
              "      </script>\n",
              "    </div>\n",
              "  </div>\n",
              "  "
            ]
          },
          "metadata": {},
          "execution_count": 118
        }
      ]
    },
    {
      "cell_type": "code",
      "source": [
        "from sklearn.linear_model import LinearRegression\n",
        "from sklearn.model_selection import train_test_split\n",
        "\n",
        "# Select the columns of interest\n",
        "X = df1[['gross_sales', 'discounts']]\n",
        "y = df1['net_sales']\n",
        "\n",
        "# Split the data into training and test sets\n",
        "X_train, X_test, y_train, y_test = train_test_split(X, y, test_size=0.2, random_state=42)\n",
        "\n",
        "# Create a Linear Regression model object\n",
        "lm = LinearRegression()\n",
        "\n",
        "# Fit the model to the training data\n",
        "lm.fit(X_train, y_train)\n",
        "\n",
        "# Print the R^2 score for the test data\n",
        "print(lm.score(X_test, y_test))"
      ],
      "metadata": {
        "colab": {
          "base_uri": "https://localhost:8080/"
        },
        "id": "rctUmnxs3R4b",
        "outputId": "adf706a7-55ff-4ad1-90ce-a3df618cb014"
      },
      "execution_count": 121,
      "outputs": [
        {
          "output_type": "stream",
          "name": "stdout",
          "text": [
            "0.7376318724615915\n"
          ]
        }
      ]
    }
  ]
}