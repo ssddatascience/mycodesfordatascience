{
  "nbformat": 4,
  "nbformat_minor": 0,
  "metadata": {
    "colab": {
      "provenance": [],
      "authorship_tag": "ABX9TyN2fyorJHhE4VawxcgViXS9",
      "include_colab_link": true
    },
    "kernelspec": {
      "name": "python3",
      "display_name": "Python 3"
    },
    "language_info": {
      "name": "python"
    }
  },
  "cells": [
    {
      "cell_type": "markdown",
      "metadata": {
        "id": "view-in-github",
        "colab_type": "text"
      },
      "source": [
        "<a href=\"https://colab.research.google.com/github/ssddatascience/mycodesfordatascience/blob/main/Playstore_reviews_clean.ipynb\" target=\"_parent\"><img src=\"https://colab.research.google.com/assets/colab-badge.svg\" alt=\"Open In Colab\"/></a>"
      ]
    },
    {
      "cell_type": "markdown",
      "source": [
        "Playstore Apps analysis & Visualization\n",
        "About the project: In this project, you will be working on a real-world dataset of the google play store, one of the most used applications for downloading android apps. This project aims on cleaning the dataset, analyze the given dataset, and mining informational quality insights. This project also involves visualizing the data to better and easily understand trends and different categories.\n",
        "\n",
        "Project Description:\n",
        "\n",
        "This project will help you understand how a real-world database is analyzed using SQL, how to get maximum available insights from the dataset, pre-process the data using python for a better upcoming performance, how a structured query language helps us retrieve useful information from the database, and visualize the data with the power bi tool. The Project will consist of 2 modules: Module 1: Pre-processing, Analyzing data using Python and SQL. Module 2: Visualizing data using Power bi."
      ],
      "metadata": {
        "id": "ff_oCK1DZeLV"
      }
    },
    {
      "cell_type": "code",
      "source": [],
      "metadata": {
        "id": "BNPrqZfKfXgp"
      },
      "execution_count": null,
      "outputs": []
    },
    {
      "cell_type": "code",
      "source": [],
      "metadata": {
        "id": "vYqzLfKpfaCA"
      },
      "execution_count": null,
      "outputs": []
    },
    {
      "cell_type": "code",
      "source": [
        "import pandas as pd\n",
        "import numpy as np\n",
        "from numpy import nan"
      ],
      "metadata": {
        "id": "nDesAUHrZfq4"
      },
      "execution_count": null,
      "outputs": []
    },
    {
      "cell_type": "code",
      "source": [
        "#reading file for analysis\n",
        "\n",
        "df2 = pd.read_csv('playstore_reviews.csv',index_col='App')"
      ],
      "metadata": {
        "id": "jaulTqSSZn6w"
      },
      "execution_count": null,
      "outputs": []
    },
    {
      "cell_type": "code",
      "source": [
        "df2"
      ],
      "metadata": {
        "colab": {
          "base_uri": "https://localhost:8080/",
          "height": 455
        },
        "id": "9UyjHGyjZrCn",
        "outputId": "71aa34f1-247f-4718-b316-c4bff3908c33"
      },
      "execution_count": null,
      "outputs": [
        {
          "output_type": "execute_result",
          "data": {
            "text/plain": [
              "                                                                Translated_Review  \\\n",
              "App                                                                                 \n",
              "10 Best Foods for You           I like eat delicious food. That's I'm cooking ...   \n",
              "10 Best Foods for You             This help eating healthy exercise regular basis   \n",
              "10 Best Foods for You                                                         NaN   \n",
              "10 Best Foods for You                  Works great especially going grocery store   \n",
              "10 Best Foods for You                                                Best idea us   \n",
              "...                                                                           ...   \n",
              "Fantasy Football Manager (FPL)                                          Fantastic   \n",
              "Fantasy Football Manager (FPL)  phone language arabic flopped , please pix it....   \n",
              "Fantasy Football Manager (FPL)  I think system whereby defensive midfielders g...   \n",
              "Fantasy Football Manager (FPL)  Pretty simple fast, gets job done. No complain...   \n",
              "Fantasy Football Manager (FPL)                     The attracting. But need send    \n",
              "\n",
              "                               Sentiment  Sentiment_Polarity  \\\n",
              "App                                                            \n",
              "10 Best Foods for You           Positive            1.000000   \n",
              "10 Best Foods for You           Positive            0.250000   \n",
              "10 Best Foods for You                NaN                 NaN   \n",
              "10 Best Foods for You           Positive            0.400000   \n",
              "10 Best Foods for You           Positive            1.000000   \n",
              "...                                  ...                 ...   \n",
              "Fantasy Football Manager (FPL)  Positive            0.400000   \n",
              "Fantasy Football Manager (FPL)  Positive            0.100000   \n",
              "Fantasy Football Manager (FPL)   Neutral            0.000000   \n",
              "Fantasy Football Manager (FPL)  Positive            0.113889   \n",
              "Fantasy Football Manager (FPL)       NaN                 NaN   \n",
              "\n",
              "                                Sentiment_Subjectivity  \n",
              "App                                                     \n",
              "10 Best Foods for You                         0.533333  \n",
              "10 Best Foods for You                         0.288462  \n",
              "10 Best Foods for You                              NaN  \n",
              "10 Best Foods for You                         0.875000  \n",
              "10 Best Foods for You                         0.300000  \n",
              "...                                                ...  \n",
              "Fantasy Football Manager (FPL)                0.900000  \n",
              "Fantasy Football Manager (FPL)                0.200000  \n",
              "Fantasy Football Manager (FPL)                0.000000  \n",
              "Fantasy Football Manager (FPL)                0.670635  \n",
              "Fantasy Football Manager (FPL)                     NaN  \n",
              "\n",
              "[44260 rows x 4 columns]"
            ],
            "text/html": [
              "\n",
              "  <div id=\"df-acd2f069-7af7-4a02-abad-a4e30b6011c8\">\n",
              "    <div class=\"colab-df-container\">\n",
              "      <div>\n",
              "<style scoped>\n",
              "    .dataframe tbody tr th:only-of-type {\n",
              "        vertical-align: middle;\n",
              "    }\n",
              "\n",
              "    .dataframe tbody tr th {\n",
              "        vertical-align: top;\n",
              "    }\n",
              "\n",
              "    .dataframe thead th {\n",
              "        text-align: right;\n",
              "    }\n",
              "</style>\n",
              "<table border=\"1\" class=\"dataframe\">\n",
              "  <thead>\n",
              "    <tr style=\"text-align: right;\">\n",
              "      <th></th>\n",
              "      <th>Translated_Review</th>\n",
              "      <th>Sentiment</th>\n",
              "      <th>Sentiment_Polarity</th>\n",
              "      <th>Sentiment_Subjectivity</th>\n",
              "    </tr>\n",
              "    <tr>\n",
              "      <th>App</th>\n",
              "      <th></th>\n",
              "      <th></th>\n",
              "      <th></th>\n",
              "      <th></th>\n",
              "    </tr>\n",
              "  </thead>\n",
              "  <tbody>\n",
              "    <tr>\n",
              "      <th>10 Best Foods for You</th>\n",
              "      <td>I like eat delicious food. That's I'm cooking ...</td>\n",
              "      <td>Positive</td>\n",
              "      <td>1.000000</td>\n",
              "      <td>0.533333</td>\n",
              "    </tr>\n",
              "    <tr>\n",
              "      <th>10 Best Foods for You</th>\n",
              "      <td>This help eating healthy exercise regular basis</td>\n",
              "      <td>Positive</td>\n",
              "      <td>0.250000</td>\n",
              "      <td>0.288462</td>\n",
              "    </tr>\n",
              "    <tr>\n",
              "      <th>10 Best Foods for You</th>\n",
              "      <td>NaN</td>\n",
              "      <td>NaN</td>\n",
              "      <td>NaN</td>\n",
              "      <td>NaN</td>\n",
              "    </tr>\n",
              "    <tr>\n",
              "      <th>10 Best Foods for You</th>\n",
              "      <td>Works great especially going grocery store</td>\n",
              "      <td>Positive</td>\n",
              "      <td>0.400000</td>\n",
              "      <td>0.875000</td>\n",
              "    </tr>\n",
              "    <tr>\n",
              "      <th>10 Best Foods for You</th>\n",
              "      <td>Best idea us</td>\n",
              "      <td>Positive</td>\n",
              "      <td>1.000000</td>\n",
              "      <td>0.300000</td>\n",
              "    </tr>\n",
              "    <tr>\n",
              "      <th>...</th>\n",
              "      <td>...</td>\n",
              "      <td>...</td>\n",
              "      <td>...</td>\n",
              "      <td>...</td>\n",
              "    </tr>\n",
              "    <tr>\n",
              "      <th>Fantasy Football Manager (FPL)</th>\n",
              "      <td>Fantastic</td>\n",
              "      <td>Positive</td>\n",
              "      <td>0.400000</td>\n",
              "      <td>0.900000</td>\n",
              "    </tr>\n",
              "    <tr>\n",
              "      <th>Fantasy Football Manager (FPL)</th>\n",
              "      <td>phone language arabic flopped , please pix it....</td>\n",
              "      <td>Positive</td>\n",
              "      <td>0.100000</td>\n",
              "      <td>0.200000</td>\n",
              "    </tr>\n",
              "    <tr>\n",
              "      <th>Fantasy Football Manager (FPL)</th>\n",
              "      <td>I think system whereby defensive midfielders g...</td>\n",
              "      <td>Neutral</td>\n",
              "      <td>0.000000</td>\n",
              "      <td>0.000000</td>\n",
              "    </tr>\n",
              "    <tr>\n",
              "      <th>Fantasy Football Manager (FPL)</th>\n",
              "      <td>Pretty simple fast, gets job done. No complain...</td>\n",
              "      <td>Positive</td>\n",
              "      <td>0.113889</td>\n",
              "      <td>0.670635</td>\n",
              "    </tr>\n",
              "    <tr>\n",
              "      <th>Fantasy Football Manager (FPL)</th>\n",
              "      <td>The attracting. But need send</td>\n",
              "      <td>NaN</td>\n",
              "      <td>NaN</td>\n",
              "      <td>NaN</td>\n",
              "    </tr>\n",
              "  </tbody>\n",
              "</table>\n",
              "<p>44260 rows × 4 columns</p>\n",
              "</div>\n",
              "      <button class=\"colab-df-convert\" onclick=\"convertToInteractive('df-acd2f069-7af7-4a02-abad-a4e30b6011c8')\"\n",
              "              title=\"Convert this dataframe to an interactive table.\"\n",
              "              style=\"display:none;\">\n",
              "        \n",
              "  <svg xmlns=\"http://www.w3.org/2000/svg\" height=\"24px\"viewBox=\"0 0 24 24\"\n",
              "       width=\"24px\">\n",
              "    <path d=\"M0 0h24v24H0V0z\" fill=\"none\"/>\n",
              "    <path d=\"M18.56 5.44l.94 2.06.94-2.06 2.06-.94-2.06-.94-.94-2.06-.94 2.06-2.06.94zm-11 1L8.5 8.5l.94-2.06 2.06-.94-2.06-.94L8.5 2.5l-.94 2.06-2.06.94zm10 10l.94 2.06.94-2.06 2.06-.94-2.06-.94-.94-2.06-.94 2.06-2.06.94z\"/><path d=\"M17.41 7.96l-1.37-1.37c-.4-.4-.92-.59-1.43-.59-.52 0-1.04.2-1.43.59L10.3 9.45l-7.72 7.72c-.78.78-.78 2.05 0 2.83L4 21.41c.39.39.9.59 1.41.59.51 0 1.02-.2 1.41-.59l7.78-7.78 2.81-2.81c.8-.78.8-2.07 0-2.86zM5.41 20L4 18.59l7.72-7.72 1.47 1.35L5.41 20z\"/>\n",
              "  </svg>\n",
              "      </button>\n",
              "      \n",
              "  <style>\n",
              "    .colab-df-container {\n",
              "      display:flex;\n",
              "      flex-wrap:wrap;\n",
              "      gap: 12px;\n",
              "    }\n",
              "\n",
              "    .colab-df-convert {\n",
              "      background-color: #E8F0FE;\n",
              "      border: none;\n",
              "      border-radius: 50%;\n",
              "      cursor: pointer;\n",
              "      display: none;\n",
              "      fill: #1967D2;\n",
              "      height: 32px;\n",
              "      padding: 0 0 0 0;\n",
              "      width: 32px;\n",
              "    }\n",
              "\n",
              "    .colab-df-convert:hover {\n",
              "      background-color: #E2EBFA;\n",
              "      box-shadow: 0px 1px 2px rgba(60, 64, 67, 0.3), 0px 1px 3px 1px rgba(60, 64, 67, 0.15);\n",
              "      fill: #174EA6;\n",
              "    }\n",
              "\n",
              "    [theme=dark] .colab-df-convert {\n",
              "      background-color: #3B4455;\n",
              "      fill: #D2E3FC;\n",
              "    }\n",
              "\n",
              "    [theme=dark] .colab-df-convert:hover {\n",
              "      background-color: #434B5C;\n",
              "      box-shadow: 0px 1px 3px 1px rgba(0, 0, 0, 0.15);\n",
              "      filter: drop-shadow(0px 1px 2px rgba(0, 0, 0, 0.3));\n",
              "      fill: #FFFFFF;\n",
              "    }\n",
              "  </style>\n",
              "\n",
              "      <script>\n",
              "        const buttonEl =\n",
              "          document.querySelector('#df-acd2f069-7af7-4a02-abad-a4e30b6011c8 button.colab-df-convert');\n",
              "        buttonEl.style.display =\n",
              "          google.colab.kernel.accessAllowed ? 'block' : 'none';\n",
              "\n",
              "        async function convertToInteractive(key) {\n",
              "          const element = document.querySelector('#df-acd2f069-7af7-4a02-abad-a4e30b6011c8');\n",
              "          const dataTable =\n",
              "            await google.colab.kernel.invokeFunction('convertToInteractive',\n",
              "                                                     [key], {});\n",
              "          if (!dataTable) return;\n",
              "\n",
              "          const docLinkHtml = 'Like what you see? Visit the ' +\n",
              "            '<a target=\"_blank\" href=https://colab.research.google.com/notebooks/data_table.ipynb>data table notebook</a>'\n",
              "            + ' to learn more about interactive tables.';\n",
              "          element.innerHTML = '';\n",
              "          dataTable['output_type'] = 'display_data';\n",
              "          await google.colab.output.renderOutput(dataTable, element);\n",
              "          const docLink = document.createElement('div');\n",
              "          docLink.innerHTML = docLinkHtml;\n",
              "          element.appendChild(docLink);\n",
              "        }\n",
              "      </script>\n",
              "    </div>\n",
              "  </div>\n",
              "  "
            ]
          },
          "metadata": {},
          "execution_count": 3
        }
      ]
    },
    {
      "cell_type": "code",
      "source": [
        "df2.drop_duplicates(keep = False, inplace=True)\n",
        "\n"
      ],
      "metadata": {
        "id": "q5Cl7P2FZwob"
      },
      "execution_count": null,
      "outputs": []
    },
    {
      "cell_type": "code",
      "source": [
        "df2.info()\n",
        "\n"
      ],
      "metadata": {
        "colab": {
          "base_uri": "https://localhost:8080/"
        },
        "id": "niC5rhveZzji",
        "outputId": "f6dfcb78-792e-4fcc-9ed0-ed19d11e71b0"
      },
      "execution_count": null,
      "outputs": [
        {
          "output_type": "stream",
          "name": "stdout",
          "text": [
            "<class 'pandas.core.frame.DataFrame'>\n",
            "Index: 15906 entries, 104 找工作 - 找工作 找打工 找兼職 履歷健檢 履歷診療室 to Fantasy Football Manager (FPL)\n",
            "Data columns (total 4 columns):\n",
            " #   Column                  Non-Null Count  Dtype  \n",
            "---  ------                  --------------  -----  \n",
            " 0   Translated_Review       15906 non-null  object \n",
            " 1   Sentiment               15905 non-null  object \n",
            " 2   Sentiment_Polarity      15905 non-null  float64\n",
            " 3   Sentiment_Subjectivity  15905 non-null  float64\n",
            "dtypes: float64(2), object(2)\n",
            "memory usage: 1.1+ MB\n"
          ]
        }
      ]
    },
    {
      "cell_type": "code",
      "source": [
        "print(df2['Translated_Review'].unique())"
      ],
      "metadata": {
        "colab": {
          "base_uri": "https://localhost:8080/"
        },
        "id": "p9Vr3hMNaAWH",
        "outputId": "fa93f374-96ee-4afd-a3c0-2bb6ab52e8cb"
      },
      "execution_count": null,
      "outputs": [
        {
          "output_type": "stream",
          "name": "stdout",
          "text": [
            "['Almost mobile phone'\n",
            " 'Very effective, efficient convenient find available jobs. Keep good work power 104 Job Search.'\n",
            " 'Easy intuitive' ...\n",
            " \"I think system whereby defensive midfielders get points work rate, tackles, air duels et cetera boost ownership FPL managers' teams.\"\n",
            " 'Pretty simple fast, gets job done. No complaints. UI looks bit outdated advantage really fast. Easy too.'\n",
            " 'The attracting. But need send ']\n"
          ]
        }
      ]
    },
    {
      "cell_type": "code",
      "source": [
        "print(df2['Sentiment'].unique())"
      ],
      "metadata": {
        "colab": {
          "base_uri": "https://localhost:8080/"
        },
        "id": "u9WjPup1aK1Y",
        "outputId": "38c3d23d-35a1-4e58-8035-3ced68cf0867"
      },
      "execution_count": null,
      "outputs": [
        {
          "output_type": "stream",
          "name": "stdout",
          "text": [
            "['Neutral' 'Positive' 'Negative' nan]\n"
          ]
        }
      ]
    },
    {
      "cell_type": "code",
      "source": [
        "print(df2[df2['Sentiment'] == nan])"
      ],
      "metadata": {
        "colab": {
          "base_uri": "https://localhost:8080/"
        },
        "id": "vf2uIuijaW0V",
        "outputId": "12d579ac-f27e-4e42-fc4b-8cbb8dd99997"
      },
      "execution_count": null,
      "outputs": [
        {
          "output_type": "stream",
          "name": "stdout",
          "text": [
            "Empty DataFrame\n",
            "Columns: [Translated_Review, Sentiment, Sentiment_Polarity, Sentiment_Subjectivity]\n",
            "Index: []\n"
          ]
        }
      ]
    },
    {
      "cell_type": "code",
      "source": [
        "print(df2['Sentiment_Polarity'].unique())"
      ],
      "metadata": {
        "colab": {
          "base_uri": "https://localhost:8080/"
        },
        "id": "WCNiCxm7aixa",
        "outputId": "e8857a60-41ae-4334-c9b1-58209cdfb302"
      },
      "execution_count": null,
      "outputs": [
        {
          "output_type": "stream",
          "name": "stdout",
          "text": [
            "[0.         0.62666667 0.43333333 ... 0.25965608 0.11714286        nan]\n"
          ]
        }
      ]
    },
    {
      "cell_type": "code",
      "source": [
        "#Sentiment_Subjectivity\n",
        "\n",
        "print(df2['Sentiment_Subjectivity'].unique())"
      ],
      "metadata": {
        "colab": {
          "base_uri": "https://localhost:8080/"
        },
        "id": "J2c0WI7cbCY5",
        "outputId": "d5ebfd0e-e908-4afe-e5c0-b3fef0a4527b"
      },
      "execution_count": null,
      "outputs": [
        {
          "output_type": "stream",
          "name": "stdout",
          "text": [
            "[0.         0.66666667 0.83333333 ... 0.54280303 0.67063492        nan]\n"
          ]
        }
      ]
    },
    {
      "cell_type": "code",
      "source": [
        "df2.to_csv(\"Playstore_reviews_clean.csv\", encoding = 'utf-8')"
      ],
      "metadata": {
        "id": "BfSeqsflfbin"
      },
      "execution_count": 14,
      "outputs": []
    }
  ]
}