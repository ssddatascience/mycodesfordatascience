{
  "nbformat": 4,
  "nbformat_minor": 0,
  "metadata": {
    "colab": {
      "provenance": [],
      "authorship_tag": "ABX9TyO/lJIHzRNTxrdOtfasPFcl",
      "include_colab_link": true
    },
    "kernelspec": {
      "name": "python3",
      "display_name": "Python 3"
    },
    "language_info": {
      "name": "python"
    }
  },
  "cells": [
    {
      "cell_type": "markdown",
      "metadata": {
        "id": "view-in-github",
        "colab_type": "text"
      },
      "source": [
        "<a href=\"https://colab.research.google.com/github/ssddatascience/mycodesfordatascience/blob/main/Playstore%20Apps%20analysis%20%26%20Visualization.ipynb\" target=\"_parent\"><img src=\"https://colab.research.google.com/assets/colab-badge.svg\" alt=\"Open In Colab\"/></a>"
      ]
    },
    {
      "cell_type": "code",
      "execution_count": null,
      "metadata": {
        "id": "lHm5yztg2qHR"
      },
      "outputs": [],
      "source": []
    },
    {
      "cell_type": "markdown",
      "source": [
        "# Playstore Apps analysis & Visualization\n",
        "\n",
        "About the project:\n",
        "In this project, you will be working on a real-world dataset of the google play store, one of the most used applications for downloading android apps. This project aims on cleaning the dataset, analyze the given dataset, and mining informational quality insights. This project also involves visualizing the data to better and easily understand trends and different categories.\n",
        "\n",
        "Project Description: \n",
        "\n",
        "This project will help you understand how a real-world database is analyzed using SQL, how to get maximum available insights from the dataset, pre-process the data using python for a better upcoming performance, how a structured query language helps us retrieve useful information from the database, and visualize the data with the power bi tool.\n",
        "The Project will consist of 2 modules:\n",
        "Module 1: Pre-processing, Analyzing data using Python and SQL.\n",
        "Module 2: Visualizing data using Power bi.\n",
        "\n",
        "**Prerequisites for the Project (mandatory):** \n",
        "\n",
        "**SQL (MYSQL)\n",
        "POWER BI\n",
        "Excel\n",
        "Python**\n",
        "\n",
        "Module 1\n",
        " Pre-processing, Analyzing data using SQL \n",
        "\n",
        " https://docs.google.com/document/d/131Vund8vQm6K45RQIvhXr41BodkhY4NC/edit?usp=sharing&ouid=110322133672898022824&rtpof=true&sd=true"
      ],
      "metadata": {
        "id": "GPLeyn5Q2u-G"
      }
    },
    {
      "cell_type": "code",
      "source": [
        "#In this module, you will query the dataset using structured query language to gain insights from the database.\n",
        "# The problem statements to be solved will be provided to you and you need to provide the solution for the same using your logic.\n",
        "# Different concepts of SQL will be used in this process such as aggregating the data, grouping the data, ordering the data, etc. \n",
        "# Module 1 consists of subtasks which are as follows\n",
        "\n",
        "import pandas as pd\n",
        "import numpy as np\n",
        "from numpy import nan\n",
        "\n",
        "\n",
        "#reading file for analysis\n",
        "df1 = pd.read_csv('playstore_apps.csv',index_col='App')\n",
        "\n",
        "df1\n"
      ],
      "metadata": {
        "colab": {
          "base_uri": "https://localhost:8080/",
          "height": 690
        },
        "id": "EAGWX7VN25dM",
        "outputId": "cdcb920c-c6fa-40bc-8fa8-6ad641918a4b"
      },
      "execution_count": 5,
      "outputs": [
        {
          "output_type": "execute_result",
          "data": {
            "text/plain": [
              "                                                               Category  \\\n",
              "App                                                                       \n",
              "Photo Editor & Candy Camera & Grid & ScrapBook           ART_AND_DESIGN   \n",
              "Coloring book moana                                      ART_AND_DESIGN   \n",
              "U Launcher Lite – FREE Live Cool Themes, Hide Apps       ART_AND_DESIGN   \n",
              "Sketch - Draw & Paint                                    ART_AND_DESIGN   \n",
              "Pixel Draw - Number Art Coloring Book                    ART_AND_DESIGN   \n",
              "...                                                                 ...   \n",
              "Sya9a Maroc - FR                                                 FAMILY   \n",
              "Fr. Mike Schmitz Audio Teachings                                 FAMILY   \n",
              "Parkinson Exercices FR                                          MEDICAL   \n",
              "The SCP Foundation DB fr nn5n                       BOOKS_AND_REFERENCE   \n",
              "iHoroscope - 2018 Daily Horoscope & Astrology                 LIFESTYLE   \n",
              "\n",
              "                                                    Rating   Reviews  \\\n",
              "App                                                                    \n",
              "Photo Editor & Candy Camera & Grid & ScrapBook         4.1     159.0   \n",
              "Coloring book moana                                    3.9     967.0   \n",
              "U Launcher Lite – FREE Live Cool Themes, Hide Apps     4.7   87510.0   \n",
              "Sketch - Draw & Paint                                  4.5  215644.0   \n",
              "Pixel Draw - Number Art Coloring Book                  4.3     967.0   \n",
              "...                                                    ...       ...   \n",
              "Sya9a Maroc - FR                                       4.5      38.0   \n",
              "Fr. Mike Schmitz Audio Teachings                       5.0       4.0   \n",
              "Parkinson Exercices FR                                 NaN       3.0   \n",
              "The SCP Foundation DB fr nn5n                          4.5     114.0   \n",
              "iHoroscope - 2018 Daily Horoscope & Astrology          4.5  398307.0   \n",
              "\n",
              "                                                                  Size  \\\n",
              "App                                                                      \n",
              "Photo Editor & Candy Camera & Grid & ScrapBook                     19M   \n",
              "Coloring book moana                                                14M   \n",
              "U Launcher Lite – FREE Live Cool Themes, Hide Apps                8.7M   \n",
              "Sketch - Draw & Paint                                              25M   \n",
              "Pixel Draw - Number Art Coloring Book                             2.8M   \n",
              "...                                                                ...   \n",
              "Sya9a Maroc - FR                                                   53M   \n",
              "Fr. Mike Schmitz Audio Teachings                                  3.6M   \n",
              "Parkinson Exercices FR                                            9.5M   \n",
              "The SCP Foundation DB fr nn5n                       Varies with device   \n",
              "iHoroscope - 2018 Daily Horoscope & Astrology                      19M   \n",
              "\n",
              "                                                      Installs  Type  Price  \\\n",
              "App                                                                           \n",
              "Photo Editor & Candy Camera & Grid & ScrapBook         10000.0  Free    0.0   \n",
              "Coloring book moana                                   500000.0  Free    0.0   \n",
              "U Launcher Lite – FREE Live Cool Themes, Hide Apps   5000000.0  Free    0.0   \n",
              "Sketch - Draw & Paint                               50000000.0  Free    0.0   \n",
              "Pixel Draw - Number Art Coloring Book                 100000.0  Free    0.0   \n",
              "...                                                        ...   ...    ...   \n",
              "Sya9a Maroc - FR                                        5000.0  Free    0.0   \n",
              "Fr. Mike Schmitz Audio Teachings                         100.0  Free    0.0   \n",
              "Parkinson Exercices FR                                  1000.0  Free    0.0   \n",
              "The SCP Foundation DB fr nn5n                           1000.0  Free    0.0   \n",
              "iHoroscope - 2018 Daily Horoscope & Astrology       10000000.0  Free    0.0   \n",
              "\n",
              "                                                   Content Rating  \\\n",
              "App                                                                 \n",
              "Photo Editor & Candy Camera & Grid & ScrapBook           Everyone   \n",
              "Coloring book moana                                      Everyone   \n",
              "U Launcher Lite – FREE Live Cool Themes, Hide Apps       Everyone   \n",
              "Sketch - Draw & Paint                                        Teen   \n",
              "Pixel Draw - Number Art Coloring Book                    Everyone   \n",
              "...                                                           ...   \n",
              "Sya9a Maroc - FR                                         Everyone   \n",
              "Fr. Mike Schmitz Audio Teachings                         Everyone   \n",
              "Parkinson Exercices FR                                   Everyone   \n",
              "The SCP Foundation DB fr nn5n                          Mature 17+   \n",
              "iHoroscope - 2018 Daily Horoscope & Astrology            Everyone   \n",
              "\n",
              "                                                                       Genres  \\\n",
              "App                                                                             \n",
              "Photo Editor & Candy Camera & Grid & ScrapBook                   Art & Design   \n",
              "Coloring book moana                                 Art & Design;Pretend Play   \n",
              "U Launcher Lite – FREE Live Cool Themes, Hide Apps               Art & Design   \n",
              "Sketch - Draw & Paint                                            Art & Design   \n",
              "Pixel Draw - Number Art Coloring Book                 Art & Design;Creativity   \n",
              "...                                                                       ...   \n",
              "Sya9a Maroc - FR                                                    Education   \n",
              "Fr. Mike Schmitz Audio Teachings                                    Education   \n",
              "Parkinson Exercices FR                                                Medical   \n",
              "The SCP Foundation DB fr nn5n                               Books & Reference   \n",
              "iHoroscope - 2018 Daily Horoscope & Astrology                       Lifestyle   \n",
              "\n",
              "                                                   Last Updated  \\\n",
              "App                                                               \n",
              "Photo Editor & Candy Camera & Grid & ScrapBook       07-01-2018   \n",
              "Coloring book moana                                  15-01-2018   \n",
              "U Launcher Lite – FREE Live Cool Themes, Hide Apps   01-08-2018   \n",
              "Sketch - Draw & Paint                                08-06-2018   \n",
              "Pixel Draw - Number Art Coloring Book                20-06-2018   \n",
              "...                                                         ...   \n",
              "Sya9a Maroc - FR                                     25-07-2017   \n",
              "Fr. Mike Schmitz Audio Teachings                     06-07-2018   \n",
              "Parkinson Exercices FR                               20-01-2017   \n",
              "The SCP Foundation DB fr nn5n                        19-01-2015   \n",
              "iHoroscope - 2018 Daily Horoscope & Astrology        25-07-2018   \n",
              "\n",
              "                                                           Current Ver  \\\n",
              "App                                                                      \n",
              "Photo Editor & Candy Camera & Grid & ScrapBook                   1.0.0   \n",
              "Coloring book moana                                              2.0.0   \n",
              "U Launcher Lite – FREE Live Cool Themes, Hide Apps               1.2.4   \n",
              "Sketch - Draw & Paint                               Varies with device   \n",
              "Pixel Draw - Number Art Coloring Book                              1.1   \n",
              "...                                                                ...   \n",
              "Sya9a Maroc - FR                                                  1.48   \n",
              "Fr. Mike Schmitz Audio Teachings                                     1   \n",
              "Parkinson Exercices FR                                               1   \n",
              "The SCP Foundation DB fr nn5n                       Varies with device   \n",
              "iHoroscope - 2018 Daily Horoscope & Astrology       Varies with device   \n",
              "\n",
              "                                                           Android Ver  \n",
              "App                                                                     \n",
              "Photo Editor & Candy Camera & Grid & ScrapBook            4.0.3 and up  \n",
              "Coloring book moana                                       4.0.3 and up  \n",
              "U Launcher Lite – FREE Live Cool Themes, Hide Apps        4.0.3 and up  \n",
              "Sketch - Draw & Paint                                       4.2 and up  \n",
              "Pixel Draw - Number Art Coloring Book                       4.4 and up  \n",
              "...                                                                ...  \n",
              "Sya9a Maroc - FR                                            4.1 and up  \n",
              "Fr. Mike Schmitz Audio Teachings                            4.1 and up  \n",
              "Parkinson Exercices FR                                      2.2 and up  \n",
              "The SCP Foundation DB fr nn5n                       Varies with device  \n",
              "iHoroscope - 2018 Daily Horoscope & Astrology       Varies with device  \n",
              "\n",
              "[10841 rows x 12 columns]"
            ],
            "text/html": [
              "\n",
              "  <div id=\"df-5d15d1de-ff60-49ea-87a5-963c85b45ef6\">\n",
              "    <div class=\"colab-df-container\">\n",
              "      <div>\n",
              "<style scoped>\n",
              "    .dataframe tbody tr th:only-of-type {\n",
              "        vertical-align: middle;\n",
              "    }\n",
              "\n",
              "    .dataframe tbody tr th {\n",
              "        vertical-align: top;\n",
              "    }\n",
              "\n",
              "    .dataframe thead th {\n",
              "        text-align: right;\n",
              "    }\n",
              "</style>\n",
              "<table border=\"1\" class=\"dataframe\">\n",
              "  <thead>\n",
              "    <tr style=\"text-align: right;\">\n",
              "      <th></th>\n",
              "      <th>Category</th>\n",
              "      <th>Rating</th>\n",
              "      <th>Reviews</th>\n",
              "      <th>Size</th>\n",
              "      <th>Installs</th>\n",
              "      <th>Type</th>\n",
              "      <th>Price</th>\n",
              "      <th>Content Rating</th>\n",
              "      <th>Genres</th>\n",
              "      <th>Last Updated</th>\n",
              "      <th>Current Ver</th>\n",
              "      <th>Android Ver</th>\n",
              "    </tr>\n",
              "    <tr>\n",
              "      <th>App</th>\n",
              "      <th></th>\n",
              "      <th></th>\n",
              "      <th></th>\n",
              "      <th></th>\n",
              "      <th></th>\n",
              "      <th></th>\n",
              "      <th></th>\n",
              "      <th></th>\n",
              "      <th></th>\n",
              "      <th></th>\n",
              "      <th></th>\n",
              "      <th></th>\n",
              "    </tr>\n",
              "  </thead>\n",
              "  <tbody>\n",
              "    <tr>\n",
              "      <th>Photo Editor &amp; Candy Camera &amp; Grid &amp; ScrapBook</th>\n",
              "      <td>ART_AND_DESIGN</td>\n",
              "      <td>4.1</td>\n",
              "      <td>159.0</td>\n",
              "      <td>19M</td>\n",
              "      <td>10000.0</td>\n",
              "      <td>Free</td>\n",
              "      <td>0.0</td>\n",
              "      <td>Everyone</td>\n",
              "      <td>Art &amp; Design</td>\n",
              "      <td>07-01-2018</td>\n",
              "      <td>1.0.0</td>\n",
              "      <td>4.0.3 and up</td>\n",
              "    </tr>\n",
              "    <tr>\n",
              "      <th>Coloring book moana</th>\n",
              "      <td>ART_AND_DESIGN</td>\n",
              "      <td>3.9</td>\n",
              "      <td>967.0</td>\n",
              "      <td>14M</td>\n",
              "      <td>500000.0</td>\n",
              "      <td>Free</td>\n",
              "      <td>0.0</td>\n",
              "      <td>Everyone</td>\n",
              "      <td>Art &amp; Design;Pretend Play</td>\n",
              "      <td>15-01-2018</td>\n",
              "      <td>2.0.0</td>\n",
              "      <td>4.0.3 and up</td>\n",
              "    </tr>\n",
              "    <tr>\n",
              "      <th>U Launcher Lite – FREE Live Cool Themes, Hide Apps</th>\n",
              "      <td>ART_AND_DESIGN</td>\n",
              "      <td>4.7</td>\n",
              "      <td>87510.0</td>\n",
              "      <td>8.7M</td>\n",
              "      <td>5000000.0</td>\n",
              "      <td>Free</td>\n",
              "      <td>0.0</td>\n",
              "      <td>Everyone</td>\n",
              "      <td>Art &amp; Design</td>\n",
              "      <td>01-08-2018</td>\n",
              "      <td>1.2.4</td>\n",
              "      <td>4.0.3 and up</td>\n",
              "    </tr>\n",
              "    <tr>\n",
              "      <th>Sketch - Draw &amp; Paint</th>\n",
              "      <td>ART_AND_DESIGN</td>\n",
              "      <td>4.5</td>\n",
              "      <td>215644.0</td>\n",
              "      <td>25M</td>\n",
              "      <td>50000000.0</td>\n",
              "      <td>Free</td>\n",
              "      <td>0.0</td>\n",
              "      <td>Teen</td>\n",
              "      <td>Art &amp; Design</td>\n",
              "      <td>08-06-2018</td>\n",
              "      <td>Varies with device</td>\n",
              "      <td>4.2 and up</td>\n",
              "    </tr>\n",
              "    <tr>\n",
              "      <th>Pixel Draw - Number Art Coloring Book</th>\n",
              "      <td>ART_AND_DESIGN</td>\n",
              "      <td>4.3</td>\n",
              "      <td>967.0</td>\n",
              "      <td>2.8M</td>\n",
              "      <td>100000.0</td>\n",
              "      <td>Free</td>\n",
              "      <td>0.0</td>\n",
              "      <td>Everyone</td>\n",
              "      <td>Art &amp; Design;Creativity</td>\n",
              "      <td>20-06-2018</td>\n",
              "      <td>1.1</td>\n",
              "      <td>4.4 and up</td>\n",
              "    </tr>\n",
              "    <tr>\n",
              "      <th>...</th>\n",
              "      <td>...</td>\n",
              "      <td>...</td>\n",
              "      <td>...</td>\n",
              "      <td>...</td>\n",
              "      <td>...</td>\n",
              "      <td>...</td>\n",
              "      <td>...</td>\n",
              "      <td>...</td>\n",
              "      <td>...</td>\n",
              "      <td>...</td>\n",
              "      <td>...</td>\n",
              "      <td>...</td>\n",
              "    </tr>\n",
              "    <tr>\n",
              "      <th>Sya9a Maroc - FR</th>\n",
              "      <td>FAMILY</td>\n",
              "      <td>4.5</td>\n",
              "      <td>38.0</td>\n",
              "      <td>53M</td>\n",
              "      <td>5000.0</td>\n",
              "      <td>Free</td>\n",
              "      <td>0.0</td>\n",
              "      <td>Everyone</td>\n",
              "      <td>Education</td>\n",
              "      <td>25-07-2017</td>\n",
              "      <td>1.48</td>\n",
              "      <td>4.1 and up</td>\n",
              "    </tr>\n",
              "    <tr>\n",
              "      <th>Fr. Mike Schmitz Audio Teachings</th>\n",
              "      <td>FAMILY</td>\n",
              "      <td>5.0</td>\n",
              "      <td>4.0</td>\n",
              "      <td>3.6M</td>\n",
              "      <td>100.0</td>\n",
              "      <td>Free</td>\n",
              "      <td>0.0</td>\n",
              "      <td>Everyone</td>\n",
              "      <td>Education</td>\n",
              "      <td>06-07-2018</td>\n",
              "      <td>1</td>\n",
              "      <td>4.1 and up</td>\n",
              "    </tr>\n",
              "    <tr>\n",
              "      <th>Parkinson Exercices FR</th>\n",
              "      <td>MEDICAL</td>\n",
              "      <td>NaN</td>\n",
              "      <td>3.0</td>\n",
              "      <td>9.5M</td>\n",
              "      <td>1000.0</td>\n",
              "      <td>Free</td>\n",
              "      <td>0.0</td>\n",
              "      <td>Everyone</td>\n",
              "      <td>Medical</td>\n",
              "      <td>20-01-2017</td>\n",
              "      <td>1</td>\n",
              "      <td>2.2 and up</td>\n",
              "    </tr>\n",
              "    <tr>\n",
              "      <th>The SCP Foundation DB fr nn5n</th>\n",
              "      <td>BOOKS_AND_REFERENCE</td>\n",
              "      <td>4.5</td>\n",
              "      <td>114.0</td>\n",
              "      <td>Varies with device</td>\n",
              "      <td>1000.0</td>\n",
              "      <td>Free</td>\n",
              "      <td>0.0</td>\n",
              "      <td>Mature 17+</td>\n",
              "      <td>Books &amp; Reference</td>\n",
              "      <td>19-01-2015</td>\n",
              "      <td>Varies with device</td>\n",
              "      <td>Varies with device</td>\n",
              "    </tr>\n",
              "    <tr>\n",
              "      <th>iHoroscope - 2018 Daily Horoscope &amp; Astrology</th>\n",
              "      <td>LIFESTYLE</td>\n",
              "      <td>4.5</td>\n",
              "      <td>398307.0</td>\n",
              "      <td>19M</td>\n",
              "      <td>10000000.0</td>\n",
              "      <td>Free</td>\n",
              "      <td>0.0</td>\n",
              "      <td>Everyone</td>\n",
              "      <td>Lifestyle</td>\n",
              "      <td>25-07-2018</td>\n",
              "      <td>Varies with device</td>\n",
              "      <td>Varies with device</td>\n",
              "    </tr>\n",
              "  </tbody>\n",
              "</table>\n",
              "<p>10841 rows × 12 columns</p>\n",
              "</div>\n",
              "      <button class=\"colab-df-convert\" onclick=\"convertToInteractive('df-5d15d1de-ff60-49ea-87a5-963c85b45ef6')\"\n",
              "              title=\"Convert this dataframe to an interactive table.\"\n",
              "              style=\"display:none;\">\n",
              "        \n",
              "  <svg xmlns=\"http://www.w3.org/2000/svg\" height=\"24px\"viewBox=\"0 0 24 24\"\n",
              "       width=\"24px\">\n",
              "    <path d=\"M0 0h24v24H0V0z\" fill=\"none\"/>\n",
              "    <path d=\"M18.56 5.44l.94 2.06.94-2.06 2.06-.94-2.06-.94-.94-2.06-.94 2.06-2.06.94zm-11 1L8.5 8.5l.94-2.06 2.06-.94-2.06-.94L8.5 2.5l-.94 2.06-2.06.94zm10 10l.94 2.06.94-2.06 2.06-.94-2.06-.94-.94-2.06-.94 2.06-2.06.94z\"/><path d=\"M17.41 7.96l-1.37-1.37c-.4-.4-.92-.59-1.43-.59-.52 0-1.04.2-1.43.59L10.3 9.45l-7.72 7.72c-.78.78-.78 2.05 0 2.83L4 21.41c.39.39.9.59 1.41.59.51 0 1.02-.2 1.41-.59l7.78-7.78 2.81-2.81c.8-.78.8-2.07 0-2.86zM5.41 20L4 18.59l7.72-7.72 1.47 1.35L5.41 20z\"/>\n",
              "  </svg>\n",
              "      </button>\n",
              "      \n",
              "  <style>\n",
              "    .colab-df-container {\n",
              "      display:flex;\n",
              "      flex-wrap:wrap;\n",
              "      gap: 12px;\n",
              "    }\n",
              "\n",
              "    .colab-df-convert {\n",
              "      background-color: #E8F0FE;\n",
              "      border: none;\n",
              "      border-radius: 50%;\n",
              "      cursor: pointer;\n",
              "      display: none;\n",
              "      fill: #1967D2;\n",
              "      height: 32px;\n",
              "      padding: 0 0 0 0;\n",
              "      width: 32px;\n",
              "    }\n",
              "\n",
              "    .colab-df-convert:hover {\n",
              "      background-color: #E2EBFA;\n",
              "      box-shadow: 0px 1px 2px rgba(60, 64, 67, 0.3), 0px 1px 3px 1px rgba(60, 64, 67, 0.15);\n",
              "      fill: #174EA6;\n",
              "    }\n",
              "\n",
              "    [theme=dark] .colab-df-convert {\n",
              "      background-color: #3B4455;\n",
              "      fill: #D2E3FC;\n",
              "    }\n",
              "\n",
              "    [theme=dark] .colab-df-convert:hover {\n",
              "      background-color: #434B5C;\n",
              "      box-shadow: 0px 1px 3px 1px rgba(0, 0, 0, 0.15);\n",
              "      filter: drop-shadow(0px 1px 2px rgba(0, 0, 0, 0.3));\n",
              "      fill: #FFFFFF;\n",
              "    }\n",
              "  </style>\n",
              "\n",
              "      <script>\n",
              "        const buttonEl =\n",
              "          document.querySelector('#df-5d15d1de-ff60-49ea-87a5-963c85b45ef6 button.colab-df-convert');\n",
              "        buttonEl.style.display =\n",
              "          google.colab.kernel.accessAllowed ? 'block' : 'none';\n",
              "\n",
              "        async function convertToInteractive(key) {\n",
              "          const element = document.querySelector('#df-5d15d1de-ff60-49ea-87a5-963c85b45ef6');\n",
              "          const dataTable =\n",
              "            await google.colab.kernel.invokeFunction('convertToInteractive',\n",
              "                                                     [key], {});\n",
              "          if (!dataTable) return;\n",
              "\n",
              "          const docLinkHtml = 'Like what you see? Visit the ' +\n",
              "            '<a target=\"_blank\" href=https://colab.research.google.com/notebooks/data_table.ipynb>data table notebook</a>'\n",
              "            + ' to learn more about interactive tables.';\n",
              "          element.innerHTML = '';\n",
              "          dataTable['output_type'] = 'display_data';\n",
              "          await google.colab.output.renderOutput(dataTable, element);\n",
              "          const docLink = document.createElement('div');\n",
              "          docLink.innerHTML = docLinkHtml;\n",
              "          element.appendChild(docLink);\n",
              "        }\n",
              "      </script>\n",
              "    </div>\n",
              "  </div>\n",
              "  "
            ]
          },
          "metadata": {},
          "execution_count": 5
        }
      ]
    },
    {
      "cell_type": "code",
      "source": [
        "#reading file for analysis\n",
        "\n",
        "df2 = pd.read_csv('playstore_reviews.csv',index_col='App')\n",
        "\n",
        "df2"
      ],
      "metadata": {
        "colab": {
          "base_uri": "https://localhost:8080/",
          "height": 455
        },
        "id": "UkOqPJ5653AF",
        "outputId": "d7b19ac4-8dc9-4441-d354-e36bb8a34f25"
      },
      "execution_count": 7,
      "outputs": [
        {
          "output_type": "execute_result",
          "data": {
            "text/plain": [
              "                                                             Translated_Review  \\\n",
              "App                                                                              \n",
              "10 Best Foods for You        I like eat delicious food. That's I'm cooking ...   \n",
              "10 Best Foods for You          This help eating healthy exercise regular basis   \n",
              "10 Best Foods for You                                                      NaN   \n",
              "10 Best Foods for You               Works great especially going grocery store   \n",
              "10 Best Foods for You                                             Best idea us   \n",
              "...                                                                        ...   \n",
              "Houzz Interior Design Ideas                                                NaN   \n",
              "Houzz Interior Design Ideas                                                NaN   \n",
              "Houzz Interior Design Ideas                                                NaN   \n",
              "Houzz Interior Design Ideas                                                NaN   \n",
              "Houzz Interior Design Ideas                                                NaN   \n",
              "\n",
              "                            Sentiment  Sentiment_Polarity  \\\n",
              "App                                                         \n",
              "10 Best Foods for You        Positive                1.00   \n",
              "10 Best Foods for You        Positive                0.25   \n",
              "10 Best Foods for You             NaN                 NaN   \n",
              "10 Best Foods for You        Positive                0.40   \n",
              "10 Best Foods for You        Positive                1.00   \n",
              "...                               ...                 ...   \n",
              "Houzz Interior Design Ideas       NaN                 NaN   \n",
              "Houzz Interior Design Ideas       NaN                 NaN   \n",
              "Houzz Interior Design Ideas       NaN                 NaN   \n",
              "Houzz Interior Design Ideas       NaN                 NaN   \n",
              "Houzz Interior Design Ideas       NaN                 NaN   \n",
              "\n",
              "                             Sentiment_Subjectivity  \n",
              "App                                                  \n",
              "10 Best Foods for You                      0.533333  \n",
              "10 Best Foods for You                      0.288462  \n",
              "10 Best Foods for You                           NaN  \n",
              "10 Best Foods for You                      0.875000  \n",
              "10 Best Foods for You                      0.300000  \n",
              "...                                             ...  \n",
              "Houzz Interior Design Ideas                     NaN  \n",
              "Houzz Interior Design Ideas                     NaN  \n",
              "Houzz Interior Design Ideas                     NaN  \n",
              "Houzz Interior Design Ideas                     NaN  \n",
              "Houzz Interior Design Ideas                     NaN  \n",
              "\n",
              "[64295 rows x 4 columns]"
            ],
            "text/html": [
              "\n",
              "  <div id=\"df-fbf21a46-f3ac-4fb0-89dc-1005919e031f\">\n",
              "    <div class=\"colab-df-container\">\n",
              "      <div>\n",
              "<style scoped>\n",
              "    .dataframe tbody tr th:only-of-type {\n",
              "        vertical-align: middle;\n",
              "    }\n",
              "\n",
              "    .dataframe tbody tr th {\n",
              "        vertical-align: top;\n",
              "    }\n",
              "\n",
              "    .dataframe thead th {\n",
              "        text-align: right;\n",
              "    }\n",
              "</style>\n",
              "<table border=\"1\" class=\"dataframe\">\n",
              "  <thead>\n",
              "    <tr style=\"text-align: right;\">\n",
              "      <th></th>\n",
              "      <th>Translated_Review</th>\n",
              "      <th>Sentiment</th>\n",
              "      <th>Sentiment_Polarity</th>\n",
              "      <th>Sentiment_Subjectivity</th>\n",
              "    </tr>\n",
              "    <tr>\n",
              "      <th>App</th>\n",
              "      <th></th>\n",
              "      <th></th>\n",
              "      <th></th>\n",
              "      <th></th>\n",
              "    </tr>\n",
              "  </thead>\n",
              "  <tbody>\n",
              "    <tr>\n",
              "      <th>10 Best Foods for You</th>\n",
              "      <td>I like eat delicious food. That's I'm cooking ...</td>\n",
              "      <td>Positive</td>\n",
              "      <td>1.00</td>\n",
              "      <td>0.533333</td>\n",
              "    </tr>\n",
              "    <tr>\n",
              "      <th>10 Best Foods for You</th>\n",
              "      <td>This help eating healthy exercise regular basis</td>\n",
              "      <td>Positive</td>\n",
              "      <td>0.25</td>\n",
              "      <td>0.288462</td>\n",
              "    </tr>\n",
              "    <tr>\n",
              "      <th>10 Best Foods for You</th>\n",
              "      <td>NaN</td>\n",
              "      <td>NaN</td>\n",
              "      <td>NaN</td>\n",
              "      <td>NaN</td>\n",
              "    </tr>\n",
              "    <tr>\n",
              "      <th>10 Best Foods for You</th>\n",
              "      <td>Works great especially going grocery store</td>\n",
              "      <td>Positive</td>\n",
              "      <td>0.40</td>\n",
              "      <td>0.875000</td>\n",
              "    </tr>\n",
              "    <tr>\n",
              "      <th>10 Best Foods for You</th>\n",
              "      <td>Best idea us</td>\n",
              "      <td>Positive</td>\n",
              "      <td>1.00</td>\n",
              "      <td>0.300000</td>\n",
              "    </tr>\n",
              "    <tr>\n",
              "      <th>...</th>\n",
              "      <td>...</td>\n",
              "      <td>...</td>\n",
              "      <td>...</td>\n",
              "      <td>...</td>\n",
              "    </tr>\n",
              "    <tr>\n",
              "      <th>Houzz Interior Design Ideas</th>\n",
              "      <td>NaN</td>\n",
              "      <td>NaN</td>\n",
              "      <td>NaN</td>\n",
              "      <td>NaN</td>\n",
              "    </tr>\n",
              "    <tr>\n",
              "      <th>Houzz Interior Design Ideas</th>\n",
              "      <td>NaN</td>\n",
              "      <td>NaN</td>\n",
              "      <td>NaN</td>\n",
              "      <td>NaN</td>\n",
              "    </tr>\n",
              "    <tr>\n",
              "      <th>Houzz Interior Design Ideas</th>\n",
              "      <td>NaN</td>\n",
              "      <td>NaN</td>\n",
              "      <td>NaN</td>\n",
              "      <td>NaN</td>\n",
              "    </tr>\n",
              "    <tr>\n",
              "      <th>Houzz Interior Design Ideas</th>\n",
              "      <td>NaN</td>\n",
              "      <td>NaN</td>\n",
              "      <td>NaN</td>\n",
              "      <td>NaN</td>\n",
              "    </tr>\n",
              "    <tr>\n",
              "      <th>Houzz Interior Design Ideas</th>\n",
              "      <td>NaN</td>\n",
              "      <td>NaN</td>\n",
              "      <td>NaN</td>\n",
              "      <td>NaN</td>\n",
              "    </tr>\n",
              "  </tbody>\n",
              "</table>\n",
              "<p>64295 rows × 4 columns</p>\n",
              "</div>\n",
              "      <button class=\"colab-df-convert\" onclick=\"convertToInteractive('df-fbf21a46-f3ac-4fb0-89dc-1005919e031f')\"\n",
              "              title=\"Convert this dataframe to an interactive table.\"\n",
              "              style=\"display:none;\">\n",
              "        \n",
              "  <svg xmlns=\"http://www.w3.org/2000/svg\" height=\"24px\"viewBox=\"0 0 24 24\"\n",
              "       width=\"24px\">\n",
              "    <path d=\"M0 0h24v24H0V0z\" fill=\"none\"/>\n",
              "    <path d=\"M18.56 5.44l.94 2.06.94-2.06 2.06-.94-2.06-.94-.94-2.06-.94 2.06-2.06.94zm-11 1L8.5 8.5l.94-2.06 2.06-.94-2.06-.94L8.5 2.5l-.94 2.06-2.06.94zm10 10l.94 2.06.94-2.06 2.06-.94-2.06-.94-.94-2.06-.94 2.06-2.06.94z\"/><path d=\"M17.41 7.96l-1.37-1.37c-.4-.4-.92-.59-1.43-.59-.52 0-1.04.2-1.43.59L10.3 9.45l-7.72 7.72c-.78.78-.78 2.05 0 2.83L4 21.41c.39.39.9.59 1.41.59.51 0 1.02-.2 1.41-.59l7.78-7.78 2.81-2.81c.8-.78.8-2.07 0-2.86zM5.41 20L4 18.59l7.72-7.72 1.47 1.35L5.41 20z\"/>\n",
              "  </svg>\n",
              "      </button>\n",
              "      \n",
              "  <style>\n",
              "    .colab-df-container {\n",
              "      display:flex;\n",
              "      flex-wrap:wrap;\n",
              "      gap: 12px;\n",
              "    }\n",
              "\n",
              "    .colab-df-convert {\n",
              "      background-color: #E8F0FE;\n",
              "      border: none;\n",
              "      border-radius: 50%;\n",
              "      cursor: pointer;\n",
              "      display: none;\n",
              "      fill: #1967D2;\n",
              "      height: 32px;\n",
              "      padding: 0 0 0 0;\n",
              "      width: 32px;\n",
              "    }\n",
              "\n",
              "    .colab-df-convert:hover {\n",
              "      background-color: #E2EBFA;\n",
              "      box-shadow: 0px 1px 2px rgba(60, 64, 67, 0.3), 0px 1px 3px 1px rgba(60, 64, 67, 0.15);\n",
              "      fill: #174EA6;\n",
              "    }\n",
              "\n",
              "    [theme=dark] .colab-df-convert {\n",
              "      background-color: #3B4455;\n",
              "      fill: #D2E3FC;\n",
              "    }\n",
              "\n",
              "    [theme=dark] .colab-df-convert:hover {\n",
              "      background-color: #434B5C;\n",
              "      box-shadow: 0px 1px 3px 1px rgba(0, 0, 0, 0.15);\n",
              "      filter: drop-shadow(0px 1px 2px rgba(0, 0, 0, 0.3));\n",
              "      fill: #FFFFFF;\n",
              "    }\n",
              "  </style>\n",
              "\n",
              "      <script>\n",
              "        const buttonEl =\n",
              "          document.querySelector('#df-fbf21a46-f3ac-4fb0-89dc-1005919e031f button.colab-df-convert');\n",
              "        buttonEl.style.display =\n",
              "          google.colab.kernel.accessAllowed ? 'block' : 'none';\n",
              "\n",
              "        async function convertToInteractive(key) {\n",
              "          const element = document.querySelector('#df-fbf21a46-f3ac-4fb0-89dc-1005919e031f');\n",
              "          const dataTable =\n",
              "            await google.colab.kernel.invokeFunction('convertToInteractive',\n",
              "                                                     [key], {});\n",
              "          if (!dataTable) return;\n",
              "\n",
              "          const docLinkHtml = 'Like what you see? Visit the ' +\n",
              "            '<a target=\"_blank\" href=https://colab.research.google.com/notebooks/data_table.ipynb>data table notebook</a>'\n",
              "            + ' to learn more about interactive tables.';\n",
              "          element.innerHTML = '';\n",
              "          dataTable['output_type'] = 'display_data';\n",
              "          await google.colab.output.renderOutput(dataTable, element);\n",
              "          const docLink = document.createElement('div');\n",
              "          docLink.innerHTML = docLinkHtml;\n",
              "          element.appendChild(docLink);\n",
              "        }\n",
              "      </script>\n",
              "    </div>\n",
              "  </div>\n",
              "  "
            ]
          },
          "metadata": {},
          "execution_count": 7
        }
      ]
    },
    {
      "cell_type": "code",
      "source": [
        "#Subtask 1: Removing duplicate rows:\n",
        "\n",
        "\n",
        "df1.drop_duplicates(keep = False, inplace=True)\n",
        "\n",
        "df1.info()"
      ],
      "metadata": {
        "colab": {
          "base_uri": "https://localhost:8080/"
        },
        "id": "jyyUJnGY6QDS",
        "outputId": "894a6018-816f-4d96-8bd6-b033ddebef49"
      },
      "execution_count": 9,
      "outputs": [
        {
          "output_type": "stream",
          "name": "stdout",
          "text": [
            "<class 'pandas.core.frame.DataFrame'>\n",
            "Index: 9930 entries, Photo Editor & Candy Camera & Grid & ScrapBook to iHoroscope - 2018 Daily Horoscope & Astrology\n",
            "Data columns (total 12 columns):\n",
            " #   Column          Non-Null Count  Dtype  \n",
            "---  ------          --------------  -----  \n",
            " 0   Category        9930 non-null   object \n",
            " 1   Rating          8487 non-null   float64\n",
            " 2   Reviews         9929 non-null   float64\n",
            " 3   Size            9930 non-null   object \n",
            " 4   Installs        9929 non-null   float64\n",
            " 5   Type            9929 non-null   object \n",
            " 6   Price           9929 non-null   float64\n",
            " 7   Content Rating  9929 non-null   object \n",
            " 8   Genres          9930 non-null   object \n",
            " 9   Last Updated    9929 non-null   object \n",
            " 10  Current Ver     9922 non-null   object \n",
            " 11  Android Ver     9927 non-null   object \n",
            "dtypes: float64(4), object(8)\n",
            "memory usage: 1008.5+ KB\n"
          ]
        }
      ]
    },
    {
      "cell_type": "code",
      "source": [
        "#Subtask2: Remove irrelevant values from each column if any:\n"
      ],
      "metadata": {
        "id": "wyOonLA17dZz"
      },
      "execution_count": null,
      "outputs": []
    },
    {
      "cell_type": "markdown",
      "source": [
        "Use the .unique function in python provided by the NumPy library to get a list of all the unique values present in that particular column, if a unique value does not comply with the data type of the column or does not justify the characteristic of the attribute then remove all the rows having that unique value.\n"
      ],
      "metadata": {
        "id": "5-MNYYFC7_5p"
      }
    },
    {
      "cell_type": "code",
      "source": [
        "#unique values in category column \n",
        "\n",
        "print(df1['Category'].unique())"
      ],
      "metadata": {
        "colab": {
          "base_uri": "https://localhost:8080/"
        },
        "id": "vyDeR-rK8Bp5",
        "outputId": "58c3e3fc-558b-4574-bd34-bb93b9324915"
      },
      "execution_count": 12,
      "outputs": [
        {
          "output_type": "stream",
          "name": "stdout",
          "text": [
            "['ART_AND_DESIGN' 'AUTO_AND_VEHICLES' 'BEAUTY' 'BOOKS_AND_REFERENCE'\n",
            " 'BUSINESS' 'COMICS' 'COMMUNICATION' 'DATING' 'EDUCATION' 'ENTERTAINMENT'\n",
            " 'EVENTS' 'FINANCE' 'FOOD_AND_DRINK' 'HEALTH_AND_FITNESS' 'HOUSE_AND_HOME'\n",
            " 'LIBRARIES_AND_DEMO' 'LIFESTYLE' 'GAME' 'FAMILY' 'MEDICAL' 'SOCIAL'\n",
            " 'SHOPPING' 'PHOTOGRAPHY' 'SPORTS' 'TRAVEL_AND_LOCAL' 'TOOLS'\n",
            " 'PERSONALIZATION' 'PRODUCTIVITY' 'PARENTING' 'WEATHER' 'VIDEO_PLAYERS'\n",
            " 'NEWS_AND_MAGAZINES' 'MAPS_AND_NAVIGATION' '1.9']\n"
          ]
        }
      ]
    },
    {
      "cell_type": "code",
      "source": [],
      "metadata": {
        "id": "noyB4hJC-MgJ"
      },
      "execution_count": null,
      "outputs": []
    },
    {
      "cell_type": "code",
      "source": [
        "print(df1[df1['Category'] == '1.9'])"
      ],
      "metadata": {
        "colab": {
          "base_uri": "https://localhost:8080/"
        },
        "id": "Uq8EauzZ9L3h",
        "outputId": "0434a6bc-8792-40ad-94f8-63eab23fa55e"
      },
      "execution_count": 14,
      "outputs": [
        {
          "output_type": "stream",
          "name": "stdout",
          "text": [
            "                                        Category  Rating  Reviews    Size  \\\n",
            "App                                                                         \n",
            "Life Made WI-Fi Touchscreen Photo Frame      1.9    19.0      NaN  1,000+   \n",
            "\n",
            "                                         Installs Type  Price Content Rating  \\\n",
            "App                                                                            \n",
            "Life Made WI-Fi Touchscreen Photo Frame       NaN    0    NaN            NaN   \n",
            "\n",
            "                                                    Genres Last Updated  \\\n",
            "App                                                                       \n",
            "Life Made WI-Fi Touchscreen Photo Frame  February 11, 2018          NaN   \n",
            "\n",
            "                                        Current Ver Android Ver  \n",
            "App                                                              \n",
            "Life Made WI-Fi Touchscreen Photo Frame  4.0 and up         NaN  \n"
          ]
        }
      ]
    },
    {
      "cell_type": "code",
      "source": [],
      "metadata": {
        "id": "LvEOXPO_DGUw"
      },
      "execution_count": null,
      "outputs": []
    },
    {
      "cell_type": "code",
      "source": [],
      "metadata": {
        "id": "0cgeJ2FGAABZ"
      },
      "execution_count": null,
      "outputs": []
    },
    {
      "cell_type": "code",
      "source": [
        "df1.drop(\"Life Made WI-Fi Touchscreen Photo Frame\", inplace=True)\n"
      ],
      "metadata": {
        "id": "m7jSDts992bb"
      },
      "execution_count": 15,
      "outputs": []
    },
    {
      "cell_type": "code",
      "source": [
        "print(df1['Category'].unique())\n"
      ],
      "metadata": {
        "colab": {
          "base_uri": "https://localhost:8080/"
        },
        "id": "GQ6roG9L-N2q",
        "outputId": "8d069acd-78d8-4b2c-ac26-514eb22297c7"
      },
      "execution_count": 16,
      "outputs": [
        {
          "output_type": "stream",
          "name": "stdout",
          "text": [
            "['ART_AND_DESIGN' 'AUTO_AND_VEHICLES' 'BEAUTY' 'BOOKS_AND_REFERENCE'\n",
            " 'BUSINESS' 'COMICS' 'COMMUNICATION' 'DATING' 'EDUCATION' 'ENTERTAINMENT'\n",
            " 'EVENTS' 'FINANCE' 'FOOD_AND_DRINK' 'HEALTH_AND_FITNESS' 'HOUSE_AND_HOME'\n",
            " 'LIBRARIES_AND_DEMO' 'LIFESTYLE' 'GAME' 'FAMILY' 'MEDICAL' 'SOCIAL'\n",
            " 'SHOPPING' 'PHOTOGRAPHY' 'SPORTS' 'TRAVEL_AND_LOCAL' 'TOOLS'\n",
            " 'PERSONALIZATION' 'PRODUCTIVITY' 'PARENTING' 'WEATHER' 'VIDEO_PLAYERS'\n",
            " 'NEWS_AND_MAGAZINES' 'MAPS_AND_NAVIGATION']\n"
          ]
        }
      ]
    },
    {
      "cell_type": "code",
      "source": [
        "# repeating operation for each coloum \n",
        "#now doing for second coloum 'Rating'\n",
        "print(df1['Rating'].unique())"
      ],
      "metadata": {
        "colab": {
          "base_uri": "https://localhost:8080/"
        },
        "id": "mIDGAN9y_Xsi",
        "outputId": "c0962382-7021-4ca4-87f0-a63e205b9e2e"
      },
      "execution_count": 17,
      "outputs": [
        {
          "output_type": "stream",
          "name": "stdout",
          "text": [
            "[4.1 3.9 4.7 4.5 4.3 4.4 3.8 4.2 4.6 3.2 4.  nan 4.8 4.9 3.6 3.7 3.3 3.4\n",
            " 3.5 3.1 5.  2.6 3.  2.5 1.  1.9 2.9 2.8 2.3 2.2 1.7 2.  1.8 2.7 2.4 1.6\n",
            " 2.1 1.4 1.5 1.2]\n"
          ]
        }
      ]
    },
    {
      "cell_type": "code",
      "source": [],
      "metadata": {
        "id": "7qQBMsY0A3gm"
      },
      "execution_count": null,
      "outputs": []
    },
    {
      "cell_type": "code",
      "source": [
        "print(df1[df1['Rating'] == '.1'])"
      ],
      "metadata": {
        "colab": {
          "base_uri": "https://localhost:8080/"
        },
        "id": "VvcExROHAA6_",
        "outputId": "2595d299-c84e-42d4-c68f-8902d6ef360d"
      },
      "execution_count": 18,
      "outputs": [
        {
          "output_type": "stream",
          "name": "stdout",
          "text": [
            "Empty DataFrame\n",
            "Columns: [Category, Rating, Reviews, Size, Installs, Type, Price, Content Rating, Genres, Last Updated, Current Ver, Android Ver]\n",
            "Index: []\n"
          ]
        }
      ]
    },
    {
      "cell_type": "code",
      "source": [
        "print(df1[df1['Rating'] == nan])"
      ],
      "metadata": {
        "colab": {
          "base_uri": "https://localhost:8080/"
        },
        "id": "gQctA1swAO27",
        "outputId": "857f6860-adbd-4ae7-bcac-710ac95f57f9"
      },
      "execution_count": 25,
      "outputs": [
        {
          "output_type": "stream",
          "name": "stdout",
          "text": [
            "Empty DataFrame\n",
            "Columns: [Category, Rating, Reviews, Size, Installs, Type, Price, Content Rating, Genres, Last Updated, Current Ver, Android Ver]\n",
            "Index: []\n"
          ]
        }
      ]
    },
    {
      "cell_type": "code",
      "source": [
        "# repeating operation for each coloum \n",
        "#now doing for Third coloum 'Reviews'\n",
        "print(df1['Reviews'].unique())"
      ],
      "metadata": {
        "colab": {
          "base_uri": "https://localhost:8080/"
        },
        "id": "a0JtQID_A4bv",
        "outputId": "084d84cd-e784-4c56-f69c-13b0af361841"
      },
      "execution_count": 21,
      "outputs": [
        {
          "output_type": "stream",
          "name": "stdout",
          "text": [
            "[1.59000e+02 9.67000e+02 8.75100e+04 ... 6.03000e+02 1.19500e+03\n",
            " 3.98307e+05]\n"
          ]
        }
      ]
    },
    {
      "cell_type": "code",
      "source": [
        "print(df1['Size'].unique())"
      ],
      "metadata": {
        "colab": {
          "base_uri": "https://localhost:8080/"
        },
        "id": "gA3rZIwEBUx8",
        "outputId": "008d0e0f-51ee-4df6-b464-46899d8d7b08"
      },
      "execution_count": 29,
      "outputs": [
        {
          "output_type": "stream",
          "name": "stdout",
          "text": [
            "['19M' '14M' '8.7M' '25M' '2.8M' '5.6M' '29M' '33M' '3.1M' '28M' '12M'\n",
            " '20M' '21M' '37M' '2.7M' '5.5M' '17M' '39M' '31M' '4.2M' '7.0M' '23M'\n",
            " '6.0M' '6.1M' '4.6M' '9.2M' '5.2M' '11M' '24M' 'Varies with device'\n",
            " '9.4M' '15M' '10M' '1.2M' '26M' '8.0M' '7.9M' '56M' '57M' '35M' '54M'\n",
            " '201k' '3.6M' '5.7M' '8.6M' '2.4M' '27M' '2.5M' '16M' '3.4M' '8.9M'\n",
            " '3.9M' '2.9M' '38M' '32M' '5.4M' '18M' '1.1M' '2.2M' '4.5M' '9.8M' '52M'\n",
            " '9.0M' '6.7M' '30M' '2.6M' '7.1M' '3.7M' '22M' '7.4M' '6.4M' '3.2M'\n",
            " '8.2M' '9.9M' '4.9M' '9.5M' '5.0M' '5.9M' '13M' '73M' '6.8M' '3.5M'\n",
            " '4.0M' '2.3M' '7.2M' '2.1M' '42M' '7.3M' '9.1M' '55M' '23k' '6.5M' '1.5M'\n",
            " '7.5M' '46M' '8.3M' '4.3M' '4.7M' '3.3M' '40M' '7.8M' '8.8M' '6.6M'\n",
            " '5.1M' '61M' '66M' '79k' '8.4M' '118k' '44M' '695k' '1.6M' '6.2M' '18k'\n",
            " '53M' '1.4M' '3.0M' '5.8M' '3.8M' '9.6M' '45M' '63M' '49M' '4.4M' '70M'\n",
            " '6.9M' '9.3M' '10.0M' '8.1M' '36M' '41M' '51M' '84M' '97M' '2.0M' '1.9M'\n",
            " '1.8M' '5.3M' '48M' '47M' '556k' '526k' '76M' '7.6M' '59M' '9.7M' '78M'\n",
            " '8.5M' '72M' '43M' '7.7M' '77M' '6.3M' '334k' '34M' '93M' '65M' '79M'\n",
            " '100M' '58M' '50M' '68M' '64M' '94M' '232k' '99M' '624k' '95M' '8.5k'\n",
            " '41k' '292k' '11k' '80M' '1.7M' '67M' '74M' '62M' '69M' '75M' '85M' '82M'\n",
            " '96M' '87M' '60M' '71M' '98M' '86M' '91M' '81M' '92M' '83M' '88M' '862k'\n",
            " '899k' '378k' '266k' '375k' '1.3M' '975k' '980k' '4.1M' '89M' '696k'\n",
            " '544k' '525k' '920k' '779k' '853k' '720k' '713k' '4.8M' '772k' '318k'\n",
            " '58k' '241k' '196k' '857k' '51k' '953k' '865k' '251k' '930k' '540k'\n",
            " '313k' '746k' '203k' '26k' '314k' '239k' '371k' '220k' '730k' '756k'\n",
            " '91k' '293k' '17k' '74k' '14k' '317k' '78k' '924k' '902k' '818k' '81k'\n",
            " '939k' '169k' '45k' '475k' '965k' '90M' '545k' '61k' '283k' '655k' '714k'\n",
            " '93k' '872k' '121k' '322k' '1.0M' '976k' '172k' '238k' '549k' '206k'\n",
            " '954k' '444k' '717k' '210k' '609k' '308k' '705k' '306k' '904k' '473k'\n",
            " '175k' '350k' '383k' '454k' '421k' '70k' '812k' '442k' '842k' '417k'\n",
            " '412k' '459k' '478k' '335k' '782k' '721k' '430k' '429k' '192k' '200k'\n",
            " '460k' '728k' '496k' '816k' '414k' '506k' '887k' '613k' '243k' '569k'\n",
            " '778k' '683k' '592k' '319k' '186k' '840k' '647k' '191k' '373k' '437k'\n",
            " '598k' '716k' '585k' '982k' '222k' '219k' '55k' '948k' '323k' '691k'\n",
            " '511k' '951k' '963k' '25k' '554k' '351k' '27k' '82k' '208k' '913k' '514k'\n",
            " '551k' '29k' '103k' '898k' '743k' '116k' '153k' '209k' '353k' '499k'\n",
            " '173k' '597k' '809k' '122k' '411k' '400k' '801k' '787k' '237k' '50k'\n",
            " '643k' '986k' '97k' '516k' '837k' '780k' '961k' '269k' '20k' '498k'\n",
            " '600k' '749k' '642k' '881k' '72k' '656k' '601k' '221k' '228k' '108k'\n",
            " '940k' '176k' '33k' '663k' '34k' '942k' '259k' '164k' '458k' '245k'\n",
            " '629k' '28k' '288k' '775k' '785k' '636k' '916k' '994k' '309k' '485k'\n",
            " '914k' '903k' '608k' '500k' '54k' '562k' '847k' '957k' '688k' '811k'\n",
            " '270k' '48k' '329k' '523k' '921k' '874k' '981k' '784k' '280k' '24k'\n",
            " '518k' '754k' '892k' '154k' '860k' '364k' '387k' '626k' '161k' '879k'\n",
            " '39k' '970k' '170k' '141k' '160k' '144k' '143k' '190k' '376k' '193k'\n",
            " '246k' '73k' '658k' '992k' '253k' '420k' '404k' '470k' '226k' '240k'\n",
            " '89k' '234k' '257k' '861k' '467k' '157k' '44k' '676k' '67k' '552k' '885k'\n",
            " '1020k' '582k' '619k']\n"
          ]
        }
      ]
    },
    {
      "cell_type": "code",
      "source": [
        "print(df1[df1['Size'] =='Varies with device'])"
      ],
      "metadata": {
        "colab": {
          "base_uri": "https://localhost:8080/"
        },
        "id": "aDi_K0eyCkyW",
        "outputId": "f44cb8b2-ae2c-43c5-8ba6-c317da830f90"
      },
      "execution_count": 36,
      "outputs": [
        {
          "output_type": "stream",
          "name": "stdout",
          "text": [
            "                                                              Category  \\\n",
            "App                                                                      \n",
            "Floor Plan Creator                                      ART_AND_DESIGN   \n",
            "Textgram - write on photos                              ART_AND_DESIGN   \n",
            "Used Cars and Trucks for Sale                        AUTO_AND_VEHICLES   \n",
            "Ulysse Speedometer                                   AUTO_AND_VEHICLES   \n",
            "REPUVE                                               AUTO_AND_VEHICLES   \n",
            "...                                                                ...   \n",
            "My Earthquake Alerts - US & Worldwide Earthquakes              WEATHER   \n",
            "Posta App                                          MAPS_AND_NAVIGATION   \n",
            "Chat For Strangers - Video Chat                                 SOCIAL   \n",
            "Frim: get new friends on local chat rooms                       SOCIAL   \n",
            "The SCP Foundation DB fr nn5n                      BOOKS_AND_REFERENCE   \n",
            "\n",
            "                                                   Rating   Reviews  \\\n",
            "App                                                                   \n",
            "Floor Plan Creator                                    4.1   36639.0   \n",
            "Textgram - write on photos                            4.4  295221.0   \n",
            "Used Cars and Trucks for Sale                         4.6   17057.0   \n",
            "Ulysse Speedometer                                    4.3   40211.0   \n",
            "REPUVE                                                3.9     356.0   \n",
            "...                                                   ...       ...   \n",
            "My Earthquake Alerts - US & Worldwide Earthquakes     4.4    3471.0   \n",
            "Posta App                                             3.6       8.0   \n",
            "Chat For Strangers - Video Chat                       3.4     622.0   \n",
            "Frim: get new friends on local chat rooms             4.0   88486.0   \n",
            "The SCP Foundation DB fr nn5n                         4.5     114.0   \n",
            "\n",
            "                                                                 Size  \\\n",
            "App                                                                     \n",
            "Floor Plan Creator                                 Varies with device   \n",
            "Textgram - write on photos                         Varies with device   \n",
            "Used Cars and Trucks for Sale                      Varies with device   \n",
            "Ulysse Speedometer                                 Varies with device   \n",
            "REPUVE                                             Varies with device   \n",
            "...                                                               ...   \n",
            "My Earthquake Alerts - US & Worldwide Earthquakes  Varies with device   \n",
            "Posta App                                          Varies with device   \n",
            "Chat For Strangers - Video Chat                    Varies with device   \n",
            "Frim: get new friends on local chat rooms          Varies with device   \n",
            "The SCP Foundation DB fr nn5n                      Varies with device   \n",
            "\n",
            "                                                     Installs  Type  Price  \\\n",
            "App                                                                          \n",
            "Floor Plan Creator                                  5000000.0  Free    0.0   \n",
            "Textgram - write on photos                         10000000.0  Free    0.0   \n",
            "Used Cars and Trucks for Sale                       1000000.0  Free    0.0   \n",
            "Ulysse Speedometer                                  5000000.0  Free    0.0   \n",
            "REPUVE                                               100000.0  Free    0.0   \n",
            "...                                                       ...   ...    ...   \n",
            "My Earthquake Alerts - US & Worldwide Earthquakes    100000.0  Free    0.0   \n",
            "Posta App                                              1000.0  Free    0.0   \n",
            "Chat For Strangers - Video Chat                      100000.0  Free    0.0   \n",
            "Frim: get new friends on local chat rooms           5000000.0  Free    0.0   \n",
            "The SCP Foundation DB fr nn5n                          1000.0  Free    0.0   \n",
            "\n",
            "                                                  Content Rating  \\\n",
            "App                                                                \n",
            "Floor Plan Creator                                      Everyone   \n",
            "Textgram - write on photos                              Everyone   \n",
            "Used Cars and Trucks for Sale                           Everyone   \n",
            "Ulysse Speedometer                                      Everyone   \n",
            "REPUVE                                                  Everyone   \n",
            "...                                                          ...   \n",
            "My Earthquake Alerts - US & Worldwide Earthquakes       Everyone   \n",
            "Posta App                                               Everyone   \n",
            "Chat For Strangers - Video Chat                       Mature 17+   \n",
            "Frim: get new friends on local chat rooms             Mature 17+   \n",
            "The SCP Foundation DB fr nn5n                         Mature 17+   \n",
            "\n",
            "                                                              Genres  \\\n",
            "App                                                                    \n",
            "Floor Plan Creator                                      Art & Design   \n",
            "Textgram - write on photos                              Art & Design   \n",
            "Used Cars and Trucks for Sale                        Auto & Vehicles   \n",
            "Ulysse Speedometer                                   Auto & Vehicles   \n",
            "REPUVE                                               Auto & Vehicles   \n",
            "...                                                              ...   \n",
            "My Earthquake Alerts - US & Worldwide Earthquakes            Weather   \n",
            "Posta App                                          Maps & Navigation   \n",
            "Chat For Strangers - Video Chat                               Social   \n",
            "Frim: get new friends on local chat rooms                     Social   \n",
            "The SCP Foundation DB fr nn5n                      Books & Reference   \n",
            "\n",
            "                                                  Last Updated  \\\n",
            "App                                                              \n",
            "Floor Plan Creator                                  14-07-2018   \n",
            "Textgram - write on photos                          30-07-2018   \n",
            "Used Cars and Trucks for Sale                       30-07-2018   \n",
            "Ulysse Speedometer                                  30-07-2018   \n",
            "REPUVE                                              25-05-2018   \n",
            "...                                                        ...   \n",
            "My Earthquake Alerts - US & Worldwide Earthquakes   24-07-2018   \n",
            "Posta App                                           27-09-2017   \n",
            "Chat For Strangers - Video Chat                     23-05-2018   \n",
            "Frim: get new friends on local chat rooms           23-03-2018   \n",
            "The SCP Foundation DB fr nn5n                       19-01-2015   \n",
            "\n",
            "                                                          Current Ver  \\\n",
            "App                                                                     \n",
            "Floor Plan Creator                                 Varies with device   \n",
            "Textgram - write on photos                         Varies with device   \n",
            "Used Cars and Trucks for Sale                      Varies with device   \n",
            "Ulysse Speedometer                                 Varies with device   \n",
            "REPUVE                                             Varies with device   \n",
            "...                                                               ...   \n",
            "My Earthquake Alerts - US & Worldwide Earthquakes  Varies with device   \n",
            "Posta App                                          Varies with device   \n",
            "Chat For Strangers - Video Chat                    Varies with device   \n",
            "Frim: get new friends on local chat rooms          Varies with device   \n",
            "The SCP Foundation DB fr nn5n                      Varies with device   \n",
            "\n",
            "                                                          Android Ver  \n",
            "App                                                                    \n",
            "Floor Plan Creator                                       2.3.3 and up  \n",
            "Textgram - write on photos                         Varies with device  \n",
            "Used Cars and Trucks for Sale                      Varies with device  \n",
            "Ulysse Speedometer                                 Varies with device  \n",
            "REPUVE                                             Varies with device  \n",
            "...                                                               ...  \n",
            "My Earthquake Alerts - US & Worldwide Earthquakes  Varies with device  \n",
            "Posta App                                                  4.4 and up  \n",
            "Chat For Strangers - Video Chat                    Varies with device  \n",
            "Frim: get new friends on local chat rooms          Varies with device  \n",
            "The SCP Foundation DB fr nn5n                      Varies with device  \n",
            "\n",
            "[1391 rows x 12 columns]\n"
          ]
        }
      ]
    },
    {
      "cell_type": "code",
      "source": [
        "df1.drop(\"Floor Plan Creator\",inplace=True)\n"
      ],
      "metadata": {
        "colab": {
          "base_uri": "https://localhost:8080/",
          "height": 396
        },
        "id": "db5BLy8gDHhN",
        "outputId": "4dfd2fca-705f-403d-dae3-51a2870ef6e6"
      },
      "execution_count": 41,
      "outputs": [
        {
          "output_type": "error",
          "ename": "KeyError",
          "evalue": "ignored",
          "traceback": [
            "\u001b[0;31m---------------------------------------------------------------------------\u001b[0m",
            "\u001b[0;31mKeyError\u001b[0m                                  Traceback (most recent call last)",
            "\u001b[0;32m<ipython-input-41-494cbd4b8706>\u001b[0m in \u001b[0;36m<module>\u001b[0;34m\u001b[0m\n\u001b[0;32m----> 1\u001b[0;31m \u001b[0mdf1\u001b[0m\u001b[0;34m.\u001b[0m\u001b[0mdrop\u001b[0m\u001b[0;34m(\u001b[0m\u001b[0;34m\"Floor Plan Creator\"\u001b[0m\u001b[0;34m,\u001b[0m\u001b[0minplace\u001b[0m\u001b[0;34m=\u001b[0m\u001b[0;32mTrue\u001b[0m\u001b[0;34m)\u001b[0m\u001b[0;34m\u001b[0m\u001b[0;34m\u001b[0m\u001b[0m\n\u001b[0m\u001b[1;32m      2\u001b[0m \u001b[0mdf1\u001b[0m\u001b[0;34m.\u001b[0m\u001b[0mdrop\u001b[0m\u001b[0;34m(\u001b[0m\u001b[0;34m\"Textgram - write on photos\"\u001b[0m\u001b[0;34m,\u001b[0m\u001b[0minplace\u001b[0m\u001b[0;34m=\u001b[0m\u001b[0;32mTrue\u001b[0m\u001b[0;34m)\u001b[0m\u001b[0;34m\u001b[0m\u001b[0;34m\u001b[0m\u001b[0m\n\u001b[1;32m      3\u001b[0m \u001b[0;31m#df1.drop(\"Used Cars and Trucks for Sale\",inplace=True)\u001b[0m\u001b[0;34m\u001b[0m\u001b[0;34m\u001b[0m\u001b[0;34m\u001b[0m\u001b[0m\n\u001b[1;32m      4\u001b[0m \u001b[0;31m#df1.drop(\"Ulysse Speedometer\",inplace=True)\u001b[0m\u001b[0;34m\u001b[0m\u001b[0;34m\u001b[0m\u001b[0;34m\u001b[0m\u001b[0m\n\u001b[1;32m      5\u001b[0m \u001b[0;31m#df1.drop(\"REPUVE\",inplace=True)\u001b[0m\u001b[0;34m\u001b[0m\u001b[0;34m\u001b[0m\u001b[0;34m\u001b[0m\u001b[0m\n",
            "\u001b[0;32m/usr/local/lib/python3.8/dist-packages/pandas/util/_decorators.py\u001b[0m in \u001b[0;36mwrapper\u001b[0;34m(*args, **kwargs)\u001b[0m\n\u001b[1;32m    309\u001b[0m                     \u001b[0mstacklevel\u001b[0m\u001b[0;34m=\u001b[0m\u001b[0mstacklevel\u001b[0m\u001b[0;34m,\u001b[0m\u001b[0;34m\u001b[0m\u001b[0;34m\u001b[0m\u001b[0m\n\u001b[1;32m    310\u001b[0m                 )\n\u001b[0;32m--> 311\u001b[0;31m             \u001b[0;32mreturn\u001b[0m \u001b[0mfunc\u001b[0m\u001b[0;34m(\u001b[0m\u001b[0;34m*\u001b[0m\u001b[0margs\u001b[0m\u001b[0;34m,\u001b[0m \u001b[0;34m**\u001b[0m\u001b[0mkwargs\u001b[0m\u001b[0;34m)\u001b[0m\u001b[0;34m\u001b[0m\u001b[0;34m\u001b[0m\u001b[0m\n\u001b[0m\u001b[1;32m    312\u001b[0m \u001b[0;34m\u001b[0m\u001b[0m\n\u001b[1;32m    313\u001b[0m         \u001b[0;32mreturn\u001b[0m \u001b[0mwrapper\u001b[0m\u001b[0;34m\u001b[0m\u001b[0;34m\u001b[0m\u001b[0m\n",
            "\u001b[0;32m/usr/local/lib/python3.8/dist-packages/pandas/core/frame.py\u001b[0m in \u001b[0;36mdrop\u001b[0;34m(self, labels, axis, index, columns, level, inplace, errors)\u001b[0m\n\u001b[1;32m   4904\u001b[0m                 \u001b[0mweight\u001b[0m  \u001b[0;36m1.0\u001b[0m     \u001b[0;36m0.8\u001b[0m\u001b[0;34m\u001b[0m\u001b[0;34m\u001b[0m\u001b[0m\n\u001b[1;32m   4905\u001b[0m         \"\"\"\n\u001b[0;32m-> 4906\u001b[0;31m         return super().drop(\n\u001b[0m\u001b[1;32m   4907\u001b[0m             \u001b[0mlabels\u001b[0m\u001b[0;34m=\u001b[0m\u001b[0mlabels\u001b[0m\u001b[0;34m,\u001b[0m\u001b[0;34m\u001b[0m\u001b[0;34m\u001b[0m\u001b[0m\n\u001b[1;32m   4908\u001b[0m             \u001b[0maxis\u001b[0m\u001b[0;34m=\u001b[0m\u001b[0maxis\u001b[0m\u001b[0;34m,\u001b[0m\u001b[0;34m\u001b[0m\u001b[0;34m\u001b[0m\u001b[0m\n",
            "\u001b[0;32m/usr/local/lib/python3.8/dist-packages/pandas/core/generic.py\u001b[0m in \u001b[0;36mdrop\u001b[0;34m(self, labels, axis, index, columns, level, inplace, errors)\u001b[0m\n\u001b[1;32m   4148\u001b[0m         \u001b[0;32mfor\u001b[0m \u001b[0maxis\u001b[0m\u001b[0;34m,\u001b[0m \u001b[0mlabels\u001b[0m \u001b[0;32min\u001b[0m \u001b[0maxes\u001b[0m\u001b[0;34m.\u001b[0m\u001b[0mitems\u001b[0m\u001b[0;34m(\u001b[0m\u001b[0;34m)\u001b[0m\u001b[0;34m:\u001b[0m\u001b[0;34m\u001b[0m\u001b[0;34m\u001b[0m\u001b[0m\n\u001b[1;32m   4149\u001b[0m             \u001b[0;32mif\u001b[0m \u001b[0mlabels\u001b[0m \u001b[0;32mis\u001b[0m \u001b[0;32mnot\u001b[0m \u001b[0;32mNone\u001b[0m\u001b[0;34m:\u001b[0m\u001b[0;34m\u001b[0m\u001b[0;34m\u001b[0m\u001b[0m\n\u001b[0;32m-> 4150\u001b[0;31m                 \u001b[0mobj\u001b[0m \u001b[0;34m=\u001b[0m \u001b[0mobj\u001b[0m\u001b[0;34m.\u001b[0m\u001b[0m_drop_axis\u001b[0m\u001b[0;34m(\u001b[0m\u001b[0mlabels\u001b[0m\u001b[0;34m,\u001b[0m \u001b[0maxis\u001b[0m\u001b[0;34m,\u001b[0m \u001b[0mlevel\u001b[0m\u001b[0;34m=\u001b[0m\u001b[0mlevel\u001b[0m\u001b[0;34m,\u001b[0m \u001b[0merrors\u001b[0m\u001b[0;34m=\u001b[0m\u001b[0merrors\u001b[0m\u001b[0;34m)\u001b[0m\u001b[0;34m\u001b[0m\u001b[0;34m\u001b[0m\u001b[0m\n\u001b[0m\u001b[1;32m   4151\u001b[0m \u001b[0;34m\u001b[0m\u001b[0m\n\u001b[1;32m   4152\u001b[0m         \u001b[0;32mif\u001b[0m \u001b[0minplace\u001b[0m\u001b[0;34m:\u001b[0m\u001b[0;34m\u001b[0m\u001b[0;34m\u001b[0m\u001b[0m\n",
            "\u001b[0;32m/usr/local/lib/python3.8/dist-packages/pandas/core/generic.py\u001b[0m in \u001b[0;36m_drop_axis\u001b[0;34m(self, labels, axis, level, errors)\u001b[0m\n\u001b[1;32m   4212\u001b[0m                 \u001b[0mlabels_missing\u001b[0m \u001b[0;34m=\u001b[0m \u001b[0;34m(\u001b[0m\u001b[0maxis\u001b[0m\u001b[0;34m.\u001b[0m\u001b[0mget_indexer_for\u001b[0m\u001b[0;34m(\u001b[0m\u001b[0mlabels\u001b[0m\u001b[0;34m)\u001b[0m \u001b[0;34m==\u001b[0m \u001b[0;34m-\u001b[0m\u001b[0;36m1\u001b[0m\u001b[0;34m)\u001b[0m\u001b[0;34m.\u001b[0m\u001b[0many\u001b[0m\u001b[0;34m(\u001b[0m\u001b[0;34m)\u001b[0m\u001b[0;34m\u001b[0m\u001b[0;34m\u001b[0m\u001b[0m\n\u001b[1;32m   4213\u001b[0m                 \u001b[0;32mif\u001b[0m \u001b[0merrors\u001b[0m \u001b[0;34m==\u001b[0m \u001b[0;34m\"raise\"\u001b[0m \u001b[0;32mand\u001b[0m \u001b[0mlabels_missing\u001b[0m\u001b[0;34m:\u001b[0m\u001b[0;34m\u001b[0m\u001b[0;34m\u001b[0m\u001b[0m\n\u001b[0;32m-> 4214\u001b[0;31m                     \u001b[0;32mraise\u001b[0m \u001b[0mKeyError\u001b[0m\u001b[0;34m(\u001b[0m\u001b[0;34mf\"{labels} not found in axis\"\u001b[0m\u001b[0;34m)\u001b[0m\u001b[0;34m\u001b[0m\u001b[0;34m\u001b[0m\u001b[0m\n\u001b[0m\u001b[1;32m   4215\u001b[0m \u001b[0;34m\u001b[0m\u001b[0m\n\u001b[1;32m   4216\u001b[0m             \u001b[0mslicer\u001b[0m \u001b[0;34m=\u001b[0m \u001b[0;34m[\u001b[0m\u001b[0mslice\u001b[0m\u001b[0;34m(\u001b[0m\u001b[0;32mNone\u001b[0m\u001b[0;34m)\u001b[0m\u001b[0;34m]\u001b[0m \u001b[0;34m*\u001b[0m \u001b[0mself\u001b[0m\u001b[0;34m.\u001b[0m\u001b[0mndim\u001b[0m\u001b[0;34m\u001b[0m\u001b[0;34m\u001b[0m\u001b[0m\n",
            "\u001b[0;31mKeyError\u001b[0m: \"['Floor Plan Creator'] not found in axis\""
          ]
        }
      ]
    },
    {
      "cell_type": "code",
      "source": [
        "df1.drop(\"Textgram - write on photos\",inplace=True)\n"
      ],
      "metadata": {
        "id": "ikTSTfl-E2p3"
      },
      "execution_count": 42,
      "outputs": []
    },
    {
      "cell_type": "code",
      "source": [
        "df1.drop(\"Used Cars and Trucks for Sale\",inplace=True)\n"
      ],
      "metadata": {
        "colab": {
          "base_uri": "https://localhost:8080/",
          "height": 323
        },
        "id": "tv1yy7zyE5kW",
        "outputId": "9ff68a73-8ddd-458f-cc34-648636bf2937"
      },
      "execution_count": 44,
      "outputs": [
        {
          "output_type": "error",
          "ename": "KeyError",
          "evalue": "ignored",
          "traceback": [
            "\u001b[0;31m---------------------------------------------------------------------------\u001b[0m",
            "\u001b[0;31mKeyError\u001b[0m                                  Traceback (most recent call last)",
            "\u001b[0;32m<ipython-input-44-32ebcd2fd7ae>\u001b[0m in \u001b[0;36m<module>\u001b[0;34m\u001b[0m\n\u001b[0;32m----> 1\u001b[0;31m \u001b[0mdf1\u001b[0m\u001b[0;34m.\u001b[0m\u001b[0mdrop\u001b[0m\u001b[0;34m(\u001b[0m\u001b[0;34m\"Used Cars and Trucks for Sale\"\u001b[0m\u001b[0;34m,\u001b[0m\u001b[0minplace\u001b[0m\u001b[0;34m=\u001b[0m\u001b[0;32mTrue\u001b[0m\u001b[0;34m)\u001b[0m\u001b[0;34m\u001b[0m\u001b[0;34m\u001b[0m\u001b[0m\n\u001b[0m",
            "\u001b[0;32m/usr/local/lib/python3.8/dist-packages/pandas/util/_decorators.py\u001b[0m in \u001b[0;36mwrapper\u001b[0;34m(*args, **kwargs)\u001b[0m\n\u001b[1;32m    309\u001b[0m                     \u001b[0mstacklevel\u001b[0m\u001b[0;34m=\u001b[0m\u001b[0mstacklevel\u001b[0m\u001b[0;34m,\u001b[0m\u001b[0;34m\u001b[0m\u001b[0;34m\u001b[0m\u001b[0m\n\u001b[1;32m    310\u001b[0m                 )\n\u001b[0;32m--> 311\u001b[0;31m             \u001b[0;32mreturn\u001b[0m \u001b[0mfunc\u001b[0m\u001b[0;34m(\u001b[0m\u001b[0;34m*\u001b[0m\u001b[0margs\u001b[0m\u001b[0;34m,\u001b[0m \u001b[0;34m**\u001b[0m\u001b[0mkwargs\u001b[0m\u001b[0;34m)\u001b[0m\u001b[0;34m\u001b[0m\u001b[0;34m\u001b[0m\u001b[0m\n\u001b[0m\u001b[1;32m    312\u001b[0m \u001b[0;34m\u001b[0m\u001b[0m\n\u001b[1;32m    313\u001b[0m         \u001b[0;32mreturn\u001b[0m \u001b[0mwrapper\u001b[0m\u001b[0;34m\u001b[0m\u001b[0;34m\u001b[0m\u001b[0m\n",
            "\u001b[0;32m/usr/local/lib/python3.8/dist-packages/pandas/core/frame.py\u001b[0m in \u001b[0;36mdrop\u001b[0;34m(self, labels, axis, index, columns, level, inplace, errors)\u001b[0m\n\u001b[1;32m   4904\u001b[0m                 \u001b[0mweight\u001b[0m  \u001b[0;36m1.0\u001b[0m     \u001b[0;36m0.8\u001b[0m\u001b[0;34m\u001b[0m\u001b[0;34m\u001b[0m\u001b[0m\n\u001b[1;32m   4905\u001b[0m         \"\"\"\n\u001b[0;32m-> 4906\u001b[0;31m         return super().drop(\n\u001b[0m\u001b[1;32m   4907\u001b[0m             \u001b[0mlabels\u001b[0m\u001b[0;34m=\u001b[0m\u001b[0mlabels\u001b[0m\u001b[0;34m,\u001b[0m\u001b[0;34m\u001b[0m\u001b[0;34m\u001b[0m\u001b[0m\n\u001b[1;32m   4908\u001b[0m             \u001b[0maxis\u001b[0m\u001b[0;34m=\u001b[0m\u001b[0maxis\u001b[0m\u001b[0;34m,\u001b[0m\u001b[0;34m\u001b[0m\u001b[0;34m\u001b[0m\u001b[0m\n",
            "\u001b[0;32m/usr/local/lib/python3.8/dist-packages/pandas/core/generic.py\u001b[0m in \u001b[0;36mdrop\u001b[0;34m(self, labels, axis, index, columns, level, inplace, errors)\u001b[0m\n\u001b[1;32m   4148\u001b[0m         \u001b[0;32mfor\u001b[0m \u001b[0maxis\u001b[0m\u001b[0;34m,\u001b[0m \u001b[0mlabels\u001b[0m \u001b[0;32min\u001b[0m \u001b[0maxes\u001b[0m\u001b[0;34m.\u001b[0m\u001b[0mitems\u001b[0m\u001b[0;34m(\u001b[0m\u001b[0;34m)\u001b[0m\u001b[0;34m:\u001b[0m\u001b[0;34m\u001b[0m\u001b[0;34m\u001b[0m\u001b[0m\n\u001b[1;32m   4149\u001b[0m             \u001b[0;32mif\u001b[0m \u001b[0mlabels\u001b[0m \u001b[0;32mis\u001b[0m \u001b[0;32mnot\u001b[0m \u001b[0;32mNone\u001b[0m\u001b[0;34m:\u001b[0m\u001b[0;34m\u001b[0m\u001b[0;34m\u001b[0m\u001b[0m\n\u001b[0;32m-> 4150\u001b[0;31m                 \u001b[0mobj\u001b[0m \u001b[0;34m=\u001b[0m \u001b[0mobj\u001b[0m\u001b[0;34m.\u001b[0m\u001b[0m_drop_axis\u001b[0m\u001b[0;34m(\u001b[0m\u001b[0mlabels\u001b[0m\u001b[0;34m,\u001b[0m \u001b[0maxis\u001b[0m\u001b[0;34m,\u001b[0m \u001b[0mlevel\u001b[0m\u001b[0;34m=\u001b[0m\u001b[0mlevel\u001b[0m\u001b[0;34m,\u001b[0m \u001b[0merrors\u001b[0m\u001b[0;34m=\u001b[0m\u001b[0merrors\u001b[0m\u001b[0;34m)\u001b[0m\u001b[0;34m\u001b[0m\u001b[0;34m\u001b[0m\u001b[0m\n\u001b[0m\u001b[1;32m   4151\u001b[0m \u001b[0;34m\u001b[0m\u001b[0m\n\u001b[1;32m   4152\u001b[0m         \u001b[0;32mif\u001b[0m \u001b[0minplace\u001b[0m\u001b[0;34m:\u001b[0m\u001b[0;34m\u001b[0m\u001b[0;34m\u001b[0m\u001b[0m\n",
            "\u001b[0;32m/usr/local/lib/python3.8/dist-packages/pandas/core/generic.py\u001b[0m in \u001b[0;36m_drop_axis\u001b[0;34m(self, labels, axis, level, errors)\u001b[0m\n\u001b[1;32m   4212\u001b[0m                 \u001b[0mlabels_missing\u001b[0m \u001b[0;34m=\u001b[0m \u001b[0;34m(\u001b[0m\u001b[0maxis\u001b[0m\u001b[0;34m.\u001b[0m\u001b[0mget_indexer_for\u001b[0m\u001b[0;34m(\u001b[0m\u001b[0mlabels\u001b[0m\u001b[0;34m)\u001b[0m \u001b[0;34m==\u001b[0m \u001b[0;34m-\u001b[0m\u001b[0;36m1\u001b[0m\u001b[0;34m)\u001b[0m\u001b[0;34m.\u001b[0m\u001b[0many\u001b[0m\u001b[0;34m(\u001b[0m\u001b[0;34m)\u001b[0m\u001b[0;34m\u001b[0m\u001b[0;34m\u001b[0m\u001b[0m\n\u001b[1;32m   4213\u001b[0m                 \u001b[0;32mif\u001b[0m \u001b[0merrors\u001b[0m \u001b[0;34m==\u001b[0m \u001b[0;34m\"raise\"\u001b[0m \u001b[0;32mand\u001b[0m \u001b[0mlabels_missing\u001b[0m\u001b[0;34m:\u001b[0m\u001b[0;34m\u001b[0m\u001b[0;34m\u001b[0m\u001b[0m\n\u001b[0;32m-> 4214\u001b[0;31m                     \u001b[0;32mraise\u001b[0m \u001b[0mKeyError\u001b[0m\u001b[0;34m(\u001b[0m\u001b[0;34mf\"{labels} not found in axis\"\u001b[0m\u001b[0;34m)\u001b[0m\u001b[0;34m\u001b[0m\u001b[0;34m\u001b[0m\u001b[0m\n\u001b[0m\u001b[1;32m   4215\u001b[0m \u001b[0;34m\u001b[0m\u001b[0m\n\u001b[1;32m   4216\u001b[0m             \u001b[0mslicer\u001b[0m \u001b[0;34m=\u001b[0m \u001b[0;34m[\u001b[0m\u001b[0mslice\u001b[0m\u001b[0;34m(\u001b[0m\u001b[0;32mNone\u001b[0m\u001b[0;34m)\u001b[0m\u001b[0;34m]\u001b[0m \u001b[0;34m*\u001b[0m \u001b[0mself\u001b[0m\u001b[0;34m.\u001b[0m\u001b[0mndim\u001b[0m\u001b[0;34m\u001b[0m\u001b[0;34m\u001b[0m\u001b[0m\n",
            "\u001b[0;31mKeyError\u001b[0m: \"['Used Cars and Trucks for Sale'] not found in axis\""
          ]
        }
      ]
    },
    {
      "cell_type": "code",
      "source": [
        "df1.drop(\"Ulysse Speedometer\",inplace=True)\n"
      ],
      "metadata": {
        "colab": {
          "base_uri": "https://localhost:8080/",
          "height": 323
        },
        "id": "dqWjYZsYFNzR",
        "outputId": "af4aa9eb-6ad6-485d-a902-0dd18e3612f3"
      },
      "execution_count": 45,
      "outputs": [
        {
          "output_type": "error",
          "ename": "KeyError",
          "evalue": "ignored",
          "traceback": [
            "\u001b[0;31m---------------------------------------------------------------------------\u001b[0m",
            "\u001b[0;31mKeyError\u001b[0m                                  Traceback (most recent call last)",
            "\u001b[0;32m<ipython-input-45-31abe8e208b1>\u001b[0m in \u001b[0;36m<module>\u001b[0;34m\u001b[0m\n\u001b[0;32m----> 1\u001b[0;31m \u001b[0mdf1\u001b[0m\u001b[0;34m.\u001b[0m\u001b[0mdrop\u001b[0m\u001b[0;34m(\u001b[0m\u001b[0;34m\"Ulysse Speedometer\"\u001b[0m\u001b[0;34m,\u001b[0m\u001b[0minplace\u001b[0m\u001b[0;34m=\u001b[0m\u001b[0;32mTrue\u001b[0m\u001b[0;34m)\u001b[0m\u001b[0;34m\u001b[0m\u001b[0;34m\u001b[0m\u001b[0m\n\u001b[0m",
            "\u001b[0;32m/usr/local/lib/python3.8/dist-packages/pandas/util/_decorators.py\u001b[0m in \u001b[0;36mwrapper\u001b[0;34m(*args, **kwargs)\u001b[0m\n\u001b[1;32m    309\u001b[0m                     \u001b[0mstacklevel\u001b[0m\u001b[0;34m=\u001b[0m\u001b[0mstacklevel\u001b[0m\u001b[0;34m,\u001b[0m\u001b[0;34m\u001b[0m\u001b[0;34m\u001b[0m\u001b[0m\n\u001b[1;32m    310\u001b[0m                 )\n\u001b[0;32m--> 311\u001b[0;31m             \u001b[0;32mreturn\u001b[0m \u001b[0mfunc\u001b[0m\u001b[0;34m(\u001b[0m\u001b[0;34m*\u001b[0m\u001b[0margs\u001b[0m\u001b[0;34m,\u001b[0m \u001b[0;34m**\u001b[0m\u001b[0mkwargs\u001b[0m\u001b[0;34m)\u001b[0m\u001b[0;34m\u001b[0m\u001b[0;34m\u001b[0m\u001b[0m\n\u001b[0m\u001b[1;32m    312\u001b[0m \u001b[0;34m\u001b[0m\u001b[0m\n\u001b[1;32m    313\u001b[0m         \u001b[0;32mreturn\u001b[0m \u001b[0mwrapper\u001b[0m\u001b[0;34m\u001b[0m\u001b[0;34m\u001b[0m\u001b[0m\n",
            "\u001b[0;32m/usr/local/lib/python3.8/dist-packages/pandas/core/frame.py\u001b[0m in \u001b[0;36mdrop\u001b[0;34m(self, labels, axis, index, columns, level, inplace, errors)\u001b[0m\n\u001b[1;32m   4904\u001b[0m                 \u001b[0mweight\u001b[0m  \u001b[0;36m1.0\u001b[0m     \u001b[0;36m0.8\u001b[0m\u001b[0;34m\u001b[0m\u001b[0;34m\u001b[0m\u001b[0m\n\u001b[1;32m   4905\u001b[0m         \"\"\"\n\u001b[0;32m-> 4906\u001b[0;31m         return super().drop(\n\u001b[0m\u001b[1;32m   4907\u001b[0m             \u001b[0mlabels\u001b[0m\u001b[0;34m=\u001b[0m\u001b[0mlabels\u001b[0m\u001b[0;34m,\u001b[0m\u001b[0;34m\u001b[0m\u001b[0;34m\u001b[0m\u001b[0m\n\u001b[1;32m   4908\u001b[0m             \u001b[0maxis\u001b[0m\u001b[0;34m=\u001b[0m\u001b[0maxis\u001b[0m\u001b[0;34m,\u001b[0m\u001b[0;34m\u001b[0m\u001b[0;34m\u001b[0m\u001b[0m\n",
            "\u001b[0;32m/usr/local/lib/python3.8/dist-packages/pandas/core/generic.py\u001b[0m in \u001b[0;36mdrop\u001b[0;34m(self, labels, axis, index, columns, level, inplace, errors)\u001b[0m\n\u001b[1;32m   4148\u001b[0m         \u001b[0;32mfor\u001b[0m \u001b[0maxis\u001b[0m\u001b[0;34m,\u001b[0m \u001b[0mlabels\u001b[0m \u001b[0;32min\u001b[0m \u001b[0maxes\u001b[0m\u001b[0;34m.\u001b[0m\u001b[0mitems\u001b[0m\u001b[0;34m(\u001b[0m\u001b[0;34m)\u001b[0m\u001b[0;34m:\u001b[0m\u001b[0;34m\u001b[0m\u001b[0;34m\u001b[0m\u001b[0m\n\u001b[1;32m   4149\u001b[0m             \u001b[0;32mif\u001b[0m \u001b[0mlabels\u001b[0m \u001b[0;32mis\u001b[0m \u001b[0;32mnot\u001b[0m \u001b[0;32mNone\u001b[0m\u001b[0;34m:\u001b[0m\u001b[0;34m\u001b[0m\u001b[0;34m\u001b[0m\u001b[0m\n\u001b[0;32m-> 4150\u001b[0;31m                 \u001b[0mobj\u001b[0m \u001b[0;34m=\u001b[0m \u001b[0mobj\u001b[0m\u001b[0;34m.\u001b[0m\u001b[0m_drop_axis\u001b[0m\u001b[0;34m(\u001b[0m\u001b[0mlabels\u001b[0m\u001b[0;34m,\u001b[0m \u001b[0maxis\u001b[0m\u001b[0;34m,\u001b[0m \u001b[0mlevel\u001b[0m\u001b[0;34m=\u001b[0m\u001b[0mlevel\u001b[0m\u001b[0;34m,\u001b[0m \u001b[0merrors\u001b[0m\u001b[0;34m=\u001b[0m\u001b[0merrors\u001b[0m\u001b[0;34m)\u001b[0m\u001b[0;34m\u001b[0m\u001b[0;34m\u001b[0m\u001b[0m\n\u001b[0m\u001b[1;32m   4151\u001b[0m \u001b[0;34m\u001b[0m\u001b[0m\n\u001b[1;32m   4152\u001b[0m         \u001b[0;32mif\u001b[0m \u001b[0minplace\u001b[0m\u001b[0;34m:\u001b[0m\u001b[0;34m\u001b[0m\u001b[0;34m\u001b[0m\u001b[0m\n",
            "\u001b[0;32m/usr/local/lib/python3.8/dist-packages/pandas/core/generic.py\u001b[0m in \u001b[0;36m_drop_axis\u001b[0;34m(self, labels, axis, level, errors)\u001b[0m\n\u001b[1;32m   4212\u001b[0m                 \u001b[0mlabels_missing\u001b[0m \u001b[0;34m=\u001b[0m \u001b[0;34m(\u001b[0m\u001b[0maxis\u001b[0m\u001b[0;34m.\u001b[0m\u001b[0mget_indexer_for\u001b[0m\u001b[0;34m(\u001b[0m\u001b[0mlabels\u001b[0m\u001b[0;34m)\u001b[0m \u001b[0;34m==\u001b[0m \u001b[0;34m-\u001b[0m\u001b[0;36m1\u001b[0m\u001b[0;34m)\u001b[0m\u001b[0;34m.\u001b[0m\u001b[0many\u001b[0m\u001b[0;34m(\u001b[0m\u001b[0;34m)\u001b[0m\u001b[0;34m\u001b[0m\u001b[0;34m\u001b[0m\u001b[0m\n\u001b[1;32m   4213\u001b[0m                 \u001b[0;32mif\u001b[0m \u001b[0merrors\u001b[0m \u001b[0;34m==\u001b[0m \u001b[0;34m\"raise\"\u001b[0m \u001b[0;32mand\u001b[0m \u001b[0mlabels_missing\u001b[0m\u001b[0;34m:\u001b[0m\u001b[0;34m\u001b[0m\u001b[0;34m\u001b[0m\u001b[0m\n\u001b[0;32m-> 4214\u001b[0;31m                     \u001b[0;32mraise\u001b[0m \u001b[0mKeyError\u001b[0m\u001b[0;34m(\u001b[0m\u001b[0;34mf\"{labels} not found in axis\"\u001b[0m\u001b[0;34m)\u001b[0m\u001b[0;34m\u001b[0m\u001b[0;34m\u001b[0m\u001b[0m\n\u001b[0m\u001b[1;32m   4215\u001b[0m \u001b[0;34m\u001b[0m\u001b[0m\n\u001b[1;32m   4216\u001b[0m             \u001b[0mslicer\u001b[0m \u001b[0;34m=\u001b[0m \u001b[0;34m[\u001b[0m\u001b[0mslice\u001b[0m\u001b[0;34m(\u001b[0m\u001b[0;32mNone\u001b[0m\u001b[0;34m)\u001b[0m\u001b[0;34m]\u001b[0m \u001b[0;34m*\u001b[0m \u001b[0mself\u001b[0m\u001b[0;34m.\u001b[0m\u001b[0mndim\u001b[0m\u001b[0;34m\u001b[0m\u001b[0;34m\u001b[0m\u001b[0m\n",
            "\u001b[0;31mKeyError\u001b[0m: \"['Ulysse Speedometer'] not found in axis\""
          ]
        }
      ]
    },
    {
      "cell_type": "code",
      "source": [
        "df1.drop(\"REPUVE\",inplace=True)\n"
      ],
      "metadata": {
        "colab": {
          "base_uri": "https://localhost:8080/",
          "height": 323
        },
        "id": "uLKt95mDFSLG",
        "outputId": "c5a7c764-b6d9-45d5-a3d7-285f09df4719"
      },
      "execution_count": 46,
      "outputs": [
        {
          "output_type": "error",
          "ename": "KeyError",
          "evalue": "ignored",
          "traceback": [
            "\u001b[0;31m---------------------------------------------------------------------------\u001b[0m",
            "\u001b[0;31mKeyError\u001b[0m                                  Traceback (most recent call last)",
            "\u001b[0;32m<ipython-input-46-dd88071f4e81>\u001b[0m in \u001b[0;36m<module>\u001b[0;34m\u001b[0m\n\u001b[0;32m----> 1\u001b[0;31m \u001b[0mdf1\u001b[0m\u001b[0;34m.\u001b[0m\u001b[0mdrop\u001b[0m\u001b[0;34m(\u001b[0m\u001b[0;34m\"REPUVE\"\u001b[0m\u001b[0;34m,\u001b[0m\u001b[0minplace\u001b[0m\u001b[0;34m=\u001b[0m\u001b[0;32mTrue\u001b[0m\u001b[0;34m)\u001b[0m\u001b[0;34m\u001b[0m\u001b[0;34m\u001b[0m\u001b[0m\n\u001b[0m",
            "\u001b[0;32m/usr/local/lib/python3.8/dist-packages/pandas/util/_decorators.py\u001b[0m in \u001b[0;36mwrapper\u001b[0;34m(*args, **kwargs)\u001b[0m\n\u001b[1;32m    309\u001b[0m                     \u001b[0mstacklevel\u001b[0m\u001b[0;34m=\u001b[0m\u001b[0mstacklevel\u001b[0m\u001b[0;34m,\u001b[0m\u001b[0;34m\u001b[0m\u001b[0;34m\u001b[0m\u001b[0m\n\u001b[1;32m    310\u001b[0m                 )\n\u001b[0;32m--> 311\u001b[0;31m             \u001b[0;32mreturn\u001b[0m \u001b[0mfunc\u001b[0m\u001b[0;34m(\u001b[0m\u001b[0;34m*\u001b[0m\u001b[0margs\u001b[0m\u001b[0;34m,\u001b[0m \u001b[0;34m**\u001b[0m\u001b[0mkwargs\u001b[0m\u001b[0;34m)\u001b[0m\u001b[0;34m\u001b[0m\u001b[0;34m\u001b[0m\u001b[0m\n\u001b[0m\u001b[1;32m    312\u001b[0m \u001b[0;34m\u001b[0m\u001b[0m\n\u001b[1;32m    313\u001b[0m         \u001b[0;32mreturn\u001b[0m \u001b[0mwrapper\u001b[0m\u001b[0;34m\u001b[0m\u001b[0;34m\u001b[0m\u001b[0m\n",
            "\u001b[0;32m/usr/local/lib/python3.8/dist-packages/pandas/core/frame.py\u001b[0m in \u001b[0;36mdrop\u001b[0;34m(self, labels, axis, index, columns, level, inplace, errors)\u001b[0m\n\u001b[1;32m   4904\u001b[0m                 \u001b[0mweight\u001b[0m  \u001b[0;36m1.0\u001b[0m     \u001b[0;36m0.8\u001b[0m\u001b[0;34m\u001b[0m\u001b[0;34m\u001b[0m\u001b[0m\n\u001b[1;32m   4905\u001b[0m         \"\"\"\n\u001b[0;32m-> 4906\u001b[0;31m         return super().drop(\n\u001b[0m\u001b[1;32m   4907\u001b[0m             \u001b[0mlabels\u001b[0m\u001b[0;34m=\u001b[0m\u001b[0mlabels\u001b[0m\u001b[0;34m,\u001b[0m\u001b[0;34m\u001b[0m\u001b[0;34m\u001b[0m\u001b[0m\n\u001b[1;32m   4908\u001b[0m             \u001b[0maxis\u001b[0m\u001b[0;34m=\u001b[0m\u001b[0maxis\u001b[0m\u001b[0;34m,\u001b[0m\u001b[0;34m\u001b[0m\u001b[0;34m\u001b[0m\u001b[0m\n",
            "\u001b[0;32m/usr/local/lib/python3.8/dist-packages/pandas/core/generic.py\u001b[0m in \u001b[0;36mdrop\u001b[0;34m(self, labels, axis, index, columns, level, inplace, errors)\u001b[0m\n\u001b[1;32m   4148\u001b[0m         \u001b[0;32mfor\u001b[0m \u001b[0maxis\u001b[0m\u001b[0;34m,\u001b[0m \u001b[0mlabels\u001b[0m \u001b[0;32min\u001b[0m \u001b[0maxes\u001b[0m\u001b[0;34m.\u001b[0m\u001b[0mitems\u001b[0m\u001b[0;34m(\u001b[0m\u001b[0;34m)\u001b[0m\u001b[0;34m:\u001b[0m\u001b[0;34m\u001b[0m\u001b[0;34m\u001b[0m\u001b[0m\n\u001b[1;32m   4149\u001b[0m             \u001b[0;32mif\u001b[0m \u001b[0mlabels\u001b[0m \u001b[0;32mis\u001b[0m \u001b[0;32mnot\u001b[0m \u001b[0;32mNone\u001b[0m\u001b[0;34m:\u001b[0m\u001b[0;34m\u001b[0m\u001b[0;34m\u001b[0m\u001b[0m\n\u001b[0;32m-> 4150\u001b[0;31m                 \u001b[0mobj\u001b[0m \u001b[0;34m=\u001b[0m \u001b[0mobj\u001b[0m\u001b[0;34m.\u001b[0m\u001b[0m_drop_axis\u001b[0m\u001b[0;34m(\u001b[0m\u001b[0mlabels\u001b[0m\u001b[0;34m,\u001b[0m \u001b[0maxis\u001b[0m\u001b[0;34m,\u001b[0m \u001b[0mlevel\u001b[0m\u001b[0;34m=\u001b[0m\u001b[0mlevel\u001b[0m\u001b[0;34m,\u001b[0m \u001b[0merrors\u001b[0m\u001b[0;34m=\u001b[0m\u001b[0merrors\u001b[0m\u001b[0;34m)\u001b[0m\u001b[0;34m\u001b[0m\u001b[0;34m\u001b[0m\u001b[0m\n\u001b[0m\u001b[1;32m   4151\u001b[0m \u001b[0;34m\u001b[0m\u001b[0m\n\u001b[1;32m   4152\u001b[0m         \u001b[0;32mif\u001b[0m \u001b[0minplace\u001b[0m\u001b[0;34m:\u001b[0m\u001b[0;34m\u001b[0m\u001b[0;34m\u001b[0m\u001b[0m\n",
            "\u001b[0;32m/usr/local/lib/python3.8/dist-packages/pandas/core/generic.py\u001b[0m in \u001b[0;36m_drop_axis\u001b[0;34m(self, labels, axis, level, errors)\u001b[0m\n\u001b[1;32m   4212\u001b[0m                 \u001b[0mlabels_missing\u001b[0m \u001b[0;34m=\u001b[0m \u001b[0;34m(\u001b[0m\u001b[0maxis\u001b[0m\u001b[0;34m.\u001b[0m\u001b[0mget_indexer_for\u001b[0m\u001b[0;34m(\u001b[0m\u001b[0mlabels\u001b[0m\u001b[0;34m)\u001b[0m \u001b[0;34m==\u001b[0m \u001b[0;34m-\u001b[0m\u001b[0;36m1\u001b[0m\u001b[0;34m)\u001b[0m\u001b[0;34m.\u001b[0m\u001b[0many\u001b[0m\u001b[0;34m(\u001b[0m\u001b[0;34m)\u001b[0m\u001b[0;34m\u001b[0m\u001b[0;34m\u001b[0m\u001b[0m\n\u001b[1;32m   4213\u001b[0m                 \u001b[0;32mif\u001b[0m \u001b[0merrors\u001b[0m \u001b[0;34m==\u001b[0m \u001b[0;34m\"raise\"\u001b[0m \u001b[0;32mand\u001b[0m \u001b[0mlabels_missing\u001b[0m\u001b[0;34m:\u001b[0m\u001b[0;34m\u001b[0m\u001b[0;34m\u001b[0m\u001b[0m\n\u001b[0;32m-> 4214\u001b[0;31m                     \u001b[0;32mraise\u001b[0m \u001b[0mKeyError\u001b[0m\u001b[0;34m(\u001b[0m\u001b[0;34mf\"{labels} not found in axis\"\u001b[0m\u001b[0;34m)\u001b[0m\u001b[0;34m\u001b[0m\u001b[0;34m\u001b[0m\u001b[0m\n\u001b[0m\u001b[1;32m   4215\u001b[0m \u001b[0;34m\u001b[0m\u001b[0m\n\u001b[1;32m   4216\u001b[0m             \u001b[0mslicer\u001b[0m \u001b[0;34m=\u001b[0m \u001b[0;34m[\u001b[0m\u001b[0mslice\u001b[0m\u001b[0;34m(\u001b[0m\u001b[0;32mNone\u001b[0m\u001b[0;34m)\u001b[0m\u001b[0;34m]\u001b[0m \u001b[0;34m*\u001b[0m \u001b[0mself\u001b[0m\u001b[0;34m.\u001b[0m\u001b[0mndim\u001b[0m\u001b[0;34m\u001b[0m\u001b[0;34m\u001b[0m\u001b[0m\n",
            "\u001b[0;31mKeyError\u001b[0m: \"['REPUVE'] not found in axis\""
          ]
        }
      ]
    },
    {
      "cell_type": "code",
      "source": [
        "df1.drop(\"My Earthquake Alerts - US & Worldwide Earthquakes\",inplace=True)\n"
      ],
      "metadata": {
        "colab": {
          "base_uri": "https://localhost:8080/",
          "height": 323
        },
        "id": "bB-JfpjUFU9-",
        "outputId": "c1a380f0-1752-493f-a000-62e0af3388c3"
      },
      "execution_count": 47,
      "outputs": [
        {
          "output_type": "error",
          "ename": "KeyError",
          "evalue": "ignored",
          "traceback": [
            "\u001b[0;31m---------------------------------------------------------------------------\u001b[0m",
            "\u001b[0;31mKeyError\u001b[0m                                  Traceback (most recent call last)",
            "\u001b[0;32m<ipython-input-47-29aa386d58d0>\u001b[0m in \u001b[0;36m<module>\u001b[0;34m\u001b[0m\n\u001b[0;32m----> 1\u001b[0;31m \u001b[0mdf1\u001b[0m\u001b[0;34m.\u001b[0m\u001b[0mdrop\u001b[0m\u001b[0;34m(\u001b[0m\u001b[0;34m\"My Earthquake Alerts - US & Worldwide Earthquakes\"\u001b[0m\u001b[0;34m,\u001b[0m\u001b[0minplace\u001b[0m\u001b[0;34m=\u001b[0m\u001b[0;32mTrue\u001b[0m\u001b[0;34m)\u001b[0m\u001b[0;34m\u001b[0m\u001b[0;34m\u001b[0m\u001b[0m\n\u001b[0m",
            "\u001b[0;32m/usr/local/lib/python3.8/dist-packages/pandas/util/_decorators.py\u001b[0m in \u001b[0;36mwrapper\u001b[0;34m(*args, **kwargs)\u001b[0m\n\u001b[1;32m    309\u001b[0m                     \u001b[0mstacklevel\u001b[0m\u001b[0;34m=\u001b[0m\u001b[0mstacklevel\u001b[0m\u001b[0;34m,\u001b[0m\u001b[0;34m\u001b[0m\u001b[0;34m\u001b[0m\u001b[0m\n\u001b[1;32m    310\u001b[0m                 )\n\u001b[0;32m--> 311\u001b[0;31m             \u001b[0;32mreturn\u001b[0m \u001b[0mfunc\u001b[0m\u001b[0;34m(\u001b[0m\u001b[0;34m*\u001b[0m\u001b[0margs\u001b[0m\u001b[0;34m,\u001b[0m \u001b[0;34m**\u001b[0m\u001b[0mkwargs\u001b[0m\u001b[0;34m)\u001b[0m\u001b[0;34m\u001b[0m\u001b[0;34m\u001b[0m\u001b[0m\n\u001b[0m\u001b[1;32m    312\u001b[0m \u001b[0;34m\u001b[0m\u001b[0m\n\u001b[1;32m    313\u001b[0m         \u001b[0;32mreturn\u001b[0m \u001b[0mwrapper\u001b[0m\u001b[0;34m\u001b[0m\u001b[0;34m\u001b[0m\u001b[0m\n",
            "\u001b[0;32m/usr/local/lib/python3.8/dist-packages/pandas/core/frame.py\u001b[0m in \u001b[0;36mdrop\u001b[0;34m(self, labels, axis, index, columns, level, inplace, errors)\u001b[0m\n\u001b[1;32m   4904\u001b[0m                 \u001b[0mweight\u001b[0m  \u001b[0;36m1.0\u001b[0m     \u001b[0;36m0.8\u001b[0m\u001b[0;34m\u001b[0m\u001b[0;34m\u001b[0m\u001b[0m\n\u001b[1;32m   4905\u001b[0m         \"\"\"\n\u001b[0;32m-> 4906\u001b[0;31m         return super().drop(\n\u001b[0m\u001b[1;32m   4907\u001b[0m             \u001b[0mlabels\u001b[0m\u001b[0;34m=\u001b[0m\u001b[0mlabels\u001b[0m\u001b[0;34m,\u001b[0m\u001b[0;34m\u001b[0m\u001b[0;34m\u001b[0m\u001b[0m\n\u001b[1;32m   4908\u001b[0m             \u001b[0maxis\u001b[0m\u001b[0;34m=\u001b[0m\u001b[0maxis\u001b[0m\u001b[0;34m,\u001b[0m\u001b[0;34m\u001b[0m\u001b[0;34m\u001b[0m\u001b[0m\n",
            "\u001b[0;32m/usr/local/lib/python3.8/dist-packages/pandas/core/generic.py\u001b[0m in \u001b[0;36mdrop\u001b[0;34m(self, labels, axis, index, columns, level, inplace, errors)\u001b[0m\n\u001b[1;32m   4148\u001b[0m         \u001b[0;32mfor\u001b[0m \u001b[0maxis\u001b[0m\u001b[0;34m,\u001b[0m \u001b[0mlabels\u001b[0m \u001b[0;32min\u001b[0m \u001b[0maxes\u001b[0m\u001b[0;34m.\u001b[0m\u001b[0mitems\u001b[0m\u001b[0;34m(\u001b[0m\u001b[0;34m)\u001b[0m\u001b[0;34m:\u001b[0m\u001b[0;34m\u001b[0m\u001b[0;34m\u001b[0m\u001b[0m\n\u001b[1;32m   4149\u001b[0m             \u001b[0;32mif\u001b[0m \u001b[0mlabels\u001b[0m \u001b[0;32mis\u001b[0m \u001b[0;32mnot\u001b[0m \u001b[0;32mNone\u001b[0m\u001b[0;34m:\u001b[0m\u001b[0;34m\u001b[0m\u001b[0;34m\u001b[0m\u001b[0m\n\u001b[0;32m-> 4150\u001b[0;31m                 \u001b[0mobj\u001b[0m \u001b[0;34m=\u001b[0m \u001b[0mobj\u001b[0m\u001b[0;34m.\u001b[0m\u001b[0m_drop_axis\u001b[0m\u001b[0;34m(\u001b[0m\u001b[0mlabels\u001b[0m\u001b[0;34m,\u001b[0m \u001b[0maxis\u001b[0m\u001b[0;34m,\u001b[0m \u001b[0mlevel\u001b[0m\u001b[0;34m=\u001b[0m\u001b[0mlevel\u001b[0m\u001b[0;34m,\u001b[0m \u001b[0merrors\u001b[0m\u001b[0;34m=\u001b[0m\u001b[0merrors\u001b[0m\u001b[0;34m)\u001b[0m\u001b[0;34m\u001b[0m\u001b[0;34m\u001b[0m\u001b[0m\n\u001b[0m\u001b[1;32m   4151\u001b[0m \u001b[0;34m\u001b[0m\u001b[0m\n\u001b[1;32m   4152\u001b[0m         \u001b[0;32mif\u001b[0m \u001b[0minplace\u001b[0m\u001b[0;34m:\u001b[0m\u001b[0;34m\u001b[0m\u001b[0;34m\u001b[0m\u001b[0m\n",
            "\u001b[0;32m/usr/local/lib/python3.8/dist-packages/pandas/core/generic.py\u001b[0m in \u001b[0;36m_drop_axis\u001b[0;34m(self, labels, axis, level, errors)\u001b[0m\n\u001b[1;32m   4212\u001b[0m                 \u001b[0mlabels_missing\u001b[0m \u001b[0;34m=\u001b[0m \u001b[0;34m(\u001b[0m\u001b[0maxis\u001b[0m\u001b[0;34m.\u001b[0m\u001b[0mget_indexer_for\u001b[0m\u001b[0;34m(\u001b[0m\u001b[0mlabels\u001b[0m\u001b[0;34m)\u001b[0m \u001b[0;34m==\u001b[0m \u001b[0;34m-\u001b[0m\u001b[0;36m1\u001b[0m\u001b[0;34m)\u001b[0m\u001b[0;34m.\u001b[0m\u001b[0many\u001b[0m\u001b[0;34m(\u001b[0m\u001b[0;34m)\u001b[0m\u001b[0;34m\u001b[0m\u001b[0;34m\u001b[0m\u001b[0m\n\u001b[1;32m   4213\u001b[0m                 \u001b[0;32mif\u001b[0m \u001b[0merrors\u001b[0m \u001b[0;34m==\u001b[0m \u001b[0;34m\"raise\"\u001b[0m \u001b[0;32mand\u001b[0m \u001b[0mlabels_missing\u001b[0m\u001b[0;34m:\u001b[0m\u001b[0;34m\u001b[0m\u001b[0;34m\u001b[0m\u001b[0m\n\u001b[0;32m-> 4214\u001b[0;31m                     \u001b[0;32mraise\u001b[0m \u001b[0mKeyError\u001b[0m\u001b[0;34m(\u001b[0m\u001b[0;34mf\"{labels} not found in axis\"\u001b[0m\u001b[0;34m)\u001b[0m\u001b[0;34m\u001b[0m\u001b[0;34m\u001b[0m\u001b[0m\n\u001b[0m\u001b[1;32m   4215\u001b[0m \u001b[0;34m\u001b[0m\u001b[0m\n\u001b[1;32m   4216\u001b[0m             \u001b[0mslicer\u001b[0m \u001b[0;34m=\u001b[0m \u001b[0;34m[\u001b[0m\u001b[0mslice\u001b[0m\u001b[0;34m(\u001b[0m\u001b[0;32mNone\u001b[0m\u001b[0;34m)\u001b[0m\u001b[0;34m]\u001b[0m \u001b[0;34m*\u001b[0m \u001b[0mself\u001b[0m\u001b[0;34m.\u001b[0m\u001b[0mndim\u001b[0m\u001b[0;34m\u001b[0m\u001b[0;34m\u001b[0m\u001b[0m\n",
            "\u001b[0;31mKeyError\u001b[0m: \"['My Earthquake Alerts - US & Worldwide Earthquakes'] not found in axis\""
          ]
        }
      ]
    },
    {
      "cell_type": "code",
      "source": [
        "df1.drop(\"Posta App\",inplace=True)\n"
      ],
      "metadata": {
        "colab": {
          "base_uri": "https://localhost:8080/",
          "height": 323
        },
        "id": "M_N3P1BLFXYj",
        "outputId": "a2dca53e-e5f0-4120-b2b3-5deaee5254dc"
      },
      "execution_count": 48,
      "outputs": [
        {
          "output_type": "error",
          "ename": "KeyError",
          "evalue": "ignored",
          "traceback": [
            "\u001b[0;31m---------------------------------------------------------------------------\u001b[0m",
            "\u001b[0;31mKeyError\u001b[0m                                  Traceback (most recent call last)",
            "\u001b[0;32m<ipython-input-48-21068298c19a>\u001b[0m in \u001b[0;36m<module>\u001b[0;34m\u001b[0m\n\u001b[0;32m----> 1\u001b[0;31m \u001b[0mdf1\u001b[0m\u001b[0;34m.\u001b[0m\u001b[0mdrop\u001b[0m\u001b[0;34m(\u001b[0m\u001b[0;34m\"Posta App\"\u001b[0m\u001b[0;34m,\u001b[0m\u001b[0minplace\u001b[0m\u001b[0;34m=\u001b[0m\u001b[0;32mTrue\u001b[0m\u001b[0;34m)\u001b[0m\u001b[0;34m\u001b[0m\u001b[0;34m\u001b[0m\u001b[0m\n\u001b[0m",
            "\u001b[0;32m/usr/local/lib/python3.8/dist-packages/pandas/util/_decorators.py\u001b[0m in \u001b[0;36mwrapper\u001b[0;34m(*args, **kwargs)\u001b[0m\n\u001b[1;32m    309\u001b[0m                     \u001b[0mstacklevel\u001b[0m\u001b[0;34m=\u001b[0m\u001b[0mstacklevel\u001b[0m\u001b[0;34m,\u001b[0m\u001b[0;34m\u001b[0m\u001b[0;34m\u001b[0m\u001b[0m\n\u001b[1;32m    310\u001b[0m                 )\n\u001b[0;32m--> 311\u001b[0;31m             \u001b[0;32mreturn\u001b[0m \u001b[0mfunc\u001b[0m\u001b[0;34m(\u001b[0m\u001b[0;34m*\u001b[0m\u001b[0margs\u001b[0m\u001b[0;34m,\u001b[0m \u001b[0;34m**\u001b[0m\u001b[0mkwargs\u001b[0m\u001b[0;34m)\u001b[0m\u001b[0;34m\u001b[0m\u001b[0;34m\u001b[0m\u001b[0m\n\u001b[0m\u001b[1;32m    312\u001b[0m \u001b[0;34m\u001b[0m\u001b[0m\n\u001b[1;32m    313\u001b[0m         \u001b[0;32mreturn\u001b[0m \u001b[0mwrapper\u001b[0m\u001b[0;34m\u001b[0m\u001b[0;34m\u001b[0m\u001b[0m\n",
            "\u001b[0;32m/usr/local/lib/python3.8/dist-packages/pandas/core/frame.py\u001b[0m in \u001b[0;36mdrop\u001b[0;34m(self, labels, axis, index, columns, level, inplace, errors)\u001b[0m\n\u001b[1;32m   4904\u001b[0m                 \u001b[0mweight\u001b[0m  \u001b[0;36m1.0\u001b[0m     \u001b[0;36m0.8\u001b[0m\u001b[0;34m\u001b[0m\u001b[0;34m\u001b[0m\u001b[0m\n\u001b[1;32m   4905\u001b[0m         \"\"\"\n\u001b[0;32m-> 4906\u001b[0;31m         return super().drop(\n\u001b[0m\u001b[1;32m   4907\u001b[0m             \u001b[0mlabels\u001b[0m\u001b[0;34m=\u001b[0m\u001b[0mlabels\u001b[0m\u001b[0;34m,\u001b[0m\u001b[0;34m\u001b[0m\u001b[0;34m\u001b[0m\u001b[0m\n\u001b[1;32m   4908\u001b[0m             \u001b[0maxis\u001b[0m\u001b[0;34m=\u001b[0m\u001b[0maxis\u001b[0m\u001b[0;34m,\u001b[0m\u001b[0;34m\u001b[0m\u001b[0;34m\u001b[0m\u001b[0m\n",
            "\u001b[0;32m/usr/local/lib/python3.8/dist-packages/pandas/core/generic.py\u001b[0m in \u001b[0;36mdrop\u001b[0;34m(self, labels, axis, index, columns, level, inplace, errors)\u001b[0m\n\u001b[1;32m   4148\u001b[0m         \u001b[0;32mfor\u001b[0m \u001b[0maxis\u001b[0m\u001b[0;34m,\u001b[0m \u001b[0mlabels\u001b[0m \u001b[0;32min\u001b[0m \u001b[0maxes\u001b[0m\u001b[0;34m.\u001b[0m\u001b[0mitems\u001b[0m\u001b[0;34m(\u001b[0m\u001b[0;34m)\u001b[0m\u001b[0;34m:\u001b[0m\u001b[0;34m\u001b[0m\u001b[0;34m\u001b[0m\u001b[0m\n\u001b[1;32m   4149\u001b[0m             \u001b[0;32mif\u001b[0m \u001b[0mlabels\u001b[0m \u001b[0;32mis\u001b[0m \u001b[0;32mnot\u001b[0m \u001b[0;32mNone\u001b[0m\u001b[0;34m:\u001b[0m\u001b[0;34m\u001b[0m\u001b[0;34m\u001b[0m\u001b[0m\n\u001b[0;32m-> 4150\u001b[0;31m                 \u001b[0mobj\u001b[0m \u001b[0;34m=\u001b[0m \u001b[0mobj\u001b[0m\u001b[0;34m.\u001b[0m\u001b[0m_drop_axis\u001b[0m\u001b[0;34m(\u001b[0m\u001b[0mlabels\u001b[0m\u001b[0;34m,\u001b[0m \u001b[0maxis\u001b[0m\u001b[0;34m,\u001b[0m \u001b[0mlevel\u001b[0m\u001b[0;34m=\u001b[0m\u001b[0mlevel\u001b[0m\u001b[0;34m,\u001b[0m \u001b[0merrors\u001b[0m\u001b[0;34m=\u001b[0m\u001b[0merrors\u001b[0m\u001b[0;34m)\u001b[0m\u001b[0;34m\u001b[0m\u001b[0;34m\u001b[0m\u001b[0m\n\u001b[0m\u001b[1;32m   4151\u001b[0m \u001b[0;34m\u001b[0m\u001b[0m\n\u001b[1;32m   4152\u001b[0m         \u001b[0;32mif\u001b[0m \u001b[0minplace\u001b[0m\u001b[0;34m:\u001b[0m\u001b[0;34m\u001b[0m\u001b[0;34m\u001b[0m\u001b[0m\n",
            "\u001b[0;32m/usr/local/lib/python3.8/dist-packages/pandas/core/generic.py\u001b[0m in \u001b[0;36m_drop_axis\u001b[0;34m(self, labels, axis, level, errors)\u001b[0m\n\u001b[1;32m   4212\u001b[0m                 \u001b[0mlabels_missing\u001b[0m \u001b[0;34m=\u001b[0m \u001b[0;34m(\u001b[0m\u001b[0maxis\u001b[0m\u001b[0;34m.\u001b[0m\u001b[0mget_indexer_for\u001b[0m\u001b[0;34m(\u001b[0m\u001b[0mlabels\u001b[0m\u001b[0;34m)\u001b[0m \u001b[0;34m==\u001b[0m \u001b[0;34m-\u001b[0m\u001b[0;36m1\u001b[0m\u001b[0;34m)\u001b[0m\u001b[0;34m.\u001b[0m\u001b[0many\u001b[0m\u001b[0;34m(\u001b[0m\u001b[0;34m)\u001b[0m\u001b[0;34m\u001b[0m\u001b[0;34m\u001b[0m\u001b[0m\n\u001b[1;32m   4213\u001b[0m                 \u001b[0;32mif\u001b[0m \u001b[0merrors\u001b[0m \u001b[0;34m==\u001b[0m \u001b[0;34m\"raise\"\u001b[0m \u001b[0;32mand\u001b[0m \u001b[0mlabels_missing\u001b[0m\u001b[0;34m:\u001b[0m\u001b[0;34m\u001b[0m\u001b[0;34m\u001b[0m\u001b[0m\n\u001b[0;32m-> 4214\u001b[0;31m                     \u001b[0;32mraise\u001b[0m \u001b[0mKeyError\u001b[0m\u001b[0;34m(\u001b[0m\u001b[0;34mf\"{labels} not found in axis\"\u001b[0m\u001b[0;34m)\u001b[0m\u001b[0;34m\u001b[0m\u001b[0;34m\u001b[0m\u001b[0m\n\u001b[0m\u001b[1;32m   4215\u001b[0m \u001b[0;34m\u001b[0m\u001b[0m\n\u001b[1;32m   4216\u001b[0m             \u001b[0mslicer\u001b[0m \u001b[0;34m=\u001b[0m \u001b[0;34m[\u001b[0m\u001b[0mslice\u001b[0m\u001b[0;34m(\u001b[0m\u001b[0;32mNone\u001b[0m\u001b[0;34m)\u001b[0m\u001b[0;34m]\u001b[0m \u001b[0;34m*\u001b[0m \u001b[0mself\u001b[0m\u001b[0;34m.\u001b[0m\u001b[0mndim\u001b[0m\u001b[0;34m\u001b[0m\u001b[0;34m\u001b[0m\u001b[0m\n",
            "\u001b[0;31mKeyError\u001b[0m: \"['Posta App'] not found in axis\""
          ]
        }
      ]
    },
    {
      "cell_type": "code",
      "source": [
        "df1.drop(\"Chat For Strangers - Video Chats\",inplace=True)\n"
      ],
      "metadata": {
        "colab": {
          "base_uri": "https://localhost:8080/",
          "height": 323
        },
        "id": "C6O69YpOFZeM",
        "outputId": "9a2a18e1-ec6b-4d9a-9a0f-d2002657746b"
      },
      "execution_count": 49,
      "outputs": [
        {
          "output_type": "error",
          "ename": "KeyError",
          "evalue": "ignored",
          "traceback": [
            "\u001b[0;31m---------------------------------------------------------------------------\u001b[0m",
            "\u001b[0;31mKeyError\u001b[0m                                  Traceback (most recent call last)",
            "\u001b[0;32m<ipython-input-49-03d1f4c9ae23>\u001b[0m in \u001b[0;36m<module>\u001b[0;34m\u001b[0m\n\u001b[0;32m----> 1\u001b[0;31m \u001b[0mdf1\u001b[0m\u001b[0;34m.\u001b[0m\u001b[0mdrop\u001b[0m\u001b[0;34m(\u001b[0m\u001b[0;34m\"Chat For Strangers - Video Chats\"\u001b[0m\u001b[0;34m,\u001b[0m\u001b[0minplace\u001b[0m\u001b[0;34m=\u001b[0m\u001b[0;32mTrue\u001b[0m\u001b[0;34m)\u001b[0m\u001b[0;34m\u001b[0m\u001b[0;34m\u001b[0m\u001b[0m\n\u001b[0m",
            "\u001b[0;32m/usr/local/lib/python3.8/dist-packages/pandas/util/_decorators.py\u001b[0m in \u001b[0;36mwrapper\u001b[0;34m(*args, **kwargs)\u001b[0m\n\u001b[1;32m    309\u001b[0m                     \u001b[0mstacklevel\u001b[0m\u001b[0;34m=\u001b[0m\u001b[0mstacklevel\u001b[0m\u001b[0;34m,\u001b[0m\u001b[0;34m\u001b[0m\u001b[0;34m\u001b[0m\u001b[0m\n\u001b[1;32m    310\u001b[0m                 )\n\u001b[0;32m--> 311\u001b[0;31m             \u001b[0;32mreturn\u001b[0m \u001b[0mfunc\u001b[0m\u001b[0;34m(\u001b[0m\u001b[0;34m*\u001b[0m\u001b[0margs\u001b[0m\u001b[0;34m,\u001b[0m \u001b[0;34m**\u001b[0m\u001b[0mkwargs\u001b[0m\u001b[0;34m)\u001b[0m\u001b[0;34m\u001b[0m\u001b[0;34m\u001b[0m\u001b[0m\n\u001b[0m\u001b[1;32m    312\u001b[0m \u001b[0;34m\u001b[0m\u001b[0m\n\u001b[1;32m    313\u001b[0m         \u001b[0;32mreturn\u001b[0m \u001b[0mwrapper\u001b[0m\u001b[0;34m\u001b[0m\u001b[0;34m\u001b[0m\u001b[0m\n",
            "\u001b[0;32m/usr/local/lib/python3.8/dist-packages/pandas/core/frame.py\u001b[0m in \u001b[0;36mdrop\u001b[0;34m(self, labels, axis, index, columns, level, inplace, errors)\u001b[0m\n\u001b[1;32m   4904\u001b[0m                 \u001b[0mweight\u001b[0m  \u001b[0;36m1.0\u001b[0m     \u001b[0;36m0.8\u001b[0m\u001b[0;34m\u001b[0m\u001b[0;34m\u001b[0m\u001b[0m\n\u001b[1;32m   4905\u001b[0m         \"\"\"\n\u001b[0;32m-> 4906\u001b[0;31m         return super().drop(\n\u001b[0m\u001b[1;32m   4907\u001b[0m             \u001b[0mlabels\u001b[0m\u001b[0;34m=\u001b[0m\u001b[0mlabels\u001b[0m\u001b[0;34m,\u001b[0m\u001b[0;34m\u001b[0m\u001b[0;34m\u001b[0m\u001b[0m\n\u001b[1;32m   4908\u001b[0m             \u001b[0maxis\u001b[0m\u001b[0;34m=\u001b[0m\u001b[0maxis\u001b[0m\u001b[0;34m,\u001b[0m\u001b[0;34m\u001b[0m\u001b[0;34m\u001b[0m\u001b[0m\n",
            "\u001b[0;32m/usr/local/lib/python3.8/dist-packages/pandas/core/generic.py\u001b[0m in \u001b[0;36mdrop\u001b[0;34m(self, labels, axis, index, columns, level, inplace, errors)\u001b[0m\n\u001b[1;32m   4148\u001b[0m         \u001b[0;32mfor\u001b[0m \u001b[0maxis\u001b[0m\u001b[0;34m,\u001b[0m \u001b[0mlabels\u001b[0m \u001b[0;32min\u001b[0m \u001b[0maxes\u001b[0m\u001b[0;34m.\u001b[0m\u001b[0mitems\u001b[0m\u001b[0;34m(\u001b[0m\u001b[0;34m)\u001b[0m\u001b[0;34m:\u001b[0m\u001b[0;34m\u001b[0m\u001b[0;34m\u001b[0m\u001b[0m\n\u001b[1;32m   4149\u001b[0m             \u001b[0;32mif\u001b[0m \u001b[0mlabels\u001b[0m \u001b[0;32mis\u001b[0m \u001b[0;32mnot\u001b[0m \u001b[0;32mNone\u001b[0m\u001b[0;34m:\u001b[0m\u001b[0;34m\u001b[0m\u001b[0;34m\u001b[0m\u001b[0m\n\u001b[0;32m-> 4150\u001b[0;31m                 \u001b[0mobj\u001b[0m \u001b[0;34m=\u001b[0m \u001b[0mobj\u001b[0m\u001b[0;34m.\u001b[0m\u001b[0m_drop_axis\u001b[0m\u001b[0;34m(\u001b[0m\u001b[0mlabels\u001b[0m\u001b[0;34m,\u001b[0m \u001b[0maxis\u001b[0m\u001b[0;34m,\u001b[0m \u001b[0mlevel\u001b[0m\u001b[0;34m=\u001b[0m\u001b[0mlevel\u001b[0m\u001b[0;34m,\u001b[0m \u001b[0merrors\u001b[0m\u001b[0;34m=\u001b[0m\u001b[0merrors\u001b[0m\u001b[0;34m)\u001b[0m\u001b[0;34m\u001b[0m\u001b[0;34m\u001b[0m\u001b[0m\n\u001b[0m\u001b[1;32m   4151\u001b[0m \u001b[0;34m\u001b[0m\u001b[0m\n\u001b[1;32m   4152\u001b[0m         \u001b[0;32mif\u001b[0m \u001b[0minplace\u001b[0m\u001b[0;34m:\u001b[0m\u001b[0;34m\u001b[0m\u001b[0;34m\u001b[0m\u001b[0m\n",
            "\u001b[0;32m/usr/local/lib/python3.8/dist-packages/pandas/core/generic.py\u001b[0m in \u001b[0;36m_drop_axis\u001b[0;34m(self, labels, axis, level, errors)\u001b[0m\n\u001b[1;32m   4212\u001b[0m                 \u001b[0mlabels_missing\u001b[0m \u001b[0;34m=\u001b[0m \u001b[0;34m(\u001b[0m\u001b[0maxis\u001b[0m\u001b[0;34m.\u001b[0m\u001b[0mget_indexer_for\u001b[0m\u001b[0;34m(\u001b[0m\u001b[0mlabels\u001b[0m\u001b[0;34m)\u001b[0m \u001b[0;34m==\u001b[0m \u001b[0;34m-\u001b[0m\u001b[0;36m1\u001b[0m\u001b[0;34m)\u001b[0m\u001b[0;34m.\u001b[0m\u001b[0many\u001b[0m\u001b[0;34m(\u001b[0m\u001b[0;34m)\u001b[0m\u001b[0;34m\u001b[0m\u001b[0;34m\u001b[0m\u001b[0m\n\u001b[1;32m   4213\u001b[0m                 \u001b[0;32mif\u001b[0m \u001b[0merrors\u001b[0m \u001b[0;34m==\u001b[0m \u001b[0;34m\"raise\"\u001b[0m \u001b[0;32mand\u001b[0m \u001b[0mlabels_missing\u001b[0m\u001b[0;34m:\u001b[0m\u001b[0;34m\u001b[0m\u001b[0;34m\u001b[0m\u001b[0m\n\u001b[0;32m-> 4214\u001b[0;31m                     \u001b[0;32mraise\u001b[0m \u001b[0mKeyError\u001b[0m\u001b[0;34m(\u001b[0m\u001b[0;34mf\"{labels} not found in axis\"\u001b[0m\u001b[0;34m)\u001b[0m\u001b[0;34m\u001b[0m\u001b[0;34m\u001b[0m\u001b[0m\n\u001b[0m\u001b[1;32m   4215\u001b[0m \u001b[0;34m\u001b[0m\u001b[0m\n\u001b[1;32m   4216\u001b[0m             \u001b[0mslicer\u001b[0m \u001b[0;34m=\u001b[0m \u001b[0;34m[\u001b[0m\u001b[0mslice\u001b[0m\u001b[0;34m(\u001b[0m\u001b[0;32mNone\u001b[0m\u001b[0;34m)\u001b[0m\u001b[0;34m]\u001b[0m \u001b[0;34m*\u001b[0m \u001b[0mself\u001b[0m\u001b[0;34m.\u001b[0m\u001b[0mndim\u001b[0m\u001b[0;34m\u001b[0m\u001b[0;34m\u001b[0m\u001b[0m\n",
            "\u001b[0;31mKeyError\u001b[0m: \"['Chat For Strangers - Video Chats'] not found in axis\""
          ]
        }
      ]
    },
    {
      "cell_type": "code",
      "source": [
        "df1.drop(\"Frim: get new friends on local chat rooms \",inplace=True)\n"
      ],
      "metadata": {
        "colab": {
          "base_uri": "https://localhost:8080/",
          "height": 323
        },
        "id": "AtCzxqaBFbbd",
        "outputId": "e68f6d2b-29ac-49ae-fb6e-cf00c36322b4"
      },
      "execution_count": 52,
      "outputs": [
        {
          "output_type": "error",
          "ename": "KeyError",
          "evalue": "ignored",
          "traceback": [
            "\u001b[0;31m---------------------------------------------------------------------------\u001b[0m",
            "\u001b[0;31mKeyError\u001b[0m                                  Traceback (most recent call last)",
            "\u001b[0;32m<ipython-input-52-f36fb8d92e73>\u001b[0m in \u001b[0;36m<module>\u001b[0;34m\u001b[0m\n\u001b[0;32m----> 1\u001b[0;31m \u001b[0mdf1\u001b[0m\u001b[0;34m.\u001b[0m\u001b[0mdrop\u001b[0m\u001b[0;34m(\u001b[0m\u001b[0;34m\"Frim: get new friends on local chat rooms \"\u001b[0m\u001b[0;34m,\u001b[0m\u001b[0minplace\u001b[0m\u001b[0;34m=\u001b[0m\u001b[0;32mTrue\u001b[0m\u001b[0;34m)\u001b[0m\u001b[0;34m\u001b[0m\u001b[0;34m\u001b[0m\u001b[0m\n\u001b[0m",
            "\u001b[0;32m/usr/local/lib/python3.8/dist-packages/pandas/util/_decorators.py\u001b[0m in \u001b[0;36mwrapper\u001b[0;34m(*args, **kwargs)\u001b[0m\n\u001b[1;32m    309\u001b[0m                     \u001b[0mstacklevel\u001b[0m\u001b[0;34m=\u001b[0m\u001b[0mstacklevel\u001b[0m\u001b[0;34m,\u001b[0m\u001b[0;34m\u001b[0m\u001b[0;34m\u001b[0m\u001b[0m\n\u001b[1;32m    310\u001b[0m                 )\n\u001b[0;32m--> 311\u001b[0;31m             \u001b[0;32mreturn\u001b[0m \u001b[0mfunc\u001b[0m\u001b[0;34m(\u001b[0m\u001b[0;34m*\u001b[0m\u001b[0margs\u001b[0m\u001b[0;34m,\u001b[0m \u001b[0;34m**\u001b[0m\u001b[0mkwargs\u001b[0m\u001b[0;34m)\u001b[0m\u001b[0;34m\u001b[0m\u001b[0;34m\u001b[0m\u001b[0m\n\u001b[0m\u001b[1;32m    312\u001b[0m \u001b[0;34m\u001b[0m\u001b[0m\n\u001b[1;32m    313\u001b[0m         \u001b[0;32mreturn\u001b[0m \u001b[0mwrapper\u001b[0m\u001b[0;34m\u001b[0m\u001b[0;34m\u001b[0m\u001b[0m\n",
            "\u001b[0;32m/usr/local/lib/python3.8/dist-packages/pandas/core/frame.py\u001b[0m in \u001b[0;36mdrop\u001b[0;34m(self, labels, axis, index, columns, level, inplace, errors)\u001b[0m\n\u001b[1;32m   4904\u001b[0m                 \u001b[0mweight\u001b[0m  \u001b[0;36m1.0\u001b[0m     \u001b[0;36m0.8\u001b[0m\u001b[0;34m\u001b[0m\u001b[0;34m\u001b[0m\u001b[0m\n\u001b[1;32m   4905\u001b[0m         \"\"\"\n\u001b[0;32m-> 4906\u001b[0;31m         return super().drop(\n\u001b[0m\u001b[1;32m   4907\u001b[0m             \u001b[0mlabels\u001b[0m\u001b[0;34m=\u001b[0m\u001b[0mlabels\u001b[0m\u001b[0;34m,\u001b[0m\u001b[0;34m\u001b[0m\u001b[0;34m\u001b[0m\u001b[0m\n\u001b[1;32m   4908\u001b[0m             \u001b[0maxis\u001b[0m\u001b[0;34m=\u001b[0m\u001b[0maxis\u001b[0m\u001b[0;34m,\u001b[0m\u001b[0;34m\u001b[0m\u001b[0;34m\u001b[0m\u001b[0m\n",
            "\u001b[0;32m/usr/local/lib/python3.8/dist-packages/pandas/core/generic.py\u001b[0m in \u001b[0;36mdrop\u001b[0;34m(self, labels, axis, index, columns, level, inplace, errors)\u001b[0m\n\u001b[1;32m   4148\u001b[0m         \u001b[0;32mfor\u001b[0m \u001b[0maxis\u001b[0m\u001b[0;34m,\u001b[0m \u001b[0mlabels\u001b[0m \u001b[0;32min\u001b[0m \u001b[0maxes\u001b[0m\u001b[0;34m.\u001b[0m\u001b[0mitems\u001b[0m\u001b[0;34m(\u001b[0m\u001b[0;34m)\u001b[0m\u001b[0;34m:\u001b[0m\u001b[0;34m\u001b[0m\u001b[0;34m\u001b[0m\u001b[0m\n\u001b[1;32m   4149\u001b[0m             \u001b[0;32mif\u001b[0m \u001b[0mlabels\u001b[0m \u001b[0;32mis\u001b[0m \u001b[0;32mnot\u001b[0m \u001b[0;32mNone\u001b[0m\u001b[0;34m:\u001b[0m\u001b[0;34m\u001b[0m\u001b[0;34m\u001b[0m\u001b[0m\n\u001b[0;32m-> 4150\u001b[0;31m                 \u001b[0mobj\u001b[0m \u001b[0;34m=\u001b[0m \u001b[0mobj\u001b[0m\u001b[0;34m.\u001b[0m\u001b[0m_drop_axis\u001b[0m\u001b[0;34m(\u001b[0m\u001b[0mlabels\u001b[0m\u001b[0;34m,\u001b[0m \u001b[0maxis\u001b[0m\u001b[0;34m,\u001b[0m \u001b[0mlevel\u001b[0m\u001b[0;34m=\u001b[0m\u001b[0mlevel\u001b[0m\u001b[0;34m,\u001b[0m \u001b[0merrors\u001b[0m\u001b[0;34m=\u001b[0m\u001b[0merrors\u001b[0m\u001b[0;34m)\u001b[0m\u001b[0;34m\u001b[0m\u001b[0;34m\u001b[0m\u001b[0m\n\u001b[0m\u001b[1;32m   4151\u001b[0m \u001b[0;34m\u001b[0m\u001b[0m\n\u001b[1;32m   4152\u001b[0m         \u001b[0;32mif\u001b[0m \u001b[0minplace\u001b[0m\u001b[0;34m:\u001b[0m\u001b[0;34m\u001b[0m\u001b[0;34m\u001b[0m\u001b[0m\n",
            "\u001b[0;32m/usr/local/lib/python3.8/dist-packages/pandas/core/generic.py\u001b[0m in \u001b[0;36m_drop_axis\u001b[0;34m(self, labels, axis, level, errors)\u001b[0m\n\u001b[1;32m   4212\u001b[0m                 \u001b[0mlabels_missing\u001b[0m \u001b[0;34m=\u001b[0m \u001b[0;34m(\u001b[0m\u001b[0maxis\u001b[0m\u001b[0;34m.\u001b[0m\u001b[0mget_indexer_for\u001b[0m\u001b[0;34m(\u001b[0m\u001b[0mlabels\u001b[0m\u001b[0;34m)\u001b[0m \u001b[0;34m==\u001b[0m \u001b[0;34m-\u001b[0m\u001b[0;36m1\u001b[0m\u001b[0;34m)\u001b[0m\u001b[0;34m.\u001b[0m\u001b[0many\u001b[0m\u001b[0;34m(\u001b[0m\u001b[0;34m)\u001b[0m\u001b[0;34m\u001b[0m\u001b[0;34m\u001b[0m\u001b[0m\n\u001b[1;32m   4213\u001b[0m                 \u001b[0;32mif\u001b[0m \u001b[0merrors\u001b[0m \u001b[0;34m==\u001b[0m \u001b[0;34m\"raise\"\u001b[0m \u001b[0;32mand\u001b[0m \u001b[0mlabels_missing\u001b[0m\u001b[0;34m:\u001b[0m\u001b[0;34m\u001b[0m\u001b[0;34m\u001b[0m\u001b[0m\n\u001b[0;32m-> 4214\u001b[0;31m                     \u001b[0;32mraise\u001b[0m \u001b[0mKeyError\u001b[0m\u001b[0;34m(\u001b[0m\u001b[0;34mf\"{labels} not found in axis\"\u001b[0m\u001b[0;34m)\u001b[0m\u001b[0;34m\u001b[0m\u001b[0;34m\u001b[0m\u001b[0m\n\u001b[0m\u001b[1;32m   4215\u001b[0m \u001b[0;34m\u001b[0m\u001b[0m\n\u001b[1;32m   4216\u001b[0m             \u001b[0mslicer\u001b[0m \u001b[0;34m=\u001b[0m \u001b[0;34m[\u001b[0m\u001b[0mslice\u001b[0m\u001b[0;34m(\u001b[0m\u001b[0;32mNone\u001b[0m\u001b[0;34m)\u001b[0m\u001b[0;34m]\u001b[0m \u001b[0;34m*\u001b[0m \u001b[0mself\u001b[0m\u001b[0;34m.\u001b[0m\u001b[0mndim\u001b[0m\u001b[0;34m\u001b[0m\u001b[0;34m\u001b[0m\u001b[0m\n",
            "\u001b[0;31mKeyError\u001b[0m: \"['Frim: get new friends on local chat rooms '] not found in axis\""
          ]
        }
      ]
    },
    {
      "cell_type": "code",
      "source": [],
      "metadata": {
        "id": "Z-MSMRjUFmFO"
      },
      "execution_count": null,
      "outputs": []
    },
    {
      "cell_type": "code",
      "source": [
        "df1.drop(\"The SCP Foundation DB fr nn5n\",inplace=True)"
      ],
      "metadata": {
        "id": "jDhLXl7AFd10"
      },
      "execution_count": 51,
      "outputs": []
    },
    {
      "cell_type": "code",
      "source": [
        "print(df1['Size'].unique())"
      ],
      "metadata": {
        "colab": {
          "base_uri": "https://localhost:8080/"
        },
        "id": "fCmbZ86hFm9n",
        "outputId": "e0d85dd9-18c6-4c8a-d8ca-598402d9b9b1"
      },
      "execution_count": 53,
      "outputs": [
        {
          "output_type": "stream",
          "name": "stdout",
          "text": [
            "['19M' '14M' '8.7M' '25M' '2.8M' '5.6M' '29M' '33M' '3.1M' '28M' '12M'\n",
            " '20M' '21M' '37M' '2.7M' '5.5M' '17M' '39M' '31M' '4.2M' '7.0M' '23M'\n",
            " '6.0M' '6.1M' '4.6M' '9.2M' '5.2M' '11M' '24M' '9.4M' '15M' '10M' '1.2M'\n",
            " '26M' '8.0M' '7.9M' '56M' '57M' '35M' '54M' '201k' '3.6M' '5.7M' '8.6M'\n",
            " '2.4M' '27M' '2.5M' '16M' 'Varies with device' '3.4M' '8.9M' '3.9M'\n",
            " '2.9M' '38M' '32M' '5.4M' '18M' '1.1M' '2.2M' '4.5M' '9.8M' '52M' '9.0M'\n",
            " '6.7M' '30M' '2.6M' '7.1M' '3.7M' '22M' '7.4M' '6.4M' '3.2M' '8.2M'\n",
            " '9.9M' '4.9M' '9.5M' '5.0M' '5.9M' '13M' '73M' '6.8M' '3.5M' '4.0M'\n",
            " '2.3M' '7.2M' '2.1M' '42M' '7.3M' '9.1M' '55M' '23k' '6.5M' '1.5M' '7.5M'\n",
            " '46M' '8.3M' '4.3M' '4.7M' '3.3M' '40M' '7.8M' '8.8M' '6.6M' '5.1M' '61M'\n",
            " '66M' '79k' '8.4M' '118k' '44M' '695k' '1.6M' '6.2M' '18k' '53M' '1.4M'\n",
            " '3.0M' '5.8M' '3.8M' '9.6M' '45M' '63M' '49M' '4.4M' '70M' '6.9M' '9.3M'\n",
            " '10.0M' '8.1M' '36M' '41M' '51M' '84M' '97M' '2.0M' '1.9M' '1.8M' '5.3M'\n",
            " '48M' '47M' '556k' '526k' '76M' '7.6M' '59M' '9.7M' '78M' '8.5M' '72M'\n",
            " '43M' '7.7M' '77M' '6.3M' '334k' '34M' '93M' '65M' '79M' '100M' '58M'\n",
            " '50M' '68M' '64M' '94M' '232k' '99M' '624k' '95M' '8.5k' '41k' '292k'\n",
            " '11k' '80M' '1.7M' '67M' '74M' '62M' '69M' '75M' '85M' '82M' '96M' '87M'\n",
            " '60M' '71M' '98M' '86M' '91M' '81M' '92M' '83M' '88M' '862k' '899k'\n",
            " '378k' '266k' '375k' '1.3M' '975k' '980k' '4.1M' '89M' '696k' '544k'\n",
            " '525k' '920k' '779k' '853k' '720k' '713k' '4.8M' '772k' '318k' '58k'\n",
            " '241k' '196k' '857k' '51k' '953k' '865k' '251k' '930k' '540k' '313k'\n",
            " '746k' '203k' '26k' '314k' '239k' '371k' '220k' '730k' '756k' '91k'\n",
            " '293k' '17k' '74k' '14k' '317k' '78k' '924k' '902k' '818k' '81k' '939k'\n",
            " '169k' '45k' '475k' '965k' '90M' '545k' '61k' '283k' '655k' '714k' '93k'\n",
            " '872k' '121k' '322k' '1.0M' '976k' '172k' '238k' '549k' '206k' '954k'\n",
            " '444k' '717k' '210k' '609k' '308k' '705k' '306k' '904k' '473k' '175k'\n",
            " '350k' '383k' '454k' '421k' '70k' '812k' '442k' '842k' '417k' '412k'\n",
            " '459k' '478k' '335k' '782k' '721k' '430k' '429k' '192k' '200k' '460k'\n",
            " '728k' '496k' '816k' '414k' '506k' '887k' '613k' '243k' '569k' '778k'\n",
            " '683k' '592k' '319k' '186k' '840k' '647k' '191k' '373k' '437k' '598k'\n",
            " '716k' '585k' '982k' '222k' '219k' '55k' '948k' '323k' '691k' '511k'\n",
            " '951k' '963k' '25k' '554k' '351k' '27k' '82k' '208k' '913k' '514k' '551k'\n",
            " '29k' '103k' '898k' '743k' '116k' '153k' '209k' '353k' '499k' '173k'\n",
            " '597k' '809k' '122k' '411k' '400k' '801k' '787k' '237k' '50k' '643k'\n",
            " '986k' '97k' '516k' '837k' '780k' '961k' '269k' '20k' '498k' '600k'\n",
            " '749k' '642k' '881k' '72k' '656k' '601k' '221k' '228k' '108k' '940k'\n",
            " '176k' '33k' '663k' '34k' '942k' '259k' '164k' '458k' '245k' '629k' '28k'\n",
            " '288k' '775k' '785k' '636k' '916k' '994k' '309k' '485k' '914k' '903k'\n",
            " '608k' '500k' '54k' '562k' '847k' '957k' '688k' '811k' '270k' '48k'\n",
            " '329k' '523k' '921k' '874k' '981k' '784k' '280k' '24k' '518k' '754k'\n",
            " '892k' '154k' '860k' '364k' '387k' '626k' '161k' '879k' '39k' '970k'\n",
            " '170k' '141k' '160k' '144k' '143k' '190k' '376k' '193k' '246k' '73k'\n",
            " '658k' '992k' '253k' '420k' '404k' '470k' '226k' '240k' '89k' '234k'\n",
            " '257k' '861k' '467k' '157k' '44k' '676k' '67k' '552k' '885k' '1020k'\n",
            " '582k' '619k']\n"
          ]
        }
      ]
    },
    {
      "cell_type": "code",
      "source": [
        "df1"
      ],
      "metadata": {
        "colab": {
          "base_uri": "https://localhost:8080/",
          "height": 620
        },
        "id": "eU7c9lElGHnO",
        "outputId": "4326c258-013b-4131-bc58-c1335e3a2d3e"
      },
      "execution_count": 54,
      "outputs": [
        {
          "output_type": "execute_result",
          "data": {
            "text/plain": [
              "                                                          Category  Rating  \\\n",
              "App                                                                          \n",
              "Photo Editor & Candy Camera & Grid & ScrapBook      ART_AND_DESIGN     4.1   \n",
              "Coloring book moana                                 ART_AND_DESIGN     3.9   \n",
              "U Launcher Lite – FREE Live Cool Themes, Hide Apps  ART_AND_DESIGN     4.7   \n",
              "Sketch - Draw & Paint                               ART_AND_DESIGN     4.5   \n",
              "Pixel Draw - Number Art Coloring Book               ART_AND_DESIGN     4.3   \n",
              "...                                                            ...     ...   \n",
              "FR Forms                                                  BUSINESS     NaN   \n",
              "Sya9a Maroc - FR                                            FAMILY     4.5   \n",
              "Fr. Mike Schmitz Audio Teachings                            FAMILY     5.0   \n",
              "Parkinson Exercices FR                                     MEDICAL     NaN   \n",
              "iHoroscope - 2018 Daily Horoscope & Astrology            LIFESTYLE     4.5   \n",
              "\n",
              "                                                     Reviews  Size  \\\n",
              "App                                                                  \n",
              "Photo Editor & Candy Camera & Grid & ScrapBook         159.0   19M   \n",
              "Coloring book moana                                    967.0   14M   \n",
              "U Launcher Lite – FREE Live Cool Themes, Hide Apps   87510.0  8.7M   \n",
              "Sketch - Draw & Paint                               215644.0   25M   \n",
              "Pixel Draw - Number Art Coloring Book                  967.0  2.8M   \n",
              "...                                                      ...   ...   \n",
              "FR Forms                                                 0.0  9.6M   \n",
              "Sya9a Maroc - FR                                        38.0   53M   \n",
              "Fr. Mike Schmitz Audio Teachings                         4.0  3.6M   \n",
              "Parkinson Exercices FR                                   3.0  9.5M   \n",
              "iHoroscope - 2018 Daily Horoscope & Astrology       398307.0   19M   \n",
              "\n",
              "                                                      Installs  Type  Price  \\\n",
              "App                                                                           \n",
              "Photo Editor & Candy Camera & Grid & ScrapBook         10000.0  Free    0.0   \n",
              "Coloring book moana                                   500000.0  Free    0.0   \n",
              "U Launcher Lite – FREE Live Cool Themes, Hide Apps   5000000.0  Free    0.0   \n",
              "Sketch - Draw & Paint                               50000000.0  Free    0.0   \n",
              "Pixel Draw - Number Art Coloring Book                 100000.0  Free    0.0   \n",
              "...                                                        ...   ...    ...   \n",
              "FR Forms                                                  10.0  Free    0.0   \n",
              "Sya9a Maroc - FR                                        5000.0  Free    0.0   \n",
              "Fr. Mike Schmitz Audio Teachings                         100.0  Free    0.0   \n",
              "Parkinson Exercices FR                                  1000.0  Free    0.0   \n",
              "iHoroscope - 2018 Daily Horoscope & Astrology       10000000.0  Free    0.0   \n",
              "\n",
              "                                                   Content Rating  \\\n",
              "App                                                                 \n",
              "Photo Editor & Candy Camera & Grid & ScrapBook           Everyone   \n",
              "Coloring book moana                                      Everyone   \n",
              "U Launcher Lite – FREE Live Cool Themes, Hide Apps       Everyone   \n",
              "Sketch - Draw & Paint                                        Teen   \n",
              "Pixel Draw - Number Art Coloring Book                    Everyone   \n",
              "...                                                           ...   \n",
              "FR Forms                                                 Everyone   \n",
              "Sya9a Maroc - FR                                         Everyone   \n",
              "Fr. Mike Schmitz Audio Teachings                         Everyone   \n",
              "Parkinson Exercices FR                                   Everyone   \n",
              "iHoroscope - 2018 Daily Horoscope & Astrology            Everyone   \n",
              "\n",
              "                                                                       Genres  \\\n",
              "App                                                                             \n",
              "Photo Editor & Candy Camera & Grid & ScrapBook                   Art & Design   \n",
              "Coloring book moana                                 Art & Design;Pretend Play   \n",
              "U Launcher Lite – FREE Live Cool Themes, Hide Apps               Art & Design   \n",
              "Sketch - Draw & Paint                                            Art & Design   \n",
              "Pixel Draw - Number Art Coloring Book                 Art & Design;Creativity   \n",
              "...                                                                       ...   \n",
              "FR Forms                                                             Business   \n",
              "Sya9a Maroc - FR                                                    Education   \n",
              "Fr. Mike Schmitz Audio Teachings                                    Education   \n",
              "Parkinson Exercices FR                                                Medical   \n",
              "iHoroscope - 2018 Daily Horoscope & Astrology                       Lifestyle   \n",
              "\n",
              "                                                   Last Updated  \\\n",
              "App                                                               \n",
              "Photo Editor & Candy Camera & Grid & ScrapBook       07-01-2018   \n",
              "Coloring book moana                                  15-01-2018   \n",
              "U Launcher Lite – FREE Live Cool Themes, Hide Apps   01-08-2018   \n",
              "Sketch - Draw & Paint                                08-06-2018   \n",
              "Pixel Draw - Number Art Coloring Book                20-06-2018   \n",
              "...                                                         ...   \n",
              "FR Forms                                             29-09-2016   \n",
              "Sya9a Maroc - FR                                     25-07-2017   \n",
              "Fr. Mike Schmitz Audio Teachings                     06-07-2018   \n",
              "Parkinson Exercices FR                               20-01-2017   \n",
              "iHoroscope - 2018 Daily Horoscope & Astrology        25-07-2018   \n",
              "\n",
              "                                                           Current Ver  \\\n",
              "App                                                                      \n",
              "Photo Editor & Candy Camera & Grid & ScrapBook                   1.0.0   \n",
              "Coloring book moana                                              2.0.0   \n",
              "U Launcher Lite – FREE Live Cool Themes, Hide Apps               1.2.4   \n",
              "Sketch - Draw & Paint                               Varies with device   \n",
              "Pixel Draw - Number Art Coloring Book                              1.1   \n",
              "...                                                                ...   \n",
              "FR Forms                                                         1.1.5   \n",
              "Sya9a Maroc - FR                                                  1.48   \n",
              "Fr. Mike Schmitz Audio Teachings                                     1   \n",
              "Parkinson Exercices FR                                               1   \n",
              "iHoroscope - 2018 Daily Horoscope & Astrology       Varies with device   \n",
              "\n",
              "                                                           Android Ver  \n",
              "App                                                                     \n",
              "Photo Editor & Candy Camera & Grid & ScrapBook            4.0.3 and up  \n",
              "Coloring book moana                                       4.0.3 and up  \n",
              "U Launcher Lite – FREE Live Cool Themes, Hide Apps        4.0.3 and up  \n",
              "Sketch - Draw & Paint                                       4.2 and up  \n",
              "Pixel Draw - Number Art Coloring Book                       4.4 and up  \n",
              "...                                                                ...  \n",
              "FR Forms                                                    4.0 and up  \n",
              "Sya9a Maroc - FR                                            4.1 and up  \n",
              "Fr. Mike Schmitz Audio Teachings                            4.1 and up  \n",
              "Parkinson Exercices FR                                      2.2 and up  \n",
              "iHoroscope - 2018 Daily Horoscope & Astrology       Varies with device  \n",
              "\n",
              "[9920 rows x 12 columns]"
            ],
            "text/html": [
              "\n",
              "  <div id=\"df-53269b28-c603-4447-8ef3-f28e6d9894de\">\n",
              "    <div class=\"colab-df-container\">\n",
              "      <div>\n",
              "<style scoped>\n",
              "    .dataframe tbody tr th:only-of-type {\n",
              "        vertical-align: middle;\n",
              "    }\n",
              "\n",
              "    .dataframe tbody tr th {\n",
              "        vertical-align: top;\n",
              "    }\n",
              "\n",
              "    .dataframe thead th {\n",
              "        text-align: right;\n",
              "    }\n",
              "</style>\n",
              "<table border=\"1\" class=\"dataframe\">\n",
              "  <thead>\n",
              "    <tr style=\"text-align: right;\">\n",
              "      <th></th>\n",
              "      <th>Category</th>\n",
              "      <th>Rating</th>\n",
              "      <th>Reviews</th>\n",
              "      <th>Size</th>\n",
              "      <th>Installs</th>\n",
              "      <th>Type</th>\n",
              "      <th>Price</th>\n",
              "      <th>Content Rating</th>\n",
              "      <th>Genres</th>\n",
              "      <th>Last Updated</th>\n",
              "      <th>Current Ver</th>\n",
              "      <th>Android Ver</th>\n",
              "    </tr>\n",
              "    <tr>\n",
              "      <th>App</th>\n",
              "      <th></th>\n",
              "      <th></th>\n",
              "      <th></th>\n",
              "      <th></th>\n",
              "      <th></th>\n",
              "      <th></th>\n",
              "      <th></th>\n",
              "      <th></th>\n",
              "      <th></th>\n",
              "      <th></th>\n",
              "      <th></th>\n",
              "      <th></th>\n",
              "    </tr>\n",
              "  </thead>\n",
              "  <tbody>\n",
              "    <tr>\n",
              "      <th>Photo Editor &amp; Candy Camera &amp; Grid &amp; ScrapBook</th>\n",
              "      <td>ART_AND_DESIGN</td>\n",
              "      <td>4.1</td>\n",
              "      <td>159.0</td>\n",
              "      <td>19M</td>\n",
              "      <td>10000.0</td>\n",
              "      <td>Free</td>\n",
              "      <td>0.0</td>\n",
              "      <td>Everyone</td>\n",
              "      <td>Art &amp; Design</td>\n",
              "      <td>07-01-2018</td>\n",
              "      <td>1.0.0</td>\n",
              "      <td>4.0.3 and up</td>\n",
              "    </tr>\n",
              "    <tr>\n",
              "      <th>Coloring book moana</th>\n",
              "      <td>ART_AND_DESIGN</td>\n",
              "      <td>3.9</td>\n",
              "      <td>967.0</td>\n",
              "      <td>14M</td>\n",
              "      <td>500000.0</td>\n",
              "      <td>Free</td>\n",
              "      <td>0.0</td>\n",
              "      <td>Everyone</td>\n",
              "      <td>Art &amp; Design;Pretend Play</td>\n",
              "      <td>15-01-2018</td>\n",
              "      <td>2.0.0</td>\n",
              "      <td>4.0.3 and up</td>\n",
              "    </tr>\n",
              "    <tr>\n",
              "      <th>U Launcher Lite – FREE Live Cool Themes, Hide Apps</th>\n",
              "      <td>ART_AND_DESIGN</td>\n",
              "      <td>4.7</td>\n",
              "      <td>87510.0</td>\n",
              "      <td>8.7M</td>\n",
              "      <td>5000000.0</td>\n",
              "      <td>Free</td>\n",
              "      <td>0.0</td>\n",
              "      <td>Everyone</td>\n",
              "      <td>Art &amp; Design</td>\n",
              "      <td>01-08-2018</td>\n",
              "      <td>1.2.4</td>\n",
              "      <td>4.0.3 and up</td>\n",
              "    </tr>\n",
              "    <tr>\n",
              "      <th>Sketch - Draw &amp; Paint</th>\n",
              "      <td>ART_AND_DESIGN</td>\n",
              "      <td>4.5</td>\n",
              "      <td>215644.0</td>\n",
              "      <td>25M</td>\n",
              "      <td>50000000.0</td>\n",
              "      <td>Free</td>\n",
              "      <td>0.0</td>\n",
              "      <td>Teen</td>\n",
              "      <td>Art &amp; Design</td>\n",
              "      <td>08-06-2018</td>\n",
              "      <td>Varies with device</td>\n",
              "      <td>4.2 and up</td>\n",
              "    </tr>\n",
              "    <tr>\n",
              "      <th>Pixel Draw - Number Art Coloring Book</th>\n",
              "      <td>ART_AND_DESIGN</td>\n",
              "      <td>4.3</td>\n",
              "      <td>967.0</td>\n",
              "      <td>2.8M</td>\n",
              "      <td>100000.0</td>\n",
              "      <td>Free</td>\n",
              "      <td>0.0</td>\n",
              "      <td>Everyone</td>\n",
              "      <td>Art &amp; Design;Creativity</td>\n",
              "      <td>20-06-2018</td>\n",
              "      <td>1.1</td>\n",
              "      <td>4.4 and up</td>\n",
              "    </tr>\n",
              "    <tr>\n",
              "      <th>...</th>\n",
              "      <td>...</td>\n",
              "      <td>...</td>\n",
              "      <td>...</td>\n",
              "      <td>...</td>\n",
              "      <td>...</td>\n",
              "      <td>...</td>\n",
              "      <td>...</td>\n",
              "      <td>...</td>\n",
              "      <td>...</td>\n",
              "      <td>...</td>\n",
              "      <td>...</td>\n",
              "      <td>...</td>\n",
              "    </tr>\n",
              "    <tr>\n",
              "      <th>FR Forms</th>\n",
              "      <td>BUSINESS</td>\n",
              "      <td>NaN</td>\n",
              "      <td>0.0</td>\n",
              "      <td>9.6M</td>\n",
              "      <td>10.0</td>\n",
              "      <td>Free</td>\n",
              "      <td>0.0</td>\n",
              "      <td>Everyone</td>\n",
              "      <td>Business</td>\n",
              "      <td>29-09-2016</td>\n",
              "      <td>1.1.5</td>\n",
              "      <td>4.0 and up</td>\n",
              "    </tr>\n",
              "    <tr>\n",
              "      <th>Sya9a Maroc - FR</th>\n",
              "      <td>FAMILY</td>\n",
              "      <td>4.5</td>\n",
              "      <td>38.0</td>\n",
              "      <td>53M</td>\n",
              "      <td>5000.0</td>\n",
              "      <td>Free</td>\n",
              "      <td>0.0</td>\n",
              "      <td>Everyone</td>\n",
              "      <td>Education</td>\n",
              "      <td>25-07-2017</td>\n",
              "      <td>1.48</td>\n",
              "      <td>4.1 and up</td>\n",
              "    </tr>\n",
              "    <tr>\n",
              "      <th>Fr. Mike Schmitz Audio Teachings</th>\n",
              "      <td>FAMILY</td>\n",
              "      <td>5.0</td>\n",
              "      <td>4.0</td>\n",
              "      <td>3.6M</td>\n",
              "      <td>100.0</td>\n",
              "      <td>Free</td>\n",
              "      <td>0.0</td>\n",
              "      <td>Everyone</td>\n",
              "      <td>Education</td>\n",
              "      <td>06-07-2018</td>\n",
              "      <td>1</td>\n",
              "      <td>4.1 and up</td>\n",
              "    </tr>\n",
              "    <tr>\n",
              "      <th>Parkinson Exercices FR</th>\n",
              "      <td>MEDICAL</td>\n",
              "      <td>NaN</td>\n",
              "      <td>3.0</td>\n",
              "      <td>9.5M</td>\n",
              "      <td>1000.0</td>\n",
              "      <td>Free</td>\n",
              "      <td>0.0</td>\n",
              "      <td>Everyone</td>\n",
              "      <td>Medical</td>\n",
              "      <td>20-01-2017</td>\n",
              "      <td>1</td>\n",
              "      <td>2.2 and up</td>\n",
              "    </tr>\n",
              "    <tr>\n",
              "      <th>iHoroscope - 2018 Daily Horoscope &amp; Astrology</th>\n",
              "      <td>LIFESTYLE</td>\n",
              "      <td>4.5</td>\n",
              "      <td>398307.0</td>\n",
              "      <td>19M</td>\n",
              "      <td>10000000.0</td>\n",
              "      <td>Free</td>\n",
              "      <td>0.0</td>\n",
              "      <td>Everyone</td>\n",
              "      <td>Lifestyle</td>\n",
              "      <td>25-07-2018</td>\n",
              "      <td>Varies with device</td>\n",
              "      <td>Varies with device</td>\n",
              "    </tr>\n",
              "  </tbody>\n",
              "</table>\n",
              "<p>9920 rows × 12 columns</p>\n",
              "</div>\n",
              "      <button class=\"colab-df-convert\" onclick=\"convertToInteractive('df-53269b28-c603-4447-8ef3-f28e6d9894de')\"\n",
              "              title=\"Convert this dataframe to an interactive table.\"\n",
              "              style=\"display:none;\">\n",
              "        \n",
              "  <svg xmlns=\"http://www.w3.org/2000/svg\" height=\"24px\"viewBox=\"0 0 24 24\"\n",
              "       width=\"24px\">\n",
              "    <path d=\"M0 0h24v24H0V0z\" fill=\"none\"/>\n",
              "    <path d=\"M18.56 5.44l.94 2.06.94-2.06 2.06-.94-2.06-.94-.94-2.06-.94 2.06-2.06.94zm-11 1L8.5 8.5l.94-2.06 2.06-.94-2.06-.94L8.5 2.5l-.94 2.06-2.06.94zm10 10l.94 2.06.94-2.06 2.06-.94-2.06-.94-.94-2.06-.94 2.06-2.06.94z\"/><path d=\"M17.41 7.96l-1.37-1.37c-.4-.4-.92-.59-1.43-.59-.52 0-1.04.2-1.43.59L10.3 9.45l-7.72 7.72c-.78.78-.78 2.05 0 2.83L4 21.41c.39.39.9.59 1.41.59.51 0 1.02-.2 1.41-.59l7.78-7.78 2.81-2.81c.8-.78.8-2.07 0-2.86zM5.41 20L4 18.59l7.72-7.72 1.47 1.35L5.41 20z\"/>\n",
              "  </svg>\n",
              "      </button>\n",
              "      \n",
              "  <style>\n",
              "    .colab-df-container {\n",
              "      display:flex;\n",
              "      flex-wrap:wrap;\n",
              "      gap: 12px;\n",
              "    }\n",
              "\n",
              "    .colab-df-convert {\n",
              "      background-color: #E8F0FE;\n",
              "      border: none;\n",
              "      border-radius: 50%;\n",
              "      cursor: pointer;\n",
              "      display: none;\n",
              "      fill: #1967D2;\n",
              "      height: 32px;\n",
              "      padding: 0 0 0 0;\n",
              "      width: 32px;\n",
              "    }\n",
              "\n",
              "    .colab-df-convert:hover {\n",
              "      background-color: #E2EBFA;\n",
              "      box-shadow: 0px 1px 2px rgba(60, 64, 67, 0.3), 0px 1px 3px 1px rgba(60, 64, 67, 0.15);\n",
              "      fill: #174EA6;\n",
              "    }\n",
              "\n",
              "    [theme=dark] .colab-df-convert {\n",
              "      background-color: #3B4455;\n",
              "      fill: #D2E3FC;\n",
              "    }\n",
              "\n",
              "    [theme=dark] .colab-df-convert:hover {\n",
              "      background-color: #434B5C;\n",
              "      box-shadow: 0px 1px 3px 1px rgba(0, 0, 0, 0.15);\n",
              "      filter: drop-shadow(0px 1px 2px rgba(0, 0, 0, 0.3));\n",
              "      fill: #FFFFFF;\n",
              "    }\n",
              "  </style>\n",
              "\n",
              "      <script>\n",
              "        const buttonEl =\n",
              "          document.querySelector('#df-53269b28-c603-4447-8ef3-f28e6d9894de button.colab-df-convert');\n",
              "        buttonEl.style.display =\n",
              "          google.colab.kernel.accessAllowed ? 'block' : 'none';\n",
              "\n",
              "        async function convertToInteractive(key) {\n",
              "          const element = document.querySelector('#df-53269b28-c603-4447-8ef3-f28e6d9894de');\n",
              "          const dataTable =\n",
              "            await google.colab.kernel.invokeFunction('convertToInteractive',\n",
              "                                                     [key], {});\n",
              "          if (!dataTable) return;\n",
              "\n",
              "          const docLinkHtml = 'Like what you see? Visit the ' +\n",
              "            '<a target=\"_blank\" href=https://colab.research.google.com/notebooks/data_table.ipynb>data table notebook</a>'\n",
              "            + ' to learn more about interactive tables.';\n",
              "          element.innerHTML = '';\n",
              "          dataTable['output_type'] = 'display_data';\n",
              "          await google.colab.output.renderOutput(dataTable, element);\n",
              "          const docLink = document.createElement('div');\n",
              "          docLink.innerHTML = docLinkHtml;\n",
              "          element.appendChild(docLink);\n",
              "        }\n",
              "      </script>\n",
              "    </div>\n",
              "  </div>\n",
              "  "
            ]
          },
          "metadata": {},
          "execution_count": 54
        }
      ]
    },
    {
      "cell_type": "code",
      "source": [
        "df1.info()\n"
      ],
      "metadata": {
        "colab": {
          "base_uri": "https://localhost:8080/"
        },
        "id": "rkrDUSNiGK28",
        "outputId": "8dd1dd27-408a-46e8-fac7-f9046ab22bd2"
      },
      "execution_count": 55,
      "outputs": [
        {
          "output_type": "stream",
          "name": "stdout",
          "text": [
            "<class 'pandas.core.frame.DataFrame'>\n",
            "Index: 9920 entries, Photo Editor & Candy Camera & Grid & ScrapBook to iHoroscope - 2018 Daily Horoscope & Astrology\n",
            "Data columns (total 12 columns):\n",
            " #   Column          Non-Null Count  Dtype  \n",
            "---  ------          --------------  -----  \n",
            " 0   Category        9920 non-null   object \n",
            " 1   Rating          8477 non-null   float64\n",
            " 2   Reviews         9920 non-null   float64\n",
            " 3   Size            9920 non-null   object \n",
            " 4   Installs        9920 non-null   float64\n",
            " 5   Type            9919 non-null   object \n",
            " 6   Price           9920 non-null   float64\n",
            " 7   Content Rating  9920 non-null   object \n",
            " 8   Genres          9920 non-null   object \n",
            " 9   Last Updated    9920 non-null   object \n",
            " 10  Current Ver     9912 non-null   object \n",
            " 11  Android Ver     9918 non-null   object \n",
            "dtypes: float64(4), object(8)\n",
            "memory usage: 1.2+ MB\n"
          ]
        }
      ]
    },
    {
      "cell_type": "code",
      "source": [
        "print(df1['Installs'].unique())"
      ],
      "metadata": {
        "colab": {
          "base_uri": "https://localhost:8080/"
        },
        "id": "cvdR_JTJGYlE",
        "outputId": "f58fd85b-384a-4b92-8603-4b32ac498904"
      },
      "execution_count": 56,
      "outputs": [
        {
          "output_type": "stream",
          "name": "stdout",
          "text": [
            "[1.e+04 5.e+05 5.e+06 5.e+07 1.e+05 5.e+04 1.e+06 1.e+07 5.e+03 1.e+08\n",
            " 1.e+09 1.e+03 5.e+08 5.e+01 1.e+02 5.e+02 1.e+01 1.e+00 5.e+00 0.e+00]\n"
          ]
        }
      ]
    },
    {
      "cell_type": "code",
      "source": [
        "print(df1['Type'].unique())"
      ],
      "metadata": {
        "colab": {
          "base_uri": "https://localhost:8080/"
        },
        "id": "3gna2vBcGelz",
        "outputId": "97c153db-b3ab-4f69-87c6-96915ca94ed7"
      },
      "execution_count": 57,
      "outputs": [
        {
          "output_type": "stream",
          "name": "stdout",
          "text": [
            "['Free' 'Paid' nan]\n"
          ]
        }
      ]
    },
    {
      "cell_type": "code",
      "source": [
        "print(df1['Price'].unique())"
      ],
      "metadata": {
        "colab": {
          "base_uri": "https://localhost:8080/"
        },
        "id": "rR8q4r9TGuzP",
        "outputId": "34fd721b-f843-47b5-ddcd-cb8792f2ccfc"
      },
      "execution_count": 58,
      "outputs": [
        {
          "output_type": "stream",
          "name": "stdout",
          "text": [
            "[  0.     3.99   6.99   1.49   2.99   7.99   5.99   4.99   3.49   1.99\n",
            "   9.99   7.49   0.99   1.     2.49  10.99   1.5   14.99  15.99  74.99\n",
            "  39.99   3.95  29.99   4.49   1.7    8.99   2.     3.88  25.99 399.99\n",
            "  17.99 400.     3.02   1.76   4.84   4.77   1.61   2.5   19.99   1.59\n",
            "   6.49   1.29   5.    13.99 299.99 379.99  37.99  18.99 389.99  19.9\n",
            "   8.49   1.75  11.99  14.     4.85  46.99   5.49 109.99 154.99   3.08\n",
            "   2.59   4.8    1.96  19.4    3.9    4.59  15.46  10.     3.04  12.99\n",
            "   4.29   2.6    3.28   4.6   28.99   2.95   2.9    1.97  24.99 200.\n",
            "  89.99   2.56  30.99   3.61 394.99   1.26  16.99   1.2    1.04]\n"
          ]
        }
      ]
    },
    {
      "cell_type": "code",
      "source": [
        "print(df1['Content Rating'].unique())"
      ],
      "metadata": {
        "colab": {
          "base_uri": "https://localhost:8080/"
        },
        "id": "BIcQRAOcG1T7",
        "outputId": "84c83eb4-6bd3-42db-e2cf-d3d7f9579542"
      },
      "execution_count": 59,
      "outputs": [
        {
          "output_type": "stream",
          "name": "stdout",
          "text": [
            "['Everyone' 'Teen' 'Everyone 10+' 'Mature 17+' 'Adults only 18+' 'Unrated']\n"
          ]
        }
      ]
    },
    {
      "cell_type": "code",
      "source": [
        "print(df1['Genres'].unique())"
      ],
      "metadata": {
        "colab": {
          "base_uri": "https://localhost:8080/"
        },
        "id": "2BubRdRnG-9k",
        "outputId": "11174327-a23b-4f33-90dc-51de94261a5a"
      },
      "execution_count": 60,
      "outputs": [
        {
          "output_type": "stream",
          "name": "stdout",
          "text": [
            "['Art & Design' 'Art & Design;Pretend Play' 'Art & Design;Creativity'\n",
            " 'Art & Design;Action & Adventure' 'Auto & Vehicles' 'Beauty'\n",
            " 'Books & Reference' 'Business' 'Comics' 'Comics;Creativity'\n",
            " 'Communication' 'Dating' 'Education;Education' 'Education'\n",
            " 'Education;Creativity' 'Education;Music & Video'\n",
            " 'Education;Action & Adventure' 'Education;Pretend Play'\n",
            " 'Education;Brain Games' 'Entertainment' 'Entertainment;Music & Video'\n",
            " 'Entertainment;Brain Games' 'Entertainment;Creativity' 'Events' 'Finance'\n",
            " 'Food & Drink' 'Health & Fitness' 'House & Home' 'Libraries & Demo'\n",
            " 'Lifestyle' 'Lifestyle;Pretend Play' 'Adventure;Action & Adventure'\n",
            " 'Arcade' 'Casual' 'Card' 'Casual;Pretend Play' 'Action' 'Strategy'\n",
            " 'Puzzle' 'Sports' 'Music' 'Word' 'Racing' 'Casual;Creativity'\n",
            " 'Casual;Action & Adventure' 'Adventure' 'Board' 'Trivia' 'Simulation'\n",
            " 'Role Playing' 'Simulation;Education' 'Action;Action & Adventure'\n",
            " 'Casual;Brain Games' 'Simulation;Action & Adventure'\n",
            " 'Educational;Creativity' 'Puzzle;Brain Games' 'Educational;Education'\n",
            " 'Card;Brain Games' 'Educational;Brain Games' 'Educational;Pretend Play'\n",
            " 'Entertainment;Education' 'Casual;Education' 'Music;Music & Video'\n",
            " 'Racing;Action & Adventure' 'Arcade;Pretend Play'\n",
            " 'Simulation;Pretend Play' 'Puzzle;Creativity' 'Sports;Action & Adventure'\n",
            " 'Educational;Action & Adventure' 'Arcade;Action & Adventure'\n",
            " 'Entertainment;Action & Adventure' 'Puzzle;Action & Adventure'\n",
            " 'Strategy;Action & Adventure' 'Music & Audio;Music & Video'\n",
            " 'Health & Fitness;Education' 'Adventure;Education' 'Board;Brain Games'\n",
            " 'Board;Action & Adventure' 'Board;Pretend Play'\n",
            " 'Entertainment;Pretend Play' 'Video Players & Editors;Creativity'\n",
            " 'Card;Action & Adventure' 'Medical' 'Social' 'Shopping' 'Photography'\n",
            " 'Travel & Local' 'Travel & Local;Action & Adventure' 'Tools'\n",
            " 'Tools;Education' 'Personalization' 'Productivity' 'Parenting'\n",
            " 'Parenting;Music & Video' 'Parenting;Education' 'Parenting;Brain Games'\n",
            " 'Weather' 'Video Players & Editors'\n",
            " 'Video Players & Editors;Music & Video' 'News & Magazines'\n",
            " 'Maps & Navigation' 'Health & Fitness;Action & Adventure'\n",
            " 'Role Playing;Pretend Play' 'Educational' 'Casino'\n",
            " 'Adventure;Brain Games' 'Role Playing;Action & Adventure'\n",
            " 'Trivia;Education' 'Lifestyle;Education' 'Books & Reference;Creativity'\n",
            " 'Books & Reference;Education' 'Puzzle;Education' 'Role Playing;Education'\n",
            " 'Role Playing;Brain Games' 'Strategy;Education' 'Racing;Pretend Play'\n",
            " 'Communication;Creativity' 'Strategy;Creativity']\n"
          ]
        }
      ]
    },
    {
      "cell_type": "code",
      "source": [
        "print(df1['Last Updated'].unique())"
      ],
      "metadata": {
        "colab": {
          "base_uri": "https://localhost:8080/"
        },
        "id": "9UvK8e5BHxGj",
        "outputId": "40fb9967-dcec-46f6-eef6-16a98ceb921f"
      },
      "execution_count": 61,
      "outputs": [
        {
          "output_type": "stream",
          "name": "stdout",
          "text": [
            "['07-01-2018' '15-01-2018' '01-08-2018' ... '20-01-2014' '16-02-2014'\n",
            " '23-03-2014']\n"
          ]
        }
      ]
    },
    {
      "cell_type": "code",
      "source": [
        "print(df1['Current Ver'].unique())"
      ],
      "metadata": {
        "colab": {
          "base_uri": "https://localhost:8080/"
        },
        "id": "63ADSchIH72x",
        "outputId": "ed056003-8566-4396-f312-b973ecf58540"
      },
      "execution_count": 62,
      "outputs": [
        {
          "output_type": "stream",
          "name": "stdout",
          "text": [
            "['1.0.0' '2.0.0' '1.2.4' ... '1.0.612928' '0.3.4' '2.0.148.0']\n"
          ]
        }
      ]
    },
    {
      "cell_type": "code",
      "source": [
        "print(df1['Android Ver'].unique())"
      ],
      "metadata": {
        "colab": {
          "base_uri": "https://localhost:8080/"
        },
        "id": "r79-ao4XIR97",
        "outputId": "fe0cbee6-0b4a-4509-f660-6bc8ec82bb4a"
      },
      "execution_count": 64,
      "outputs": [
        {
          "output_type": "stream",
          "name": "stdout",
          "text": [
            "['4.0.3 and up' '4.2 and up' '4.4 and up' '2.3 and up' '3.0 and up'\n",
            " '4.1 and up' '4.0 and up' '2.2 and up' '5.0 and up' '2.3.3 and up'\n",
            " '6.0 and up' 'Varies with device' '1.6 and up' '1.5 and up' '2.1 and up'\n",
            " '7.0 and up' '5.1 and up' '4.3 and up' '4.0.3 - 7.1.1' '2.0 and up'\n",
            " '3.2 and up' '4.4W and up' '7.1 and up' '7.0 - 7.1.1' '8.0 and up'\n",
            " '5.0 - 8.0' '3.1 and up' '2.0.1 and up' '4.1 - 7.1.1' nan '5.0 - 6.0'\n",
            " '1.0 and up' '2.2 - 7.1.1' '5.0 - 7.1.1']\n"
          ]
        }
      ]
    },
    {
      "cell_type": "code",
      "source": [
        "print(df1[df1['Android Ver']=='Varies with device'])"
      ],
      "metadata": {
        "colab": {
          "base_uri": "https://localhost:8080/"
        },
        "id": "JmU41vnfIsOE",
        "outputId": "9afa3b30-1834-4934-9e47-20c40976c0d8"
      },
      "execution_count": 67,
      "outputs": [
        {
          "output_type": "stream",
          "name": "stdout",
          "text": [
            "                                                             Category  Rating  \\\n",
            "App                                                                             \n",
            "CarMax – Cars for Sale: Search Used Car Inventory   AUTO_AND_VEHICLES     4.4   \n",
            "AutoScout24 Switzerland – Find your new car         AUTO_AND_VEHICLES     4.6   \n",
            "Zona Azul Digital Fácil SP CET - OFFICIAL São P...  AUTO_AND_VEHICLES     4.6   \n",
            "Mirror - Zoom & Exposure -                                     BEAUTY     3.9   \n",
            "Selfie Camera                                                  BEAUTY     4.2   \n",
            "...                                                               ...     ...   \n",
            "Photo Editor Collage Maker Pro                            PHOTOGRAPHY     4.5   \n",
            "Lalafo Pulsuz Elanlar                                        SHOPPING     4.4   \n",
            "Chat For Strangers - Video Chat                                SOCIAL     3.4   \n",
            "Frim: get new friends on local chat rooms                      SOCIAL     4.0   \n",
            "iHoroscope - 2018 Daily Horoscope & Astrology               LIFESTYLE     4.5   \n",
            "\n",
            "                                                      Reviews  \\\n",
            "App                                                             \n",
            "CarMax – Cars for Sale: Search Used Car Inventory     21777.0   \n",
            "AutoScout24 Switzerland – Find your new car           13372.0   \n",
            "Zona Azul Digital Fácil SP CET - OFFICIAL São P...     7880.0   \n",
            "Mirror - Zoom & Exposure -                            32090.0   \n",
            "Selfie Camera                                         17934.0   \n",
            "...                                                       ...   \n",
            "Photo Editor Collage Maker Pro                      1519671.0   \n",
            "Lalafo Pulsuz Elanlar                                 61392.0   \n",
            "Chat For Strangers - Video Chat                         622.0   \n",
            "Frim: get new friends on local chat rooms             88486.0   \n",
            "iHoroscope - 2018 Daily Horoscope & Astrology        398307.0   \n",
            "\n",
            "                                                                  Size  \\\n",
            "App                                                                      \n",
            "CarMax – Cars for Sale: Search Used Car Inventory   Varies with device   \n",
            "AutoScout24 Switzerland – Find your new car         Varies with device   \n",
            "Zona Azul Digital Fácil SP CET - OFFICIAL São P...  Varies with device   \n",
            "Mirror - Zoom & Exposure -                          Varies with device   \n",
            "Selfie Camera                                       Varies with device   \n",
            "...                                                                ...   \n",
            "Photo Editor Collage Maker Pro                      Varies with device   \n",
            "Lalafo Pulsuz Elanlar                               Varies with device   \n",
            "Chat For Strangers - Video Chat                     Varies with device   \n",
            "Frim: get new friends on local chat rooms           Varies with device   \n",
            "iHoroscope - 2018 Daily Horoscope & Astrology                      19M   \n",
            "\n",
            "                                                       Installs  Type  Price  \\\n",
            "App                                                                            \n",
            "CarMax – Cars for Sale: Search Used Car Inventory     1000000.0  Free    0.0   \n",
            "AutoScout24 Switzerland – Find your new car           1000000.0  Free    0.0   \n",
            "Zona Azul Digital Fácil SP CET - OFFICIAL São P...     100000.0  Free    0.0   \n",
            "Mirror - Zoom & Exposure -                            1000000.0  Free    0.0   \n",
            "Selfie Camera                                         1000000.0  Free    0.0   \n",
            "...                                                         ...   ...    ...   \n",
            "Photo Editor Collage Maker Pro                      100000000.0  Free    0.0   \n",
            "Lalafo Pulsuz Elanlar                                 1000000.0  Free    0.0   \n",
            "Chat For Strangers - Video Chat                        100000.0  Free    0.0   \n",
            "Frim: get new friends on local chat rooms             5000000.0  Free    0.0   \n",
            "iHoroscope - 2018 Daily Horoscope & Astrology        10000000.0  Free    0.0   \n",
            "\n",
            "                                                   Content Rating  \\\n",
            "App                                                                 \n",
            "CarMax – Cars for Sale: Search Used Car Inventory        Everyone   \n",
            "AutoScout24 Switzerland – Find your new car              Everyone   \n",
            "Zona Azul Digital Fácil SP CET - OFFICIAL São P...       Everyone   \n",
            "Mirror - Zoom & Exposure -                               Everyone   \n",
            "Selfie Camera                                            Everyone   \n",
            "...                                                           ...   \n",
            "Photo Editor Collage Maker Pro                           Everyone   \n",
            "Lalafo Pulsuz Elanlar                                    Everyone   \n",
            "Chat For Strangers - Video Chat                        Mature 17+   \n",
            "Frim: get new friends on local chat rooms              Mature 17+   \n",
            "iHoroscope - 2018 Daily Horoscope & Astrology            Everyone   \n",
            "\n",
            "                                                             Genres  \\\n",
            "App                                                                   \n",
            "CarMax – Cars for Sale: Search Used Car Inventory   Auto & Vehicles   \n",
            "AutoScout24 Switzerland – Find your new car         Auto & Vehicles   \n",
            "Zona Azul Digital Fácil SP CET - OFFICIAL São P...  Auto & Vehicles   \n",
            "Mirror - Zoom & Exposure -                                   Beauty   \n",
            "Selfie Camera                                                Beauty   \n",
            "...                                                             ...   \n",
            "Photo Editor Collage Maker Pro                          Photography   \n",
            "Lalafo Pulsuz Elanlar                                      Shopping   \n",
            "Chat For Strangers - Video Chat                              Social   \n",
            "Frim: get new friends on local chat rooms                    Social   \n",
            "iHoroscope - 2018 Daily Horoscope & Astrology             Lifestyle   \n",
            "\n",
            "                                                   Last Updated  \\\n",
            "App                                                               \n",
            "CarMax – Cars for Sale: Search Used Car Inventory    04-08-2018   \n",
            "AutoScout24 Switzerland – Find your new car          03-08-2018   \n",
            "Zona Azul Digital Fácil SP CET - OFFICIAL São P...   10-05-2018   \n",
            "Mirror - Zoom & Exposure -                           24-10-2016   \n",
            "Selfie Camera                                        12-09-2017   \n",
            "...                                                         ...   \n",
            "Photo Editor Collage Maker Pro                       01-02-2018   \n",
            "Lalafo Pulsuz Elanlar                                08-08-2018   \n",
            "Chat For Strangers - Video Chat                      23-05-2018   \n",
            "Frim: get new friends on local chat rooms            23-03-2018   \n",
            "iHoroscope - 2018 Daily Horoscope & Astrology        25-07-2018   \n",
            "\n",
            "                                                           Current Ver  \\\n",
            "App                                                                      \n",
            "CarMax – Cars for Sale: Search Used Car Inventory   Varies with device   \n",
            "AutoScout24 Switzerland – Find your new car         Varies with device   \n",
            "Zona Azul Digital Fácil SP CET - OFFICIAL São P...               4.6.5   \n",
            "Mirror - Zoom & Exposure -                          Varies with device   \n",
            "Selfie Camera                                       Varies with device   \n",
            "...                                                                ...   \n",
            "Photo Editor Collage Maker Pro                      Varies with device   \n",
            "Lalafo Pulsuz Elanlar                               Varies with device   \n",
            "Chat For Strangers - Video Chat                     Varies with device   \n",
            "Frim: get new friends on local chat rooms           Varies with device   \n",
            "iHoroscope - 2018 Daily Horoscope & Astrology       Varies with device   \n",
            "\n",
            "                                                           Android Ver  \n",
            "App                                                                     \n",
            "CarMax – Cars for Sale: Search Used Car Inventory   Varies with device  \n",
            "AutoScout24 Switzerland – Find your new car         Varies with device  \n",
            "Zona Azul Digital Fácil SP CET - OFFICIAL São P...  Varies with device  \n",
            "Mirror - Zoom & Exposure -                          Varies with device  \n",
            "Selfie Camera                                       Varies with device  \n",
            "...                                                                ...  \n",
            "Photo Editor Collage Maker Pro                      Varies with device  \n",
            "Lalafo Pulsuz Elanlar                               Varies with device  \n",
            "Chat For Strangers - Video Chat                     Varies with device  \n",
            "Frim: get new friends on local chat rooms           Varies with device  \n",
            "iHoroscope - 2018 Daily Horoscope & Astrology       Varies with device  \n",
            "\n",
            "[1100 rows x 12 columns]\n"
          ]
        }
      ]
    },
    {
      "cell_type": "code",
      "source": [],
      "metadata": {
        "id": "mwJm4q_FMw01"
      },
      "execution_count": null,
      "outputs": []
    },
    {
      "cell_type": "code",
      "source": [
        "df1.drop(\"CarMax – Cars for Sale: Search Used Car Inventory\",inplace=True)"
      ],
      "metadata": {
        "id": "zunlv5hxI_IM"
      },
      "execution_count": 70,
      "outputs": []
    },
    {
      "cell_type": "code",
      "source": [
        "df1.drop(\"Zona Azul Digital Fácil SP CET - OFFICIAL São P \",inplace=True)"
      ],
      "metadata": {
        "colab": {
          "base_uri": "https://localhost:8080/",
          "height": 323
        },
        "id": "fFHzxUUsKjwL",
        "outputId": "ab961b7b-4bfa-4db5-bcaa-019fcd8fbf16"
      },
      "execution_count": 84,
      "outputs": [
        {
          "output_type": "error",
          "ename": "KeyError",
          "evalue": "ignored",
          "traceback": [
            "\u001b[0;31m---------------------------------------------------------------------------\u001b[0m",
            "\u001b[0;31mKeyError\u001b[0m                                  Traceback (most recent call last)",
            "\u001b[0;32m<ipython-input-84-354e21120e55>\u001b[0m in \u001b[0;36m<module>\u001b[0;34m\u001b[0m\n\u001b[0;32m----> 1\u001b[0;31m \u001b[0mdf1\u001b[0m\u001b[0;34m.\u001b[0m\u001b[0mdrop\u001b[0m\u001b[0;34m(\u001b[0m\u001b[0;34m\"Zona Azul Digital Fácil SP CET - OFFICIAL São P \"\u001b[0m\u001b[0;34m,\u001b[0m\u001b[0minplace\u001b[0m\u001b[0;34m=\u001b[0m\u001b[0;32mTrue\u001b[0m\u001b[0;34m)\u001b[0m\u001b[0;34m\u001b[0m\u001b[0;34m\u001b[0m\u001b[0m\n\u001b[0m",
            "\u001b[0;32m/usr/local/lib/python3.8/dist-packages/pandas/util/_decorators.py\u001b[0m in \u001b[0;36mwrapper\u001b[0;34m(*args, **kwargs)\u001b[0m\n\u001b[1;32m    309\u001b[0m                     \u001b[0mstacklevel\u001b[0m\u001b[0;34m=\u001b[0m\u001b[0mstacklevel\u001b[0m\u001b[0;34m,\u001b[0m\u001b[0;34m\u001b[0m\u001b[0;34m\u001b[0m\u001b[0m\n\u001b[1;32m    310\u001b[0m                 )\n\u001b[0;32m--> 311\u001b[0;31m             \u001b[0;32mreturn\u001b[0m \u001b[0mfunc\u001b[0m\u001b[0;34m(\u001b[0m\u001b[0;34m*\u001b[0m\u001b[0margs\u001b[0m\u001b[0;34m,\u001b[0m \u001b[0;34m**\u001b[0m\u001b[0mkwargs\u001b[0m\u001b[0;34m)\u001b[0m\u001b[0;34m\u001b[0m\u001b[0;34m\u001b[0m\u001b[0m\n\u001b[0m\u001b[1;32m    312\u001b[0m \u001b[0;34m\u001b[0m\u001b[0m\n\u001b[1;32m    313\u001b[0m         \u001b[0;32mreturn\u001b[0m \u001b[0mwrapper\u001b[0m\u001b[0;34m\u001b[0m\u001b[0;34m\u001b[0m\u001b[0m\n",
            "\u001b[0;32m/usr/local/lib/python3.8/dist-packages/pandas/core/frame.py\u001b[0m in \u001b[0;36mdrop\u001b[0;34m(self, labels, axis, index, columns, level, inplace, errors)\u001b[0m\n\u001b[1;32m   4904\u001b[0m                 \u001b[0mweight\u001b[0m  \u001b[0;36m1.0\u001b[0m     \u001b[0;36m0.8\u001b[0m\u001b[0;34m\u001b[0m\u001b[0;34m\u001b[0m\u001b[0m\n\u001b[1;32m   4905\u001b[0m         \"\"\"\n\u001b[0;32m-> 4906\u001b[0;31m         return super().drop(\n\u001b[0m\u001b[1;32m   4907\u001b[0m             \u001b[0mlabels\u001b[0m\u001b[0;34m=\u001b[0m\u001b[0mlabels\u001b[0m\u001b[0;34m,\u001b[0m\u001b[0;34m\u001b[0m\u001b[0;34m\u001b[0m\u001b[0m\n\u001b[1;32m   4908\u001b[0m             \u001b[0maxis\u001b[0m\u001b[0;34m=\u001b[0m\u001b[0maxis\u001b[0m\u001b[0;34m,\u001b[0m\u001b[0;34m\u001b[0m\u001b[0;34m\u001b[0m\u001b[0m\n",
            "\u001b[0;32m/usr/local/lib/python3.8/dist-packages/pandas/core/generic.py\u001b[0m in \u001b[0;36mdrop\u001b[0;34m(self, labels, axis, index, columns, level, inplace, errors)\u001b[0m\n\u001b[1;32m   4148\u001b[0m         \u001b[0;32mfor\u001b[0m \u001b[0maxis\u001b[0m\u001b[0;34m,\u001b[0m \u001b[0mlabels\u001b[0m \u001b[0;32min\u001b[0m \u001b[0maxes\u001b[0m\u001b[0;34m.\u001b[0m\u001b[0mitems\u001b[0m\u001b[0;34m(\u001b[0m\u001b[0;34m)\u001b[0m\u001b[0;34m:\u001b[0m\u001b[0;34m\u001b[0m\u001b[0;34m\u001b[0m\u001b[0m\n\u001b[1;32m   4149\u001b[0m             \u001b[0;32mif\u001b[0m \u001b[0mlabels\u001b[0m \u001b[0;32mis\u001b[0m \u001b[0;32mnot\u001b[0m \u001b[0;32mNone\u001b[0m\u001b[0;34m:\u001b[0m\u001b[0;34m\u001b[0m\u001b[0;34m\u001b[0m\u001b[0m\n\u001b[0;32m-> 4150\u001b[0;31m                 \u001b[0mobj\u001b[0m \u001b[0;34m=\u001b[0m \u001b[0mobj\u001b[0m\u001b[0;34m.\u001b[0m\u001b[0m_drop_axis\u001b[0m\u001b[0;34m(\u001b[0m\u001b[0mlabels\u001b[0m\u001b[0;34m,\u001b[0m \u001b[0maxis\u001b[0m\u001b[0;34m,\u001b[0m \u001b[0mlevel\u001b[0m\u001b[0;34m=\u001b[0m\u001b[0mlevel\u001b[0m\u001b[0;34m,\u001b[0m \u001b[0merrors\u001b[0m\u001b[0;34m=\u001b[0m\u001b[0merrors\u001b[0m\u001b[0;34m)\u001b[0m\u001b[0;34m\u001b[0m\u001b[0;34m\u001b[0m\u001b[0m\n\u001b[0m\u001b[1;32m   4151\u001b[0m \u001b[0;34m\u001b[0m\u001b[0m\n\u001b[1;32m   4152\u001b[0m         \u001b[0;32mif\u001b[0m \u001b[0minplace\u001b[0m\u001b[0;34m:\u001b[0m\u001b[0;34m\u001b[0m\u001b[0;34m\u001b[0m\u001b[0m\n",
            "\u001b[0;32m/usr/local/lib/python3.8/dist-packages/pandas/core/generic.py\u001b[0m in \u001b[0;36m_drop_axis\u001b[0;34m(self, labels, axis, level, errors)\u001b[0m\n\u001b[1;32m   4212\u001b[0m                 \u001b[0mlabels_missing\u001b[0m \u001b[0;34m=\u001b[0m \u001b[0;34m(\u001b[0m\u001b[0maxis\u001b[0m\u001b[0;34m.\u001b[0m\u001b[0mget_indexer_for\u001b[0m\u001b[0;34m(\u001b[0m\u001b[0mlabels\u001b[0m\u001b[0;34m)\u001b[0m \u001b[0;34m==\u001b[0m \u001b[0;34m-\u001b[0m\u001b[0;36m1\u001b[0m\u001b[0;34m)\u001b[0m\u001b[0;34m.\u001b[0m\u001b[0many\u001b[0m\u001b[0;34m(\u001b[0m\u001b[0;34m)\u001b[0m\u001b[0;34m\u001b[0m\u001b[0;34m\u001b[0m\u001b[0m\n\u001b[1;32m   4213\u001b[0m                 \u001b[0;32mif\u001b[0m \u001b[0merrors\u001b[0m \u001b[0;34m==\u001b[0m \u001b[0;34m\"raise\"\u001b[0m \u001b[0;32mand\u001b[0m \u001b[0mlabels_missing\u001b[0m\u001b[0;34m:\u001b[0m\u001b[0;34m\u001b[0m\u001b[0;34m\u001b[0m\u001b[0m\n\u001b[0;32m-> 4214\u001b[0;31m                     \u001b[0;32mraise\u001b[0m \u001b[0mKeyError\u001b[0m\u001b[0;34m(\u001b[0m\u001b[0;34mf\"{labels} not found in axis\"\u001b[0m\u001b[0;34m)\u001b[0m\u001b[0;34m\u001b[0m\u001b[0;34m\u001b[0m\u001b[0m\n\u001b[0m\u001b[1;32m   4215\u001b[0m \u001b[0;34m\u001b[0m\u001b[0m\n\u001b[1;32m   4216\u001b[0m             \u001b[0mslicer\u001b[0m \u001b[0;34m=\u001b[0m \u001b[0;34m[\u001b[0m\u001b[0mslice\u001b[0m\u001b[0;34m(\u001b[0m\u001b[0;32mNone\u001b[0m\u001b[0;34m)\u001b[0m\u001b[0;34m]\u001b[0m \u001b[0;34m*\u001b[0m \u001b[0mself\u001b[0m\u001b[0;34m.\u001b[0m\u001b[0mndim\u001b[0m\u001b[0;34m\u001b[0m\u001b[0;34m\u001b[0m\u001b[0m\n",
            "\u001b[0;31mKeyError\u001b[0m: \"['Zona Azul Digital Fácil SP CET - OFFICIAL São P '] not found in axis\""
          ]
        }
      ]
    },
    {
      "cell_type": "code",
      "source": [
        "df1.drop(\"Mirror - Zoom & Exposure -\",inplace=True)"
      ],
      "metadata": {
        "id": "ImHc1LPRK45y"
      },
      "execution_count": 74,
      "outputs": []
    },
    {
      "cell_type": "code",
      "source": [
        "df1.drop(\"Selfie Camera\",inplace=True)"
      ],
      "metadata": {
        "id": "alWDL5gQKuMM"
      },
      "execution_count": 75,
      "outputs": []
    },
    {
      "cell_type": "code",
      "source": [
        "df1.drop(\"Photo Editor Collage Maker Pro\",inplace=True)"
      ],
      "metadata": {
        "id": "wdzmpSGyLTiC"
      },
      "execution_count": 76,
      "outputs": []
    },
    {
      "cell_type": "code",
      "source": [
        "df1.drop(\"Lalafo Pulsuz Elanlar\",inplace=True)"
      ],
      "metadata": {
        "id": "qtri04BoLbTC"
      },
      "execution_count": 77,
      "outputs": []
    },
    {
      "cell_type": "code",
      "source": [
        "df1.drop(\"Chat For Strangers - Video Chat\",inplace=True)"
      ],
      "metadata": {
        "id": "Z4Ci9ry7LffP"
      },
      "execution_count": 78,
      "outputs": []
    },
    {
      "cell_type": "code",
      "source": [
        "df1.drop(\"Frim: get new friends on local chat rooms\",inplace=True)"
      ],
      "metadata": {
        "id": "rkw1wvj3LlIs"
      },
      "execution_count": 79,
      "outputs": []
    },
    {
      "cell_type": "code",
      "source": [
        "df1.drop(\"iHoroscope - 2018 Daily Horoscope & Astrology\",inplace=True)"
      ],
      "metadata": {
        "id": "8c5NQOKGLtPD"
      },
      "execution_count": 80,
      "outputs": []
    },
    {
      "cell_type": "code",
      "source": [],
      "metadata": {
        "id": "3X_-PbeXM7ks"
      },
      "execution_count": null,
      "outputs": []
    },
    {
      "cell_type": "code",
      "source": [
        "print(df1['Android Ver'].unique())\n"
      ],
      "metadata": {
        "colab": {
          "base_uri": "https://localhost:8080/"
        },
        "id": "Lc_ueBS7L0gK",
        "outputId": "9620147a-8d53-4af1-bf21-e6a1c4059e9d"
      },
      "execution_count": 86,
      "outputs": [
        {
          "output_type": "stream",
          "name": "stdout",
          "text": [
            "['4.0.3 and up' '4.2 and up' '4.4 and up' '2.3 and up' '3.0 and up'\n",
            " '4.1 and up' '4.0 and up' '2.2 and up' '5.0 and up' '2.3.3 and up'\n",
            " '6.0 and up' 'Varies with device' '1.6 and up' '1.5 and up' '2.1 and up'\n",
            " '7.0 and up' '5.1 and up' '4.3 and up' '4.0.3 - 7.1.1' '2.0 and up'\n",
            " '3.2 and up' '4.4W and up' '7.1 and up' '7.0 - 7.1.1' '8.0 and up'\n",
            " '5.0 - 8.0' '3.1 and up' '2.0.1 and up' '4.1 - 7.1.1' nan '5.0 - 6.0'\n",
            " '1.0 and up' '2.2 - 7.1.1' '5.0 - 7.1.1']\n"
          ]
        }
      ]
    },
    {
      "cell_type": "code",
      "source": [
        "print(df1[df1['Android Ver']=='Varies with device'])"
      ],
      "metadata": {
        "colab": {
          "base_uri": "https://localhost:8080/"
        },
        "id": "bo5BU5tNMySN",
        "outputId": "c31ca555-a931-45de-b38d-9d62bf1a4bfb"
      },
      "execution_count": 87,
      "outputs": [
        {
          "output_type": "stream",
          "name": "stdout",
          "text": [
            "                                                               Category  \\\n",
            "App                                                                       \n",
            "Zona Azul Digital Fácil SP CET - OFFICIAL São P...    AUTO_AND_VEHICLES   \n",
            "Beauty Camera - Selfie Camera                                    BEAUTY   \n",
            "Wattpad ?? Free Books                               BOOKS_AND_REFERENCE   \n",
            "Wikipedia                                           BOOKS_AND_REFERENCE   \n",
            "Amazon Kindle                                       BOOKS_AND_REFERENCE   \n",
            "...                                                                 ...   \n",
            "PIP Selfie Camera Photo Editor                              PHOTOGRAPHY   \n",
            "FL House                                                   PRODUCTIVITY   \n",
            "WICShopper                                                     SHOPPING   \n",
            "Motorola FM Radio                                         VIDEO_PLAYERS   \n",
            "Solitaire+                                                         GAME   \n",
            "\n",
            "                                                    Rating    Reviews  \\\n",
            "App                                                                     \n",
            "Zona Azul Digital Fácil SP CET - OFFICIAL São P...     4.6     7880.0   \n",
            "Beauty Camera - Selfie Camera                          4.0   113715.0   \n",
            "Wattpad ?? Free Books                                  4.6  2914724.0   \n",
            "Wikipedia                                              4.4   577550.0   \n",
            "Amazon Kindle                                          4.2   814080.0   \n",
            "...                                                    ...        ...   \n",
            "PIP Selfie Camera Photo Editor                         4.4   156322.0   \n",
            "FL House                                               4.4       29.0   \n",
            "WICShopper                                             3.9     3023.0   \n",
            "Motorola FM Radio                                      3.9    54815.0   \n",
            "Solitaire+                                             4.6    11235.0   \n",
            "\n",
            "                                                                  Size  \\\n",
            "App                                                                      \n",
            "Zona Azul Digital Fácil SP CET - OFFICIAL São P...  Varies with device   \n",
            "Beauty Camera - Selfie Camera                       Varies with device   \n",
            "Wattpad ?? Free Books                               Varies with device   \n",
            "Wikipedia                                           Varies with device   \n",
            "Amazon Kindle                                       Varies with device   \n",
            "...                                                                ...   \n",
            "PIP Selfie Camera Photo Editor                      Varies with device   \n",
            "FL House                                            Varies with device   \n",
            "WICShopper                                          Varies with device   \n",
            "Motorola FM Radio                                   Varies with device   \n",
            "Solitaire+                                          Varies with device   \n",
            "\n",
            "                                                       Installs  Type  Price  \\\n",
            "App                                                                            \n",
            "Zona Azul Digital Fácil SP CET - OFFICIAL São P...     100000.0  Free   0.00   \n",
            "Beauty Camera - Selfie Camera                        10000000.0  Free   0.00   \n",
            "Wattpad ?? Free Books                               100000000.0  Free   0.00   \n",
            "Wikipedia                                            10000000.0  Free   0.00   \n",
            "Amazon Kindle                                       100000000.0  Free   0.00   \n",
            "...                                                         ...   ...    ...   \n",
            "PIP Selfie Camera Photo Editor                       10000000.0  Free   0.00   \n",
            "FL House                                                 1000.0  Free   0.00   \n",
            "WICShopper                                             500000.0  Free   0.00   \n",
            "Motorola FM Radio                                   100000000.0  Free   0.00   \n",
            "Solitaire+                                             100000.0  Paid   2.99   \n",
            "\n",
            "                                                   Content Rating  \\\n",
            "App                                                                 \n",
            "Zona Azul Digital Fácil SP CET - OFFICIAL São P...       Everyone   \n",
            "Beauty Camera - Selfie Camera                            Everyone   \n",
            "Wattpad ?? Free Books                                        Teen   \n",
            "Wikipedia                                                Everyone   \n",
            "Amazon Kindle                                                Teen   \n",
            "...                                                           ...   \n",
            "PIP Selfie Camera Photo Editor                           Everyone   \n",
            "FL House                                                 Everyone   \n",
            "WICShopper                                               Everyone   \n",
            "Motorola FM Radio                                        Everyone   \n",
            "Solitaire+                                               Everyone   \n",
            "\n",
            "                                                                     Genres  \\\n",
            "App                                                                           \n",
            "Zona Azul Digital Fácil SP CET - OFFICIAL São P...          Auto & Vehicles   \n",
            "Beauty Camera - Selfie Camera                                        Beauty   \n",
            "Wattpad ?? Free Books                                     Books & Reference   \n",
            "Wikipedia                                                 Books & Reference   \n",
            "Amazon Kindle                                             Books & Reference   \n",
            "...                                                                     ...   \n",
            "PIP Selfie Camera Photo Editor                                  Photography   \n",
            "FL House                                                       Productivity   \n",
            "WICShopper                                                         Shopping   \n",
            "Motorola FM Radio                                   Video Players & Editors   \n",
            "Solitaire+                                                             Card   \n",
            "\n",
            "                                                   Last Updated  \\\n",
            "App                                                               \n",
            "Zona Azul Digital Fácil SP CET - OFFICIAL São P...   10-05-2018   \n",
            "Beauty Camera - Selfie Camera                        03-08-2017   \n",
            "Wattpad ?? Free Books                                01-08-2018   \n",
            "Wikipedia                                            02-08-2018   \n",
            "Amazon Kindle                                        27-07-2018   \n",
            "...                                                         ...   \n",
            "PIP Selfie Camera Photo Editor                       01-02-2018   \n",
            "FL House                                             22-11-2016   \n",
            "WICShopper                                           26-07-2018   \n",
            "Motorola FM Radio                                    02-05-2018   \n",
            "Solitaire+                                           30-07-2018   \n",
            "\n",
            "                                                           Current Ver  \\\n",
            "App                                                                      \n",
            "Zona Azul Digital Fácil SP CET - OFFICIAL São P...               4.6.5   \n",
            "Beauty Camera - Selfie Camera                       Varies with device   \n",
            "Wattpad ?? Free Books                               Varies with device   \n",
            "Wikipedia                                           Varies with device   \n",
            "Amazon Kindle                                       Varies with device   \n",
            "...                                                                ...   \n",
            "PIP Selfie Camera Photo Editor                      Varies with device   \n",
            "FL House                                                         1.6.7   \n",
            "WICShopper                                          Varies with device   \n",
            "Motorola FM Radio                                   Varies with device   \n",
            "Solitaire+                                          Varies with device   \n",
            "\n",
            "                                                           Android Ver  \n",
            "App                                                                     \n",
            "Zona Azul Digital Fácil SP CET - OFFICIAL São P...  Varies with device  \n",
            "Beauty Camera - Selfie Camera                       Varies with device  \n",
            "Wattpad ?? Free Books                               Varies with device  \n",
            "Wikipedia                                           Varies with device  \n",
            "Amazon Kindle                                       Varies with device  \n",
            "...                                                                ...  \n",
            "PIP Selfie Camera Photo Editor                      Varies with device  \n",
            "FL House                                            Varies with device  \n",
            "WICShopper                                          Varies with device  \n",
            "Motorola FM Radio                                   Varies with device  \n",
            "Solitaire+                                          Varies with device  \n",
            "\n",
            "[1091 rows x 12 columns]\n"
          ]
        }
      ]
    },
    {
      "cell_type": "code",
      "source": [],
      "metadata": {
        "id": "m9Dk-_2gOXfA"
      },
      "execution_count": null,
      "outputs": []
    },
    {
      "cell_type": "code",
      "source": [],
      "metadata": {
        "id": "IJBIYwggNrND"
      },
      "execution_count": null,
      "outputs": []
    },
    {
      "cell_type": "code",
      "source": [
        "# how to remove this Zona Azul Digital Fácil SP CET - OFFICIAL São P...????\n",
        "#dropping other app data \n",
        "\n",
        "df1.drop(\"Beauty Camera - Selfie Camera\",inplace=True)"
      ],
      "metadata": {
        "id": "s2Sz_XdIM865"
      },
      "execution_count": 89,
      "outputs": []
    },
    {
      "cell_type": "code",
      "source": [
        "df1.drop(\"Wattpad ?? Free Books\",inplace=True)"
      ],
      "metadata": {
        "id": "_hbtJiJ3NlC5"
      },
      "execution_count": 90,
      "outputs": []
    },
    {
      "cell_type": "code",
      "source": [
        "df1.drop(\"Wikipedia\",inplace=True)"
      ],
      "metadata": {
        "id": "nULcU-VGNs4C"
      },
      "execution_count": 91,
      "outputs": []
    },
    {
      "cell_type": "code",
      "source": [
        "df1.drop(\"Amazon Kindle\",inplace=True)"
      ],
      "metadata": {
        "id": "vhQJie-GN7v5"
      },
      "execution_count": 92,
      "outputs": []
    },
    {
      "cell_type": "code",
      "source": [
        "df1.drop(\"PIP Selfie Camera Photo Editor\",inplace=True)"
      ],
      "metadata": {
        "id": "AI8kCZt2N_ja"
      },
      "execution_count": 93,
      "outputs": []
    },
    {
      "cell_type": "code",
      "source": [
        "df1.drop(\"FL House\",inplace=True)"
      ],
      "metadata": {
        "id": "8ORHuzKpOJMY"
      },
      "execution_count": 94,
      "outputs": []
    },
    {
      "cell_type": "code",
      "source": [
        "df1.drop(\"WICShopper\",inplace=True)"
      ],
      "metadata": {
        "id": "HZsRZtWsON-p"
      },
      "execution_count": 95,
      "outputs": []
    },
    {
      "cell_type": "code",
      "source": [
        "df1.drop(\"Motorola FM Radio\",inplace=True)"
      ],
      "metadata": {
        "id": "kdtQ0iU7OZ_w"
      },
      "execution_count": 96,
      "outputs": []
    },
    {
      "cell_type": "code",
      "source": [
        "df1.drop(\"Solitaire+\",inplace=True)"
      ],
      "metadata": {
        "id": "EMiYuroGOarw"
      },
      "execution_count": 97,
      "outputs": []
    },
    {
      "cell_type": "code",
      "source": [
        "df1.drop(\"Zona Azul Digital Fácil SP CET - OFFICIAL São P\",inplace=True)"
      ],
      "metadata": {
        "colab": {
          "base_uri": "https://localhost:8080/",
          "height": 323
        },
        "id": "ygmFjo3AObTa",
        "outputId": "0b461fb7-516c-4722-8d91-054a0249e936"
      },
      "execution_count": 99,
      "outputs": [
        {
          "output_type": "error",
          "ename": "KeyError",
          "evalue": "ignored",
          "traceback": [
            "\u001b[0;31m---------------------------------------------------------------------------\u001b[0m",
            "\u001b[0;31mKeyError\u001b[0m                                  Traceback (most recent call last)",
            "\u001b[0;32m<ipython-input-99-554ac3412a7d>\u001b[0m in \u001b[0;36m<module>\u001b[0;34m\u001b[0m\n\u001b[0;32m----> 1\u001b[0;31m \u001b[0mdf1\u001b[0m\u001b[0;34m.\u001b[0m\u001b[0mdrop\u001b[0m\u001b[0;34m(\u001b[0m\u001b[0;34m\"Zona Azul Digital Fácil SP CET - OFFICIAL São P\"\u001b[0m\u001b[0;34m,\u001b[0m\u001b[0minplace\u001b[0m\u001b[0;34m=\u001b[0m\u001b[0;32mTrue\u001b[0m\u001b[0;34m)\u001b[0m\u001b[0;34m\u001b[0m\u001b[0;34m\u001b[0m\u001b[0m\n\u001b[0m",
            "\u001b[0;32m/usr/local/lib/python3.8/dist-packages/pandas/util/_decorators.py\u001b[0m in \u001b[0;36mwrapper\u001b[0;34m(*args, **kwargs)\u001b[0m\n\u001b[1;32m    309\u001b[0m                     \u001b[0mstacklevel\u001b[0m\u001b[0;34m=\u001b[0m\u001b[0mstacklevel\u001b[0m\u001b[0;34m,\u001b[0m\u001b[0;34m\u001b[0m\u001b[0;34m\u001b[0m\u001b[0m\n\u001b[1;32m    310\u001b[0m                 )\n\u001b[0;32m--> 311\u001b[0;31m             \u001b[0;32mreturn\u001b[0m \u001b[0mfunc\u001b[0m\u001b[0;34m(\u001b[0m\u001b[0;34m*\u001b[0m\u001b[0margs\u001b[0m\u001b[0;34m,\u001b[0m \u001b[0;34m**\u001b[0m\u001b[0mkwargs\u001b[0m\u001b[0;34m)\u001b[0m\u001b[0;34m\u001b[0m\u001b[0;34m\u001b[0m\u001b[0m\n\u001b[0m\u001b[1;32m    312\u001b[0m \u001b[0;34m\u001b[0m\u001b[0m\n\u001b[1;32m    313\u001b[0m         \u001b[0;32mreturn\u001b[0m \u001b[0mwrapper\u001b[0m\u001b[0;34m\u001b[0m\u001b[0;34m\u001b[0m\u001b[0m\n",
            "\u001b[0;32m/usr/local/lib/python3.8/dist-packages/pandas/core/frame.py\u001b[0m in \u001b[0;36mdrop\u001b[0;34m(self, labels, axis, index, columns, level, inplace, errors)\u001b[0m\n\u001b[1;32m   4904\u001b[0m                 \u001b[0mweight\u001b[0m  \u001b[0;36m1.0\u001b[0m     \u001b[0;36m0.8\u001b[0m\u001b[0;34m\u001b[0m\u001b[0;34m\u001b[0m\u001b[0m\n\u001b[1;32m   4905\u001b[0m         \"\"\"\n\u001b[0;32m-> 4906\u001b[0;31m         return super().drop(\n\u001b[0m\u001b[1;32m   4907\u001b[0m             \u001b[0mlabels\u001b[0m\u001b[0;34m=\u001b[0m\u001b[0mlabels\u001b[0m\u001b[0;34m,\u001b[0m\u001b[0;34m\u001b[0m\u001b[0;34m\u001b[0m\u001b[0m\n\u001b[1;32m   4908\u001b[0m             \u001b[0maxis\u001b[0m\u001b[0;34m=\u001b[0m\u001b[0maxis\u001b[0m\u001b[0;34m,\u001b[0m\u001b[0;34m\u001b[0m\u001b[0;34m\u001b[0m\u001b[0m\n",
            "\u001b[0;32m/usr/local/lib/python3.8/dist-packages/pandas/core/generic.py\u001b[0m in \u001b[0;36mdrop\u001b[0;34m(self, labels, axis, index, columns, level, inplace, errors)\u001b[0m\n\u001b[1;32m   4148\u001b[0m         \u001b[0;32mfor\u001b[0m \u001b[0maxis\u001b[0m\u001b[0;34m,\u001b[0m \u001b[0mlabels\u001b[0m \u001b[0;32min\u001b[0m \u001b[0maxes\u001b[0m\u001b[0;34m.\u001b[0m\u001b[0mitems\u001b[0m\u001b[0;34m(\u001b[0m\u001b[0;34m)\u001b[0m\u001b[0;34m:\u001b[0m\u001b[0;34m\u001b[0m\u001b[0;34m\u001b[0m\u001b[0m\n\u001b[1;32m   4149\u001b[0m             \u001b[0;32mif\u001b[0m \u001b[0mlabels\u001b[0m \u001b[0;32mis\u001b[0m \u001b[0;32mnot\u001b[0m \u001b[0;32mNone\u001b[0m\u001b[0;34m:\u001b[0m\u001b[0;34m\u001b[0m\u001b[0;34m\u001b[0m\u001b[0m\n\u001b[0;32m-> 4150\u001b[0;31m                 \u001b[0mobj\u001b[0m \u001b[0;34m=\u001b[0m \u001b[0mobj\u001b[0m\u001b[0;34m.\u001b[0m\u001b[0m_drop_axis\u001b[0m\u001b[0;34m(\u001b[0m\u001b[0mlabels\u001b[0m\u001b[0;34m,\u001b[0m \u001b[0maxis\u001b[0m\u001b[0;34m,\u001b[0m \u001b[0mlevel\u001b[0m\u001b[0;34m=\u001b[0m\u001b[0mlevel\u001b[0m\u001b[0;34m,\u001b[0m \u001b[0merrors\u001b[0m\u001b[0;34m=\u001b[0m\u001b[0merrors\u001b[0m\u001b[0;34m)\u001b[0m\u001b[0;34m\u001b[0m\u001b[0;34m\u001b[0m\u001b[0m\n\u001b[0m\u001b[1;32m   4151\u001b[0m \u001b[0;34m\u001b[0m\u001b[0m\n\u001b[1;32m   4152\u001b[0m         \u001b[0;32mif\u001b[0m \u001b[0minplace\u001b[0m\u001b[0;34m:\u001b[0m\u001b[0;34m\u001b[0m\u001b[0;34m\u001b[0m\u001b[0m\n",
            "\u001b[0;32m/usr/local/lib/python3.8/dist-packages/pandas/core/generic.py\u001b[0m in \u001b[0;36m_drop_axis\u001b[0;34m(self, labels, axis, level, errors)\u001b[0m\n\u001b[1;32m   4212\u001b[0m                 \u001b[0mlabels_missing\u001b[0m \u001b[0;34m=\u001b[0m \u001b[0;34m(\u001b[0m\u001b[0maxis\u001b[0m\u001b[0;34m.\u001b[0m\u001b[0mget_indexer_for\u001b[0m\u001b[0;34m(\u001b[0m\u001b[0mlabels\u001b[0m\u001b[0;34m)\u001b[0m \u001b[0;34m==\u001b[0m \u001b[0;34m-\u001b[0m\u001b[0;36m1\u001b[0m\u001b[0;34m)\u001b[0m\u001b[0;34m.\u001b[0m\u001b[0many\u001b[0m\u001b[0;34m(\u001b[0m\u001b[0;34m)\u001b[0m\u001b[0;34m\u001b[0m\u001b[0;34m\u001b[0m\u001b[0m\n\u001b[1;32m   4213\u001b[0m                 \u001b[0;32mif\u001b[0m \u001b[0merrors\u001b[0m \u001b[0;34m==\u001b[0m \u001b[0;34m\"raise\"\u001b[0m \u001b[0;32mand\u001b[0m \u001b[0mlabels_missing\u001b[0m\u001b[0;34m:\u001b[0m\u001b[0;34m\u001b[0m\u001b[0;34m\u001b[0m\u001b[0m\n\u001b[0;32m-> 4214\u001b[0;31m                     \u001b[0;32mraise\u001b[0m \u001b[0mKeyError\u001b[0m\u001b[0;34m(\u001b[0m\u001b[0;34mf\"{labels} not found in axis\"\u001b[0m\u001b[0;34m)\u001b[0m\u001b[0;34m\u001b[0m\u001b[0;34m\u001b[0m\u001b[0m\n\u001b[0m\u001b[1;32m   4215\u001b[0m \u001b[0;34m\u001b[0m\u001b[0m\n\u001b[1;32m   4216\u001b[0m             \u001b[0mslicer\u001b[0m \u001b[0;34m=\u001b[0m \u001b[0;34m[\u001b[0m\u001b[0mslice\u001b[0m\u001b[0;34m(\u001b[0m\u001b[0;32mNone\u001b[0m\u001b[0;34m)\u001b[0m\u001b[0;34m]\u001b[0m \u001b[0;34m*\u001b[0m \u001b[0mself\u001b[0m\u001b[0;34m.\u001b[0m\u001b[0mndim\u001b[0m\u001b[0;34m\u001b[0m\u001b[0;34m\u001b[0m\u001b[0m\n",
            "\u001b[0;31mKeyError\u001b[0m: \"['Zona Azul Digital Fácil SP CET - OFFICIAL São P'] not found in axis\""
          ]
        }
      ]
    },
    {
      "cell_type": "code",
      "source": [
        "print(df1['Android Ver'].unique())"
      ],
      "metadata": {
        "colab": {
          "base_uri": "https://localhost:8080/"
        },
        "id": "PT1dW-R0Ob7l",
        "outputId": "8e443a6d-494a-4338-86f8-2b67f01ea579"
      },
      "execution_count": 100,
      "outputs": [
        {
          "output_type": "stream",
          "name": "stdout",
          "text": [
            "['4.0.3 and up' '4.2 and up' '4.4 and up' '2.3 and up' '3.0 and up'\n",
            " '4.1 and up' '4.0 and up' '2.2 and up' '5.0 and up' '2.3.3 and up'\n",
            " '6.0 and up' 'Varies with device' '1.6 and up' '1.5 and up' '2.1 and up'\n",
            " '7.0 and up' '5.1 and up' '4.3 and up' '4.0.3 - 7.1.1' '2.0 and up'\n",
            " '3.2 and up' '4.4W and up' '7.1 and up' '7.0 - 7.1.1' '8.0 and up'\n",
            " '5.0 - 8.0' '3.1 and up' '2.0.1 and up' '4.1 - 7.1.1' nan '5.0 - 6.0'\n",
            " '1.0 and up' '2.2 - 7.1.1' '5.0 - 7.1.1']\n"
          ]
        }
      ]
    },
    {
      "cell_type": "code",
      "source": [
        "print(df1[df1['Android Ver']=='Varies with device'])"
      ],
      "metadata": {
        "colab": {
          "base_uri": "https://localhost:8080/"
        },
        "id": "EuRYfktkPFsS",
        "outputId": "f386ae2f-07ca-4ef7-bded-4a27088bc2b3"
      },
      "execution_count": 101,
      "outputs": [
        {
          "output_type": "stream",
          "name": "stdout",
          "text": [
            "                                                               Category  \\\n",
            "App                                                                       \n",
            "Zona Azul Digital Fácil SP CET - OFFICIAL São P...    AUTO_AND_VEHICLES   \n",
            "Dictionary - Merriam-Webster                        BOOKS_AND_REFERENCE   \n",
            "NOOK: Read eBooks & Magazines                       BOOKS_AND_REFERENCE   \n",
            "FBReader: Favorite Book Reader                      BOOKS_AND_REFERENCE   \n",
            "Google Play Books                                   BOOKS_AND_REFERENCE   \n",
            "...                                                                 ...   \n",
            "APOEL FC                                                         SPORTS   \n",
            "Carpooling FH Hagenberg                                   COMMUNICATION   \n",
            "Talkie - Wi-Fi Calling, Chats, File Sharing               COMMUNICATION   \n",
            "Talkie Pro - Wi-Fi Calling, Chats, File Sharing           COMMUNICATION   \n",
            "Sat-Fi                                                    COMMUNICATION   \n",
            "\n",
            "                                                    Rating    Reviews  \\\n",
            "App                                                                     \n",
            "Zona Azul Digital Fácil SP CET - OFFICIAL São P...     4.6     7880.0   \n",
            "Dictionary - Merriam-Webster                           4.5   454060.0   \n",
            "NOOK: Read eBooks & Magazines                          4.5   155446.0   \n",
            "FBReader: Favorite Book Reader                         4.5   203130.0   \n",
            "Google Play Books                                      3.9  1433233.0   \n",
            "...                                                    ...        ...   \n",
            "APOEL FC                                               4.6      688.0   \n",
            "Carpooling FH Hagenberg                                NaN        0.0   \n",
            "Talkie - Wi-Fi Calling, Chats, File Sharing            4.2     4838.0   \n",
            "Talkie Pro - Wi-Fi Calling, Chats, File Sharing        4.5      201.0   \n",
            "Sat-Fi                                                 3.6       97.0   \n",
            "\n",
            "                                                                  Size  \\\n",
            "App                                                                      \n",
            "Zona Azul Digital Fácil SP CET - OFFICIAL São P...  Varies with device   \n",
            "Dictionary - Merriam-Webster                        Varies with device   \n",
            "NOOK: Read eBooks & Magazines                       Varies with device   \n",
            "FBReader: Favorite Book Reader                      Varies with device   \n",
            "Google Play Books                                   Varies with device   \n",
            "...                                                                ...   \n",
            "APOEL FC                                            Varies with device   \n",
            "Carpooling FH Hagenberg                             Varies with device   \n",
            "Talkie - Wi-Fi Calling, Chats, File Sharing         Varies with device   \n",
            "Talkie Pro - Wi-Fi Calling, Chats, File Sharing     Varies with device   \n",
            "Sat-Fi                                              Varies with device   \n",
            "\n",
            "                                                        Installs  Type  Price  \\\n",
            "App                                                                             \n",
            "Zona Azul Digital Fácil SP CET - OFFICIAL São P...  1.000000e+05  Free   0.00   \n",
            "Dictionary - Merriam-Webster                        1.000000e+07  Free   0.00   \n",
            "NOOK: Read eBooks & Magazines                       1.000000e+07  Free   0.00   \n",
            "FBReader: Favorite Book Reader                      1.000000e+07  Free   0.00   \n",
            "Google Play Books                                   1.000000e+09  Free   0.00   \n",
            "...                                                          ...   ...    ...   \n",
            "APOEL FC                                            1.000000e+04  Free   0.00   \n",
            "Carpooling FH Hagenberg                             1.000000e+02  Free   0.00   \n",
            "Talkie - Wi-Fi Calling, Chats, File Sharing         5.000000e+05  Free   0.00   \n",
            "Talkie Pro - Wi-Fi Calling, Chats, File Sharing     1.000000e+03  Paid   2.99   \n",
            "Sat-Fi                                              5.000000e+03  Free   0.00   \n",
            "\n",
            "                                                   Content Rating  \\\n",
            "App                                                                 \n",
            "Zona Azul Digital Fácil SP CET - OFFICIAL São P...       Everyone   \n",
            "Dictionary - Merriam-Webster                             Everyone   \n",
            "NOOK: Read eBooks & Magazines                                Teen   \n",
            "FBReader: Favorite Book Reader                           Everyone   \n",
            "Google Play Books                                            Teen   \n",
            "...                                                           ...   \n",
            "APOEL FC                                                 Everyone   \n",
            "Carpooling FH Hagenberg                                  Everyone   \n",
            "Talkie - Wi-Fi Calling, Chats, File Sharing              Everyone   \n",
            "Talkie Pro - Wi-Fi Calling, Chats, File Sharing          Everyone   \n",
            "Sat-Fi                                                   Everyone   \n",
            "\n",
            "                                                               Genres  \\\n",
            "App                                                                     \n",
            "Zona Azul Digital Fácil SP CET - OFFICIAL São P...    Auto & Vehicles   \n",
            "Dictionary - Merriam-Webster                        Books & Reference   \n",
            "NOOK: Read eBooks & Magazines                       Books & Reference   \n",
            "FBReader: Favorite Book Reader                      Books & Reference   \n",
            "Google Play Books                                   Books & Reference   \n",
            "...                                                               ...   \n",
            "APOEL FC                                                       Sports   \n",
            "Carpooling FH Hagenberg                                 Communication   \n",
            "Talkie - Wi-Fi Calling, Chats, File Sharing             Communication   \n",
            "Talkie Pro - Wi-Fi Calling, Chats, File Sharing         Communication   \n",
            "Sat-Fi                                                  Communication   \n",
            "\n",
            "                                                   Last Updated  \\\n",
            "App                                                               \n",
            "Zona Azul Digital Fácil SP CET - OFFICIAL São P...   10-05-2018   \n",
            "Dictionary - Merriam-Webster                         18-05-2018   \n",
            "NOOK: Read eBooks & Magazines                        25-04-2018   \n",
            "FBReader: Favorite Book Reader                       28-06-2018   \n",
            "Google Play Books                                    03-08-2018   \n",
            "...                                                         ...   \n",
            "APOEL FC                                             07-01-2015   \n",
            "Carpooling FH Hagenberg                              18-05-2017   \n",
            "Talkie - Wi-Fi Calling, Chats, File Sharing          06-01-2018   \n",
            "Talkie Pro - Wi-Fi Calling, Chats, File Sharing      06-01-2018   \n",
            "Sat-Fi                                               31-08-2017   \n",
            "\n",
            "                                                           Current Ver  \\\n",
            "App                                                                      \n",
            "Zona Azul Digital Fácil SP CET - OFFICIAL São P...               4.6.5   \n",
            "Dictionary - Merriam-Webster                        Varies with device   \n",
            "NOOK: Read eBooks & Magazines                       Varies with device   \n",
            "FBReader: Favorite Book Reader                      Varies with device   \n",
            "Google Play Books                                   Varies with device   \n",
            "...                                                                ...   \n",
            "APOEL FC                                            Varies with device   \n",
            "Carpooling FH Hagenberg                             Varies with device   \n",
            "Talkie - Wi-Fi Calling, Chats, File Sharing         Varies with device   \n",
            "Talkie Pro - Wi-Fi Calling, Chats, File Sharing     Varies with device   \n",
            "Sat-Fi                                              Varies with device   \n",
            "\n",
            "                                                           Android Ver  \n",
            "App                                                                     \n",
            "Zona Azul Digital Fácil SP CET - OFFICIAL São P...  Varies with device  \n",
            "Dictionary - Merriam-Webster                        Varies with device  \n",
            "NOOK: Read eBooks & Magazines                       Varies with device  \n",
            "FBReader: Favorite Book Reader                      Varies with device  \n",
            "Google Play Books                                   Varies with device  \n",
            "...                                                                ...  \n",
            "APOEL FC                                            Varies with device  \n",
            "Carpooling FH Hagenberg                             Varies with device  \n",
            "Talkie - Wi-Fi Calling, Chats, File Sharing         Varies with device  \n",
            "Talkie Pro - Wi-Fi Calling, Chats, File Sharing     Varies with device  \n",
            "Sat-Fi                                              Varies with device  \n",
            "\n",
            "[1079 rows x 12 columns]\n"
          ]
        }
      ]
    },
    {
      "cell_type": "code",
      "source": [],
      "metadata": {
        "id": "VLsX4t9IQ715"
      },
      "execution_count": null,
      "outputs": []
    },
    {
      "cell_type": "code",
      "source": [],
      "metadata": {
        "id": "TFVKcFnkQe4B"
      },
      "execution_count": null,
      "outputs": []
    },
    {
      "cell_type": "code",
      "source": [
        "df1.drop(\"Dictionary - Merriam-Webster\",inplace=True)"
      ],
      "metadata": {
        "id": "Q13CsHhlPQNq"
      },
      "execution_count": 102,
      "outputs": []
    },
    {
      "cell_type": "code",
      "source": [
        "df1.drop(\"NOOK: Read eBooks & Magazines\",inplace=True)\n",
        "df1.drop(\"FBReader: Favorite Book Reader\",inplace=True)\n",
        "df1.drop(\"Google Play Books\",inplace=True)\n",
        "df1.drop(\"APOEL FC\",inplace=True)\n",
        "df1.drop(\"Talkie - Wi-Fi Calling, Chats, File Sharing\",inplace=True)\n",
        "df1.drop(\"Talkie Pro - Wi-Fi Calling, Chats, File Sharing\",inplace=True)\n",
        "df1.drop(\"Sat-Fi\",inplace=True)\n",
        "\n"
      ],
      "metadata": {
        "id": "LcDpngzjPa5I"
      },
      "execution_count": 106,
      "outputs": []
    },
    {
      "cell_type": "code",
      "source": [
        "print(df1['Android Ver'].unique())"
      ],
      "metadata": {
        "colab": {
          "base_uri": "https://localhost:8080/",
          "height": 524
        },
        "id": "6kxQU9UbQf0Y",
        "outputId": "f85e7a38-0f24-470d-9d3f-245e2061b988"
      },
      "execution_count": 107,
      "outputs": [
        {
          "output_type": "error",
          "ename": "KeyError",
          "evalue": "ignored",
          "traceback": [
            "\u001b[0;31m---------------------------------------------------------------------------\u001b[0m",
            "\u001b[0;31mKeyError\u001b[0m                                  Traceback (most recent call last)",
            "\u001b[0;32m/usr/local/lib/python3.8/dist-packages/pandas/core/indexes/base.py\u001b[0m in \u001b[0;36mget_loc\u001b[0;34m(self, key, method, tolerance)\u001b[0m\n\u001b[1;32m   3360\u001b[0m             \u001b[0;32mtry\u001b[0m\u001b[0;34m:\u001b[0m\u001b[0;34m\u001b[0m\u001b[0;34m\u001b[0m\u001b[0m\n\u001b[0;32m-> 3361\u001b[0;31m                 \u001b[0;32mreturn\u001b[0m \u001b[0mself\u001b[0m\u001b[0;34m.\u001b[0m\u001b[0m_engine\u001b[0m\u001b[0;34m.\u001b[0m\u001b[0mget_loc\u001b[0m\u001b[0;34m(\u001b[0m\u001b[0mcasted_key\u001b[0m\u001b[0;34m)\u001b[0m\u001b[0;34m\u001b[0m\u001b[0;34m\u001b[0m\u001b[0m\n\u001b[0m\u001b[1;32m   3362\u001b[0m             \u001b[0;32mexcept\u001b[0m \u001b[0mKeyError\u001b[0m \u001b[0;32mas\u001b[0m \u001b[0merr\u001b[0m\u001b[0;34m:\u001b[0m\u001b[0;34m\u001b[0m\u001b[0;34m\u001b[0m\u001b[0m\n",
            "\u001b[0;32m/usr/local/lib/python3.8/dist-packages/pandas/_libs/index.pyx\u001b[0m in \u001b[0;36mpandas._libs.index.IndexEngine.get_loc\u001b[0;34m()\u001b[0m\n",
            "\u001b[0;32m/usr/local/lib/python3.8/dist-packages/pandas/_libs/index.pyx\u001b[0m in \u001b[0;36mpandas._libs.index.IndexEngine.get_loc\u001b[0;34m()\u001b[0m\n",
            "\u001b[0;32mpandas/_libs/hashtable_class_helper.pxi\u001b[0m in \u001b[0;36mpandas._libs.hashtable.PyObjectHashTable.get_item\u001b[0;34m()\u001b[0m\n",
            "\u001b[0;32mpandas/_libs/hashtable_class_helper.pxi\u001b[0m in \u001b[0;36mpandas._libs.hashtable.PyObjectHashTable.get_item\u001b[0;34m()\u001b[0m\n",
            "\u001b[0;31mKeyError\u001b[0m: 'Android\\xa0Ver'",
            "\nThe above exception was the direct cause of the following exception:\n",
            "\u001b[0;31mKeyError\u001b[0m                                  Traceback (most recent call last)",
            "\u001b[0;32m<ipython-input-107-7bf27a5d24e1>\u001b[0m in \u001b[0;36m<module>\u001b[0;34m\u001b[0m\n\u001b[0;32m----> 1\u001b[0;31m \u001b[0mprint\u001b[0m\u001b[0;34m(\u001b[0m\u001b[0mdf1\u001b[0m\u001b[0;34m[\u001b[0m\u001b[0;34m'Android Ver'\u001b[0m\u001b[0;34m]\u001b[0m\u001b[0;34m.\u001b[0m\u001b[0munique\u001b[0m\u001b[0;34m(\u001b[0m\u001b[0;34m)\u001b[0m\u001b[0;34m)\u001b[0m\u001b[0;34m\u001b[0m\u001b[0;34m\u001b[0m\u001b[0m\n\u001b[0m",
            "\u001b[0;32m/usr/local/lib/python3.8/dist-packages/pandas/core/frame.py\u001b[0m in \u001b[0;36m__getitem__\u001b[0;34m(self, key)\u001b[0m\n\u001b[1;32m   3456\u001b[0m             \u001b[0;32mif\u001b[0m \u001b[0mself\u001b[0m\u001b[0;34m.\u001b[0m\u001b[0mcolumns\u001b[0m\u001b[0;34m.\u001b[0m\u001b[0mnlevels\u001b[0m \u001b[0;34m>\u001b[0m \u001b[0;36m1\u001b[0m\u001b[0;34m:\u001b[0m\u001b[0;34m\u001b[0m\u001b[0;34m\u001b[0m\u001b[0m\n\u001b[1;32m   3457\u001b[0m                 \u001b[0;32mreturn\u001b[0m \u001b[0mself\u001b[0m\u001b[0;34m.\u001b[0m\u001b[0m_getitem_multilevel\u001b[0m\u001b[0;34m(\u001b[0m\u001b[0mkey\u001b[0m\u001b[0;34m)\u001b[0m\u001b[0;34m\u001b[0m\u001b[0;34m\u001b[0m\u001b[0m\n\u001b[0;32m-> 3458\u001b[0;31m             \u001b[0mindexer\u001b[0m \u001b[0;34m=\u001b[0m \u001b[0mself\u001b[0m\u001b[0;34m.\u001b[0m\u001b[0mcolumns\u001b[0m\u001b[0;34m.\u001b[0m\u001b[0mget_loc\u001b[0m\u001b[0;34m(\u001b[0m\u001b[0mkey\u001b[0m\u001b[0;34m)\u001b[0m\u001b[0;34m\u001b[0m\u001b[0;34m\u001b[0m\u001b[0m\n\u001b[0m\u001b[1;32m   3459\u001b[0m             \u001b[0;32mif\u001b[0m \u001b[0mis_integer\u001b[0m\u001b[0;34m(\u001b[0m\u001b[0mindexer\u001b[0m\u001b[0;34m)\u001b[0m\u001b[0;34m:\u001b[0m\u001b[0;34m\u001b[0m\u001b[0;34m\u001b[0m\u001b[0m\n\u001b[1;32m   3460\u001b[0m                 \u001b[0mindexer\u001b[0m \u001b[0;34m=\u001b[0m \u001b[0;34m[\u001b[0m\u001b[0mindexer\u001b[0m\u001b[0;34m]\u001b[0m\u001b[0;34m\u001b[0m\u001b[0;34m\u001b[0m\u001b[0m\n",
            "\u001b[0;32m/usr/local/lib/python3.8/dist-packages/pandas/core/indexes/base.py\u001b[0m in \u001b[0;36mget_loc\u001b[0;34m(self, key, method, tolerance)\u001b[0m\n\u001b[1;32m   3361\u001b[0m                 \u001b[0;32mreturn\u001b[0m \u001b[0mself\u001b[0m\u001b[0;34m.\u001b[0m\u001b[0m_engine\u001b[0m\u001b[0;34m.\u001b[0m\u001b[0mget_loc\u001b[0m\u001b[0;34m(\u001b[0m\u001b[0mcasted_key\u001b[0m\u001b[0;34m)\u001b[0m\u001b[0;34m\u001b[0m\u001b[0;34m\u001b[0m\u001b[0m\n\u001b[1;32m   3362\u001b[0m             \u001b[0;32mexcept\u001b[0m \u001b[0mKeyError\u001b[0m \u001b[0;32mas\u001b[0m \u001b[0merr\u001b[0m\u001b[0;34m:\u001b[0m\u001b[0;34m\u001b[0m\u001b[0;34m\u001b[0m\u001b[0m\n\u001b[0;32m-> 3363\u001b[0;31m                 \u001b[0;32mraise\u001b[0m \u001b[0mKeyError\u001b[0m\u001b[0;34m(\u001b[0m\u001b[0mkey\u001b[0m\u001b[0;34m)\u001b[0m \u001b[0;32mfrom\u001b[0m \u001b[0merr\u001b[0m\u001b[0;34m\u001b[0m\u001b[0;34m\u001b[0m\u001b[0m\n\u001b[0m\u001b[1;32m   3364\u001b[0m \u001b[0;34m\u001b[0m\u001b[0m\n\u001b[1;32m   3365\u001b[0m         \u001b[0;32mif\u001b[0m \u001b[0mis_scalar\u001b[0m\u001b[0;34m(\u001b[0m\u001b[0mkey\u001b[0m\u001b[0;34m)\u001b[0m \u001b[0;32mand\u001b[0m \u001b[0misna\u001b[0m\u001b[0;34m(\u001b[0m\u001b[0mkey\u001b[0m\u001b[0;34m)\u001b[0m \u001b[0;32mand\u001b[0m \u001b[0;32mnot\u001b[0m \u001b[0mself\u001b[0m\u001b[0;34m.\u001b[0m\u001b[0mhasnans\u001b[0m\u001b[0;34m:\u001b[0m\u001b[0;34m\u001b[0m\u001b[0;34m\u001b[0m\u001b[0m\n",
            "\u001b[0;31mKeyError\u001b[0m: 'Android\\xa0Ver'"
          ]
        }
      ]
    },
    {
      "cell_type": "code",
      "source": [
        "print(df1['Android Ver'].unique())"
      ],
      "metadata": {
        "colab": {
          "base_uri": "https://localhost:8080/"
        },
        "id": "iluW1_VoQghY",
        "outputId": "a3acb64a-a4b2-4b9f-8845-5255c385b464"
      },
      "execution_count": 108,
      "outputs": [
        {
          "output_type": "stream",
          "name": "stdout",
          "text": [
            "['4.0.3 and up' '4.2 and up' '4.4 and up' '2.3 and up' '3.0 and up'\n",
            " '4.1 and up' '4.0 and up' '2.2 and up' '5.0 and up' '2.3.3 and up'\n",
            " '6.0 and up' 'Varies with device' '1.6 and up' '1.5 and up' '2.1 and up'\n",
            " '7.0 and up' '5.1 and up' '4.3 and up' '4.0.3 - 7.1.1' '2.0 and up'\n",
            " '3.2 and up' '4.4W and up' '7.1 and up' '7.0 - 7.1.1' '8.0 and up'\n",
            " '5.0 - 8.0' '3.1 and up' '2.0.1 and up' '4.1 - 7.1.1' nan '5.0 - 6.0'\n",
            " '1.0 and up' '2.2 - 7.1.1' '5.0 - 7.1.1']\n"
          ]
        }
      ]
    },
    {
      "cell_type": "code",
      "source": [],
      "metadata": {
        "id": "etFqhhEWSyW3"
      },
      "execution_count": null,
      "outputs": []
    },
    {
      "cell_type": "code",
      "source": [
        "print(df1[df1['Android Ver']=='Varies with device'])"
      ],
      "metadata": {
        "colab": {
          "base_uri": "https://localhost:8080/"
        },
        "id": "HeNOElngQyrk",
        "outputId": "2867c3f4-70c1-4eb6-ba51-ba560553c159"
      },
      "execution_count": 110,
      "outputs": [
        {
          "output_type": "stream",
          "name": "stdout",
          "text": [
            "                                                               Category  \\\n",
            "App                                                                       \n",
            "Zona Azul Digital Fácil SP CET - OFFICIAL São P...    AUTO_AND_VEHICLES   \n",
            "Spanish English Translator                          BOOKS_AND_REFERENCE   \n",
            "NOOK App for NOOK Devices                           BOOKS_AND_REFERENCE   \n",
            "Ancestry                                            BOOKS_AND_REFERENCE   \n",
            "Moon+ Reader                                        BOOKS_AND_REFERENCE   \n",
            "...                                                                 ...   \n",
            "Swift for Facebook Lite                                          SOCIAL   \n",
            "Facebook Pages Manager                                         BUSINESS   \n",
            "Lite for Facebook Messenger                               COMMUNICATION   \n",
            "My AEK - Official ??? FC app                                     SPORTS   \n",
            "Carpooling FH Hagenberg                                   COMMUNICATION   \n",
            "\n",
            "                                                    Rating    Reviews  \\\n",
            "App                                                                     \n",
            "Zona Azul Digital Fácil SP CET - OFFICIAL São P...     4.6     7880.0   \n",
            "Spanish English Translator                             4.2    87873.0   \n",
            "NOOK App for NOOK Devices                              4.7    19080.0   \n",
            "Ancestry                                               4.3    64513.0   \n",
            "Moon+ Reader                                           4.4   233757.0   \n",
            "...                                                    ...        ...   \n",
            "Swift for Facebook Lite                                4.3     9562.0   \n",
            "Facebook Pages Manager                                 4.0  1279800.0   \n",
            "Lite for Facebook Messenger                            4.3    76498.0   \n",
            "My AEK - Official ??? FC app                           4.8     3346.0   \n",
            "Carpooling FH Hagenberg                                NaN        0.0   \n",
            "\n",
            "                                                                  Size  \\\n",
            "App                                                                      \n",
            "Zona Azul Digital Fácil SP CET - OFFICIAL São P...  Varies with device   \n",
            "Spanish English Translator                          Varies with device   \n",
            "NOOK App for NOOK Devices                           Varies with device   \n",
            "Ancestry                                            Varies with device   \n",
            "Moon+ Reader                                        Varies with device   \n",
            "...                                                                ...   \n",
            "Swift for Facebook Lite                                           5.8M   \n",
            "Facebook Pages Manager                              Varies with device   \n",
            "Lite for Facebook Messenger                                       4.3M   \n",
            "My AEK - Official ??? FC app                        Varies with device   \n",
            "Carpooling FH Hagenberg                             Varies with device   \n",
            "\n",
            "                                                      Installs  Type  Price  \\\n",
            "App                                                                           \n",
            "Zona Azul Digital Fácil SP CET - OFFICIAL São P...    100000.0  Free    0.0   \n",
            "Spanish English Translator                          10000000.0  Free    0.0   \n",
            "NOOK App for NOOK Devices                             500000.0  Free    0.0   \n",
            "Ancestry                                             5000000.0  Free    0.0   \n",
            "Moon+ Reader                                        10000000.0  Free    0.0   \n",
            "...                                                        ...   ...    ...   \n",
            "Swift for Facebook Lite                               500000.0  Free    0.0   \n",
            "Facebook Pages Manager                              50000000.0  Free    0.0   \n",
            "Lite for Facebook Messenger                          1000000.0  Free    0.0   \n",
            "My AEK - Official ??? FC app                           50000.0  Free    0.0   \n",
            "Carpooling FH Hagenberg                                  100.0  Free    0.0   \n",
            "\n",
            "                                                   Content Rating  \\\n",
            "App                                                                 \n",
            "Zona Azul Digital Fácil SP CET - OFFICIAL São P...       Everyone   \n",
            "Spanish English Translator                                   Teen   \n",
            "NOOK App for NOOK Devices                                Everyone   \n",
            "Ancestry                                                 Everyone   \n",
            "Moon+ Reader                                             Everyone   \n",
            "...                                                           ...   \n",
            "Swift for Facebook Lite                                      Teen   \n",
            "Facebook Pages Manager                                   Everyone   \n",
            "Lite for Facebook Messenger                                  Teen   \n",
            "My AEK - Official ??? FC app                             Everyone   \n",
            "Carpooling FH Hagenberg                                  Everyone   \n",
            "\n",
            "                                                               Genres  \\\n",
            "App                                                                     \n",
            "Zona Azul Digital Fácil SP CET - OFFICIAL São P...    Auto & Vehicles   \n",
            "Spanish English Translator                          Books & Reference   \n",
            "NOOK App for NOOK Devices                           Books & Reference   \n",
            "Ancestry                                            Books & Reference   \n",
            "Moon+ Reader                                        Books & Reference   \n",
            "...                                                               ...   \n",
            "Swift for Facebook Lite                                        Social   \n",
            "Facebook Pages Manager                                       Business   \n",
            "Lite for Facebook Messenger                             Communication   \n",
            "My AEK - Official ??? FC app                                   Sports   \n",
            "Carpooling FH Hagenberg                                 Communication   \n",
            "\n",
            "                                                   Last Updated  \\\n",
            "App                                                               \n",
            "Zona Azul Digital Fácil SP CET - OFFICIAL São P...   10-05-2018   \n",
            "Spanish English Translator                           28-05-2018   \n",
            "NOOK App for NOOK Devices                            25-04-2018   \n",
            "Ancestry                                             31-07-2018   \n",
            "Moon+ Reader                                         01-05-2018   \n",
            "...                                                         ...   \n",
            "Swift for Facebook Lite                              31-05-2018   \n",
            "Facebook Pages Manager                               06-08-2018   \n",
            "Lite for Facebook Messenger                          20-06-2018   \n",
            "My AEK - Official ??? FC app                         18-01-2018   \n",
            "Carpooling FH Hagenberg                              18-05-2017   \n",
            "\n",
            "                                                           Current Ver  \\\n",
            "App                                                                      \n",
            "Zona Azul Digital Fácil SP CET - OFFICIAL São P...               4.6.5   \n",
            "Spanish English Translator                          Varies with device   \n",
            "NOOK App for NOOK Devices                           Varies with device   \n",
            "Ancestry                                            Varies with device   \n",
            "Moon+ Reader                                        Varies with device   \n",
            "...                                                                ...   \n",
            "Swift for Facebook Lite                                          4.1.0   \n",
            "Facebook Pages Manager                              Varies with device   \n",
            "Lite for Facebook Messenger                                      6.3.2   \n",
            "My AEK - Official ??? FC app                                     2.0.2   \n",
            "Carpooling FH Hagenberg                             Varies with device   \n",
            "\n",
            "                                                           Android Ver  \n",
            "App                                                                     \n",
            "Zona Azul Digital Fácil SP CET - OFFICIAL São P...  Varies with device  \n",
            "Spanish English Translator                          Varies with device  \n",
            "NOOK App for NOOK Devices                           Varies with device  \n",
            "Ancestry                                            Varies with device  \n",
            "Moon+ Reader                                        Varies with device  \n",
            "...                                                                ...  \n",
            "Swift for Facebook Lite                             Varies with device  \n",
            "Facebook Pages Manager                              Varies with device  \n",
            "Lite for Facebook Messenger                         Varies with device  \n",
            "My AEK - Official ??? FC app                        Varies with device  \n",
            "Carpooling FH Hagenberg                             Varies with device  \n",
            "\n",
            "[1069 rows x 12 columns]\n"
          ]
        }
      ]
    },
    {
      "cell_type": "code",
      "source": [],
      "metadata": {
        "id": "g8NKgPqKTlmV"
      },
      "execution_count": null,
      "outputs": []
    },
    {
      "cell_type": "code",
      "source": [
        "num_values = len(df1['Android Ver'].unique())\n",
        "\n",
        "print(num_values)"
      ],
      "metadata": {
        "colab": {
          "base_uri": "https://localhost:8080/"
        },
        "id": "X4ZeVFrSSzuv",
        "outputId": "2e8b4295-f272-42f9-804d-58819d768eb4"
      },
      "execution_count": 112,
      "outputs": [
        {
          "output_type": "stream",
          "name": "stdout",
          "text": [
            "34\n"
          ]
        }
      ]
    },
    {
      "cell_type": "code",
      "source": [
        "num_values = len(df1[df1['Android Ver']=='Varies with device'])\n",
        "\n",
        "print(num_values)"
      ],
      "metadata": {
        "colab": {
          "base_uri": "https://localhost:8080/"
        },
        "id": "4kIsRZ9KTmhL",
        "outputId": "d8f92f18-8d71-499d-a368-95530665bd96"
      },
      "execution_count": 114,
      "outputs": [
        {
          "output_type": "stream",
          "name": "stdout",
          "text": [
            "1069\n"
          ]
        }
      ]
    }
  ]
}